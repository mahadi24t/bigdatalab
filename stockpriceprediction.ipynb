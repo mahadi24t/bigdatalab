{
  "nbformat": 4,
  "nbformat_minor": 0,
  "metadata": {
    "colab": {
      "provenance": [],
      "gpuType": "T4"
    },
    "kernelspec": {
      "name": "python3",
      "display_name": "Python 3"
    },
    "language_info": {
      "name": "python"
    },
    "accelerator": "GPU",
    "widgets": {
      "application/vnd.jupyter.widget-state+json": {
        "29aa4e1b5e0e4d2189376f732f7132d2": {
          "model_module": "@jupyter-widgets/controls",
          "model_name": "HBoxModel",
          "model_module_version": "1.5.0",
          "state": {
            "_dom_classes": [],
            "_model_module": "@jupyter-widgets/controls",
            "_model_module_version": "1.5.0",
            "_model_name": "HBoxModel",
            "_view_count": null,
            "_view_module": "@jupyter-widgets/controls",
            "_view_module_version": "1.5.0",
            "_view_name": "HBoxView",
            "box_style": "",
            "children": [
              "IPY_MODEL_bb918c985b1b47558dacffe7c0e3eefb",
              "IPY_MODEL_a09bcc800bc046f5ae25efc06fa08f70",
              "IPY_MODEL_c51d9dda21e440489a54414e3f14aa81"
            ],
            "layout": "IPY_MODEL_02523c3d6c9745acad459c6fa584f8d8"
          }
        },
        "bb918c985b1b47558dacffe7c0e3eefb": {
          "model_module": "@jupyter-widgets/controls",
          "model_name": "HTMLModel",
          "model_module_version": "1.5.0",
          "state": {
            "_dom_classes": [],
            "_model_module": "@jupyter-widgets/controls",
            "_model_module_version": "1.5.0",
            "_model_name": "HTMLModel",
            "_view_count": null,
            "_view_module": "@jupyter-widgets/controls",
            "_view_module_version": "1.5.0",
            "_view_name": "HTMLView",
            "description": "",
            "description_tooltip": null,
            "layout": "IPY_MODEL_fc7b7e04e6964a94afd1c521717f4557",
            "placeholder": "​",
            "style": "IPY_MODEL_efe6a9a04d284d39ac8466afa194993e",
            "value": "Calculating Sentiment: 100%"
          }
        },
        "a09bcc800bc046f5ae25efc06fa08f70": {
          "model_module": "@jupyter-widgets/controls",
          "model_name": "FloatProgressModel",
          "model_module_version": "1.5.0",
          "state": {
            "_dom_classes": [],
            "_model_module": "@jupyter-widgets/controls",
            "_model_module_version": "1.5.0",
            "_model_name": "FloatProgressModel",
            "_view_count": null,
            "_view_module": "@jupyter-widgets/controls",
            "_view_module_version": "1.5.0",
            "_view_name": "ProgressView",
            "bar_style": "success",
            "description": "",
            "description_tooltip": null,
            "layout": "IPY_MODEL_062961b3798947cc9bc0f38c46644071",
            "max": 233190,
            "min": 0,
            "orientation": "horizontal",
            "style": "IPY_MODEL_8d38681c859d48358ed6d96668754b15",
            "value": 233190
          }
        },
        "c51d9dda21e440489a54414e3f14aa81": {
          "model_module": "@jupyter-widgets/controls",
          "model_name": "HTMLModel",
          "model_module_version": "1.5.0",
          "state": {
            "_dom_classes": [],
            "_model_module": "@jupyter-widgets/controls",
            "_model_module_version": "1.5.0",
            "_model_name": "HTMLModel",
            "_view_count": null,
            "_view_module": "@jupyter-widgets/controls",
            "_view_module_version": "1.5.0",
            "_view_name": "HTMLView",
            "description": "",
            "description_tooltip": null,
            "layout": "IPY_MODEL_d9ff5dd352ab4af89e1170dac5ca9392",
            "placeholder": "​",
            "style": "IPY_MODEL_623dbb858d464eb1b5606b4b4cb95146",
            "value": " 233190/233190 [00:08&lt;00:00, 32948.27it/s]"
          }
        },
        "02523c3d6c9745acad459c6fa584f8d8": {
          "model_module": "@jupyter-widgets/base",
          "model_name": "LayoutModel",
          "model_module_version": "1.2.0",
          "state": {
            "_model_module": "@jupyter-widgets/base",
            "_model_module_version": "1.2.0",
            "_model_name": "LayoutModel",
            "_view_count": null,
            "_view_module": "@jupyter-widgets/base",
            "_view_module_version": "1.2.0",
            "_view_name": "LayoutView",
            "align_content": null,
            "align_items": null,
            "align_self": null,
            "border": null,
            "bottom": null,
            "display": null,
            "flex": null,
            "flex_flow": null,
            "grid_area": null,
            "grid_auto_columns": null,
            "grid_auto_flow": null,
            "grid_auto_rows": null,
            "grid_column": null,
            "grid_gap": null,
            "grid_row": null,
            "grid_template_areas": null,
            "grid_template_columns": null,
            "grid_template_rows": null,
            "height": null,
            "justify_content": null,
            "justify_items": null,
            "left": null,
            "margin": null,
            "max_height": null,
            "max_width": null,
            "min_height": null,
            "min_width": null,
            "object_fit": null,
            "object_position": null,
            "order": null,
            "overflow": null,
            "overflow_x": null,
            "overflow_y": null,
            "padding": null,
            "right": null,
            "top": null,
            "visibility": null,
            "width": null
          }
        },
        "fc7b7e04e6964a94afd1c521717f4557": {
          "model_module": "@jupyter-widgets/base",
          "model_name": "LayoutModel",
          "model_module_version": "1.2.0",
          "state": {
            "_model_module": "@jupyter-widgets/base",
            "_model_module_version": "1.2.0",
            "_model_name": "LayoutModel",
            "_view_count": null,
            "_view_module": "@jupyter-widgets/base",
            "_view_module_version": "1.2.0",
            "_view_name": "LayoutView",
            "align_content": null,
            "align_items": null,
            "align_self": null,
            "border": null,
            "bottom": null,
            "display": null,
            "flex": null,
            "flex_flow": null,
            "grid_area": null,
            "grid_auto_columns": null,
            "grid_auto_flow": null,
            "grid_auto_rows": null,
            "grid_column": null,
            "grid_gap": null,
            "grid_row": null,
            "grid_template_areas": null,
            "grid_template_columns": null,
            "grid_template_rows": null,
            "height": null,
            "justify_content": null,
            "justify_items": null,
            "left": null,
            "margin": null,
            "max_height": null,
            "max_width": null,
            "min_height": null,
            "min_width": null,
            "object_fit": null,
            "object_position": null,
            "order": null,
            "overflow": null,
            "overflow_x": null,
            "overflow_y": null,
            "padding": null,
            "right": null,
            "top": null,
            "visibility": null,
            "width": null
          }
        },
        "efe6a9a04d284d39ac8466afa194993e": {
          "model_module": "@jupyter-widgets/controls",
          "model_name": "DescriptionStyleModel",
          "model_module_version": "1.5.0",
          "state": {
            "_model_module": "@jupyter-widgets/controls",
            "_model_module_version": "1.5.0",
            "_model_name": "DescriptionStyleModel",
            "_view_count": null,
            "_view_module": "@jupyter-widgets/base",
            "_view_module_version": "1.2.0",
            "_view_name": "StyleView",
            "description_width": ""
          }
        },
        "062961b3798947cc9bc0f38c46644071": {
          "model_module": "@jupyter-widgets/base",
          "model_name": "LayoutModel",
          "model_module_version": "1.2.0",
          "state": {
            "_model_module": "@jupyter-widgets/base",
            "_model_module_version": "1.2.0",
            "_model_name": "LayoutModel",
            "_view_count": null,
            "_view_module": "@jupyter-widgets/base",
            "_view_module_version": "1.2.0",
            "_view_name": "LayoutView",
            "align_content": null,
            "align_items": null,
            "align_self": null,
            "border": null,
            "bottom": null,
            "display": null,
            "flex": null,
            "flex_flow": null,
            "grid_area": null,
            "grid_auto_columns": null,
            "grid_auto_flow": null,
            "grid_auto_rows": null,
            "grid_column": null,
            "grid_gap": null,
            "grid_row": null,
            "grid_template_areas": null,
            "grid_template_columns": null,
            "grid_template_rows": null,
            "height": null,
            "justify_content": null,
            "justify_items": null,
            "left": null,
            "margin": null,
            "max_height": null,
            "max_width": null,
            "min_height": null,
            "min_width": null,
            "object_fit": null,
            "object_position": null,
            "order": null,
            "overflow": null,
            "overflow_x": null,
            "overflow_y": null,
            "padding": null,
            "right": null,
            "top": null,
            "visibility": null,
            "width": null
          }
        },
        "8d38681c859d48358ed6d96668754b15": {
          "model_module": "@jupyter-widgets/controls",
          "model_name": "ProgressStyleModel",
          "model_module_version": "1.5.0",
          "state": {
            "_model_module": "@jupyter-widgets/controls",
            "_model_module_version": "1.5.0",
            "_model_name": "ProgressStyleModel",
            "_view_count": null,
            "_view_module": "@jupyter-widgets/base",
            "_view_module_version": "1.2.0",
            "_view_name": "StyleView",
            "bar_color": null,
            "description_width": ""
          }
        },
        "d9ff5dd352ab4af89e1170dac5ca9392": {
          "model_module": "@jupyter-widgets/base",
          "model_name": "LayoutModel",
          "model_module_version": "1.2.0",
          "state": {
            "_model_module": "@jupyter-widgets/base",
            "_model_module_version": "1.2.0",
            "_model_name": "LayoutModel",
            "_view_count": null,
            "_view_module": "@jupyter-widgets/base",
            "_view_module_version": "1.2.0",
            "_view_name": "LayoutView",
            "align_content": null,
            "align_items": null,
            "align_self": null,
            "border": null,
            "bottom": null,
            "display": null,
            "flex": null,
            "flex_flow": null,
            "grid_area": null,
            "grid_auto_columns": null,
            "grid_auto_flow": null,
            "grid_auto_rows": null,
            "grid_column": null,
            "grid_gap": null,
            "grid_row": null,
            "grid_template_areas": null,
            "grid_template_columns": null,
            "grid_template_rows": null,
            "height": null,
            "justify_content": null,
            "justify_items": null,
            "left": null,
            "margin": null,
            "max_height": null,
            "max_width": null,
            "min_height": null,
            "min_width": null,
            "object_fit": null,
            "object_position": null,
            "order": null,
            "overflow": null,
            "overflow_x": null,
            "overflow_y": null,
            "padding": null,
            "right": null,
            "top": null,
            "visibility": null,
            "width": null
          }
        },
        "623dbb858d464eb1b5606b4b4cb95146": {
          "model_module": "@jupyter-widgets/controls",
          "model_name": "DescriptionStyleModel",
          "model_module_version": "1.5.0",
          "state": {
            "_model_module": "@jupyter-widgets/controls",
            "_model_module_version": "1.5.0",
            "_model_name": "DescriptionStyleModel",
            "_view_count": null,
            "_view_module": "@jupyter-widgets/base",
            "_view_module_version": "1.2.0",
            "_view_name": "StyleView",
            "description_width": ""
          }
        }
      }
    }
  },
  "cells": [
    {
      "cell_type": "code",
      "execution_count": 1,
      "metadata": {
        "colab": {
          "base_uri": "https://localhost:8080/"
        },
        "id": "sLfulyNScWHr",
        "outputId": "eea0beb5-a0e9-40ad-be1d-ee6df338e537"
      },
      "outputs": [
        {
          "output_type": "stream",
          "name": "stdout",
          "text": [
            "Requirement already satisfied: pyspark in /usr/local/lib/python3.11/dist-packages (3.5.1)\n",
            "Requirement already satisfied: py4j==0.10.9.7 in /usr/local/lib/python3.11/dist-packages (from pyspark) (0.10.9.7)\n",
            "Requirement already satisfied: pandas in /usr/local/lib/python3.11/dist-packages (2.2.2)\n",
            "Requirement already satisfied: numpy>=1.23.2 in /usr/local/lib/python3.11/dist-packages (from pandas) (2.0.2)\n",
            "Requirement already satisfied: python-dateutil>=2.8.2 in /usr/local/lib/python3.11/dist-packages (from pandas) (2.9.0.post0)\n",
            "Requirement already satisfied: pytz>=2020.1 in /usr/local/lib/python3.11/dist-packages (from pandas) (2025.2)\n",
            "Requirement already satisfied: tzdata>=2022.7 in /usr/local/lib/python3.11/dist-packages (from pandas) (2025.2)\n",
            "Requirement already satisfied: six>=1.5 in /usr/local/lib/python3.11/dist-packages (from python-dateutil>=2.8.2->pandas) (1.17.0)\n",
            "Requirement already satisfied: tensorflow in /usr/local/lib/python3.11/dist-packages (2.19.0)\n",
            "Requirement already satisfied: absl-py>=1.0.0 in /usr/local/lib/python3.11/dist-packages (from tensorflow) (1.4.0)\n",
            "Requirement already satisfied: astunparse>=1.6.0 in /usr/local/lib/python3.11/dist-packages (from tensorflow) (1.6.3)\n",
            "Requirement already satisfied: flatbuffers>=24.3.25 in /usr/local/lib/python3.11/dist-packages (from tensorflow) (25.2.10)\n",
            "Requirement already satisfied: gast!=0.5.0,!=0.5.1,!=0.5.2,>=0.2.1 in /usr/local/lib/python3.11/dist-packages (from tensorflow) (0.6.0)\n",
            "Requirement already satisfied: google-pasta>=0.1.1 in /usr/local/lib/python3.11/dist-packages (from tensorflow) (0.2.0)\n",
            "Requirement already satisfied: libclang>=13.0.0 in /usr/local/lib/python3.11/dist-packages (from tensorflow) (18.1.1)\n",
            "Requirement already satisfied: opt-einsum>=2.3.2 in /usr/local/lib/python3.11/dist-packages (from tensorflow) (3.4.0)\n",
            "Requirement already satisfied: packaging in /usr/local/lib/python3.11/dist-packages (from tensorflow) (25.0)\n",
            "Requirement already satisfied: protobuf!=4.21.0,!=4.21.1,!=4.21.2,!=4.21.3,!=4.21.4,!=4.21.5,<6.0.0dev,>=3.20.3 in /usr/local/lib/python3.11/dist-packages (from tensorflow) (5.29.5)\n",
            "Requirement already satisfied: requests<3,>=2.21.0 in /usr/local/lib/python3.11/dist-packages (from tensorflow) (2.32.3)\n",
            "Requirement already satisfied: setuptools in /usr/local/lib/python3.11/dist-packages (from tensorflow) (75.2.0)\n",
            "Requirement already satisfied: six>=1.12.0 in /usr/local/lib/python3.11/dist-packages (from tensorflow) (1.17.0)\n",
            "Requirement already satisfied: termcolor>=1.1.0 in /usr/local/lib/python3.11/dist-packages (from tensorflow) (3.1.0)\n",
            "Requirement already satisfied: typing-extensions>=3.6.6 in /usr/local/lib/python3.11/dist-packages (from tensorflow) (4.14.1)\n",
            "Requirement already satisfied: wrapt>=1.11.0 in /usr/local/lib/python3.11/dist-packages (from tensorflow) (1.17.3)\n",
            "Requirement already satisfied: grpcio<2.0,>=1.24.3 in /usr/local/lib/python3.11/dist-packages (from tensorflow) (1.74.0)\n",
            "Requirement already satisfied: tensorboard~=2.19.0 in /usr/local/lib/python3.11/dist-packages (from tensorflow) (2.19.0)\n",
            "Requirement already satisfied: keras>=3.5.0 in /usr/local/lib/python3.11/dist-packages (from tensorflow) (3.10.0)\n",
            "Requirement already satisfied: numpy<2.2.0,>=1.26.0 in /usr/local/lib/python3.11/dist-packages (from tensorflow) (2.0.2)\n",
            "Requirement already satisfied: h5py>=3.11.0 in /usr/local/lib/python3.11/dist-packages (from tensorflow) (3.14.0)\n",
            "Requirement already satisfied: ml-dtypes<1.0.0,>=0.5.1 in /usr/local/lib/python3.11/dist-packages (from tensorflow) (0.5.3)\n",
            "Requirement already satisfied: tensorflow-io-gcs-filesystem>=0.23.1 in /usr/local/lib/python3.11/dist-packages (from tensorflow) (0.37.1)\n",
            "Requirement already satisfied: wheel<1.0,>=0.23.0 in /usr/local/lib/python3.11/dist-packages (from astunparse>=1.6.0->tensorflow) (0.45.1)\n",
            "Requirement already satisfied: rich in /usr/local/lib/python3.11/dist-packages (from keras>=3.5.0->tensorflow) (13.9.4)\n",
            "Requirement already satisfied: namex in /usr/local/lib/python3.11/dist-packages (from keras>=3.5.0->tensorflow) (0.1.0)\n",
            "Requirement already satisfied: optree in /usr/local/lib/python3.11/dist-packages (from keras>=3.5.0->tensorflow) (0.17.0)\n",
            "Requirement already satisfied: charset-normalizer<4,>=2 in /usr/local/lib/python3.11/dist-packages (from requests<3,>=2.21.0->tensorflow) (3.4.3)\n",
            "Requirement already satisfied: idna<4,>=2.5 in /usr/local/lib/python3.11/dist-packages (from requests<3,>=2.21.0->tensorflow) (3.10)\n",
            "Requirement already satisfied: urllib3<3,>=1.21.1 in /usr/local/lib/python3.11/dist-packages (from requests<3,>=2.21.0->tensorflow) (2.5.0)\n",
            "Requirement already satisfied: certifi>=2017.4.17 in /usr/local/lib/python3.11/dist-packages (from requests<3,>=2.21.0->tensorflow) (2025.8.3)\n",
            "Requirement already satisfied: markdown>=2.6.8 in /usr/local/lib/python3.11/dist-packages (from tensorboard~=2.19.0->tensorflow) (3.8.2)\n",
            "Requirement already satisfied: tensorboard-data-server<0.8.0,>=0.7.0 in /usr/local/lib/python3.11/dist-packages (from tensorboard~=2.19.0->tensorflow) (0.7.2)\n",
            "Requirement already satisfied: werkzeug>=1.0.1 in /usr/local/lib/python3.11/dist-packages (from tensorboard~=2.19.0->tensorflow) (3.1.3)\n",
            "Requirement already satisfied: MarkupSafe>=2.1.1 in /usr/local/lib/python3.11/dist-packages (from werkzeug>=1.0.1->tensorboard~=2.19.0->tensorflow) (3.0.2)\n",
            "Requirement already satisfied: markdown-it-py>=2.2.0 in /usr/local/lib/python3.11/dist-packages (from rich->keras>=3.5.0->tensorflow) (4.0.0)\n",
            "Requirement already satisfied: pygments<3.0.0,>=2.13.0 in /usr/local/lib/python3.11/dist-packages (from rich->keras>=3.5.0->tensorflow) (2.19.2)\n",
            "Requirement already satisfied: mdurl~=0.1 in /usr/local/lib/python3.11/dist-packages (from markdown-it-py>=2.2.0->rich->keras>=3.5.0->tensorflow) (0.1.2)\n",
            "Requirement already satisfied: vaderSentiment in /usr/local/lib/python3.11/dist-packages (3.3.2)\n",
            "Requirement already satisfied: requests in /usr/local/lib/python3.11/dist-packages (from vaderSentiment) (2.32.3)\n",
            "Requirement already satisfied: charset-normalizer<4,>=2 in /usr/local/lib/python3.11/dist-packages (from requests->vaderSentiment) (3.4.3)\n",
            "Requirement already satisfied: idna<4,>=2.5 in /usr/local/lib/python3.11/dist-packages (from requests->vaderSentiment) (3.10)\n",
            "Requirement already satisfied: urllib3<3,>=1.21.1 in /usr/local/lib/python3.11/dist-packages (from requests->vaderSentiment) (2.5.0)\n",
            "Requirement already satisfied: certifi>=2017.4.17 in /usr/local/lib/python3.11/dist-packages (from requests->vaderSentiment) (2025.8.3)\n",
            "Requirement already satisfied: scikit-learn in /usr/local/lib/python3.11/dist-packages (1.6.1)\n",
            "Requirement already satisfied: numpy>=1.19.5 in /usr/local/lib/python3.11/dist-packages (from scikit-learn) (2.0.2)\n",
            "Requirement already satisfied: scipy>=1.6.0 in /usr/local/lib/python3.11/dist-packages (from scikit-learn) (1.16.1)\n",
            "Requirement already satisfied: joblib>=1.2.0 in /usr/local/lib/python3.11/dist-packages (from scikit-learn) (1.5.1)\n",
            "Requirement already satisfied: threadpoolctl>=3.1.0 in /usr/local/lib/python3.11/dist-packages (from scikit-learn) (3.6.0)\n",
            "Requirement already satisfied: matplotlib in /usr/local/lib/python3.11/dist-packages (3.10.0)\n",
            "Requirement already satisfied: contourpy>=1.0.1 in /usr/local/lib/python3.11/dist-packages (from matplotlib) (1.3.3)\n",
            "Requirement already satisfied: cycler>=0.10 in /usr/local/lib/python3.11/dist-packages (from matplotlib) (0.12.1)\n",
            "Requirement already satisfied: fonttools>=4.22.0 in /usr/local/lib/python3.11/dist-packages (from matplotlib) (4.59.0)\n",
            "Requirement already satisfied: kiwisolver>=1.3.1 in /usr/local/lib/python3.11/dist-packages (from matplotlib) (1.4.9)\n",
            "Requirement already satisfied: numpy>=1.23 in /usr/local/lib/python3.11/dist-packages (from matplotlib) (2.0.2)\n",
            "Requirement already satisfied: packaging>=20.0 in /usr/local/lib/python3.11/dist-packages (from matplotlib) (25.0)\n",
            "Requirement already satisfied: pillow>=8 in /usr/local/lib/python3.11/dist-packages (from matplotlib) (11.3.0)\n",
            "Requirement already satisfied: pyparsing>=2.3.1 in /usr/local/lib/python3.11/dist-packages (from matplotlib) (3.2.3)\n",
            "Requirement already satisfied: python-dateutil>=2.7 in /usr/local/lib/python3.11/dist-packages (from matplotlib) (2.9.0.post0)\n",
            "Requirement already satisfied: six>=1.5 in /usr/local/lib/python3.11/dist-packages (from python-dateutil>=2.7->matplotlib) (1.17.0)\n",
            "Requirement already satisfied: seaborn in /usr/local/lib/python3.11/dist-packages (0.13.2)\n",
            "Requirement already satisfied: numpy!=1.24.0,>=1.20 in /usr/local/lib/python3.11/dist-packages (from seaborn) (2.0.2)\n",
            "Requirement already satisfied: pandas>=1.2 in /usr/local/lib/python3.11/dist-packages (from seaborn) (2.2.2)\n",
            "Requirement already satisfied: matplotlib!=3.6.1,>=3.4 in /usr/local/lib/python3.11/dist-packages (from seaborn) (3.10.0)\n",
            "Requirement already satisfied: contourpy>=1.0.1 in /usr/local/lib/python3.11/dist-packages (from matplotlib!=3.6.1,>=3.4->seaborn) (1.3.3)\n",
            "Requirement already satisfied: cycler>=0.10 in /usr/local/lib/python3.11/dist-packages (from matplotlib!=3.6.1,>=3.4->seaborn) (0.12.1)\n",
            "Requirement already satisfied: fonttools>=4.22.0 in /usr/local/lib/python3.11/dist-packages (from matplotlib!=3.6.1,>=3.4->seaborn) (4.59.0)\n",
            "Requirement already satisfied: kiwisolver>=1.3.1 in /usr/local/lib/python3.11/dist-packages (from matplotlib!=3.6.1,>=3.4->seaborn) (1.4.9)\n",
            "Requirement already satisfied: packaging>=20.0 in /usr/local/lib/python3.11/dist-packages (from matplotlib!=3.6.1,>=3.4->seaborn) (25.0)\n",
            "Requirement already satisfied: pillow>=8 in /usr/local/lib/python3.11/dist-packages (from matplotlib!=3.6.1,>=3.4->seaborn) (11.3.0)\n",
            "Requirement already satisfied: pyparsing>=2.3.1 in /usr/local/lib/python3.11/dist-packages (from matplotlib!=3.6.1,>=3.4->seaborn) (3.2.3)\n",
            "Requirement already satisfied: python-dateutil>=2.7 in /usr/local/lib/python3.11/dist-packages (from matplotlib!=3.6.1,>=3.4->seaborn) (2.9.0.post0)\n",
            "Requirement already satisfied: pytz>=2020.1 in /usr/local/lib/python3.11/dist-packages (from pandas>=1.2->seaborn) (2025.2)\n",
            "Requirement already satisfied: tzdata>=2022.7 in /usr/local/lib/python3.11/dist-packages (from pandas>=1.2->seaborn) (2025.2)\n",
            "Requirement already satisfied: six>=1.5 in /usr/local/lib/python3.11/dist-packages (from python-dateutil>=2.7->matplotlib!=3.6.1,>=3.4->seaborn) (1.17.0)\n",
            "✅ All libraries are installed and imported successfully!\n"
          ]
        }
      ],
      "source": [
        "# Install necessary libraries for data processing, Spark, and deep learning\n",
        "!pip install pyspark\n",
        "!pip install pandas\n",
        "!pip install tensorflow\n",
        "!pip install vaderSentiment\n",
        "!pip install scikit-learn\n",
        "!pip install matplotlib\n",
        "!pip install seaborn\n",
        "\n",
        "# Import the libraries we will use\n",
        "import pandas as pd\n",
        "import numpy as np\n",
        "from pyspark.sql import SparkSession\n",
        "from pyspark.sql.functions import col, to_date, year, month, udf\n",
        "from pyspark.sql.types import FloatType\n",
        "from vaderSentiment.vaderSentiment import SentimentIntensityAnalyzer\n",
        "from sklearn.preprocessing import MinMaxScaler\n",
        "import tensorflow as tf\n",
        "from tensorflow.keras.models import Sequential\n",
        "from tensorflow.keras.layers import Dense, LSTM, Dropout\n",
        "from sklearn.metrics import classification_report, confusion_matrix\n",
        "import matplotlib.pyplot as plt\n",
        "import seaborn as sns\n",
        "\n",
        "print(\"✅ All libraries are installed and imported successfully!\")"
      ]
    },
    {
      "cell_type": "code",
      "source": [
        "# Install the necessary library for downloading stock data\n",
        "!pip install yfinance\n",
        "\n",
        "import pandas as pd\n",
        "import yfinance as yf\n",
        "from datetime import datetime\n",
        "\n",
        "def download_aligned_big_data_stocks():\n",
        "    \"\"\"\n",
        "    Downloads and preprocesses a comprehensive stock market dataset with a timeline\n",
        "    aligned to the historical news data (2009-2020).\n",
        "    \"\"\"\n",
        "\n",
        "    major_stocks = [\n",
        "        'AAPL', 'MSFT', 'GOOGL', 'AMZN', 'META', 'TSLA', 'NVDA', 'NFLX', 'ADBE', 'CRM',\n",
        "        'INTC', 'AMD', 'ORCL', 'IBM', 'CSCO', 'QCOM', 'TXN', 'AVGO', 'MU', 'PYPL',\n",
        "        'JPM', 'BAC', 'WFC', 'C', 'GS', 'MS', 'AXP', 'V', 'MA', 'BLK',\n",
        "        'SCHW', 'USB', 'PNC', 'TFC', 'COF', 'BK', 'STT', 'FITB', 'RF', 'SPGI',\n",
        "        'JNJ', 'UNH', 'PFE', 'ABT', 'TMO', 'DHR', 'BMY', 'ABBV', 'LLY', 'MRK',\n",
        "        'AMGN', 'GILD', 'ISRG', 'VRTX', 'REGN', 'BIIB', 'CVS', 'CI', 'HUM', 'MDT',\n",
        "        'WMT', 'HD', 'PG', 'KO', 'PEP', 'MCD', 'NKE', 'SBUX', 'TGT', 'LOW',\n",
        "        'COST', 'DIS', 'CMCSA', 'VZ', 'T', 'F', 'GM', 'CL', 'KMB', 'GIS'\n",
        "    ]\n",
        "\n",
        "    start_date = \"2009-01-01\"\n",
        "    end_date = \"2020-12-31\"\n",
        "\n",
        "    print(f\"🔄 Downloading ALIGNED Big Data: {len(major_stocks)} stocks from {start_date} to {end_date}\")\n",
        "\n",
        "    all_data = []\n",
        "    for i, symbol in enumerate(major_stocks):\n",
        "        try:\n",
        "            print(f\"📈 Processing {symbol} ({i+1}/{len(major_stocks)})\")\n",
        "            stock_data = yf.download(symbol, start=start_date, end=end_date, progress=False)\n",
        "\n",
        "            if not stock_data.empty:\n",
        "                stock_data.reset_index(inplace=True)\n",
        "                stock_data['Symbol'] = symbol\n",
        "\n",
        "                # Pre-calculate technical indicators\n",
        "                stock_data['Daily_Return'] = stock_data['Close'].pct_change()\n",
        "                stock_data['Volatility'] = stock_data['Daily_Return'].rolling(window=20).std()\n",
        "                stock_data['SMA_20'] = stock_data['Close'].rolling(window=20).mean()\n",
        "                stock_data['SMA_50'] = stock_data['Close'].rolling(window=50).mean()\n",
        "                stock_data['Volume_MA'] = stock_data['Volume'].rolling(window=20).mean()\n",
        "\n",
        "                all_data.append(stock_data)\n",
        "\n",
        "        except Exception as e:\n",
        "            print(f\"⚠️ Failed to download {symbol}: {e}\")\n",
        "\n",
        "    combined_data = pd.concat(all_data, ignore_index=True)\n",
        "\n",
        "    # --- KEY CHANGE: The aggressive dropna() line has been removed ---\n",
        "    # combined_data.dropna(inplace=True)\n",
        "\n",
        "    print(\"\\n✅ ALIGNED BIG DATASET CREATED SUCCESSFULLY:\")\n",
        "    print(f\"📊 Total records: {len(combined_data):,}\")\n",
        "    print(f\"🏢 Total unique stocks: {combined_data['Symbol'].nunique()}\")\n",
        "    print(f\"📅 Date range: {combined_data['Date'].min().date()} to {combined_data['Date'].max().date()}\")\n",
        "\n",
        "    return combined_data\n",
        "\n",
        "# --- Execute the function and save the data ---\n",
        "stock_data = download_aligned_big_data_stocks()\n",
        "stock_data.to_csv('big_stock_data_aligned.csv', index=False)\n",
        "print(\"\\n💾 File 'big_stock_data_aligned.csv' has been saved. It should now contain all the records.\")"
      ],
      "metadata": {
        "id": "smvu2KFewXS8",
        "colab": {
          "base_uri": "https://localhost:8080/"
        },
        "outputId": "f9e33769-330e-414e-d194-39da8b5eb69d"
      },
      "execution_count": 2,
      "outputs": [
        {
          "output_type": "stream",
          "name": "stdout",
          "text": [
            "Requirement already satisfied: yfinance in /usr/local/lib/python3.11/dist-packages (0.2.65)\n",
            "Requirement already satisfied: pandas>=1.3.0 in /usr/local/lib/python3.11/dist-packages (from yfinance) (2.2.2)\n",
            "Requirement already satisfied: numpy>=1.16.5 in /usr/local/lib/python3.11/dist-packages (from yfinance) (2.0.2)\n",
            "Requirement already satisfied: requests>=2.31 in /usr/local/lib/python3.11/dist-packages (from yfinance) (2.32.3)\n",
            "Requirement already satisfied: multitasking>=0.0.7 in /usr/local/lib/python3.11/dist-packages (from yfinance) (0.0.12)\n",
            "Requirement already satisfied: platformdirs>=2.0.0 in /usr/local/lib/python3.11/dist-packages (from yfinance) (4.3.8)\n",
            "Requirement already satisfied: pytz>=2022.5 in /usr/local/lib/python3.11/dist-packages (from yfinance) (2025.2)\n",
            "Requirement already satisfied: frozendict>=2.3.4 in /usr/local/lib/python3.11/dist-packages (from yfinance) (2.4.6)\n",
            "Requirement already satisfied: peewee>=3.16.2 in /usr/local/lib/python3.11/dist-packages (from yfinance) (3.18.2)\n",
            "Requirement already satisfied: beautifulsoup4>=4.11.1 in /usr/local/lib/python3.11/dist-packages (from yfinance) (4.13.4)\n",
            "Requirement already satisfied: curl_cffi>=0.7 in /usr/local/lib/python3.11/dist-packages (from yfinance) (0.13.0)\n",
            "Requirement already satisfied: protobuf>=3.19.0 in /usr/local/lib/python3.11/dist-packages (from yfinance) (5.29.5)\n",
            "Requirement already satisfied: websockets>=13.0 in /usr/local/lib/python3.11/dist-packages (from yfinance) (15.0.1)\n",
            "Requirement already satisfied: soupsieve>1.2 in /usr/local/lib/python3.11/dist-packages (from beautifulsoup4>=4.11.1->yfinance) (2.7)\n",
            "Requirement already satisfied: typing-extensions>=4.0.0 in /usr/local/lib/python3.11/dist-packages (from beautifulsoup4>=4.11.1->yfinance) (4.14.1)\n",
            "Requirement already satisfied: cffi>=1.12.0 in /usr/local/lib/python3.11/dist-packages (from curl_cffi>=0.7->yfinance) (1.17.1)\n",
            "Requirement already satisfied: certifi>=2024.2.2 in /usr/local/lib/python3.11/dist-packages (from curl_cffi>=0.7->yfinance) (2025.8.3)\n",
            "Requirement already satisfied: python-dateutil>=2.8.2 in /usr/local/lib/python3.11/dist-packages (from pandas>=1.3.0->yfinance) (2.9.0.post0)\n",
            "Requirement already satisfied: tzdata>=2022.7 in /usr/local/lib/python3.11/dist-packages (from pandas>=1.3.0->yfinance) (2025.2)\n",
            "Requirement already satisfied: charset-normalizer<4,>=2 in /usr/local/lib/python3.11/dist-packages (from requests>=2.31->yfinance) (3.4.3)\n",
            "Requirement already satisfied: idna<4,>=2.5 in /usr/local/lib/python3.11/dist-packages (from requests>=2.31->yfinance) (3.10)\n",
            "Requirement already satisfied: urllib3<3,>=1.21.1 in /usr/local/lib/python3.11/dist-packages (from requests>=2.31->yfinance) (2.5.0)\n",
            "Requirement already satisfied: pycparser in /usr/local/lib/python3.11/dist-packages (from cffi>=1.12.0->curl_cffi>=0.7->yfinance) (2.22)\n",
            "Requirement already satisfied: six>=1.5 in /usr/local/lib/python3.11/dist-packages (from python-dateutil>=2.8.2->pandas>=1.3.0->yfinance) (1.17.0)\n",
            "🔄 Downloading ALIGNED Big Data: 80 stocks from 2009-01-01 to 2020-12-31\n",
            "📈 Processing AAPL (1/80)\n"
          ]
        },
        {
          "output_type": "stream",
          "name": "stderr",
          "text": [
            "/tmp/ipython-input-77153801.py:34: FutureWarning: YF.download() has changed argument auto_adjust default to True\n",
            "  stock_data = yf.download(symbol, start=start_date, end=end_date, progress=False)\n"
          ]
        },
        {
          "output_type": "stream",
          "name": "stdout",
          "text": [
            "📈 Processing MSFT (2/80)\n"
          ]
        },
        {
          "output_type": "stream",
          "name": "stderr",
          "text": [
            "/tmp/ipython-input-77153801.py:34: FutureWarning: YF.download() has changed argument auto_adjust default to True\n",
            "  stock_data = yf.download(symbol, start=start_date, end=end_date, progress=False)\n"
          ]
        },
        {
          "output_type": "stream",
          "name": "stdout",
          "text": [
            "📈 Processing GOOGL (3/80)\n"
          ]
        },
        {
          "output_type": "stream",
          "name": "stderr",
          "text": [
            "/tmp/ipython-input-77153801.py:34: FutureWarning: YF.download() has changed argument auto_adjust default to True\n",
            "  stock_data = yf.download(symbol, start=start_date, end=end_date, progress=False)\n"
          ]
        },
        {
          "output_type": "stream",
          "name": "stdout",
          "text": [
            "📈 Processing AMZN (4/80)\n"
          ]
        },
        {
          "output_type": "stream",
          "name": "stderr",
          "text": [
            "/tmp/ipython-input-77153801.py:34: FutureWarning: YF.download() has changed argument auto_adjust default to True\n",
            "  stock_data = yf.download(symbol, start=start_date, end=end_date, progress=False)\n"
          ]
        },
        {
          "output_type": "stream",
          "name": "stdout",
          "text": [
            "📈 Processing META (5/80)\n"
          ]
        },
        {
          "output_type": "stream",
          "name": "stderr",
          "text": [
            "/tmp/ipython-input-77153801.py:34: FutureWarning: YF.download() has changed argument auto_adjust default to True\n",
            "  stock_data = yf.download(symbol, start=start_date, end=end_date, progress=False)\n"
          ]
        },
        {
          "output_type": "stream",
          "name": "stdout",
          "text": [
            "📈 Processing TSLA (6/80)\n"
          ]
        },
        {
          "output_type": "stream",
          "name": "stderr",
          "text": [
            "/tmp/ipython-input-77153801.py:34: FutureWarning: YF.download() has changed argument auto_adjust default to True\n",
            "  stock_data = yf.download(symbol, start=start_date, end=end_date, progress=False)\n"
          ]
        },
        {
          "output_type": "stream",
          "name": "stdout",
          "text": [
            "📈 Processing NVDA (7/80)\n"
          ]
        },
        {
          "output_type": "stream",
          "name": "stderr",
          "text": [
            "/tmp/ipython-input-77153801.py:34: FutureWarning: YF.download() has changed argument auto_adjust default to True\n",
            "  stock_data = yf.download(symbol, start=start_date, end=end_date, progress=False)\n"
          ]
        },
        {
          "output_type": "stream",
          "name": "stdout",
          "text": [
            "📈 Processing NFLX (8/80)\n"
          ]
        },
        {
          "output_type": "stream",
          "name": "stderr",
          "text": [
            "/tmp/ipython-input-77153801.py:34: FutureWarning: YF.download() has changed argument auto_adjust default to True\n",
            "  stock_data = yf.download(symbol, start=start_date, end=end_date, progress=False)\n"
          ]
        },
        {
          "output_type": "stream",
          "name": "stdout",
          "text": [
            "📈 Processing ADBE (9/80)\n"
          ]
        },
        {
          "output_type": "stream",
          "name": "stderr",
          "text": [
            "/tmp/ipython-input-77153801.py:34: FutureWarning: YF.download() has changed argument auto_adjust default to True\n",
            "  stock_data = yf.download(symbol, start=start_date, end=end_date, progress=False)\n"
          ]
        },
        {
          "output_type": "stream",
          "name": "stdout",
          "text": [
            "📈 Processing CRM (10/80)\n"
          ]
        },
        {
          "output_type": "stream",
          "name": "stderr",
          "text": [
            "/tmp/ipython-input-77153801.py:34: FutureWarning: YF.download() has changed argument auto_adjust default to True\n",
            "  stock_data = yf.download(symbol, start=start_date, end=end_date, progress=False)\n"
          ]
        },
        {
          "output_type": "stream",
          "name": "stdout",
          "text": [
            "📈 Processing INTC (11/80)\n"
          ]
        },
        {
          "output_type": "stream",
          "name": "stderr",
          "text": [
            "/tmp/ipython-input-77153801.py:34: FutureWarning: YF.download() has changed argument auto_adjust default to True\n",
            "  stock_data = yf.download(symbol, start=start_date, end=end_date, progress=False)\n"
          ]
        },
        {
          "output_type": "stream",
          "name": "stdout",
          "text": [
            "📈 Processing AMD (12/80)\n"
          ]
        },
        {
          "output_type": "stream",
          "name": "stderr",
          "text": [
            "/tmp/ipython-input-77153801.py:34: FutureWarning: YF.download() has changed argument auto_adjust default to True\n",
            "  stock_data = yf.download(symbol, start=start_date, end=end_date, progress=False)\n"
          ]
        },
        {
          "output_type": "stream",
          "name": "stdout",
          "text": [
            "📈 Processing ORCL (13/80)\n"
          ]
        },
        {
          "output_type": "stream",
          "name": "stderr",
          "text": [
            "/tmp/ipython-input-77153801.py:34: FutureWarning: YF.download() has changed argument auto_adjust default to True\n",
            "  stock_data = yf.download(symbol, start=start_date, end=end_date, progress=False)\n"
          ]
        },
        {
          "output_type": "stream",
          "name": "stdout",
          "text": [
            "📈 Processing IBM (14/80)\n"
          ]
        },
        {
          "output_type": "stream",
          "name": "stderr",
          "text": [
            "/tmp/ipython-input-77153801.py:34: FutureWarning: YF.download() has changed argument auto_adjust default to True\n",
            "  stock_data = yf.download(symbol, start=start_date, end=end_date, progress=False)\n"
          ]
        },
        {
          "output_type": "stream",
          "name": "stdout",
          "text": [
            "📈 Processing CSCO (15/80)\n"
          ]
        },
        {
          "output_type": "stream",
          "name": "stderr",
          "text": [
            "/tmp/ipython-input-77153801.py:34: FutureWarning: YF.download() has changed argument auto_adjust default to True\n",
            "  stock_data = yf.download(symbol, start=start_date, end=end_date, progress=False)\n"
          ]
        },
        {
          "output_type": "stream",
          "name": "stdout",
          "text": [
            "📈 Processing QCOM (16/80)\n"
          ]
        },
        {
          "output_type": "stream",
          "name": "stderr",
          "text": [
            "/tmp/ipython-input-77153801.py:34: FutureWarning: YF.download() has changed argument auto_adjust default to True\n",
            "  stock_data = yf.download(symbol, start=start_date, end=end_date, progress=False)\n"
          ]
        },
        {
          "output_type": "stream",
          "name": "stdout",
          "text": [
            "📈 Processing TXN (17/80)\n"
          ]
        },
        {
          "output_type": "stream",
          "name": "stderr",
          "text": [
            "/tmp/ipython-input-77153801.py:34: FutureWarning: YF.download() has changed argument auto_adjust default to True\n",
            "  stock_data = yf.download(symbol, start=start_date, end=end_date, progress=False)\n"
          ]
        },
        {
          "output_type": "stream",
          "name": "stdout",
          "text": [
            "📈 Processing AVGO (18/80)\n"
          ]
        },
        {
          "output_type": "stream",
          "name": "stderr",
          "text": [
            "/tmp/ipython-input-77153801.py:34: FutureWarning: YF.download() has changed argument auto_adjust default to True\n",
            "  stock_data = yf.download(symbol, start=start_date, end=end_date, progress=False)\n"
          ]
        },
        {
          "output_type": "stream",
          "name": "stdout",
          "text": [
            "📈 Processing MU (19/80)\n"
          ]
        },
        {
          "output_type": "stream",
          "name": "stderr",
          "text": [
            "/tmp/ipython-input-77153801.py:34: FutureWarning: YF.download() has changed argument auto_adjust default to True\n",
            "  stock_data = yf.download(symbol, start=start_date, end=end_date, progress=False)\n"
          ]
        },
        {
          "output_type": "stream",
          "name": "stdout",
          "text": [
            "📈 Processing PYPL (20/80)\n",
            "📈 Processing JPM (21/80)\n"
          ]
        },
        {
          "output_type": "stream",
          "name": "stderr",
          "text": [
            "/tmp/ipython-input-77153801.py:34: FutureWarning: YF.download() has changed argument auto_adjust default to True\n",
            "  stock_data = yf.download(symbol, start=start_date, end=end_date, progress=False)\n",
            "/tmp/ipython-input-77153801.py:34: FutureWarning: YF.download() has changed argument auto_adjust default to True\n",
            "  stock_data = yf.download(symbol, start=start_date, end=end_date, progress=False)\n"
          ]
        },
        {
          "output_type": "stream",
          "name": "stdout",
          "text": [
            "📈 Processing BAC (22/80)\n"
          ]
        },
        {
          "output_type": "stream",
          "name": "stderr",
          "text": [
            "/tmp/ipython-input-77153801.py:34: FutureWarning: YF.download() has changed argument auto_adjust default to True\n",
            "  stock_data = yf.download(symbol, start=start_date, end=end_date, progress=False)\n"
          ]
        },
        {
          "output_type": "stream",
          "name": "stdout",
          "text": [
            "📈 Processing WFC (23/80)\n"
          ]
        },
        {
          "output_type": "stream",
          "name": "stderr",
          "text": [
            "/tmp/ipython-input-77153801.py:34: FutureWarning: YF.download() has changed argument auto_adjust default to True\n",
            "  stock_data = yf.download(symbol, start=start_date, end=end_date, progress=False)\n"
          ]
        },
        {
          "output_type": "stream",
          "name": "stdout",
          "text": [
            "📈 Processing C (24/80)\n"
          ]
        },
        {
          "output_type": "stream",
          "name": "stderr",
          "text": [
            "/tmp/ipython-input-77153801.py:34: FutureWarning: YF.download() has changed argument auto_adjust default to True\n",
            "  stock_data = yf.download(symbol, start=start_date, end=end_date, progress=False)\n"
          ]
        },
        {
          "output_type": "stream",
          "name": "stdout",
          "text": [
            "📈 Processing GS (25/80)\n",
            "📈 Processing MS (26/80)\n"
          ]
        },
        {
          "output_type": "stream",
          "name": "stderr",
          "text": [
            "/tmp/ipython-input-77153801.py:34: FutureWarning: YF.download() has changed argument auto_adjust default to True\n",
            "  stock_data = yf.download(symbol, start=start_date, end=end_date, progress=False)\n",
            "/tmp/ipython-input-77153801.py:34: FutureWarning: YF.download() has changed argument auto_adjust default to True\n",
            "  stock_data = yf.download(symbol, start=start_date, end=end_date, progress=False)\n"
          ]
        },
        {
          "output_type": "stream",
          "name": "stdout",
          "text": [
            "📈 Processing AXP (27/80)\n"
          ]
        },
        {
          "output_type": "stream",
          "name": "stderr",
          "text": [
            "/tmp/ipython-input-77153801.py:34: FutureWarning: YF.download() has changed argument auto_adjust default to True\n",
            "  stock_data = yf.download(symbol, start=start_date, end=end_date, progress=False)\n"
          ]
        },
        {
          "output_type": "stream",
          "name": "stdout",
          "text": [
            "📈 Processing V (28/80)\n"
          ]
        },
        {
          "output_type": "stream",
          "name": "stderr",
          "text": [
            "/tmp/ipython-input-77153801.py:34: FutureWarning: YF.download() has changed argument auto_adjust default to True\n",
            "  stock_data = yf.download(symbol, start=start_date, end=end_date, progress=False)\n"
          ]
        },
        {
          "output_type": "stream",
          "name": "stdout",
          "text": [
            "📈 Processing MA (29/80)\n"
          ]
        },
        {
          "output_type": "stream",
          "name": "stderr",
          "text": [
            "/tmp/ipython-input-77153801.py:34: FutureWarning: YF.download() has changed argument auto_adjust default to True\n",
            "  stock_data = yf.download(symbol, start=start_date, end=end_date, progress=False)\n"
          ]
        },
        {
          "output_type": "stream",
          "name": "stdout",
          "text": [
            "📈 Processing BLK (30/80)\n",
            "📈 Processing SCHW (31/80)\n"
          ]
        },
        {
          "output_type": "stream",
          "name": "stderr",
          "text": [
            "/tmp/ipython-input-77153801.py:34: FutureWarning: YF.download() has changed argument auto_adjust default to True\n",
            "  stock_data = yf.download(symbol, start=start_date, end=end_date, progress=False)\n",
            "/tmp/ipython-input-77153801.py:34: FutureWarning: YF.download() has changed argument auto_adjust default to True\n",
            "  stock_data = yf.download(symbol, start=start_date, end=end_date, progress=False)\n"
          ]
        },
        {
          "output_type": "stream",
          "name": "stdout",
          "text": [
            "📈 Processing USB (32/80)\n",
            "📈 Processing PNC (33/80)\n"
          ]
        },
        {
          "output_type": "stream",
          "name": "stderr",
          "text": [
            "/tmp/ipython-input-77153801.py:34: FutureWarning: YF.download() has changed argument auto_adjust default to True\n",
            "  stock_data = yf.download(symbol, start=start_date, end=end_date, progress=False)\n",
            "/tmp/ipython-input-77153801.py:34: FutureWarning: YF.download() has changed argument auto_adjust default to True\n",
            "  stock_data = yf.download(symbol, start=start_date, end=end_date, progress=False)\n"
          ]
        },
        {
          "output_type": "stream",
          "name": "stdout",
          "text": [
            "📈 Processing TFC (34/80)\n"
          ]
        },
        {
          "output_type": "stream",
          "name": "stderr",
          "text": [
            "/tmp/ipython-input-77153801.py:34: FutureWarning: YF.download() has changed argument auto_adjust default to True\n",
            "  stock_data = yf.download(symbol, start=start_date, end=end_date, progress=False)\n"
          ]
        },
        {
          "output_type": "stream",
          "name": "stdout",
          "text": [
            "📈 Processing COF (35/80)\n",
            "📈 Processing BK (36/80)\n"
          ]
        },
        {
          "output_type": "stream",
          "name": "stderr",
          "text": [
            "/tmp/ipython-input-77153801.py:34: FutureWarning: YF.download() has changed argument auto_adjust default to True\n",
            "  stock_data = yf.download(symbol, start=start_date, end=end_date, progress=False)\n",
            "/tmp/ipython-input-77153801.py:34: FutureWarning: YF.download() has changed argument auto_adjust default to True\n",
            "  stock_data = yf.download(symbol, start=start_date, end=end_date, progress=False)\n"
          ]
        },
        {
          "output_type": "stream",
          "name": "stdout",
          "text": [
            "📈 Processing STT (37/80)\n"
          ]
        },
        {
          "output_type": "stream",
          "name": "stderr",
          "text": [
            "/tmp/ipython-input-77153801.py:34: FutureWarning: YF.download() has changed argument auto_adjust default to True\n",
            "  stock_data = yf.download(symbol, start=start_date, end=end_date, progress=False)\n"
          ]
        },
        {
          "output_type": "stream",
          "name": "stdout",
          "text": [
            "📈 Processing FITB (38/80)\n"
          ]
        },
        {
          "output_type": "stream",
          "name": "stderr",
          "text": [
            "/tmp/ipython-input-77153801.py:34: FutureWarning: YF.download() has changed argument auto_adjust default to True\n",
            "  stock_data = yf.download(symbol, start=start_date, end=end_date, progress=False)\n"
          ]
        },
        {
          "output_type": "stream",
          "name": "stdout",
          "text": [
            "📈 Processing RF (39/80)\n"
          ]
        },
        {
          "output_type": "stream",
          "name": "stderr",
          "text": [
            "/tmp/ipython-input-77153801.py:34: FutureWarning: YF.download() has changed argument auto_adjust default to True\n",
            "  stock_data = yf.download(symbol, start=start_date, end=end_date, progress=False)\n"
          ]
        },
        {
          "output_type": "stream",
          "name": "stdout",
          "text": [
            "📈 Processing SPGI (40/80)\n"
          ]
        },
        {
          "output_type": "stream",
          "name": "stderr",
          "text": [
            "/tmp/ipython-input-77153801.py:34: FutureWarning: YF.download() has changed argument auto_adjust default to True\n",
            "  stock_data = yf.download(symbol, start=start_date, end=end_date, progress=False)\n"
          ]
        },
        {
          "output_type": "stream",
          "name": "stdout",
          "text": [
            "📈 Processing JNJ (41/80)\n"
          ]
        },
        {
          "output_type": "stream",
          "name": "stderr",
          "text": [
            "/tmp/ipython-input-77153801.py:34: FutureWarning: YF.download() has changed argument auto_adjust default to True\n",
            "  stock_data = yf.download(symbol, start=start_date, end=end_date, progress=False)\n"
          ]
        },
        {
          "output_type": "stream",
          "name": "stdout",
          "text": [
            "📈 Processing UNH (42/80)\n"
          ]
        },
        {
          "output_type": "stream",
          "name": "stderr",
          "text": [
            "/tmp/ipython-input-77153801.py:34: FutureWarning: YF.download() has changed argument auto_adjust default to True\n",
            "  stock_data = yf.download(symbol, start=start_date, end=end_date, progress=False)\n"
          ]
        },
        {
          "output_type": "stream",
          "name": "stdout",
          "text": [
            "📈 Processing PFE (43/80)\n"
          ]
        },
        {
          "output_type": "stream",
          "name": "stderr",
          "text": [
            "/tmp/ipython-input-77153801.py:34: FutureWarning: YF.download() has changed argument auto_adjust default to True\n",
            "  stock_data = yf.download(symbol, start=start_date, end=end_date, progress=False)\n"
          ]
        },
        {
          "output_type": "stream",
          "name": "stdout",
          "text": [
            "📈 Processing ABT (44/80)\n"
          ]
        },
        {
          "output_type": "stream",
          "name": "stderr",
          "text": [
            "/tmp/ipython-input-77153801.py:34: FutureWarning: YF.download() has changed argument auto_adjust default to True\n",
            "  stock_data = yf.download(symbol, start=start_date, end=end_date, progress=False)\n"
          ]
        },
        {
          "output_type": "stream",
          "name": "stdout",
          "text": [
            "📈 Processing TMO (45/80)\n",
            "📈 Processing DHR (46/80)\n"
          ]
        },
        {
          "output_type": "stream",
          "name": "stderr",
          "text": [
            "/tmp/ipython-input-77153801.py:34: FutureWarning: YF.download() has changed argument auto_adjust default to True\n",
            "  stock_data = yf.download(symbol, start=start_date, end=end_date, progress=False)\n",
            "/tmp/ipython-input-77153801.py:34: FutureWarning: YF.download() has changed argument auto_adjust default to True\n",
            "  stock_data = yf.download(symbol, start=start_date, end=end_date, progress=False)\n"
          ]
        },
        {
          "output_type": "stream",
          "name": "stdout",
          "text": [
            "📈 Processing BMY (47/80)\n"
          ]
        },
        {
          "output_type": "stream",
          "name": "stderr",
          "text": [
            "/tmp/ipython-input-77153801.py:34: FutureWarning: YF.download() has changed argument auto_adjust default to True\n",
            "  stock_data = yf.download(symbol, start=start_date, end=end_date, progress=False)\n"
          ]
        },
        {
          "output_type": "stream",
          "name": "stdout",
          "text": [
            "📈 Processing ABBV (48/80)\n",
            "📈 Processing LLY (49/80)\n"
          ]
        },
        {
          "output_type": "stream",
          "name": "stderr",
          "text": [
            "/tmp/ipython-input-77153801.py:34: FutureWarning: YF.download() has changed argument auto_adjust default to True\n",
            "  stock_data = yf.download(symbol, start=start_date, end=end_date, progress=False)\n",
            "/tmp/ipython-input-77153801.py:34: FutureWarning: YF.download() has changed argument auto_adjust default to True\n",
            "  stock_data = yf.download(symbol, start=start_date, end=end_date, progress=False)\n"
          ]
        },
        {
          "output_type": "stream",
          "name": "stdout",
          "text": [
            "📈 Processing MRK (50/80)\n"
          ]
        },
        {
          "output_type": "stream",
          "name": "stderr",
          "text": [
            "/tmp/ipython-input-77153801.py:34: FutureWarning: YF.download() has changed argument auto_adjust default to True\n",
            "  stock_data = yf.download(symbol, start=start_date, end=end_date, progress=False)\n"
          ]
        },
        {
          "output_type": "stream",
          "name": "stdout",
          "text": [
            "📈 Processing AMGN (51/80)\n",
            "📈 Processing GILD (52/80)\n"
          ]
        },
        {
          "output_type": "stream",
          "name": "stderr",
          "text": [
            "/tmp/ipython-input-77153801.py:34: FutureWarning: YF.download() has changed argument auto_adjust default to True\n",
            "  stock_data = yf.download(symbol, start=start_date, end=end_date, progress=False)\n",
            "/tmp/ipython-input-77153801.py:34: FutureWarning: YF.download() has changed argument auto_adjust default to True\n",
            "  stock_data = yf.download(symbol, start=start_date, end=end_date, progress=False)\n"
          ]
        },
        {
          "output_type": "stream",
          "name": "stdout",
          "text": [
            "📈 Processing ISRG (53/80)\n",
            "📈 Processing VRTX (54/80)\n"
          ]
        },
        {
          "output_type": "stream",
          "name": "stderr",
          "text": [
            "/tmp/ipython-input-77153801.py:34: FutureWarning: YF.download() has changed argument auto_adjust default to True\n",
            "  stock_data = yf.download(symbol, start=start_date, end=end_date, progress=False)\n",
            "/tmp/ipython-input-77153801.py:34: FutureWarning: YF.download() has changed argument auto_adjust default to True\n",
            "  stock_data = yf.download(symbol, start=start_date, end=end_date, progress=False)\n"
          ]
        },
        {
          "output_type": "stream",
          "name": "stdout",
          "text": [
            "📈 Processing REGN (55/80)\n",
            "📈 Processing BIIB (56/80)\n"
          ]
        },
        {
          "output_type": "stream",
          "name": "stderr",
          "text": [
            "/tmp/ipython-input-77153801.py:34: FutureWarning: YF.download() has changed argument auto_adjust default to True\n",
            "  stock_data = yf.download(symbol, start=start_date, end=end_date, progress=False)\n",
            "/tmp/ipython-input-77153801.py:34: FutureWarning: YF.download() has changed argument auto_adjust default to True\n",
            "  stock_data = yf.download(symbol, start=start_date, end=end_date, progress=False)\n"
          ]
        },
        {
          "output_type": "stream",
          "name": "stdout",
          "text": [
            "📈 Processing CVS (57/80)\n"
          ]
        },
        {
          "output_type": "stream",
          "name": "stderr",
          "text": [
            "/tmp/ipython-input-77153801.py:34: FutureWarning: YF.download() has changed argument auto_adjust default to True\n",
            "  stock_data = yf.download(symbol, start=start_date, end=end_date, progress=False)\n"
          ]
        },
        {
          "output_type": "stream",
          "name": "stdout",
          "text": [
            "📈 Processing CI (58/80)\n"
          ]
        },
        {
          "output_type": "stream",
          "name": "stderr",
          "text": [
            "/tmp/ipython-input-77153801.py:34: FutureWarning: YF.download() has changed argument auto_adjust default to True\n",
            "  stock_data = yf.download(symbol, start=start_date, end=end_date, progress=False)\n"
          ]
        },
        {
          "output_type": "stream",
          "name": "stdout",
          "text": [
            "📈 Processing HUM (59/80)\n"
          ]
        },
        {
          "output_type": "stream",
          "name": "stderr",
          "text": [
            "/tmp/ipython-input-77153801.py:34: FutureWarning: YF.download() has changed argument auto_adjust default to True\n",
            "  stock_data = yf.download(symbol, start=start_date, end=end_date, progress=False)\n"
          ]
        },
        {
          "output_type": "stream",
          "name": "stdout",
          "text": [
            "📈 Processing MDT (60/80)\n"
          ]
        },
        {
          "output_type": "stream",
          "name": "stderr",
          "text": [
            "/tmp/ipython-input-77153801.py:34: FutureWarning: YF.download() has changed argument auto_adjust default to True\n",
            "  stock_data = yf.download(symbol, start=start_date, end=end_date, progress=False)\n"
          ]
        },
        {
          "output_type": "stream",
          "name": "stdout",
          "text": [
            "📈 Processing WMT (61/80)\n"
          ]
        },
        {
          "output_type": "stream",
          "name": "stderr",
          "text": [
            "/tmp/ipython-input-77153801.py:34: FutureWarning: YF.download() has changed argument auto_adjust default to True\n",
            "  stock_data = yf.download(symbol, start=start_date, end=end_date, progress=False)\n"
          ]
        },
        {
          "output_type": "stream",
          "name": "stdout",
          "text": [
            "📈 Processing HD (62/80)\n"
          ]
        },
        {
          "output_type": "stream",
          "name": "stderr",
          "text": [
            "/tmp/ipython-input-77153801.py:34: FutureWarning: YF.download() has changed argument auto_adjust default to True\n",
            "  stock_data = yf.download(symbol, start=start_date, end=end_date, progress=False)\n"
          ]
        },
        {
          "output_type": "stream",
          "name": "stdout",
          "text": [
            "📈 Processing PG (63/80)\n"
          ]
        },
        {
          "output_type": "stream",
          "name": "stderr",
          "text": [
            "/tmp/ipython-input-77153801.py:34: FutureWarning: YF.download() has changed argument auto_adjust default to True\n",
            "  stock_data = yf.download(symbol, start=start_date, end=end_date, progress=False)\n"
          ]
        },
        {
          "output_type": "stream",
          "name": "stdout",
          "text": [
            "📈 Processing KO (64/80)\n"
          ]
        },
        {
          "output_type": "stream",
          "name": "stderr",
          "text": [
            "/tmp/ipython-input-77153801.py:34: FutureWarning: YF.download() has changed argument auto_adjust default to True\n",
            "  stock_data = yf.download(symbol, start=start_date, end=end_date, progress=False)\n"
          ]
        },
        {
          "output_type": "stream",
          "name": "stdout",
          "text": [
            "📈 Processing PEP (65/80)\n"
          ]
        },
        {
          "output_type": "stream",
          "name": "stderr",
          "text": [
            "/tmp/ipython-input-77153801.py:34: FutureWarning: YF.download() has changed argument auto_adjust default to True\n",
            "  stock_data = yf.download(symbol, start=start_date, end=end_date, progress=False)\n"
          ]
        },
        {
          "output_type": "stream",
          "name": "stdout",
          "text": [
            "📈 Processing MCD (66/80)\n"
          ]
        },
        {
          "output_type": "stream",
          "name": "stderr",
          "text": [
            "/tmp/ipython-input-77153801.py:34: FutureWarning: YF.download() has changed argument auto_adjust default to True\n",
            "  stock_data = yf.download(symbol, start=start_date, end=end_date, progress=False)\n"
          ]
        },
        {
          "output_type": "stream",
          "name": "stdout",
          "text": [
            "📈 Processing NKE (67/80)\n"
          ]
        },
        {
          "output_type": "stream",
          "name": "stderr",
          "text": [
            "/tmp/ipython-input-77153801.py:34: FutureWarning: YF.download() has changed argument auto_adjust default to True\n",
            "  stock_data = yf.download(symbol, start=start_date, end=end_date, progress=False)\n"
          ]
        },
        {
          "output_type": "stream",
          "name": "stdout",
          "text": [
            "📈 Processing SBUX (68/80)\n"
          ]
        },
        {
          "output_type": "stream",
          "name": "stderr",
          "text": [
            "/tmp/ipython-input-77153801.py:34: FutureWarning: YF.download() has changed argument auto_adjust default to True\n",
            "  stock_data = yf.download(symbol, start=start_date, end=end_date, progress=False)\n"
          ]
        },
        {
          "output_type": "stream",
          "name": "stdout",
          "text": [
            "📈 Processing TGT (69/80)\n"
          ]
        },
        {
          "output_type": "stream",
          "name": "stderr",
          "text": [
            "/tmp/ipython-input-77153801.py:34: FutureWarning: YF.download() has changed argument auto_adjust default to True\n",
            "  stock_data = yf.download(symbol, start=start_date, end=end_date, progress=False)\n"
          ]
        },
        {
          "output_type": "stream",
          "name": "stdout",
          "text": [
            "📈 Processing LOW (70/80)\n"
          ]
        },
        {
          "output_type": "stream",
          "name": "stderr",
          "text": [
            "/tmp/ipython-input-77153801.py:34: FutureWarning: YF.download() has changed argument auto_adjust default to True\n",
            "  stock_data = yf.download(symbol, start=start_date, end=end_date, progress=False)\n"
          ]
        },
        {
          "output_type": "stream",
          "name": "stdout",
          "text": [
            "📈 Processing COST (71/80)\n"
          ]
        },
        {
          "output_type": "stream",
          "name": "stderr",
          "text": [
            "/tmp/ipython-input-77153801.py:34: FutureWarning: YF.download() has changed argument auto_adjust default to True\n",
            "  stock_data = yf.download(symbol, start=start_date, end=end_date, progress=False)\n"
          ]
        },
        {
          "output_type": "stream",
          "name": "stdout",
          "text": [
            "📈 Processing DIS (72/80)\n"
          ]
        },
        {
          "output_type": "stream",
          "name": "stderr",
          "text": [
            "/tmp/ipython-input-77153801.py:34: FutureWarning: YF.download() has changed argument auto_adjust default to True\n",
            "  stock_data = yf.download(symbol, start=start_date, end=end_date, progress=False)\n"
          ]
        },
        {
          "output_type": "stream",
          "name": "stdout",
          "text": [
            "📈 Processing CMCSA (73/80)\n"
          ]
        },
        {
          "output_type": "stream",
          "name": "stderr",
          "text": [
            "/tmp/ipython-input-77153801.py:34: FutureWarning: YF.download() has changed argument auto_adjust default to True\n",
            "  stock_data = yf.download(symbol, start=start_date, end=end_date, progress=False)\n"
          ]
        },
        {
          "output_type": "stream",
          "name": "stdout",
          "text": [
            "📈 Processing VZ (74/80)\n"
          ]
        },
        {
          "output_type": "stream",
          "name": "stderr",
          "text": [
            "/tmp/ipython-input-77153801.py:34: FutureWarning: YF.download() has changed argument auto_adjust default to True\n",
            "  stock_data = yf.download(symbol, start=start_date, end=end_date, progress=False)\n"
          ]
        },
        {
          "output_type": "stream",
          "name": "stdout",
          "text": [
            "📈 Processing T (75/80)\n"
          ]
        },
        {
          "output_type": "stream",
          "name": "stderr",
          "text": [
            "/tmp/ipython-input-77153801.py:34: FutureWarning: YF.download() has changed argument auto_adjust default to True\n",
            "  stock_data = yf.download(symbol, start=start_date, end=end_date, progress=False)\n"
          ]
        },
        {
          "output_type": "stream",
          "name": "stdout",
          "text": [
            "📈 Processing F (76/80)\n"
          ]
        },
        {
          "output_type": "stream",
          "name": "stderr",
          "text": [
            "/tmp/ipython-input-77153801.py:34: FutureWarning: YF.download() has changed argument auto_adjust default to True\n",
            "  stock_data = yf.download(symbol, start=start_date, end=end_date, progress=False)\n"
          ]
        },
        {
          "output_type": "stream",
          "name": "stdout",
          "text": [
            "📈 Processing GM (77/80)\n",
            "📈 Processing CL (78/80)\n"
          ]
        },
        {
          "output_type": "stream",
          "name": "stderr",
          "text": [
            "/tmp/ipython-input-77153801.py:34: FutureWarning: YF.download() has changed argument auto_adjust default to True\n",
            "  stock_data = yf.download(symbol, start=start_date, end=end_date, progress=False)\n",
            "/tmp/ipython-input-77153801.py:34: FutureWarning: YF.download() has changed argument auto_adjust default to True\n",
            "  stock_data = yf.download(symbol, start=start_date, end=end_date, progress=False)\n"
          ]
        },
        {
          "output_type": "stream",
          "name": "stdout",
          "text": [
            "📈 Processing KMB (79/80)\n"
          ]
        },
        {
          "output_type": "stream",
          "name": "stderr",
          "text": [
            "/tmp/ipython-input-77153801.py:34: FutureWarning: YF.download() has changed argument auto_adjust default to True\n",
            "  stock_data = yf.download(symbol, start=start_date, end=end_date, progress=False)\n"
          ]
        },
        {
          "output_type": "stream",
          "name": "stdout",
          "text": [
            "📈 Processing GIS (80/80)\n"
          ]
        },
        {
          "output_type": "stream",
          "name": "stderr",
          "text": [
            "/tmp/ipython-input-77153801.py:34: FutureWarning: YF.download() has changed argument auto_adjust default to True\n",
            "  stock_data = yf.download(symbol, start=start_date, end=end_date, progress=False)\n"
          ]
        },
        {
          "output_type": "stream",
          "name": "stdout",
          "text": [
            "\n",
            "✅ ALIGNED BIG DATASET CREATED SUCCESSFULLY:\n",
            "📊 Total records: 237,110\n",
            "🏢 Total unique stocks: 80\n",
            "📅 Date range: 2009-01-02 to 2020-12-30\n",
            "\n",
            "💾 File 'big_stock_data_aligned.csv' has been saved. It should now contain all the records.\n"
          ]
        }
      ]
    },
    {
      "cell_type": "code",
      "source": [
        "import pandas as pd\n",
        "import csv # Import the CSV library for robust file reading\n",
        "\n",
        "# This is the same list of stocks from Step 1\n",
        "major_stocks = [\n",
        "    'AAPL', 'MSFT', 'GOOGL', 'AMZN', 'META', 'TSLA', 'NVDA', 'NFLX', 'ADBE', 'CRM',\n",
        "    'INTC', 'AMD', 'ORCL', 'IBM', 'CSCO', 'QCOM', 'TXN', 'AVGO', 'MU', 'PYPL',\n",
        "    'JPM', 'BAC', 'WFC', 'C', 'GS', 'MS', 'AXP', 'V', 'MA', 'BLK',\n",
        "    'SCHW', 'USB', 'PNC', 'TFC', 'COF', 'BK', 'STT', 'FITB', 'RF', 'SPGI',\n",
        "    'JNJ', 'UNH', 'PFE', 'ABT', 'TMO', 'DHR', 'BMY', 'ABBV', 'LLY', 'MRK',\n",
        "    'AMGN', 'GILD', 'ISRG', 'VRTX', 'REGN', 'BIIB', 'CVS', 'CI', 'HUM', 'MDT',\n",
        "    'WMT', 'HD', 'PG', 'KO', 'PEP', 'MCD', 'NKE', 'SBUX', 'TGT', 'LOW',\n",
        "    'COST', 'DIS', 'CMCSA', 'VZ', 'T', 'F', 'GM', 'CL', 'KMB', 'GIS'\n",
        "]\n",
        "\n",
        "print(\"--- Starting Step 2 (Definitive Fix): Processing News Data ---\")\n",
        "\n",
        "# Use the exact file path you provided\n",
        "file_path = '/content/analyst_ratings_processed.csv'\n",
        "data_list = []\n",
        "\n",
        "try:\n",
        "    # 1. Robustly read the CSV file line-by-line to bypass pandas parsing errors\n",
        "    print(f\"📰 Robustly loading '{file_path}' to handle formatting errors...\")\n",
        "    with open(file_path, 'r', encoding='utf-8', errors='ignore') as file:\n",
        "        # The csv.reader will correctly handle fields that contain commas\n",
        "        reader = csv.reader(file)\n",
        "        # Skip the header row\n",
        "        header = next(reader)\n",
        "\n",
        "        for row in reader:\n",
        "            # Ensure the row has the expected number of columns before processing\n",
        "            if len(row) == 4:\n",
        "                # The columns are: old_index, title, date, stock\n",
        "                data_list.append({\n",
        "                    'headline': row[1],\n",
        "                    'date': row[2],\n",
        "                    'Symbol': row[3]\n",
        "                })\n",
        "\n",
        "    # 2. Create a Pandas DataFrame from the cleaned list of dictionaries\n",
        "    news_df = pd.DataFrame(data_list)\n",
        "    print(f\"✅ Successfully loaded and parsed {len(news_df):,} articles.\")\n",
        "\n",
        "    # 3. Process the 'date' column\n",
        "    news_df['date'] = pd.to_datetime(news_df['date'], errors='coerce', utc=True)\n",
        "    news_df.dropna(subset=['date'], inplace=True) # Remove rows where date conversion failed\n",
        "\n",
        "    # Extract just the date part for merging with our daily stock data\n",
        "    news_df['Date'] = news_df['date'].dt.date\n",
        "    news_df['Date'] = pd.to_datetime(news_df['Date'])\n",
        "\n",
        "    # 4. Filter the news data to keep only articles for our stocks\n",
        "    print(f\"🔍 Filtering news to match the {len(major_stocks)} stocks...\")\n",
        "    filtered_news = news_df[news_df['Symbol'].isin(major_stocks)]\n",
        "    print(f\"📊 Found {len(filtered_news):,} relevant articles.\")\n",
        "\n",
        "    # 5. Finalize the dataset, keeping only essential columns\n",
        "    final_news_df = filtered_news[['Date', 'Symbol', 'headline']]\n",
        "\n",
        "    # 6. Save the cleaned and filtered data to a new file\n",
        "    final_news_df.to_csv('filtered_news_data.csv', index=False)\n",
        "    print(\"\\n✅ NEWS DATA PREPARATION COMPLETE:\")\n",
        "    print(\"💾 A new file 'filtered_news_data.csv' has been created.\")\n",
        "    print(\"\\nFinal News Data Head:\")\n",
        "    print(final_news_df.head())\n",
        "\n",
        "except FileNotFoundError:\n",
        "    print(f\"\\n⚠️ ERROR: '{file_path}' not found.\")\n",
        "    print(\"Please make sure the file is uploaded and the path is correct.\")\n",
        "except Exception as e:\n",
        "    print(f\"\\nAn unexpected error occurred: {e}\")"
      ],
      "metadata": {
        "colab": {
          "base_uri": "https://localhost:8080/"
        },
        "id": "7M96hJ06xzSk",
        "outputId": "52248de0-4c82-4171-f238-fbd25bc897bf"
      },
      "execution_count": 3,
      "outputs": [
        {
          "output_type": "stream",
          "name": "stdout",
          "text": [
            "--- Starting Step 2 (Definitive Fix): Processing News Data ---\n",
            "📰 Robustly loading '/content/analyst_ratings_processed.csv' to handle formatting errors...\n",
            "✅ Successfully loaded and parsed 1,397,891 articles.\n",
            "🔍 Filtering news to match the 80 stocks...\n",
            "📊 Found 101,090 relevant articles.\n",
            "\n",
            "✅ NEWS DATA PREPARATION COMPLETE:\n",
            "💾 A new file 'filtered_news_data.csv' has been created.\n",
            "\n",
            "Final News Data Head:\n",
            "           Date Symbol                                           headline\n",
            "3664 2020-06-10   AAPL  Tech Stocks And FAANGS Strong Again To Start D...\n",
            "3665 2020-06-10   AAPL      10 Biggest Price Target Changes For Wednesday\n",
            "3666 2020-06-10   AAPL  Benzinga Pro's Top 5 Stocks To Watch For Wed.,...\n",
            "3667 2020-06-10   AAPL  Deutsche Bank Maintains Buy on Apple, Raises P...\n",
            "3668 2020-06-10   AAPL  Apple To Let Users Trade In Their Mac Computer...\n"
          ]
        }
      ]
    },
    {
      "cell_type": "code",
      "source": [
        "import pandas as pd\n",
        "import yfinance as yf\n",
        "from datetime import datetime\n",
        "\n",
        "print(\"--- Starting Final Data Preparation (with Transformation) ---\")\n",
        "\n",
        "try:\n",
        "    # --- Part A: Download all stock data in its native format ---\n",
        "    major_stocks = [\n",
        "        'AAPL', 'MSFT', 'GOOGL', 'AMZN', 'META', 'TSLA', 'NVDA', 'NFLX', 'ADBE', 'CRM',\n",
        "        'INTC', 'AMD', 'ORCL', 'IBM', 'CSCO', 'QCOM', 'TXN', 'AVGO', 'MU', 'PYPL',\n",
        "        'JPM', 'BAC', 'WFC', 'C', 'GS', 'MS', 'AXP', 'V', 'MA', 'BLK',\n",
        "        'SCHW', 'USB', 'PNC', 'TFC', 'COF', 'BK', 'STT', 'FITB', 'RF', 'SPGI',\n",
        "        'JNJ', 'UNH', 'PFE', 'ABT', 'TMO', 'DHR', 'BMY', 'ABBV', 'LLY', 'MRK',\n",
        "        'AMGN', 'GILD', 'ISRG', 'VRTX', 'REGN', 'BIIB', 'CVS', 'CI', 'HUM', 'MDT',\n",
        "        'WMT', 'HD', 'PG', 'KO', 'PEP', 'MCD', 'NKE', 'SBUX', 'TGT', 'LOW',\n",
        "        'COST', 'DIS', 'CMCSA', 'VZ', 'T', 'F', 'GM', 'CL', 'KMB', 'GIS'\n",
        "    ]\n",
        "    start_date = \"2009-01-01\"\n",
        "    end_date = \"2020-12-31\"\n",
        "\n",
        "    print(f\"🔄 Part A: Downloading data for {len(major_stocks)} stocks...\")\n",
        "    # yfinance naturally creates a multi-level column structure when downloading multiple stocks\n",
        "    stock_df_wide = yf.download(major_stocks, start=start_date, end=end_date)\n",
        "    print(\"✅ Download complete.\")\n",
        "\n",
        "    # --- Part B: Transform the data from \"wide\" to \"long\" format ---\n",
        "    print(\"🔧 Part B: Transforming data structure...\")\n",
        "    # The .stack() method pivots the stock symbols from the columns into the rows,\n",
        "    # creating a long-format DataFrame. This is the key to solving the merge error.\n",
        "    stock_df_long = stock_df_wide.stack()\n",
        "    stock_df_long.index.names = ['Date', 'Symbol'] # Name the new index levels\n",
        "    stock_df_long.reset_index(inplace=True) # Convert the index levels into columns\n",
        "    print(\"✅ Transformation complete.\")\n",
        "\n",
        "    # --- Part C: Calculate Technical Indicators on the clean, long-format data ---\n",
        "    print(\"📈 Part C: Calculating technical indicators...\")\n",
        "    # We must sort by Symbol and Date to ensure the rolling calculations are correct\n",
        "    stock_df_long.sort_values(by=['Symbol', 'Date'], inplace=True)\n",
        "\n",
        "    # Calculate indicators per stock group\n",
        "    stock_df_long['Daily_Return'] = stock_df_long.groupby('Symbol')['Close'].pct_change()\n",
        "    stock_df_long['Volatility'] = stock_df_long.groupby('Symbol')['Daily_Return'].rolling(window=20).std().reset_index(0,drop=True)\n",
        "    stock_df_long['SMA_20'] = stock_df_long.groupby('Symbol')['Close'].rolling(window=20).mean().reset_index(0,drop=True)\n",
        "    stock_df_long['SMA_50'] = stock_df_long.groupby('Symbol')['Close'].rolling(window=50).mean().reset_index(0,drop=True)\n",
        "    stock_df_long['Volume_MA'] = stock_df_long.groupby('Symbol')['Volume'].rolling(window=20).mean().reset_index(0,drop=True)\n",
        "    print(\"✅ Indicator calculation complete.\")\n",
        "\n",
        "    # --- Part D: Load and Merge News Data ---\n",
        "    print(\"📂 Part D: Loading and merging news data...\")\n",
        "    news_df = pd.read_csv('filtered_news_data.csv')\n",
        "    news_df['Date'] = pd.to_datetime(news_df['Date'])\n",
        "\n",
        "    # Group news headlines\n",
        "    news_grouped = news_df.groupby(['Date', 'Symbol'])['headline'].apply('. '.join).reset_index()\n",
        "\n",
        "    # Merge the clean, long-format stock data with the news data\n",
        "    combined_df = pd.merge(stock_df_long, news_grouped, on=['Date', 'Symbol'], how='left')\n",
        "    combined_df['headline'].fillna(\"\", inplace=True)\n",
        "    print(\"✅ Merging complete.\")\n",
        "\n",
        "    # --- Part E: Final Cleaning and Saving ---\n",
        "    print(\"🧹 Part E: Final cleaning...\")\n",
        "    rows_before = len(combined_df)\n",
        "    combined_df.dropna(inplace=True)\n",
        "    rows_after = len(combined_df)\n",
        "    print(f\"🗑️ Removed {rows_before - rows_after:,} initial rows with incomplete data.\")\n",
        "\n",
        "    # Save the master dataset\n",
        "    combined_df.to_csv('final_master_dataset.csv', index=False)\n",
        "\n",
        "    print(\"\\n\\n✅✅✅ ALL DATA PREPARATION COMPLETE! ✅✅✅\")\n",
        "    print(\"💾 A new MASTER file 'final_master_dataset.csv' has been created.\")\n",
        "    print(f\"📊 The final dataset contains {len(combined_df):,} clean and merged records.\")\n",
        "\n",
        "    print(\"\\nFinal Master Dataset Head:\")\n",
        "    print(combined_df.head())\n",
        "\n",
        "except FileNotFoundError:\n",
        "    print(\"\\n⚠️ ERROR: 'filtered_news_data.csv' not found. Please re-run the news preparation step.\")\n",
        "except Exception as e:\n",
        "    print(f\"\\nAn unexpected error occurred: {e}\")"
      ],
      "metadata": {
        "colab": {
          "base_uri": "https://localhost:8080/"
        },
        "id": "rG4Upet12B94",
        "outputId": "e1614554-83ea-44b8-b1b3-611d7de89a79"
      },
      "execution_count": 4,
      "outputs": [
        {
          "output_type": "stream",
          "name": "stderr",
          "text": [
            "/tmp/ipython-input-593658102.py:24: FutureWarning: YF.download() has changed argument auto_adjust default to True\n",
            "  stock_df_wide = yf.download(major_stocks, start=start_date, end=end_date)\n",
            "\r[                       0%                       ]"
          ]
        },
        {
          "output_type": "stream",
          "name": "stdout",
          "text": [
            "--- Starting Final Data Preparation (with Transformation) ---\n",
            "🔄 Part A: Downloading data for 80 stocks...\n"
          ]
        },
        {
          "output_type": "stream",
          "name": "stderr",
          "text": [
            "[*********************100%***********************]  80 of 80 completed\n",
            "/tmp/ipython-input-593658102.py:31: FutureWarning: The previous implementation of stack is deprecated and will be removed in a future version of pandas. See the What's New notes for pandas 2.1.0 for details. Specify future_stack=True to adopt the new implementation and silence this warning.\n",
            "  stock_df_long = stock_df_wide.stack()\n"
          ]
        },
        {
          "output_type": "stream",
          "name": "stdout",
          "text": [
            "✅ Download complete.\n",
            "🔧 Part B: Transforming data structure...\n",
            "✅ Transformation complete.\n",
            "📈 Part C: Calculating technical indicators...\n",
            "✅ Indicator calculation complete.\n",
            "📂 Part D: Loading and merging news data...\n"
          ]
        },
        {
          "output_type": "stream",
          "name": "stderr",
          "text": [
            "/tmp/ipython-input-593658102.py:59: FutureWarning: A value is trying to be set on a copy of a DataFrame or Series through chained assignment using an inplace method.\n",
            "The behavior will change in pandas 3.0. This inplace method will never work because the intermediate object on which we are setting values always behaves as a copy.\n",
            "\n",
            "For example, when doing 'df[col].method(value, inplace=True)', try using 'df.method({col: value}, inplace=True)' or df[col] = df[col].method(value) instead, to perform the operation inplace on the original object.\n",
            "\n",
            "\n",
            "  combined_df['headline'].fillna(\"\", inplace=True)\n"
          ]
        },
        {
          "output_type": "stream",
          "name": "stdout",
          "text": [
            "✅ Merging complete.\n",
            "🧹 Part E: Final cleaning...\n",
            "🗑️ Removed 3,920 initial rows with incomplete data.\n",
            "\n",
            "\n",
            "✅✅✅ ALL DATA PREPARATION COMPLETE! ✅✅✅\n",
            "💾 A new MASTER file 'final_master_dataset.csv' has been created.\n",
            "📊 The final dataset contains 233,190 clean and merged records.\n",
            "\n",
            "Final Master Dataset Head:\n",
            "         Date Symbol     Close      High       Low      Open       Volume  \\\n",
            "49 2009-03-16   AAPL  2.864519  2.923659  2.827294  2.897842  797244000.0   \n",
            "50 2009-03-17   AAPL  2.991805  2.992705  2.854012  2.859116  786646000.0   \n",
            "51 2009-03-18   AAPL  3.047642  3.106482  2.993607  2.999310  796037200.0   \n",
            "52 2009-03-19   AAPL  3.050644  3.098076  3.009516  3.057549  500180800.0   \n",
            "53 2009-03-20   AAPL  3.049743  3.095374  3.019123  3.064753  695587200.0   \n",
            "\n",
            "    Daily_Return  Volatility    SMA_20    SMA_50    Volume_MA headline  \n",
            "49     -0.005316    0.032609  2.718832  2.735823  765516220.0           \n",
            "50      0.044435    0.032315  2.726532  2.741173  770936600.0           \n",
            "51      0.018664    0.032475  2.737264  2.745340  776499500.0           \n",
            "52      0.000985    0.030829  2.753745  2.750503  755368320.0           \n",
            "53     -0.000295    0.030863  2.769341  2.756855  752631880.0           \n"
          ]
        }
      ]
    },
    {
      "cell_type": "code",
      "source": [
        "# Install the necessary library for sentiment analysis\n",
        "!pip install vaderSentiment\n",
        "\n",
        "import pandas as pd\n",
        "from vaderSentiment.vaderSentiment import SentimentIntensityAnalyzer\n",
        "# tqdm is a great library for showing progress bars on long operations\n",
        "from tqdm.auto import tqdm\n",
        "\n",
        "print(\"--- Starting Step 4: Sentiment Analysis ---\")\n",
        "\n",
        "try:\n",
        "    # 1. Load the master dataset we just created\n",
        "    df = pd.read_csv('final_master_dataset.csv')\n",
        "    print(f\"📂 Successfully loaded 'final_master_dataset.csv' with {len(df):,} records.\")\n",
        "\n",
        "    # Initialize the VADER sentiment analyzer\n",
        "    analyzer = SentimentIntensityAnalyzer()\n",
        "\n",
        "    # 2. Define a function to calculate the sentiment score for a piece of text\n",
        "    def get_sentiment(text):\n",
        "        # The analyzer returns a dictionary of scores; we want the 'compound' score\n",
        "        return analyzer.polarity_scores(str(text))['compound']\n",
        "\n",
        "    # 3. Apply this function to every headline in our dataset\n",
        "    print(\"🧠 Analyzing sentiment of all news headlines... (This may take a few minutes)\")\n",
        "\n",
        "    # Initialize tqdm so we can use the progress_apply method for a progress bar\n",
        "    tqdm.pandas(desc=\"Calculating Sentiment\")\n",
        "    df['sentiment'] = df['headline'].progress_apply(get_sentiment)\n",
        "\n",
        "    # 4. Save our final, feature-enriched dataset\n",
        "    df.to_csv('final_dataset_with_sentiment.csv', index=False)\n",
        "\n",
        "    print(\"\\n✅ SENTIMENT ANALYSIS COMPLETE:\")\n",
        "    print(\"💾 A new file 'final_dataset_with_sentiment.csv' has been created.\")\n",
        "    print(\"🌟 A new 'sentiment' column has been added.\")\n",
        "\n",
        "    print(\"\\nFinal Dataset with Sentiment Head:\")\n",
        "    # Show the key columns, including our new feature\n",
        "    print(df[['Date', 'Symbol', 'Close', 'headline', 'sentiment']].head())\n",
        "\n",
        "    print(\"\\nExample of a positive sentiment score:\")\n",
        "    # Find and show a row with a strongly positive headline\n",
        "    print(df[df['sentiment'] > 0.8].head(1)[['headline', 'sentiment']])\n",
        "\n",
        "except FileNotFoundError:\n",
        "    print(\"\\n⚠️ ERROR: 'final_master_dataset.csv' not found. Please ensure the previous step completed successfully.\")\n",
        "except Exception as e:\n",
        "    print(f\"\\nAn unexpected error occurred: {e}\")"
      ],
      "metadata": {
        "colab": {
          "base_uri": "https://localhost:8080/",
          "height": 483,
          "referenced_widgets": [
            "29aa4e1b5e0e4d2189376f732f7132d2",
            "bb918c985b1b47558dacffe7c0e3eefb",
            "a09bcc800bc046f5ae25efc06fa08f70",
            "c51d9dda21e440489a54414e3f14aa81",
            "02523c3d6c9745acad459c6fa584f8d8",
            "fc7b7e04e6964a94afd1c521717f4557",
            "efe6a9a04d284d39ac8466afa194993e",
            "062961b3798947cc9bc0f38c46644071",
            "8d38681c859d48358ed6d96668754b15",
            "d9ff5dd352ab4af89e1170dac5ca9392",
            "623dbb858d464eb1b5606b4b4cb95146"
          ]
        },
        "id": "gWJxKSbZ8UwJ",
        "outputId": "15d11209-b4a9-41a8-c3bb-52333a86c058"
      },
      "execution_count": 5,
      "outputs": [
        {
          "output_type": "stream",
          "name": "stdout",
          "text": [
            "Requirement already satisfied: vaderSentiment in /usr/local/lib/python3.11/dist-packages (3.3.2)\n",
            "Requirement already satisfied: requests in /usr/local/lib/python3.11/dist-packages (from vaderSentiment) (2.32.3)\n",
            "Requirement already satisfied: charset-normalizer<4,>=2 in /usr/local/lib/python3.11/dist-packages (from requests->vaderSentiment) (3.4.3)\n",
            "Requirement already satisfied: idna<4,>=2.5 in /usr/local/lib/python3.11/dist-packages (from requests->vaderSentiment) (3.10)\n",
            "Requirement already satisfied: urllib3<3,>=1.21.1 in /usr/local/lib/python3.11/dist-packages (from requests->vaderSentiment) (2.5.0)\n",
            "Requirement already satisfied: certifi>=2017.4.17 in /usr/local/lib/python3.11/dist-packages (from requests->vaderSentiment) (2025.8.3)\n",
            "--- Starting Step 4: Sentiment Analysis ---\n",
            "📂 Successfully loaded 'final_master_dataset.csv' with 233,190 records.\n",
            "🧠 Analyzing sentiment of all news headlines... (This may take a few minutes)\n"
          ]
        },
        {
          "output_type": "display_data",
          "data": {
            "text/plain": [
              "Calculating Sentiment:   0%|          | 0/233190 [00:00<?, ?it/s]"
            ],
            "application/vnd.jupyter.widget-view+json": {
              "version_major": 2,
              "version_minor": 0,
              "model_id": "29aa4e1b5e0e4d2189376f732f7132d2"
            }
          },
          "metadata": {}
        },
        {
          "output_type": "stream",
          "name": "stdout",
          "text": [
            "\n",
            "✅ SENTIMENT ANALYSIS COMPLETE:\n",
            "💾 A new file 'final_dataset_with_sentiment.csv' has been created.\n",
            "🌟 A new 'sentiment' column has been added.\n",
            "\n",
            "Final Dataset with Sentiment Head:\n",
            "         Date Symbol     Close headline  sentiment\n",
            "0  2009-03-16   AAPL  2.864519      NaN        0.0\n",
            "1  2009-03-17   AAPL  2.991805      NaN        0.0\n",
            "2  2009-03-18   AAPL  3.047642      NaN        0.0\n",
            "3  2009-03-19   AAPL  3.050644      NaN        0.0\n",
            "4  2009-03-20   AAPL  3.049743      NaN        0.0\n",
            "\n",
            "Example of a positive sentiment score:\n",
            "                                               headline  sentiment\n",
            "2773  Shares of several technology companies are tra...     0.8689\n"
          ]
        }
      ]
    },
    {
      "cell_type": "code",
      "source": [
        "import pandas as pd\n",
        "import numpy as np\n",
        "from sklearn.preprocessing import MinMaxScaler\n",
        "import pickle\n",
        "\n",
        "print(\"--- Starting Step 5: Preparing Data for the Model ---\")\n",
        "\n",
        "try:\n",
        "    # 1. Load the feature-enriched dataset\n",
        "    df = pd.read_csv('final_dataset_with_sentiment.csv')\n",
        "    df['Date'] = pd.to_datetime(df['Date'])\n",
        "    print(f\"📂 Successfully loaded 'final_dataset_with_sentiment.csv' with {len(df):,} records.\")\n",
        "\n",
        "    # 2. Define the features we will use for training the model\n",
        "    # We select all the numerical features we have engineered.\n",
        "    features = [\n",
        "        'Open', 'High', 'Low', 'Close', 'Volume', 'Daily_Return',\n",
        "        'Volatility', 'SMA_20', 'SMA_50', 'Volume_MA', 'sentiment'\n",
        "    ]\n",
        "\n",
        "    # Isolate the target variable we want to predict, which is the 'Close' price\n",
        "    target = 'Close'\n",
        "\n",
        "    # 3. Data Partitioning (Time-based Split)\n",
        "    # We will use data before 2020 for training and data from 2020 for testing.\n",
        "    split_date = pd.to_datetime('2020-01-01')\n",
        "    train_df = df[df['Date'] < split_date].copy()\n",
        "    test_df = df[df['Date'] >= split_date].copy()\n",
        "    print(f\" partitioning complete: {len(train_df):,} training records, {len(test_df):,} testing records.\")\n",
        "\n",
        "    # 4. Feature Scaling\n",
        "    # We create a scaler for our features and another for our target variable.\n",
        "    # It's important to fit the scaler ONLY on the training data to avoid data leakage.\n",
        "    feature_scaler = MinMaxScaler()\n",
        "    target_scaler = MinMaxScaler()\n",
        "\n",
        "    # Fit and transform the training data\n",
        "    train_df[features] = feature_scaler.fit_transform(train_df[features])\n",
        "    train_df[target] = target_scaler.fit_transform(train_df[[target]])\n",
        "\n",
        "    # Only transform the test data using the scaler fitted on the training data\n",
        "    test_df[features] = feature_scaler.transform(test_df[features])\n",
        "    test_df[target] = target_scaler.transform(test_df[[target]])\n",
        "    print(\" feature scaling complete.\")\n",
        "\n",
        "    # 5. Create Sequences\n",
        "    # This function will take our flat data and turn it into sequences.\n",
        "    def create_sequences(data, features, target, sequence_length=30):\n",
        "        X, y = [], []\n",
        "        # We group by stock Symbol to ensure sequences are not created across different stocks.\n",
        "        for symbol, group in data.groupby('Symbol'):\n",
        "            feature_data = group[features].values\n",
        "            target_data = group[target].values\n",
        "            for i in range(len(group) - sequence_length):\n",
        "                X.append(feature_data[i:(i + sequence_length)])\n",
        "                y.append(target_data[i + sequence_length])\n",
        "        return np.array(X), np.array(y)\n",
        "\n",
        "    # Define the length of our sequences (e.g., use the past 30 days of data)\n",
        "    SEQUENCE_LENGTH = 30\n",
        "\n",
        "    print(f\"Creating training and testing sequences with a length of {SEQUENCE_LENGTH} days...\")\n",
        "    X_train, y_train = create_sequences(train_df, features, target, SEQUENCE_LENGTH)\n",
        "    X_test, y_test = create_sequences(test_df, features, target, SEQUENCE_LENGTH)\n",
        "    print(\"✅ Sequences created successfully.\")\n",
        "    print(f\"Training data shape: X={X_train.shape}, y={y_train.shape}\")\n",
        "    print(f\"Testing data shape: X={X_test.shape}, y={y_test.shape}\")\n",
        "\n",
        "    # 6. Save the prepared data and the scalers\n",
        "    # We save the scalers so we can inverse the transformation later to see the real stock prices.\n",
        "    np.save('X_train.npy', X_train)\n",
        "    np.save('y_train.npy', y_train)\n",
        "    np.save('X_test.npy', X_test)\n",
        "    np.save('y_test.npy', y_test)\n",
        "\n",
        "    with open('target_scaler.pkl', 'wb') as f:\n",
        "        pickle.dump(target_scaler, f)\n",
        "\n",
        "    print(\"\\n✅ MODEL DATA PREPARATION COMPLETE:\")\n",
        "    print(\"💾 Final, model-ready datasets and the target scaler have been saved.\")\n",
        "\n",
        "except FileNotFoundError:\n",
        "    print(\"\\n⚠️ ERROR: 'final_dataset_with_sentiment.csv' not found. Please re-run Step 4.\")\n",
        "except Exception as e:\n",
        "    print(f\"\\nAn unexpected error occurred: {e}\")"
      ],
      "metadata": {
        "colab": {
          "base_uri": "https://localhost:8080/"
        },
        "id": "fQXi5YoH-LVN",
        "outputId": "3beae7c2-a3d4-4698-d8fe-ba0e23153fdf"
      },
      "execution_count": 6,
      "outputs": [
        {
          "output_type": "stream",
          "name": "stdout",
          "text": [
            "--- Starting Step 5: Preparing Data for the Model ---\n",
            "📂 Successfully loaded 'final_dataset_with_sentiment.csv' with 233,190 records.\n",
            " partitioning complete: 213,030 training records, 20,160 testing records.\n",
            " feature scaling complete.\n",
            "Creating training and testing sequences with a length of 30 days...\n",
            "✅ Sequences created successfully.\n",
            "Training data shape: X=(210630, 30, 11), y=(210630,)\n",
            "Testing data shape: X=(17760, 30, 11), y=(17760,)\n",
            "\n",
            "✅ MODEL DATA PREPARATION COMPLETE:\n",
            "💾 Final, model-ready datasets and the target scaler have been saved.\n"
          ]
        }
      ]
    },
    {
      "cell_type": "code",
      "source": [
        "# Install PySpark\n",
        "!pip install pyspark\n",
        "\n",
        "import pandas as pd\n",
        "from pyspark.sql import SparkSession\n",
        "from pyspark.sql.functions import year\n",
        "\n",
        "print(\"--- Starting The Final, Guaranteed Partitioning Step ---\")\n",
        "\n",
        "try:\n",
        "    # --- Part 1: Load the data reliably using Pandas ---\n",
        "    print(\"📂 Part 1: Loading the manageable 5-year subset using Pandas...\")\n",
        "    # This DtypeWarning is normal and can be ignored.\n",
        "    subset_df = pd.read_csv('final_subset_2016_2020.csv')\n",
        "    subset_df['Date'] = pd.to_datetime(subset_df['Date'])\n",
        "    print(f\"✅ Pandas DataFrame created successfully with {len(subset_df):,} records.\")\n",
        "\n",
        "    # --- Part 2: A Robust PySpark Job ---\n",
        "\n",
        "    print(\"\\n--- Starting Robust PySpark Operation ---\")\n",
        "    # 1. Initialize a Spark Session\n",
        "    spark = SparkSession.builder \\\n",
        "        .appName(\"StockAnalysis_Final_Guaranteed\") \\\n",
        "        .config(\"spark.driver.memory\", \"4g\") \\\n",
        "        .getOrCreate()\n",
        "    print(\"✅ Spark Session Initialized.\")\n",
        "\n",
        "    # 2. THE FIX: Create the Spark DataFrame directly from the clean Pandas DataFrame\n",
        "    # This bypasses all CSV parsing errors.\n",
        "    print(\"🔧 Creating Spark DataFrame from the clean Pandas DataFrame...\")\n",
        "    df_spark = spark.createDataFrame(subset_df)\n",
        "    print(f\"✅ Spark DataFrame created successfully with {df_spark.count():,} records.\")\n",
        "\n",
        "    # 3. Prepare for Partitioning\n",
        "    df_spark = df_spark.withColumn(\"Year\", year(df_spark[\"Date\"]))\n",
        "\n",
        "    # 4. Write the data to the partitioned Parquet format\n",
        "    print(\"💾 Writing data to partitioned Parquet format...\")\n",
        "    df_spark.write.partitionBy(\"Symbol\", \"Year\").mode(\"overwrite\").parquet(\"stock_data_partitioned.parquet\")\n",
        "\n",
        "    print(\"\\n✅✅✅ PYSPARK PARTITIONING COMPLETE! ✅✅✅\")\n",
        "    print(\"Data is now saved in an optimized, partitioned Parquet format.\")\n",
        "\n",
        "    # Let's verify by showing the new, correct schema\n",
        "    print(\"\\nSchema of the newly partitioned data:\")\n",
        "    final_partitioned_df = spark.read.parquet(\"stock_data_partitioned.parquet\")\n",
        "    final_partitioned_df.printSchema()\n",
        "\n",
        "    print(\"\\nExample Data:\")\n",
        "    final_partitioned_df.show(5)\n",
        "\n",
        "except FileNotFoundError:\n",
        "    print(\"\\n⚠️ ERROR: 'final_subset_2016_2020.csv' not found. Please ensure the previous steps completed successfully.\")\n",
        "except Exception as e:\n",
        "    print(f\"\\nAn unexpected error occurred: {e}\")"
      ],
      "metadata": {
        "colab": {
          "base_uri": "https://localhost:8080/"
        },
        "id": "Sk3ndVQVKnSW",
        "outputId": "955bf502-bed4-43ae-87a6-82b0e912f0ff"
      },
      "execution_count": 14,
      "outputs": [
        {
          "output_type": "stream",
          "name": "stdout",
          "text": [
            "Requirement already satisfied: pyspark in /usr/local/lib/python3.11/dist-packages (3.5.1)\n",
            "Requirement already satisfied: py4j==0.10.9.7 in /usr/local/lib/python3.11/dist-packages (from pyspark) (0.10.9.7)\n",
            "--- Starting The Final, Guaranteed Partitioning Step ---\n",
            "📂 Part 1: Loading the manageable 5-year subset using Pandas...\n",
            "✅ Pandas DataFrame created successfully with 100,640 records.\n",
            "\n",
            "--- Starting Robust PySpark Operation ---\n",
            "✅ Spark Session Initialized.\n",
            "🔧 Creating Spark DataFrame from the clean Pandas DataFrame...\n",
            "✅ Spark DataFrame created successfully with 100,640 records.\n",
            "💾 Writing data to partitioned Parquet format...\n",
            "\n",
            "✅✅✅ PYSPARK PARTITIONING COMPLETE! ✅✅✅\n",
            "Data is now saved in an optimized, partitioned Parquet format.\n",
            "\n",
            "Schema of the newly partitioned data:\n",
            "root\n",
            " |-- Date: timestamp (nullable = true)\n",
            " |-- Close: double (nullable = true)\n",
            " |-- High: double (nullable = true)\n",
            " |-- Low: double (nullable = true)\n",
            " |-- Open: double (nullable = true)\n",
            " |-- Volume: double (nullable = true)\n",
            " |-- Daily_Return: double (nullable = true)\n",
            " |-- Volatility: double (nullable = true)\n",
            " |-- SMA_20: double (nullable = true)\n",
            " |-- SMA_50: double (nullable = true)\n",
            " |-- Volume_MA: double (nullable = true)\n",
            " |-- headline: string (nullable = true)\n",
            " |-- sentiment: double (nullable = true)\n",
            " |-- Symbol: string (nullable = true)\n",
            " |-- Year: integer (nullable = true)\n",
            "\n",
            "\n",
            "Example Data:\n",
            "+-------------------+------------------+------------------+------------------+------------------+----------+------------------+------------------+------------------+------------------+------------+--------------------+---------+------+----+\n",
            "|               Date|             Close|              High|               Low|              Open|    Volume|      Daily_Return|        Volatility|            SMA_20|            SMA_50|   Volume_MA|            headline|sentiment|Symbol|Year|\n",
            "+-------------------+------------------+------------------+------------------+------------------+----------+------------------+------------------+------------------+------------------+------------+--------------------+---------+------+----+\n",
            "|2020-01-02 00:00:00| 28.68400001525879| 28.71333312988281| 28.11400032043457|28.299999237060547|1.429815E8|0.0285181750157113|0.0214636006409734| 25.63593339920044| 23.38637344360352|1.52972925E8|Tesla shares are ...|   0.9413|  TSLA|2020|\n",
            "|2020-01-03 00:00:00| 29.53400039672852| 30.26666641235352| 29.12800025939941| 29.36666679382324|2.666775E8|0.0296332582979208|0.0211256097151928|26.002533435821533|23.636280097961425| 1.6215705E8|Tesla Shorts Are ...|   0.9035|  TSLA|2020|\n",
            "|2020-01-06 00:00:00|  30.1026668548584| 30.10400009155273| 29.33333206176757| 29.36466789245605| 1.51995E8|0.0192546370451349|0.0204618114970581| 26.40643339157105|23.898760108947755| 1.6696335E8|'Tesla Model 3 to...|  -0.0387|  TSLA|2020|\n",
            "|2020-01-07 00:00:00|31.270666122436523|31.441999435424805|30.224000930786133| 30.76000022888184|2.682315E8|0.0388005246581539|0.0210919875055257|26.850333309173585|24.124600105285644|1.74665625E8|3 Tesla Pros On T...|   0.2023|  TSLA|2020|\n",
            "|2020-01-08 00:00:00| 32.80933380126953|   33.232666015625| 31.21533393859864| 31.57999992370605|4.671645E8|0.0492048257881216|0.0222125843225972|27.359033393859864| 24.34328010559082|1.91256525E8|Tesla, Musk Appro...|   0.9606|  TSLA|2020|\n",
            "+-------------------+------------------+------------------+------------------+------------------+----------+------------------+------------------+------------------+------------------+------------+--------------------+---------+------+----+\n",
            "only showing top 5 rows\n",
            "\n"
          ]
        }
      ]
    },
    {
      "cell_type": "code",
      "source": [
        "import pandas as pd\n",
        "from pyspark.sql import SparkSession\n",
        "from pyspark.sql.functions import avg, stddev, corr\n",
        "import matplotlib.pyplot as plt\n",
        "import seaborn as sns\n",
        "\n",
        "print(\"--- Starting Step 7: Exploratory Data Analysis with PySpark ---\")\n",
        "\n",
        "try:\n",
        "    # 1. Initialize a Spark Session if not already running\n",
        "    spark = SparkSession.builder \\\n",
        "        .appName(\"Stock_EDA_BigData\") \\\n",
        "        .getOrCreate()\n",
        "\n",
        "    print(\"✅ Spark Session Initialized.\")\n",
        "\n",
        "    # 2. Load the partitioned Parquet data\n",
        "    # This will be very fast because Spark reads the organized directory structure.\n",
        "    df = spark.read.parquet(\"stock_data_partitioned.parquet\")\n",
        "    print(f\"📂 Successfully loaded the partitioned data with {df.count():,} records.\")\n",
        "\n",
        "    # --- EDA Task 1: Average Sentiment Score per Stock ---\n",
        "    print(\"\\n--- EDA 1: Calculating Average Sentiment per Stock ---\")\n",
        "    # We group by 'Symbol' and calculate the average of the 'sentiment' column.\n",
        "    avg_sentiment = df.groupBy(\"Symbol\").agg(avg(\"sentiment\").alias(\"avg_sentiment\"))\n",
        "\n",
        "    # Convert the small result back to a Pandas DataFrame for easy plotting\n",
        "    avg_sentiment_pd = avg_sentiment.toPandas().sort_values(\"avg_sentiment\", ascending=False)\n",
        "\n",
        "    # Plot the top 10 stocks with the most positive average sentiment\n",
        "    plt.figure(figsize=(12, 6))\n",
        "    sns.barplot(x=\"avg_sentiment\", y=\"Symbol\", data=avg_sentiment_pd.head(10), palette=\"viridis\")\n",
        "    plt.title(\"Top 10 Stocks by Average Positive News Sentiment (2016-2020)\")\n",
        "    plt.xlabel(\"Average Sentiment Score\")\n",
        "    plt.ylabel(\"Stock Symbol\")\n",
        "    plt.savefig(\"average_sentiment_per_stock.png\")\n",
        "    plt.show()\n",
        "\n",
        "    # --- EDA Task 2: Stock Price Volatility ---\n",
        "    print(\"\\n--- EDA 2: Calculating Stock Volatility ---\")\n",
        "    # Volatility is the standard deviation of the daily price change (Daily_Return).\n",
        "    volatility = df.groupBy(\"Symbol\").agg(stddev(\"Daily_Return\").alias(\"volatility\"))\n",
        "\n",
        "    volatility_pd = volatility.toPandas().sort_values(\"volatility\", ascending=False)\n",
        "\n",
        "    # Plot the top 10 most volatile stocks\n",
        "    plt.figure(figsize=(12, 6))\n",
        "    sns.barplot(x=\"volatility\", y=\"Symbol\", data=volatility_pd.head(10), palette=\"plasma\")\n",
        "    plt.title(\"Top 10 Most Volatile Stocks (2016-2020)\")\n",
        "    plt.xlabel(\"Volatility (Standard Deviation of Daily Return)\")\n",
        "    plt.ylabel(\"Stock Symbol\")\n",
        "    plt.savefig(\"most_volatile_stocks.png\")\n",
        "    plt.show()\n",
        "\n",
        "    # --- EDA Task 3: Correlation between Sentiment and Daily Return ---\n",
        "    print(\"\\n--- EDA 3: Calculating Correlation between Sentiment and Returns ---\")\n",
        "    # We filter out days with 0.0 sentiment, as these represent 'no news' and would dilute the correlation.\n",
        "    correlation_df = df.filter(df[\"sentiment\"] != 0.0)\n",
        "\n",
        "    # Calculate the Pearson correlation for each stock\n",
        "    sentiment_correlation = correlation_df.groupBy(\"Symbol\").agg(corr(\"sentiment\", \"Daily_Return\").alias(\"correlation\"))\n",
        "\n",
        "    correlation_pd = sentiment_correlation.toPandas().sort_values(\"correlation\", ascending=False)\n",
        "\n",
        "    print(\"Correlation Results (a positive value suggests sentiment and returns tend to move in the same direction):\")\n",
        "    # Display the stocks with the highest and lowest correlations\n",
        "    print(\"\\nTop 5 Highest Correlation:\")\n",
        "    print(correlation_pd.head(5))\n",
        "    print(\"\\nTop 5 Lowest (or most negative) Correlation:\")\n",
        "    print(correlation_pd.tail(5))\n",
        "\n",
        "    print(\"\\n✅ EXPLORATORY DATA ANALYSIS COMPLETE.\")\n",
        "    print(\"📈 You can find the saved plots 'average_sentiment_per_stock.png' and 'most_volatile_stocks.png' in your files.\")\n",
        "\n",
        "except FileNotFoundError:\n",
        "    print(\"\\n⚠️ ERROR: 'stock_data_partitioned.parquet' not found. Please ensure the previous step completed successfully.\")\n",
        "except Exception as e:\n",
        "    print(f\"\\nAn unexpected error occurred: {e}\")"
      ],
      "metadata": {
        "colab": {
          "base_uri": "https://localhost:8080/",
          "height": 1000
        },
        "id": "Zhy8RgUzTXfD",
        "outputId": "f35a700c-7144-407d-f6d1-410ecb14119b"
      },
      "execution_count": 15,
      "outputs": [
        {
          "output_type": "stream",
          "name": "stdout",
          "text": [
            "--- Starting Step 7: Exploratory Data Analysis with PySpark ---\n",
            "✅ Spark Session Initialized.\n",
            "📂 Successfully loaded the partitioned data with 100,640 records.\n",
            "\n",
            "--- EDA 1: Calculating Average Sentiment per Stock ---\n"
          ]
        },
        {
          "output_type": "stream",
          "name": "stderr",
          "text": [
            "/tmp/ipython-input-3288629482.py:32: FutureWarning: \n",
            "\n",
            "Passing `palette` without assigning `hue` is deprecated and will be removed in v0.14.0. Assign the `y` variable to `hue` and set `legend=False` for the same effect.\n",
            "\n",
            "  sns.barplot(x=\"avg_sentiment\", y=\"Symbol\", data=avg_sentiment_pd.head(10), palette=\"viridis\")\n"
          ]
        },
        {
          "output_type": "display_data",
          "data": {
            "text/plain": [
              "<Figure size 1200x600 with 1 Axes>"
            ],
            "image/png": "[encoded data removed]"
          },
          "metadata": {}
        },
        {
          "output_type": "stream",
          "name": "stdout",
          "text": [
            "\n",
            "--- EDA 2: Calculating Stock Volatility ---\n"
          ]
        },
        {
          "output_type": "stream",
          "name": "stderr",
          "text": [
            "/tmp/ipython-input-3288629482.py:48: FutureWarning: \n",
            "\n",
            "Passing `palette` without assigning `hue` is deprecated and will be removed in v0.14.0. Assign the `y` variable to `hue` and set `legend=False` for the same effect.\n",
            "\n",
            "  sns.barplot(x=\"volatility\", y=\"Symbol\", data=volatility_pd.head(10), palette=\"plasma\")\n"
          ]
        },
        {
          "output_type": "display_data",
          "data": {
            "text/plain": [
              "<Figure size 1200x600 with 1 Axes>"
            ],
            "image/png": "[encoded data removed]"
          },
          "metadata": {}
        },
        {
          "output_type": "stream",
          "name": "stdout",
          "text": [
            "\n",
            "--- EDA 3: Calculating Correlation between Sentiment and Returns ---\n",
            "Correlation Results (a positive value suggests sentiment and returns tend to move in the same direction):\n",
            "\n",
            "Top 5 Highest Correlation:\n",
            "   Symbol  correlation\n",
            "62    DIS     1.000000\n",
            "68   SCHW     0.654015\n",
            "64   INTC     0.595438\n",
            "47   AMGN     0.498373\n",
            "38    AMD     0.452905\n",
            "\n",
            "Top 5 Lowest (or most negative) Correlation:\n",
            "   Symbol  correlation\n",
            "37     HD     0.062916\n",
            "65      V     0.028840\n",
            "67    WMT    -0.137951\n",
            "66     GM    -0.240439\n",
            "63      T    -0.972182\n",
            "\n",
            "✅ EXPLORATORY DATA ANALYSIS COMPLETE.\n",
            "📈 You can find the saved plots 'average_sentiment_per_stock.png' and 'most_volatile_stocks.png' in your files.\n"
          ]
        }
      ]
    },
    {
      "cell_type": "code",
      "source": [
        "import pandas as pd\n",
        "import numpy as np\n",
        "from sklearn.preprocessing import MinMaxScaler\n",
        "import pickle\n",
        "from pyspark.sql import SparkSession\n",
        "\n",
        "print(\"--- Starting Step 8: Final Data Preparation for the Model ---\")\n",
        "\n",
        "try:\n",
        "    # 1. Load the partitioned data using PySpark and convert to Pandas\n",
        "    # This ensures we are using our final, clean, partitioned dataset.\n",
        "    spark = SparkSession.builder.appName(\"ModelPrep\").getOrCreate()\n",
        "    print(\"📂 Loading partitioned data from Parquet files...\")\n",
        "    df_spark = spark.read.parquet(\"stock_data_partitioned.parquet\")\n",
        "    df = df_spark.toPandas()\n",
        "    df['Date'] = pd.to_datetime(df['Date'])\n",
        "    print(f\"✅ Successfully loaded and converted data with {len(df):,} records.\")\n",
        "\n",
        "    # 2. Define the features for the model and the target to predict\n",
        "    features = [\n",
        "        'Open', 'High', 'Low', 'Close', 'Volume', 'Daily_Return',\n",
        "        'Volatility', 'SMA_20', 'SMA_50', 'Volume_MA', 'sentiment'\n",
        "    ]\n",
        "    target = 'Close'\n",
        "\n",
        "    # 3. Partition the data into training and testing sets (Time-based split)\n",
        "    split_date = pd.to_datetime('2020-01-01')\n",
        "    train_df = df[df['Date'] < split_date].copy()\n",
        "    test_df = df[df['Date'] >= split_date].copy()\n",
        "    print(f\" partitioning complete: {len(train_df):,} training records, {len(test_df):,} testing records.\")\n",
        "\n",
        "    # 4. Scale the features\n",
        "    # We fit the scaler ONLY on the training data to prevent information from the test set leaking into our training process.\n",
        "    feature_scaler = MinMaxScaler()\n",
        "    target_scaler = MinMaxScaler()\n",
        "\n",
        "    # Fit and transform the training data\n",
        "    train_df.loc[:, features] = feature_scaler.fit_transform(train_df[features])\n",
        "    train_df.loc[:, target] = target_scaler.fit_transform(train_df[[target]])\n",
        "\n",
        "    # Only transform the testing data using the already-fitted scalers\n",
        "    test_df.loc[:, features] = feature_scaler.transform(test_df[features])\n",
        "    test_df.loc[:, target] = target_scaler.transform(test_df[[target]])\n",
        "    print(\" feature scaling complete.\")\n",
        "\n",
        "    # 5. Create the time-series sequences\n",
        "    def create_sequences(data, features, target, sequence_length=30):\n",
        "        X, y = [], []\n",
        "        # We group by Symbol to make sure our sequences only contain data from a single stock.\n",
        "        for symbol, group in data.groupby('Symbol'):\n",
        "            feature_data = group[features].values\n",
        "            target_data = group[target].values\n",
        "            for i in range(len(group) - sequence_length):\n",
        "                X.append(feature_data[i:(i + sequence_length)])\n",
        "                y.append(target_data[i + sequence_length])\n",
        "        return np.array(X), np.array(y)\n",
        "\n",
        "    SEQUENCE_LENGTH = 30 # We will use the last 30 days of data to make a prediction.\n",
        "\n",
        "    print(f\"Creating sequences with a length of {SEQUENCE_LENGTH} days...\")\n",
        "    X_train, y_train = create_sequences(train_df, features, target, SEQUENCE_LENGTH)\n",
        "    X_test, y_test = create_sequences(test_df, features, target, SEQUENCE_LENGTH)\n",
        "    print(\"✅ Sequences created successfully.\")\n",
        "    print(f\"Training data shape: X={X_train.shape}, y={y_train.shape}\")\n",
        "    print(f\"Testing data shape: X={X_test.shape}, y={y_test.shape}\")\n",
        "\n",
        "    # 6. Save the final, model-ready data and the target scaler\n",
        "    # The scaler is saved so we can reverse the scaling on our predictions to see the actual dollar values.\n",
        "    np.save('X_train.npy', X_train)\n",
        "    np.save('y_train.npy', y_train)\n",
        "    np.save('X_test.npy', X_test)\n",
        "    np.save('y_test.npy', y_test)\n",
        "\n",
        "    with open('target_scaler.pkl', 'wb') as f:\n",
        "        pickle.dump(target_scaler, f)\n",
        "\n",
        "    print(\"\\n✅ MODEL DATA PREPARATION COMPLETE:\")\n",
        "    print(\"💾 Final, model-ready datasets and the target scaler have been saved.\")\n",
        "    print(\"🚀 We are now ready to build and train our deep learning model!\")\n",
        "\n",
        "except Exception as e:\n",
        "    print(f\"\\nAn unexpected error occurred: {e}\")"
      ],
      "metadata": {
        "colab": {
          "base_uri": "https://localhost:8080/"
        },
        "id": "y3SMVGL7Tzko",
        "outputId": "6d1d684c-c0f8-4b4f-c1b1-e39bfceefcee"
      },
      "execution_count": 16,
      "outputs": [
        {
          "output_type": "stream",
          "name": "stdout",
          "text": [
            "--- Starting Step 8: Final Data Preparation for the Model ---\n",
            "📂 Loading partitioned data from Parquet files...\n",
            "✅ Successfully loaded and converted data with 100,640 records.\n",
            " partitioning complete: 80,480 training records, 20,160 testing records.\n",
            " feature scaling complete.\n",
            "Creating sequences with a length of 30 days...\n",
            "✅ Sequences created successfully.\n",
            "Training data shape: X=(78080, 30, 11), y=(78080,)\n",
            "Testing data shape: X=(17760, 30, 11), y=(17760,)\n",
            "\n",
            "✅ MODEL DATA PREPARATION COMPLETE:\n",
            "💾 Final, model-ready datasets and the target scaler have been saved.\n",
            "🚀 We are now ready to build and train our deep learning model!\n"
          ]
        }
      ]
    },
    {
      "cell_type": "code",
      "source": [
        "# import numpy as np\n",
        "# import tensorflow as tf\n",
        "# from tensorflow.keras.models import Sequential\n",
        "# # --- EDIT: We need to import the 'Bidirectional' layer ---\n",
        "# from tensorflow.keras.layers import Input, Conv1D, MaxPooling1D, LSTM, Dense, Dropout, Bidirectional\n",
        "# import matplotlib.pyplot as plt\n",
        "\n",
        "# print(\"--- Starting Step 9 (Improved): Building and Training an Enhanced Model ---\")\n",
        "\n",
        "# try:\n",
        "#     # 1. Load the model-ready datasets\n",
        "#     print(\"📂 Loading prepared training and testing data...\")\n",
        "#     X_train = np.load('X_train.npy')\n",
        "#     y_train = np.load('y_train.npy')\n",
        "#     X_test = np.load('X_test.npy')\n",
        "#     y_test = np.load('y_test.npy')\n",
        "#     print(\"✅ Data loaded successfully.\")\n",
        "\n",
        "#     # 2. Define the Enhanced Hybrid CNN-LSTM Model Architecture\n",
        "#     model = Sequential()\n",
        "#     input_shape = (X_train.shape[1], X_train.shape[2])\n",
        "\n",
        "#     model.add(Input(shape=input_shape))\n",
        "\n",
        "#     # --- EDIT: Increased filters in the CNN layer from 64 to 128 ---\n",
        "#     model.add(Conv1D(filters=128, kernel_size=3, activation='relu'))\n",
        "#     model.add(MaxPooling1D(pool_size=2))\n",
        "\n",
        "#     # --- EDIT: Replaced LSTM with a more powerful Bidirectional LSTM ---\n",
        "#     # A Bidirectional LSTM processes the data forwards and backwards.\n",
        "#     # `return_sequences=True` is now required to pass the output to the next LSTM layer.\n",
        "#     model.add(Bidirectional(LSTM(units=100, return_sequences=True)))\n",
        "\n",
        "#     # --- EDIT: Added a second LSTM layer to create a deeper model ---\n",
        "#     # This layer learns higher-level temporal patterns.\n",
        "#     model.add(LSTM(units=50, return_sequences=False))\n",
        "\n",
        "#     # --- EDIT: Increased dropout rate from 0.2 to 0.3 for stronger regularization ---\n",
        "#     model.add(Dropout(0.3))\n",
        "\n",
        "#     # A standard Dense layer for processing the information from the LSTMs.\n",
        "#     model.add(Dense(units=50, activation='relu'))\n",
        "#     # The final output layer remains the same.\n",
        "#     model.add(Dense(units=1))\n",
        "\n",
        "#     # 3. Compile the Model\n",
        "#     model.compile(optimizer='adam', loss='mean_squared_error')\n",
        "\n",
        "#     print(\"\\n✅ Enhanced Model Architecture Defined and Compiled Successfully.\")\n",
        "#     model.summary()\n",
        "\n",
        "#     # 4. Train the Model\n",
        "#     # --- EDIT: Increased epochs from 20 to 50 for more thorough training ---\n",
        "#     print(\"\\n🧠 Training the enhanced model...\")\n",
        "#     history = model.fit(\n",
        "#         X_train, y_train,\n",
        "#         epochs=50,          # Increased training time\n",
        "#         batch_size=64,\n",
        "#         validation_data=(X_test, y_test),\n",
        "#         verbose=1\n",
        "#     )\n",
        "\n",
        "#     # 5. Save the Trained Model\n",
        "#     model.save('stock_prediction_cnn_lstm_model_ENHANCED.h5')\n",
        "#     print(\"\\n✅ MODEL TRAINING COMPLETE!\")\n",
        "#     print(\"💾 The enhanced model has been saved as 'stock_prediction_cnn_lstm_model_ENHANCED.h5'.\")\n",
        "\n",
        "#     # 6. Plot Training History\n",
        "#     plt.figure(figsize=(10, 5))\n",
        "#     plt.plot(history.history['loss'], label='Training Loss')\n",
        "#     plt.plot(history.history['val_loss'], label='Validation Loss')\n",
        "#     plt.title('Enhanced Model Training and Validation Loss')\n",
        "#     plt.xlabel('Epoch')\n",
        "#     plt.ylabel('Loss (Mean Squared Error)')\n",
        "#     plt.legend()\n",
        "#     plt.savefig('enhanced_model_loss_history.png')\n",
        "#     plt.show()\n",
        "\n",
        "# except Exception as e:\n",
        "#     print(f\"\\nAn unexpected error occurred: {e}\")"
      ],
      "metadata": {
        "colab": {
          "base_uri": "https://localhost:8080/",
          "height": 1000
        },
        "collapsed": true,
        "id": "QFx-bzhxUT0E",
        "outputId": "6937085e-5923-4d44-f40a-3229f2601037"
      },
      "execution_count": 20,
      "outputs": [
        {
          "output_type": "stream",
          "name": "stdout",
          "text": [
            "--- Starting Step 9 (Improved): Building and Training an Enhanced Model ---\n",
            "📂 Loading prepared training and testing data...\n",
            "✅ Data loaded successfully.\n",
            "\n",
            "✅ Enhanced Model Architecture Defined and Compiled Successfully.\n"
          ]
        },
        {
          "output_type": "display_data",
          "data": {
            "text/plain": [
              "\u001b[1mModel: \"sequential_1\"\u001b[0m\n"
            ],
            "text/html": [
              "<pre style=\"white-space:pre;overflow-x:auto;line-height:normal;font-family:Menlo,'DejaVu Sans Mono',consolas,'Courier New',monospace\"><span style=\"font-weight: bold\">Model: \"sequential_1\"</span>\n",
              "</pre>\n"
            ]
          },
          "metadata": {}
        },
        {
          "output_type": "display_data",
          "data": {
            "text/plain": [
              "┏━━━━━━━━━━━━━━━━━━━━━━━━━━━━━━━━━┳━━━━━━━━━━━━━━━━━━━━━━━━┳━━━━━━━━━━━━━━━┓\n",
              "┃\u001b[1m \u001b[0m\u001b[1mLayer (type)                   \u001b[0m\u001b[1m \u001b[0m┃\u001b[1m \u001b[0m\u001b[1mOutput Shape          \u001b[0m\u001b[1m \u001b[0m┃\u001b[1m \u001b[0m\u001b[1m      Param #\u001b[0m\u001b[1m \u001b[0m┃\n",
              "┡━━━━━━━━━━━━━━━━━━━━━━━━━━━━━━━━━╇━━━━━━━━━━━━━━━━━━━━━━━━╇━━━━━━━━━━━━━━━┩\n",
              "│ conv1d_1 (\u001b[38;5;33mConv1D\u001b[0m)               │ (\u001b[38;5;45mNone\u001b[0m, \u001b[38;5;34m28\u001b[0m, \u001b[38;5;34m128\u001b[0m)        │         \u001b[38;5;34m4,352\u001b[0m │\n",
              "├─────────────────────────────────┼────────────────────────┼───────────────┤\n",
              "│ max_pooling1d_1 (\u001b[38;5;33mMaxPooling1D\u001b[0m)  │ (\u001b[38;5;45mNone\u001b[0m, \u001b[38;5;34m14\u001b[0m, \u001b[38;5;34m128\u001b[0m)        │             \u001b[38;5;34m0\u001b[0m │\n",
              "├─────────────────────────────────┼────────────────────────┼───────────────┤\n",
              "│ bidirectional (\u001b[38;5;33mBidirectional\u001b[0m)   │ (\u001b[38;5;45mNone\u001b[0m, \u001b[38;5;34m14\u001b[0m, \u001b[38;5;34m200\u001b[0m)        │       \u001b[38;5;34m183,200\u001b[0m │\n",
              "├─────────────────────────────────┼────────────────────────┼───────────────┤\n",
              "│ lstm_2 (\u001b[38;5;33mLSTM\u001b[0m)                   │ (\u001b[38;5;45mNone\u001b[0m, \u001b[38;5;34m50\u001b[0m)             │        \u001b[38;5;34m50,200\u001b[0m │\n",
              "├─────────────────────────────────┼────────────────────────┼───────────────┤\n",
              "│ dropout_1 (\u001b[38;5;33mDropout\u001b[0m)             │ (\u001b[38;5;45mNone\u001b[0m, \u001b[38;5;34m50\u001b[0m)             │             \u001b[38;5;34m0\u001b[0m │\n",
              "├─────────────────────────────────┼────────────────────────┼───────────────┤\n",
              "│ dense_2 (\u001b[38;5;33mDense\u001b[0m)                 │ (\u001b[38;5;45mNone\u001b[0m, \u001b[38;5;34m50\u001b[0m)             │         \u001b[38;5;34m2,550\u001b[0m │\n",
              "├─────────────────────────────────┼────────────────────────┼───────────────┤\n",
              "│ dense_3 (\u001b[38;5;33mDense\u001b[0m)                 │ (\u001b[38;5;45mNone\u001b[0m, \u001b[38;5;34m1\u001b[0m)              │            \u001b[38;5;34m51\u001b[0m │\n",
              "└─────────────────────────────────┴────────────────────────┴───────────────┘\n"
            ],
            "text/html": [
              "<pre style=\"white-space:pre;overflow-x:auto;line-height:normal;font-family:Menlo,'DejaVu Sans Mono',consolas,'Courier New',monospace\">┏━━━━━━━━━━━━━━━━━━━━━━━━━━━━━━━━━┳━━━━━━━━━━━━━━━━━━━━━━━━┳━━━━━━━━━━━━━━━┓\n",
              "┃<span style=\"font-weight: bold\"> Layer (type)                    </span>┃<span style=\"font-weight: bold\"> Output Shape           </span>┃<span style=\"font-weight: bold\">       Param # </span>┃\n",
              "┡━━━━━━━━━━━━━━━━━━━━━━━━━━━━━━━━━╇━━━━━━━━━━━━━━━━━━━━━━━━╇━━━━━━━━━━━━━━━┩\n",
              "│ conv1d_1 (<span style=\"color: #0087ff; text-decoration-color: #0087ff\">Conv1D</span>)               │ (<span style=\"color: #00d7ff; text-decoration-color: #00d7ff\">None</span>, <span style=\"color: #00af00; text-decoration-color: #00af00\">28</span>, <span style=\"color: #00af00; text-decoration-color: #00af00\">128</span>)        │         <span style=\"color: #00af00; text-decoration-color: #00af00\">4,352</span> │\n",
              "├─────────────────────────────────┼────────────────────────┼───────────────┤\n",
              "│ max_pooling1d_1 (<span style=\"color: #0087ff; text-decoration-color: #0087ff\">MaxPooling1D</span>)  │ (<span style=\"color: #00d7ff; text-decoration-color: #00d7ff\">None</span>, <span style=\"color: #00af00; text-decoration-color: #00af00\">14</span>, <span style=\"color: #00af00; text-decoration-color: #00af00\">128</span>)        │             <span style=\"color: #00af00; text-decoration-color: #00af00\">0</span> │\n",
              "├─────────────────────────────────┼────────────────────────┼───────────────┤\n",
              "│ bidirectional (<span style=\"color: #0087ff; text-decoration-color: #0087ff\">Bidirectional</span>)   │ (<span style=\"color: #00d7ff; text-decoration-color: #00d7ff\">None</span>, <span style=\"color: #00af00; text-decoration-color: #00af00\">14</span>, <span style=\"color: #00af00; text-decoration-color: #00af00\">200</span>)        │       <span style=\"color: #00af00; text-decoration-color: #00af00\">183,200</span> │\n",
              "├─────────────────────────────────┼────────────────────────┼───────────────┤\n",
              "│ lstm_2 (<span style=\"color: #0087ff; text-decoration-color: #0087ff\">LSTM</span>)                   │ (<span style=\"color: #00d7ff; text-decoration-color: #00d7ff\">None</span>, <span style=\"color: #00af00; text-decoration-color: #00af00\">50</span>)             │        <span style=\"color: #00af00; text-decoration-color: #00af00\">50,200</span> │\n",
              "├─────────────────────────────────┼────────────────────────┼───────────────┤\n",
              "│ dropout_1 (<span style=\"color: #0087ff; text-decoration-color: #0087ff\">Dropout</span>)             │ (<span style=\"color: #00d7ff; text-decoration-color: #00d7ff\">None</span>, <span style=\"color: #00af00; text-decoration-color: #00af00\">50</span>)             │             <span style=\"color: #00af00; text-decoration-color: #00af00\">0</span> │\n",
              "├─────────────────────────────────┼────────────────────────┼───────────────┤\n",
              "│ dense_2 (<span style=\"color: #0087ff; text-decoration-color: #0087ff\">Dense</span>)                 │ (<span style=\"color: #00d7ff; text-decoration-color: #00d7ff\">None</span>, <span style=\"color: #00af00; text-decoration-color: #00af00\">50</span>)             │         <span style=\"color: #00af00; text-decoration-color: #00af00\">2,550</span> │\n",
              "├─────────────────────────────────┼────────────────────────┼───────────────┤\n",
              "│ dense_3 (<span style=\"color: #0087ff; text-decoration-color: #0087ff\">Dense</span>)                 │ (<span style=\"color: #00d7ff; text-decoration-color: #00d7ff\">None</span>, <span style=\"color: #00af00; text-decoration-color: #00af00\">1</span>)              │            <span style=\"color: #00af00; text-decoration-color: #00af00\">51</span> │\n",
              "└─────────────────────────────────┴────────────────────────┴───────────────┘\n",
              "</pre>\n"
            ]
          },
          "metadata": {}
        },
        {
          "output_type": "display_data",
          "data": {
            "text/plain": [
              "\u001b[1m Total params: \u001b[0m\u001b[38;5;34m240,353\u001b[0m (938.88 KB)\n"
            ],
            "text/html": [
              "<pre style=\"white-space:pre;overflow-x:auto;line-height:normal;font-family:Menlo,'DejaVu Sans Mono',consolas,'Courier New',monospace\"><span style=\"font-weight: bold\"> Total params: </span><span style=\"color: #00af00; text-decoration-color: #00af00\">240,353</span> (938.88 KB)\n",
              "</pre>\n"
            ]
          },
          "metadata": {}
        },
        {
          "output_type": "display_data",
          "data": {
            "text/plain": [
              "\u001b[1m Trainable params: \u001b[0m\u001b[38;5;34m240,353\u001b[0m (938.88 KB)\n"
            ],
            "text/html": [
              "<pre style=\"white-space:pre;overflow-x:auto;line-height:normal;font-family:Menlo,'DejaVu Sans Mono',consolas,'Courier New',monospace\"><span style=\"font-weight: bold\"> Trainable params: </span><span style=\"color: #00af00; text-decoration-color: #00af00\">240,353</span> (938.88 KB)\n",
              "</pre>\n"
            ]
          },
          "metadata": {}
        },
        {
          "output_type": "display_data",
          "data": {
            "text/plain": [
              "\u001b[1m Non-trainable params: \u001b[0m\u001b[38;5;34m0\u001b[0m (0.00 B)\n"
            ],
            "text/html": [
              "<pre style=\"white-space:pre;overflow-x:auto;line-height:normal;font-family:Menlo,'DejaVu Sans Mono',consolas,'Courier New',monospace\"><span style=\"font-weight: bold\"> Non-trainable params: </span><span style=\"color: #00af00; text-decoration-color: #00af00\">0</span> (0.00 B)\n",
              "</pre>\n"
            ]
          },
          "metadata": {}
        },
        {
          "output_type": "stream",
          "name": "stdout",
          "text": [
            "\n",
            "🧠 Training the enhanced model...\n",
            "Epoch 1/50\n",
            "\u001b[1m1220/1220\u001b[0m \u001b[32m━━━━━━━━━━━━━━━━━━━━\u001b[0m\u001b[37m\u001b[0m \u001b[1m16s\u001b[0m 11ms/step - loss: 0.0010 - val_loss: 0.0022\n",
            "Epoch 2/50\n",
            "\u001b[1m1220/1220\u001b[0m \u001b[32m━━━━━━━━━━━━━━━━━━━━\u001b[0m\u001b[37m\u001b[0m \u001b[1m20s\u001b[0m 10ms/step - loss: 2.7066e-04 - val_loss: 0.0019\n",
            "Epoch 3/50\n",
            "\u001b[1m1220/1220\u001b[0m \u001b[32m━━━━━━━━━━━━━━━━━━━━\u001b[0m\u001b[37m\u001b[0m \u001b[1m12s\u001b[0m 10ms/step - loss: 1.7167e-04 - val_loss: 0.0024\n",
            "Epoch 4/50\n",
            "\u001b[1m1220/1220\u001b[0m \u001b[32m━━━━━━━━━━━━━━━━━━━━\u001b[0m\u001b[37m\u001b[0m \u001b[1m21s\u001b[0m 10ms/step - loss: 1.3395e-04 - val_loss: 0.0028\n",
            "Epoch 5/50\n",
            "\u001b[1m1220/1220\u001b[0m \u001b[32m━━━━━━━━━━━━━━━━━━━━\u001b[0m\u001b[37m\u001b[0m \u001b[1m13s\u001b[0m 10ms/step - loss: 1.2331e-04 - val_loss: 0.0038\n",
            "Epoch 6/50\n",
            "\u001b[1m1220/1220\u001b[0m \u001b[32m━━━━━━━━━━━━━━━━━━━━\u001b[0m\u001b[37m\u001b[0m \u001b[1m21s\u001b[0m 11ms/step - loss: 9.4574e-05 - val_loss: 0.0032\n",
            "Epoch 7/50\n",
            "\u001b[1m1220/1220\u001b[0m \u001b[32m━━━━━━━━━━━━━━━━━━━━\u001b[0m\u001b[37m\u001b[0m \u001b[1m12s\u001b[0m 10ms/step - loss: 9.0141e-05 - val_loss: 0.0024\n",
            "Epoch 8/50\n",
            "\u001b[1m1220/1220\u001b[0m \u001b[32m━━━━━━━━━━━━━━━━━━━━\u001b[0m\u001b[37m\u001b[0m \u001b[1m20s\u001b[0m 9ms/step - loss: 8.7507e-05 - val_loss: 0.0036\n",
            "Epoch 9/50\n",
            "\u001b[1m1220/1220\u001b[0m \u001b[32m━━━━━━━━━━━━━━━━━━━━\u001b[0m\u001b[37m\u001b[0m \u001b[1m21s\u001b[0m 10ms/step - loss: 8.5721e-05 - val_loss: 0.0039\n",
            "Epoch 10/50\n",
            "\u001b[1m1220/1220\u001b[0m \u001b[32m━━━━━━━━━━━━━━━━━━━━\u001b[0m\u001b[37m\u001b[0m \u001b[1m20s\u001b[0m 10ms/step - loss: 7.2275e-05 - val_loss: 0.0040\n",
            "Epoch 11/50\n",
            "\u001b[1m1220/1220\u001b[0m \u001b[32m━━━━━━━━━━━━━━━━━━━━\u001b[0m\u001b[37m\u001b[0m \u001b[1m20s\u001b[0m 9ms/step - loss: 6.3133e-05 - val_loss: 0.0031\n",
            "Epoch 12/50\n",
            "\u001b[1m1220/1220\u001b[0m \u001b[32m━━━━━━━━━━━━━━━━━━━━\u001b[0m\u001b[37m\u001b[0m \u001b[1m13s\u001b[0m 10ms/step - loss: 7.2664e-05 - val_loss: 0.0037\n",
            "Epoch 13/50\n",
            "\u001b[1m1220/1220\u001b[0m \u001b[32m━━━━━━━━━━━━━━━━━━━━\u001b[0m\u001b[37m\u001b[0m \u001b[1m21s\u001b[0m 11ms/step - loss: 7.2708e-05 - val_loss: 0.0043\n",
            "Epoch 14/50\n",
            "\u001b[1m1220/1220\u001b[0m \u001b[32m━━━━━━━━━━━━━━━━━━━━\u001b[0m\u001b[37m\u001b[0m \u001b[1m20s\u001b[0m 10ms/step - loss: 7.1847e-05 - val_loss: 0.0041\n",
            "Epoch 15/50\n",
            "\u001b[1m1220/1220\u001b[0m \u001b[32m━━━━━━━━━━━━━━━━━━━━\u001b[0m\u001b[37m\u001b[0m \u001b[1m21s\u001b[0m 11ms/step - loss: 5.5650e-05 - val_loss: 0.0047\n",
            "Epoch 16/50\n"
          ]
        },
        {
          "output_type": "error",
          "ename": "KeyboardInterrupt",
          "evalue": "",
          "traceback": [
            "\u001b[0;31m---------------------------------------------------------------------------\u001b[0m",
            "\u001b[0;31mKeyboardInterrupt\u001b[0m                         Traceback (most recent call last)",
            "\u001b[0;32m/usr/local/lib/python3.11/dist-packages/tensorflow/python/data/ops/dataset_ops.py\u001b[0m in \u001b[0;36m__iter__\u001b[0;34m(self)\u001b[0m\n\u001b[1;32m    500\u001b[0m       \u001b[0;32mwith\u001b[0m \u001b[0mops\u001b[0m\u001b[0;34m.\u001b[0m\u001b[0mcolocate_with\u001b[0m\u001b[0;34m(\u001b[0m\u001b[0mself\u001b[0m\u001b[0;34m.\u001b[0m\u001b[0m_variant_tensor\u001b[0m\u001b[0;34m)\u001b[0m\u001b[0;34m:\u001b[0m\u001b[0;34m\u001b[0m\u001b[0;34m\u001b[0m\u001b[0m\n\u001b[0;32m--> 501\u001b[0;31m         \u001b[0;32mreturn\u001b[0m \u001b[0miterator_ops\u001b[0m\u001b[0;34m.\u001b[0m\u001b[0mOwnedIterator\u001b[0m\u001b[0;34m(\u001b[0m\u001b[0mself\u001b[0m\u001b[0;34m)\u001b[0m\u001b[0;34m\u001b[0m\u001b[0;34m\u001b[0m\u001b[0m\n\u001b[0m\u001b[1;32m    502\u001b[0m     \u001b[0;32melse\u001b[0m\u001b[0;34m:\u001b[0m\u001b[0;34m\u001b[0m\u001b[0;34m\u001b[0m\u001b[0m\n",
            "\u001b[0;32m/usr/local/lib/python3.11/dist-packages/tensorflow/python/data/ops/iterator_ops.py\u001b[0m in \u001b[0;36m__init__\u001b[0;34m(self, dataset, components, element_spec)\u001b[0m\n\u001b[1;32m    708\u001b[0m             \"not be specified.\")\n\u001b[0;32m--> 709\u001b[0;31m       \u001b[0mself\u001b[0m\u001b[0;34m.\u001b[0m\u001b[0m_create_iterator\u001b[0m\u001b[0;34m(\u001b[0m\u001b[0mdataset\u001b[0m\u001b[0;34m)\u001b[0m\u001b[0;34m\u001b[0m\u001b[0;34m\u001b[0m\u001b[0m\n\u001b[0m\u001b[1;32m    710\u001b[0m \u001b[0;34m\u001b[0m\u001b[0m\n",
            "\u001b[0;32m/usr/local/lib/python3.11/dist-packages/tensorflow/python/data/ops/iterator_ops.py\u001b[0m in \u001b[0;36m_create_iterator\u001b[0;34m(self, dataset)\u001b[0m\n\u001b[1;32m    728\u001b[0m         self._element_spec)\n\u001b[0;32m--> 729\u001b[0;31m     \u001b[0;32mwith\u001b[0m \u001b[0mops\u001b[0m\u001b[0;34m.\u001b[0m\u001b[0mcolocate_with\u001b[0m\u001b[0;34m(\u001b[0m\u001b[0mds_variant\u001b[0m\u001b[0;34m)\u001b[0m\u001b[0;34m:\u001b[0m\u001b[0;34m\u001b[0m\u001b[0;34m\u001b[0m\u001b[0m\n\u001b[0m\u001b[1;32m    730\u001b[0m       self._iterator_resource = (\n",
            "\u001b[0;32m/usr/local/lib/python3.11/dist-packages/tensorflow/python/eager/context.py\u001b[0m in \u001b[0;36m__exit__\u001b[0;34m(self, *ex_info)\u001b[0m\n\u001b[1;32m   2479\u001b[0m     \u001b[0mold_device_name\u001b[0m\u001b[0;34m,\u001b[0m \u001b[0mold_device_spec\u001b[0m\u001b[0;34m,\u001b[0m \u001b[0mnew_device_spec\u001b[0m \u001b[0;34m=\u001b[0m \u001b[0mself\u001b[0m\u001b[0;34m.\u001b[0m\u001b[0m_stack\u001b[0m\u001b[0;34m[\u001b[0m\u001b[0;34m-\u001b[0m\u001b[0;36m1\u001b[0m\u001b[0;34m]\u001b[0m\u001b[0;34m\u001b[0m\u001b[0;34m\u001b[0m\u001b[0m\n\u001b[0;32m-> 2480\u001b[0;31m     \u001b[0;32mif\u001b[0m \u001b[0mctx\u001b[0m\u001b[0;34m.\u001b[0m\u001b[0mdevice_spec\u001b[0m \u001b[0;32mis\u001b[0m \u001b[0;32mnot\u001b[0m \u001b[0mnew_device_spec\u001b[0m\u001b[0;34m:\u001b[0m\u001b[0;34m\u001b[0m\u001b[0;34m\u001b[0m\u001b[0m\n\u001b[0m\u001b[1;32m   2481\u001b[0m       \u001b[0;32mraise\u001b[0m \u001b[0mRuntimeError\u001b[0m\u001b[0;34m(\u001b[0m\u001b[0;34m\"Exiting device scope without proper scope nesting\"\u001b[0m\u001b[0;34m)\u001b[0m\u001b[0;34m\u001b[0m\u001b[0;34m\u001b[0m\u001b[0m\n",
            "\u001b[0;32m/usr/local/lib/python3.11/dist-packages/tensorflow/python/eager/context.py\u001b[0m in \u001b[0;36mdevice_spec\u001b[0;34m(self)\u001b[0m\n\u001b[1;32m   1196\u001b[0m \u001b[0;34m\u001b[0m\u001b[0m\n\u001b[0;32m-> 1197\u001b[0;31m   \u001b[0;34m@\u001b[0m\u001b[0mproperty\u001b[0m\u001b[0;34m\u001b[0m\u001b[0;34m\u001b[0m\u001b[0m\n\u001b[0m\u001b[1;32m   1198\u001b[0m   \u001b[0;32mdef\u001b[0m \u001b[0mdevice_spec\u001b[0m\u001b[0;34m(\u001b[0m\u001b[0mself\u001b[0m\u001b[0;34m)\u001b[0m\u001b[0;34m:\u001b[0m\u001b[0;34m\u001b[0m\u001b[0;34m\u001b[0m\u001b[0m\n",
            "\u001b[0;31mKeyboardInterrupt\u001b[0m: ",
            "\nDuring handling of the above exception, another exception occurred:\n",
            "\u001b[0;31mRuntimeError\u001b[0m                              Traceback (most recent call last)",
            "\u001b[0;32m/usr/local/lib/python3.11/dist-packages/tensorflow/python/eager/context.py\u001b[0m in \u001b[0;36m__exit__\u001b[0;34m(self, *ex_info)\u001b[0m\n\u001b[1;32m   2480\u001b[0m     \u001b[0;32mif\u001b[0m \u001b[0mctx\u001b[0m\u001b[0;34m.\u001b[0m\u001b[0mdevice_spec\u001b[0m \u001b[0;32mis\u001b[0m \u001b[0;32mnot\u001b[0m \u001b[0mnew_device_spec\u001b[0m\u001b[0;34m:\u001b[0m\u001b[0;34m\u001b[0m\u001b[0;34m\u001b[0m\u001b[0m\n\u001b[0;32m-> 2481\u001b[0;31m       \u001b[0;32mraise\u001b[0m \u001b[0mRuntimeError\u001b[0m\u001b[0;34m(\u001b[0m\u001b[0;34m\"Exiting device scope without proper scope nesting\"\u001b[0m\u001b[0;34m)\u001b[0m\u001b[0;34m\u001b[0m\u001b[0;34m\u001b[0m\u001b[0m\n\u001b[0m\u001b[1;32m   2482\u001b[0m     \u001b[0;32mdel\u001b[0m \u001b[0mself\u001b[0m\u001b[0;34m.\u001b[0m\u001b[0m_stack\u001b[0m\u001b[0;34m[\u001b[0m\u001b[0;34m-\u001b[0m\u001b[0;36m1\u001b[0m\u001b[0;34m]\u001b[0m\u001b[0;34m\u001b[0m\u001b[0;34m\u001b[0m\u001b[0m\n",
            "\u001b[0;31mRuntimeError\u001b[0m: Exiting device scope without proper scope nesting",
            "\nDuring handling of the above exception, another exception occurred:\n",
            "\u001b[0;31mKeyboardInterrupt\u001b[0m                         Traceback (most recent call last)",
            "\u001b[0;32m/tmp/ipython-input-2925140667.py\u001b[0m in \u001b[0;36m<cell line: 0>\u001b[0;34m()\u001b[0m\n\u001b[1;32m     53\u001b[0m     \u001b[0;31m# --- EDIT: Increased epochs from 20 to 50 for more thorough training ---\u001b[0m\u001b[0;34m\u001b[0m\u001b[0;34m\u001b[0m\u001b[0m\n\u001b[1;32m     54\u001b[0m     \u001b[0mprint\u001b[0m\u001b[0;34m(\u001b[0m\u001b[0;34m\"\\n🧠 Training the enhanced model...\"\u001b[0m\u001b[0;34m)\u001b[0m\u001b[0;34m\u001b[0m\u001b[0;34m\u001b[0m\u001b[0m\n\u001b[0;32m---> 55\u001b[0;31m     history = model.fit(\n\u001b[0m\u001b[1;32m     56\u001b[0m         \u001b[0mX_train\u001b[0m\u001b[0;34m,\u001b[0m \u001b[0my_train\u001b[0m\u001b[0;34m,\u001b[0m\u001b[0;34m\u001b[0m\u001b[0;34m\u001b[0m\u001b[0m\n\u001b[1;32m     57\u001b[0m         \u001b[0mepochs\u001b[0m\u001b[0;34m=\u001b[0m\u001b[0;36m50\u001b[0m\u001b[0;34m,\u001b[0m          \u001b[0;31m# Increased training time\u001b[0m\u001b[0;34m\u001b[0m\u001b[0;34m\u001b[0m\u001b[0m\n",
            "\u001b[0;32m/usr/local/lib/python3.11/dist-packages/keras/src/utils/traceback_utils.py\u001b[0m in \u001b[0;36merror_handler\u001b[0;34m(*args, **kwargs)\u001b[0m\n\u001b[1;32m    120\u001b[0m             \u001b[0;31m# To get the full stack trace, call:\u001b[0m\u001b[0;34m\u001b[0m\u001b[0;34m\u001b[0m\u001b[0m\n\u001b[1;32m    121\u001b[0m             \u001b[0;31m# `keras.config.disable_traceback_filtering()`\u001b[0m\u001b[0;34m\u001b[0m\u001b[0;34m\u001b[0m\u001b[0m\n\u001b[0;32m--> 122\u001b[0;31m             \u001b[0;32mraise\u001b[0m \u001b[0me\u001b[0m\u001b[0;34m.\u001b[0m\u001b[0mwith_traceback\u001b[0m\u001b[0;34m(\u001b[0m\u001b[0mfiltered_tb\u001b[0m\u001b[0;34m)\u001b[0m \u001b[0;32mfrom\u001b[0m \u001b[0;32mNone\u001b[0m\u001b[0;34m\u001b[0m\u001b[0;34m\u001b[0m\u001b[0m\n\u001b[0m\u001b[1;32m    123\u001b[0m         \u001b[0;32mfinally\u001b[0m\u001b[0;34m:\u001b[0m\u001b[0;34m\u001b[0m\u001b[0;34m\u001b[0m\u001b[0m\n\u001b[1;32m    124\u001b[0m             \u001b[0;32mdel\u001b[0m \u001b[0mfiltered_tb\u001b[0m\u001b[0;34m\u001b[0m\u001b[0;34m\u001b[0m\u001b[0m\n",
            "\u001b[0;31mKeyboardInterrupt\u001b[0m: "
          ]
        }
      ]
    },
    {
      "cell_type": "code",
      "source": [
        "import numpy as np\n",
        "import tensorflow as tf\n",
        "from tensorflow.keras.models import Sequential\n",
        "from tensorflow.keras.layers import Input, Conv1D, MaxPooling1D, LSTM, Dense, Dropout\n",
        "import matplotlib.pyplot as plt\n",
        "\n",
        "print(\"--- Starting Step 9 (Final Recommended Version): Training with Early Stopping ---\")\n",
        "\n",
        "try:\n",
        "    # 1. Load the model-ready datasets\n",
        "    print(\"📂 Loading prepared training and testing data...\")\n",
        "    X_train = np.load('X_train.npy')\n",
        "    y_train = np.load('y_train.npy')\n",
        "    X_test = np.load('X_test.npy')\n",
        "    y_test = np.load('y_test.npy')\n",
        "    print(\"✅ Data loaded successfully.\")\n",
        "\n",
        "    # 2. Define the Hybrid CNN-LSTM Model Architecture\n",
        "    model = Sequential()\n",
        "    input_shape = (X_train.shape[1], X_train.shape[2])\n",
        "    model.add(Input(shape=input_shape))\n",
        "    model.add(Conv1D(filters=64, kernel_size=3, activation='relu'))\n",
        "    model.add(MaxPooling1D(pool_size=2))\n",
        "    model.add(LSTM(units=100, return_sequences=False))\n",
        "\n",
        "    # Increased Dropout rate to 0.4 to fight overfitting more effectively\n",
        "    model.add(Dropout(0.4))\n",
        "\n",
        "    model.add(Dense(units=50, activation='relu'))\n",
        "    model.add(Dense(units=1))\n",
        "\n",
        "    # 3. Compile the Model\n",
        "    model.compile(optimizer='adam', loss='mean_squared_error')\n",
        "    print(\"\\n✅ Hybrid CNN-LSTM Model Architecture Defined and Compiled.\")\n",
        "    model.summary()\n",
        "\n",
        "    # 4. Train the Model for up to 100 epochs with the EarlyStopping callback\n",
        "    print(\"\\n🧠 Training the model for up to 100 epochs (with Early Stopping)...\")\n",
        "    history = model.fit(\n",
        "        X_train, y_train,\n",
        "        epochs=20,\n",
        "        batch_size=64, # 64 is a well-balanced batch size\n",
        "        validation_data=(X_test, y_test),\n",
        "        # The EarlyStopping callback is the key to finding the best model\n",
        "        #callbacks=[tf.keras.callbacks.EarlyStopping(monitor='val_loss', patience=10, restore_best_weights=True)],\n",
        "        verbose=1\n",
        "    )\n",
        "\n",
        "    # 5. Save the final, best-performing model\n",
        "    model.save('stock_prediction_hybrid_model_best.h5')\n",
        "    print(\"\\n✅ MODEL TRAINING COMPLETE!\")\n",
        "    print(\"💾 The best performing hybrid model has been saved as 'stock_prediction_hybrid_model_best.h5'.\")\n",
        "\n",
        "    # 6. Plot Training History\n",
        "    plt.figure(figsize=(10, 5))\n",
        "    plt.plot(history.history['loss'], label='Training Loss')\n",
        "    plt.plot(history.history['val_loss'], label='Validation Loss')\n",
        "    plt.title('Best Model Training and Validation Loss')\n",
        "    plt.xlabel('Epoch')\n",
        "    plt.ylabel('Loss (Mean Squared Error)')\n",
        "    plt.legend()\n",
        "    plt.savefig('best_model_loss_history.png')\n",
        "    plt.show()\n",
        "\n",
        "except Exception as e:\n",
        "    print(f\"\\nAn unexpected error occurred: {e}\")"
      ],
      "metadata": {
        "colab": {
          "base_uri": "https://localhost:8080/",
          "height": 1000
        },
        "id": "p0hi7Tv-Y7An",
        "outputId": "8aea9836-df5a-4a59-dbba-126d15d76d22"
      },
      "execution_count": 36,
      "outputs": [
        {
          "output_type": "stream",
          "name": "stdout",
          "text": [
            "--- Starting Step 9 (Final Recommended Version): Training with Early Stopping ---\n",
            "📂 Loading prepared training and testing data...\n",
            "✅ Data loaded successfully.\n",
            "\n",
            "✅ Hybrid CNN-LSTM Model Architecture Defined and Compiled.\n"
          ]
        },
        {
          "output_type": "display_data",
          "data": {
            "text/plain": [
              "\u001b[1mModel: \"sequential_8\"\u001b[0m\n"
            ],
            "text/html": [
              "<pre style=\"white-space:pre;overflow-x:auto;line-height:normal;font-family:Menlo,'DejaVu Sans Mono',consolas,'Courier New',monospace\"><span style=\"font-weight: bold\">Model: \"sequential_8\"</span>\n",
              "</pre>\n"
            ]
          },
          "metadata": {}
        },
        {
          "output_type": "display_data",
          "data": {
            "text/plain": [
              "┏━━━━━━━━━━━━━━━━━━━━━━━━━━━━━━━━━┳━━━━━━━━━━━━━━━━━━━━━━━━┳━━━━━━━━━━━━━━━┓\n",
              "┃\u001b[1m \u001b[0m\u001b[1mLayer (type)                   \u001b[0m\u001b[1m \u001b[0m┃\u001b[1m \u001b[0m\u001b[1mOutput Shape          \u001b[0m\u001b[1m \u001b[0m┃\u001b[1m \u001b[0m\u001b[1m      Param #\u001b[0m\u001b[1m \u001b[0m┃\n",
              "┡━━━━━━━━━━━━━━━━━━━━━━━━━━━━━━━━━╇━━━━━━━━━━━━━━━━━━━━━━━━╇━━━━━━━━━━━━━━━┩\n",
              "│ conv1d_8 (\u001b[38;5;33mConv1D\u001b[0m)               │ (\u001b[38;5;45mNone\u001b[0m, \u001b[38;5;34m28\u001b[0m, \u001b[38;5;34m64\u001b[0m)         │         \u001b[38;5;34m2,176\u001b[0m │\n",
              "├─────────────────────────────────┼────────────────────────┼───────────────┤\n",
              "│ max_pooling1d_8 (\u001b[38;5;33mMaxPooling1D\u001b[0m)  │ (\u001b[38;5;45mNone\u001b[0m, \u001b[38;5;34m14\u001b[0m, \u001b[38;5;34m64\u001b[0m)         │             \u001b[38;5;34m0\u001b[0m │\n",
              "├─────────────────────────────────┼────────────────────────┼───────────────┤\n",
              "│ lstm_9 (\u001b[38;5;33mLSTM\u001b[0m)                   │ (\u001b[38;5;45mNone\u001b[0m, \u001b[38;5;34m100\u001b[0m)            │        \u001b[38;5;34m66,000\u001b[0m │\n",
              "├─────────────────────────────────┼────────────────────────┼───────────────┤\n",
              "│ dropout_8 (\u001b[38;5;33mDropout\u001b[0m)             │ (\u001b[38;5;45mNone\u001b[0m, \u001b[38;5;34m100\u001b[0m)            │             \u001b[38;5;34m0\u001b[0m │\n",
              "├─────────────────────────────────┼────────────────────────┼───────────────┤\n",
              "│ dense_16 (\u001b[38;5;33mDense\u001b[0m)                │ (\u001b[38;5;45mNone\u001b[0m, \u001b[38;5;34m50\u001b[0m)             │         \u001b[38;5;34m5,050\u001b[0m │\n",
              "├─────────────────────────────────┼────────────────────────┼───────────────┤\n",
              "│ dense_17 (\u001b[38;5;33mDense\u001b[0m)                │ (\u001b[38;5;45mNone\u001b[0m, \u001b[38;5;34m1\u001b[0m)              │            \u001b[38;5;34m51\u001b[0m │\n",
              "└─────────────────────────────────┴────────────────────────┴───────────────┘\n"
            ],
            "text/html": [
              "<pre style=\"white-space:pre;overflow-x:auto;line-height:normal;font-family:Menlo,'DejaVu Sans Mono',consolas,'Courier New',monospace\">┏━━━━━━━━━━━━━━━━━━━━━━━━━━━━━━━━━┳━━━━━━━━━━━━━━━━━━━━━━━━┳━━━━━━━━━━━━━━━┓\n",
              "┃<span style=\"font-weight: bold\"> Layer (type)                    </span>┃<span style=\"font-weight: bold\"> Output Shape           </span>┃<span style=\"font-weight: bold\">       Param # </span>┃\n",
              "┡━━━━━━━━━━━━━━━━━━━━━━━━━━━━━━━━━╇━━━━━━━━━━━━━━━━━━━━━━━━╇━━━━━━━━━━━━━━━┩\n",
              "│ conv1d_8 (<span style=\"color: #0087ff; text-decoration-color: #0087ff\">Conv1D</span>)               │ (<span style=\"color: #00d7ff; text-decoration-color: #00d7ff\">None</span>, <span style=\"color: #00af00; text-decoration-color: #00af00\">28</span>, <span style=\"color: #00af00; text-decoration-color: #00af00\">64</span>)         │         <span style=\"color: #00af00; text-decoration-color: #00af00\">2,176</span> │\n",
              "├─────────────────────────────────┼────────────────────────┼───────────────┤\n",
              "│ max_pooling1d_8 (<span style=\"color: #0087ff; text-decoration-color: #0087ff\">MaxPooling1D</span>)  │ (<span style=\"color: #00d7ff; text-decoration-color: #00d7ff\">None</span>, <span style=\"color: #00af00; text-decoration-color: #00af00\">14</span>, <span style=\"color: #00af00; text-decoration-color: #00af00\">64</span>)         │             <span style=\"color: #00af00; text-decoration-color: #00af00\">0</span> │\n",
              "├─────────────────────────────────┼────────────────────────┼───────────────┤\n",
              "│ lstm_9 (<span style=\"color: #0087ff; text-decoration-color: #0087ff\">LSTM</span>)                   │ (<span style=\"color: #00d7ff; text-decoration-color: #00d7ff\">None</span>, <span style=\"color: #00af00; text-decoration-color: #00af00\">100</span>)            │        <span style=\"color: #00af00; text-decoration-color: #00af00\">66,000</span> │\n",
              "├─────────────────────────────────┼────────────────────────┼───────────────┤\n",
              "│ dropout_8 (<span style=\"color: #0087ff; text-decoration-color: #0087ff\">Dropout</span>)             │ (<span style=\"color: #00d7ff; text-decoration-color: #00d7ff\">None</span>, <span style=\"color: #00af00; text-decoration-color: #00af00\">100</span>)            │             <span style=\"color: #00af00; text-decoration-color: #00af00\">0</span> │\n",
              "├─────────────────────────────────┼────────────────────────┼───────────────┤\n",
              "│ dense_16 (<span style=\"color: #0087ff; text-decoration-color: #0087ff\">Dense</span>)                │ (<span style=\"color: #00d7ff; text-decoration-color: #00d7ff\">None</span>, <span style=\"color: #00af00; text-decoration-color: #00af00\">50</span>)             │         <span style=\"color: #00af00; text-decoration-color: #00af00\">5,050</span> │\n",
              "├─────────────────────────────────┼────────────────────────┼───────────────┤\n",
              "│ dense_17 (<span style=\"color: #0087ff; text-decoration-color: #0087ff\">Dense</span>)                │ (<span style=\"color: #00d7ff; text-decoration-color: #00d7ff\">None</span>, <span style=\"color: #00af00; text-decoration-color: #00af00\">1</span>)              │            <span style=\"color: #00af00; text-decoration-color: #00af00\">51</span> │\n",
              "└─────────────────────────────────┴────────────────────────┴───────────────┘\n",
              "</pre>\n"
            ]
          },
          "metadata": {}
        },
        {
          "output_type": "display_data",
          "data": {
            "text/plain": [
              "\u001b[1m Total params: \u001b[0m\u001b[38;5;34m73,277\u001b[0m (286.24 KB)\n"
            ],
            "text/html": [
              "<pre style=\"white-space:pre;overflow-x:auto;line-height:normal;font-family:Menlo,'DejaVu Sans Mono',consolas,'Courier New',monospace\"><span style=\"font-weight: bold\"> Total params: </span><span style=\"color: #00af00; text-decoration-color: #00af00\">73,277</span> (286.24 KB)\n",
              "</pre>\n"
            ]
          },
          "metadata": {}
        },
        {
          "output_type": "display_data",
          "data": {
            "text/plain": [
              "\u001b[1m Trainable params: \u001b[0m\u001b[38;5;34m73,277\u001b[0m (286.24 KB)\n"
            ],
            "text/html": [
              "<pre style=\"white-space:pre;overflow-x:auto;line-height:normal;font-family:Menlo,'DejaVu Sans Mono',consolas,'Courier New',monospace\"><span style=\"font-weight: bold\"> Trainable params: </span><span style=\"color: #00af00; text-decoration-color: #00af00\">73,277</span> (286.24 KB)\n",
              "</pre>\n"
            ]
          },
          "metadata": {}
        },
        {
          "output_type": "display_data",
          "data": {
            "text/plain": [
              "\u001b[1m Non-trainable params: \u001b[0m\u001b[38;5;34m0\u001b[0m (0.00 B)\n"
            ],
            "text/html": [
              "<pre style=\"white-space:pre;overflow-x:auto;line-height:normal;font-family:Menlo,'DejaVu Sans Mono',consolas,'Courier New',monospace\"><span style=\"font-weight: bold\"> Non-trainable params: </span><span style=\"color: #00af00; text-decoration-color: #00af00\">0</span> (0.00 B)\n",
              "</pre>\n"
            ]
          },
          "metadata": {}
        },
        {
          "output_type": "stream",
          "name": "stdout",
          "text": [
            "\n",
            "🧠 Training the model for up to 100 epochs (with Early Stopping)...\n",
            "Epoch 1/20\n",
            "\u001b[1m1220/1220\u001b[0m \u001b[32m━━━━━━━━━━━━━━━━━━━━\u001b[0m\u001b[37m\u001b[0m \u001b[1m12s\u001b[0m 9ms/step - loss: 0.0011 - val_loss: 0.0013\n",
            "Epoch 2/20\n",
            "\u001b[1m1220/1220\u001b[0m \u001b[32m━━━━━━━━━━━━━━━━━━━━\u001b[0m\u001b[37m\u001b[0m \u001b[1m20s\u001b[0m 9ms/step - loss: 2.8361e-04 - val_loss: 0.0018\n",
            "Epoch 3/20\n",
            "\u001b[1m1220/1220\u001b[0m \u001b[32m━━━━━━━━━━━━━━━━━━━━\u001b[0m\u001b[37m\u001b[0m \u001b[1m19s\u001b[0m 8ms/step - loss: 1.8376e-04 - val_loss: 0.0034\n",
            "Epoch 4/20\n",
            "\u001b[1m1220/1220\u001b[0m \u001b[32m━━━━━━━━━━━━━━━━━━━━\u001b[0m\u001b[37m\u001b[0m \u001b[1m11s\u001b[0m 9ms/step - loss: 1.4443e-04 - val_loss: 0.0033\n",
            "Epoch 5/20\n",
            "\u001b[1m1220/1220\u001b[0m \u001b[32m━━━━━━━━━━━━━━━━━━━━\u001b[0m\u001b[37m\u001b[0m \u001b[1m20s\u001b[0m 9ms/step - loss: 1.2320e-04 - val_loss: 0.0044\n",
            "Epoch 6/20\n",
            "\u001b[1m1220/1220\u001b[0m \u001b[32m━━━━━━━━━━━━━━━━━━━━\u001b[0m\u001b[37m\u001b[0m \u001b[1m19s\u001b[0m 8ms/step - loss: 1.0555e-04 - val_loss: 0.0050\n",
            "Epoch 7/20\n",
            "\u001b[1m1220/1220\u001b[0m \u001b[32m━━━━━━━━━━━━━━━━━━━━\u001b[0m\u001b[37m\u001b[0m \u001b[1m11s\u001b[0m 9ms/step - loss: 9.6081e-05 - val_loss: 0.0054\n",
            "Epoch 8/20\n",
            "\u001b[1m1220/1220\u001b[0m \u001b[32m━━━━━━━━━━━━━━━━━━━━\u001b[0m\u001b[37m\u001b[0m \u001b[1m11s\u001b[0m 9ms/step - loss: 9.4506e-05 - val_loss: 0.0060\n",
            "Epoch 9/20\n",
            "\u001b[1m1220/1220\u001b[0m \u001b[32m━━━━━━━━━━━━━━━━━━━━\u001b[0m\u001b[37m\u001b[0m \u001b[1m19s\u001b[0m 8ms/step - loss: 9.6943e-05 - val_loss: 0.0055\n",
            "Epoch 10/20\n",
            "\u001b[1m1220/1220\u001b[0m \u001b[32m━━━━━━━━━━━━━━━━━━━━\u001b[0m\u001b[37m\u001b[0m \u001b[1m11s\u001b[0m 9ms/step - loss: 9.0806e-05 - val_loss: 0.0057\n",
            "Epoch 11/20\n",
            "\u001b[1m1220/1220\u001b[0m \u001b[32m━━━━━━━━━━━━━━━━━━━━\u001b[0m\u001b[37m\u001b[0m \u001b[1m21s\u001b[0m 9ms/step - loss: 8.0495e-05 - val_loss: 0.0057\n",
            "Epoch 12/20\n",
            "\u001b[1m1220/1220\u001b[0m \u001b[32m━━━━━━━━━━━━━━━━━━━━\u001b[0m\u001b[37m\u001b[0m \u001b[1m19s\u001b[0m 8ms/step - loss: 8.7035e-05 - val_loss: 0.0057\n",
            "Epoch 13/20\n",
            "\u001b[1m1220/1220\u001b[0m \u001b[32m━━━━━━━━━━━━━━━━━━━━\u001b[0m\u001b[37m\u001b[0m \u001b[1m10s\u001b[0m 8ms/step - loss: 8.2793e-05 - val_loss: 0.0057\n",
            "Epoch 14/20\n",
            "\u001b[1m1220/1220\u001b[0m \u001b[32m━━━━━━━━━━━━━━━━━━━━\u001b[0m\u001b[37m\u001b[0m \u001b[1m11s\u001b[0m 9ms/step - loss: 7.4732e-05 - val_loss: 0.0059\n",
            "Epoch 15/20\n",
            "\u001b[1m1220/1220\u001b[0m \u001b[32m━━━━━━━━━━━━━━━━━━━━\u001b[0m\u001b[37m\u001b[0m \u001b[1m21s\u001b[0m 9ms/step - loss: 8.0670e-05 - val_loss: 0.0053\n",
            "Epoch 16/20\n",
            "\u001b[1m1220/1220\u001b[0m \u001b[32m━━━━━━━━━━━━━━━━━━━━\u001b[0m\u001b[37m\u001b[0m \u001b[1m9s\u001b[0m 7ms/step - loss: 7.1316e-05 - val_loss: 0.0053\n",
            "Epoch 17/20\n",
            "\u001b[1m1220/1220\u001b[0m \u001b[32m━━━━━━━━━━━━━━━━━━━━\u001b[0m\u001b[37m\u001b[0m \u001b[1m11s\u001b[0m 8ms/step - loss: 6.7892e-05 - val_loss: 0.0058\n",
            "Epoch 18/20\n",
            "\u001b[1m1220/1220\u001b[0m \u001b[32m━━━━━━━━━━━━━━━━━━━━\u001b[0m\u001b[37m\u001b[0m \u001b[1m11s\u001b[0m 8ms/step - loss: 6.2378e-05 - val_loss: 0.0050\n",
            "Epoch 19/20\n",
            "\u001b[1m1220/1220\u001b[0m \u001b[32m━━━━━━━━━━━━━━━━━━━━\u001b[0m\u001b[37m\u001b[0m \u001b[1m10s\u001b[0m 8ms/step - loss: 6.4249e-05 - val_loss: 0.0052\n",
            "Epoch 20/20\n",
            "\u001b[1m1220/1220\u001b[0m \u001b[32m━━━━━━━━━━━━━━━━━━━━\u001b[0m\u001b[37m\u001b[0m \u001b[1m19s\u001b[0m 7ms/step - loss: 6.1654e-05 - val_loss: 0.0052\n"
          ]
        },
        {
          "output_type": "stream",
          "name": "stderr",
          "text": [
            "WARNING:absl:You are saving your model as an HDF5 file via `model.save()` or `keras.saving.save_model(model)`. This file format is considered legacy. We recommend using instead the native Keras format, e.g. `model.save('my_model.keras')` or `keras.saving.save_model(model, 'my_model.keras')`. \n"
          ]
        },
        {
          "output_type": "stream",
          "name": "stdout",
          "text": [
            "\n",
            "✅ MODEL TRAINING COMPLETE!\n",
            "💾 The best performing hybrid model has been saved as 'stock_prediction_hybrid_model_best.h5'.\n"
          ]
        },
        {
          "output_type": "display_data",
          "data": {
            "text/plain": [
              "<Figure size 1000x500 with 1 Axes>"
            ],
            "image/png": "[encoded data removed]"
          },
          "metadata": {}
        }
      ]
    },
    {
      "cell_type": "code",
      "source": [
        "import numpy as np\n",
        "import pickle\n",
        "import matplotlib.pyplot as plt\n",
        "from tensorflow.keras.models import load_model\n",
        "from sklearn.metrics import mean_squared_error, mean_absolute_error\n",
        "\n",
        "print(\"--- Starting Step 10: Evaluating the Best Model ---\")\n",
        "\n",
        "try:\n",
        "    # 1. Load the trained model, test data, and the scaler\n",
        "    print(\"📂 Loading the saved model, test data, and scaler...\")\n",
        "\n",
        "    # --- IMPORTANT: Load the new, best-performing model ---\n",
        "    model = load_model('stock_prediction_hybrid_model_best.h5')\n",
        "\n",
        "    X_test = np.load('X_test.npy')\n",
        "    y_test = np.load('y_test.npy')\n",
        "\n",
        "    with open('target_scaler.pkl', 'rb') as f:\n",
        "        target_scaler = pickle.load(f)\n",
        "\n",
        "    print(\"✅ All necessary files loaded.\")\n",
        "\n",
        "    # 2. Make predictions on the test data\n",
        "    print(\"🧠 Making predictions on the test set...\")\n",
        "    y_pred_scaled = model.predict(X_test)\n",
        "\n",
        "    # 3. Inverse the scaling to get actual price values\n",
        "    y_test_actual = target_scaler.inverse_transform(y_test.reshape(-1, 1))\n",
        "    y_pred_actual = target_scaler.inverse_transform(y_pred_scaled)\n",
        "    print(\"✅ Predictions have been scaled back to actual dollar values.\")\n",
        "\n",
        "    # 4. Calculate performance metrics (RMSE and MAE)\n",
        "    rmse = np.sqrt(mean_squared_error(y_test_actual, y_pred_actual))\n",
        "    mae = mean_absolute_error(y_test_actual, y_pred_actual)\n",
        "\n",
        "    print(\"\\n--- Model Performance on Test Data ---\")\n",
        "    print(f\"📈 Root Mean Squared Error (RMSE): ${rmse:.2f}\")\n",
        "    print(f\"📈 Mean Absolute Error (MAE): ${mae:.2f}\")\n",
        "    print(\"--------------------------------------\")\n",
        "    print(\"Note: MAE means that, on average, the model's prediction was about this many dollars away from the actual price.\")\n",
        "\n",
        "    # 5. Visualize the predictions vs. actual prices\n",
        "    print(\"\\n📊 Generating plot of actual vs. predicted prices...\")\n",
        "\n",
        "    sample_size = 500\n",
        "    plt.figure(figsize=(15, 7))\n",
        "    plt.plot(y_test_actual[:sample_size], color='blue', label='Actual Stock Price')\n",
        "    plt.plot(y_pred_actual[:sample_size], color='red', linestyle='--', label='Predicted Stock Price')\n",
        "    plt.title(f'Stock Price Prediction (First {sample_size} Data Points of 2020)')\n",
        "    plt.xlabel('Time (Days)')\n",
        "    plt.ylabel('Stock Price (USD)')\n",
        "    plt.legend()\n",
        "    plt.grid(True)\n",
        "    plt.savefig('actual_vs_predicted_prices_best_model.png')\n",
        "    plt.show()\n",
        "\n",
        "    print(\"\\n✅ MODEL EVALUATION COMPLETE!\")\n",
        "    print(\"📈 You now have the final metrics and plots to complete your project report.\")\n",
        "\n",
        "except FileNotFoundError as e:\n",
        "    print(f\"\\n⚠️ ERROR: A required file was not found. Please ensure all previous steps ran successfully.\")\n",
        "except Exception as e:\n",
        "    print(f\"\\nAn unexpected error occurred: {e}\")"
      ],
      "metadata": {
        "colab": {
          "base_uri": "https://localhost:8080/",
          "height": 953
        },
        "id": "PVeHvw8gVakE",
        "outputId": "8fb554b7-0e52-45e7-b82e-f79191950f4b"
      },
      "execution_count": 37,
      "outputs": [
        {
          "output_type": "stream",
          "name": "stderr",
          "text": [
            "WARNING:absl:Compiled the loaded model, but the compiled metrics have yet to be built. `model.compile_metrics` will be empty until you train or evaluate the model.\n"
          ]
        },
        {
          "output_type": "stream",
          "name": "stdout",
          "text": [
            "--- Starting Step 10: Evaluating the Best Model ---\n",
            "📂 Loading the saved model, test data, and scaler...\n",
            "✅ All necessary files loaded.\n",
            "🧠 Making predictions on the test set...\n",
            "\u001b[1m555/555\u001b[0m \u001b[32m━━━━━━━━━━━━━━━━━━━━\u001b[0m\u001b[37m\u001b[0m \u001b[1m2s\u001b[0m 3ms/step\n",
            "✅ Predictions have been scaled back to actual dollar values.\n",
            "\n",
            "--- Model Performance on Test Data ---\n",
            "📈 Root Mean Squared Error (RMSE): $0.07\n",
            "📈 Mean Absolute Error (MAE): $0.04\n",
            "--------------------------------------\n",
            "Note: MAE means that, on average, the model's prediction was about this many dollars away from the actual price.\n",
            "\n",
            "📊 Generating plot of actual vs. predicted prices...\n"
          ]
        },
        {
          "output_type": "display_data",
          "data": {
            "text/plain": [
              "<Figure size 1500x700 with 1 Axes>"
            ],
            "image/png": "[encoded data removed]"
          },
          "metadata": {}
        },
        {
          "output_type": "stream",
          "name": "stdout",
          "text": [
            "\n",
            "✅ MODEL EVALUATION COMPLETE!\n",
            "📈 You now have the final metrics and plots to complete your project report.\n"
          ]
        }
      ]
    },
    {
      "cell_type": "code",
      "source": [
        "import numpy as np\n",
        "import pickle\n",
        "from tensorflow.keras.models import load_model\n",
        "from sklearn.metrics import classification_report, confusion_matrix, accuracy_score\n",
        "import seaborn as sns\n",
        "import matplotlib.pyplot as plt\n",
        "\n",
        "print(\"--- Starting Step 11: Evaluating Trend Direction (Best Model) ---\")\n",
        "\n",
        "try:\n",
        "    # 1. Load the saved model, test data, and scaler\n",
        "    print(\"📂 Loading the saved model, test data, and scaler...\")\n",
        "\n",
        "    # --- IMPORTANT: Load the new, best-performing model ---\n",
        "    model = load_model('stock_prediction_hybrid_model_best.h5')\n",
        "\n",
        "    X_test = np.load('X_test.npy')\n",
        "    y_test = np.load('y_test.npy')\n",
        "\n",
        "    with open('target_scaler.pkl', 'rb') as f:\n",
        "        target_scaler = pickle.load(f)\n",
        "\n",
        "    # 2. Make predictions and inverse scale them\n",
        "    y_pred_scaled = model.predict(X_test)\n",
        "    y_test_actual = target_scaler.inverse_transform(y_test.reshape(-1, 1))\n",
        "    y_pred_actual = target_scaler.inverse_transform(y_pred_scaled)\n",
        "    print(\"✅ Predictions generated and scaled to actual dollar values.\")\n",
        "\n",
        "    # 3. Convert price series to a binary trend direction series (UP/DOWN)\n",
        "    actual_direction = (y_test_actual[1:] > y_test_actual[:-1]).astype(int)\n",
        "    predicted_direction = (y_pred_actual[1:] > y_pred_actual[:-1]).astype(int)\n",
        "    print(\"✅ Price data converted to UP (1) / DOWN (0) trend directions.\")\n",
        "\n",
        "    # 4. Calculate and print the classification metrics\n",
        "    print(\"\\n--- Trend Direction Classification Report ---\")\n",
        "    report = classification_report(actual_direction, predicted_direction, target_names=['Down', 'Up'])\n",
        "    print(report)\n",
        "\n",
        "    accuracy = accuracy_score(actual_direction, predicted_direction)\n",
        "    print(f\"🎯 Overall Directional Accuracy: {accuracy * 100:.2f}%\")\n",
        "    print(\"------------------------------------------\")\n",
        "\n",
        "    # 5. Visualize the results with a Confusion Matrix\n",
        "    cm = confusion_matrix(actual_direction, predicted_direction)\n",
        "    plt.figure(figsize=(8, 6))\n",
        "    sns.heatmap(cm, annot=True, fmt='d', cmap='Blues', xticklabels=['Predicted Down', 'Predicted Up'], yticklabels=['Actual Down', 'Actual Up'])\n",
        "    plt.ylabel('Actual Direction')\n",
        "    plt.xlabel('Predicted Direction')\n",
        "    plt.title('Confusion Matrix for Trend Direction Prediction (Best Model)')\n",
        "    plt.savefig('confusion_matrix_best_model.png')\n",
        "    plt.show()\n",
        "\n",
        "except Exception as e:\n",
        "    print(f\"\\nAn unexpected error occurred: {e}\")"
      ],
      "metadata": {
        "colab": {
          "base_uri": "https://localhost:8080/",
          "height": 894
        },
        "id": "wp62h6cjWKiY",
        "outputId": "4ff4ca84-b8e0-4b46-d1cc-b6593d0858cc"
      },
      "execution_count": 38,
      "outputs": [
        {
          "output_type": "stream",
          "name": "stderr",
          "text": [
            "WARNING:absl:Compiled the loaded model, but the compiled metrics have yet to be built. `model.compile_metrics` will be empty until you train or evaluate the model.\n"
          ]
        },
        {
          "output_type": "stream",
          "name": "stdout",
          "text": [
            "--- Starting Step 11: Evaluating Trend Direction (Best Model) ---\n",
            "📂 Loading the saved model, test data, and scaler...\n",
            "\u001b[1m555/555\u001b[0m \u001b[32m━━━━━━━━━━━━━━━━━━━━\u001b[0m\u001b[37m\u001b[0m \u001b[1m2s\u001b[0m 3ms/step\n",
            "✅ Predictions generated and scaled to actual dollar values.\n",
            "✅ Price data converted to UP (1) / DOWN (0) trend directions.\n",
            "\n",
            "--- Trend Direction Classification Report ---\n",
            "              precision    recall  f1-score   support\n",
            "\n",
            "        Down       0.48      0.47      0.48      8695\n",
            "          Up       0.50      0.51      0.51      9064\n",
            "\n",
            "    accuracy                           0.49     17759\n",
            "   macro avg       0.49      0.49      0.49     17759\n",
            "weighted avg       0.49      0.49      0.49     17759\n",
            "\n",
            "🎯 Overall Directional Accuracy: 49.25%\n",
            "------------------------------------------\n"
          ]
        },
        {
          "output_type": "display_data",
          "data": {
            "text/plain": [
              "<Figure size 800x600 with 2 Axes>"
            ],
            "image/png": "[encoded data removed]"
          },
          "metadata": {}
        }
      ]
    },
    {
      "cell_type": "code",
      "source": [
        "# # Install PySpark in your environment\n",
        "# !pip install pyspark\n",
        "\n",
        "# from pyspark.sql import SparkSession\n",
        "# from pyspark.sql.types import StructType, StructField, StringType, DoubleType, DateType, IntegerType\n",
        "# from pyspark.sql.functions import year\n",
        "\n",
        "# print(\"--- Starting Step 6 (Corrected): Transition to PySpark with Explicit Schema ---\")\n",
        "\n",
        "# try:\n",
        "#     # 1. Initialize a Spark Session\n",
        "#     spark = SparkSession.builder \\\n",
        "#         .appName(\"StockAnalysis_BigData_SchemaFix\") \\\n",
        "#         .config(\"spark.driver.memory\", \"4g\") \\\n",
        "#         .getOrCreate()\n",
        "\n",
        "#     print(\"✅ Spark Session Initialized.\")\n",
        "\n",
        "#     # 2. THE FIX: Define the correct schema for our dataset\n",
        "#     # We explicitly state the data type for each column. This prevents misinterpretation.\n",
        "#     schema = StructType([\n",
        "#         StructField(\"Date\", DateType(), True),\n",
        "#         StructField(\"Close\", DoubleType(), True),\n",
        "#         StructField(\"High\", DoubleType(), True),\n",
        "#         StructField(\"Low\", DoubleType(), True),\n",
        "#         StructField(\"Open\", DoubleType(), True),\n",
        "#         StructField(\"Volume\", DoubleType(), True),\n",
        "#         StructField(\"Symbol\", StringType(), True),\n",
        "#         StructField(\"Daily_Return\", DoubleType(), True),\n",
        "#         StructField(\"Volatility\", DoubleType(), True),\n",
        "#         StructField(\"SMA_20\", DoubleType(), True),\n",
        "#         StructField(\"SMA_50\", DoubleType(), True),\n",
        "#         StructField(\"Volume_MA\", DoubleType(), True),\n",
        "#         StructField(\"headline\", StringType(), True),\n",
        "#         StructField(\"sentiment\", DoubleType(), True)\n",
        "#     ])\n",
        "#     print(\"🔧 Custom schema defined successfully.\")\n",
        "\n",
        "#     # 3. Load our final dataset into a Spark DataFrame using our defined schema\n",
        "#     df_spark = spark.read.csv(\n",
        "#         'final_dataset_with_sentiment.csv',\n",
        "#         header=True,\n",
        "#         schema=schema, # Apply our custom schema here\n",
        "#         dateFormat=\"yyyy-MM-dd\" # Tell Spark how to read the date format\n",
        "#     )\n",
        "#     print(f\"📂 Successfully loaded 'final_dataset_with_sentiment.csv' with the correct schema.\")\n",
        "#     print(f\"📊 The DataFrame contains {df_spark.count():,} records.\")\n",
        "\n",
        "#     # 4. Prepare for Partitioning\n",
        "#     df_spark = df_spark.withColumn(\"Year\", year(df_spark[\"Date\"]))\n",
        "\n",
        "#     # 5. Write the data in a Partitioned Parquet Format\n",
        "#     print(\"💾 Writing data to partitioned Parquet format...\")\n",
        "#     df_spark.write.partitionBy(\"Symbol\", \"Year\").mode(\"overwrite\").parquet(\"stock_data_partitioned.parquet\")\n",
        "\n",
        "#     print(\"\\n✅ PYSPARK PARTITIONING COMPLETE:\")\n",
        "#     print(\"Data is now saved in an optimized, partitioned Parquet format with correct data types.\")\n",
        "\n",
        "#     # Let's verify by showing the new, correct schema\n",
        "#     print(\"\\nSchema of the newly partitioned data:\")\n",
        "#     final_partitioned_df = spark.read.parquet(\"stock_data_partitioned.parquet\")\n",
        "#     final_partitioned_df.printSchema()\n",
        "\n",
        "# except FileNotFoundError:\n",
        "#     print(\"\\n⚠️ ERROR: 'final_dataset_with_sentiment.csv' not found. Please ensure the previous steps completed successfully.\")\n",
        "# except Exception as e:\n",
        "#     print(f\"\\nAn unexpected error occurred: {e}\")"
      ],
      "metadata": {
        "colab": {
          "base_uri": "https://localhost:8080/"
        },
        "id": "hH9Vr5Nd-fCF",
        "outputId": "9c842e63-c17d-4212-f8dc-707e291e880a"
      },
      "execution_count": 7,
      "outputs": [
        {
          "output_type": "stream",
          "name": "stdout",
          "text": [
            "Requirement already satisfied: pyspark in /usr/local/lib/python3.11/dist-packages (3.5.1)\n",
            "Requirement already satisfied: py4j==0.10.9.7 in /usr/local/lib/python3.11/dist-packages (from pyspark) (0.10.9.7)\n",
            "--- Starting Step 6 (Corrected): Transition to PySpark with Explicit Schema ---\n",
            "✅ Spark Session Initialized.\n",
            "🔧 Custom schema defined successfully.\n",
            "📂 Successfully loaded 'final_dataset_with_sentiment.csv' with the correct schema.\n",
            "📊 The DataFrame contains 233,240 records.\n",
            "💾 Writing data to partitioned Parquet format...\n"
          ]
        },
        {
          "output_type": "stream",
          "name": "stderr",
          "text": [
            "ERROR:root:Exception while sending command.\n",
            "Traceback (most recent call last):\n",
            "  File \"/usr/local/lib/python3.11/dist-packages/py4j/clientserver.py\", line 511, in send_command\n",
            "    answer = smart_decode(self.stream.readline()[:-1])\n",
            "                          ^^^^^^^^^^^^^^^^^^^^^^\n",
            "RuntimeError: reentrant call inside <_io.BufferedReader name=45>\n",
            "\n",
            "During handling of the above exception, another exception occurred:\n",
            "\n",
            "Traceback (most recent call last):\n",
            "  File \"/usr/local/lib/python3.11/dist-packages/py4j/java_gateway.py\", line 1038, in send_command\n",
            "    response = connection.send_command(command)\n",
            "               ^^^^^^^^^^^^^^^^^^^^^^^^^^^^^^^^\n",
            "  File \"/usr/local/lib/python3.11/dist-packages/py4j/clientserver.py\", line 539, in send_command\n",
            "    raise Py4JNetworkError(\n",
            "py4j.protocol.Py4JNetworkError: Error while sending or receiving\n",
            "ERROR:root:Exception while sending command.\n",
            "Traceback (most recent call last):\n",
            "  File \"/usr/local/lib/python3.11/dist-packages/py4j/clientserver.py\", line 511, in send_command\n",
            "    answer = smart_decode(self.stream.readline()[:-1])\n",
            "                          ^^^^^^^^^^^^^^^^^^^^^^\n",
            "  File \"/usr/lib/python3.11/socket.py\", line 718, in readinto\n",
            "    return self._sock.recv_into(b)\n",
            "           ^^^^^^^^^^^^^^^^^^^^^^^\n",
            "  File \"/usr/local/lib/python3.11/dist-packages/pyspark/context.py\", line 381, in signal_handler\n",
            "    self.cancelAllJobs()\n",
            "  File \"/usr/local/lib/python3.11/dist-packages/pyspark/context.py\", line 2446, in cancelAllJobs\n",
            "    self._jsc.sc().cancelAllJobs()\n",
            "    ^^^^^^^^^^^^^^\n",
            "  File \"/usr/local/lib/python3.11/dist-packages/py4j/java_gateway.py\", line 1322, in __call__\n",
            "    return_value = get_return_value(\n",
            "                   ^^^^^^^^^^^^^^^^^\n",
            "  File \"/usr/local/lib/python3.11/dist-packages/pyspark/errors/exceptions/captured.py\", line 179, in deco\n",
            "    return f(*a, **kw)\n",
            "           ^^^^^^^^^^^\n",
            "  File \"/usr/local/lib/python3.11/dist-packages/py4j/protocol.py\", line 334, in get_return_value\n",
            "    raise Py4JError(\n",
            "py4j.protocol.Py4JError: An error occurred while calling o15.sc\n",
            "\n",
            "During handling of the above exception, another exception occurred:\n",
            "\n",
            "Traceback (most recent call last):\n",
            "  File \"/usr/local/lib/python3.11/dist-packages/py4j/java_gateway.py\", line 1038, in send_command\n",
            "    response = connection.send_command(command)\n",
            "               ^^^^^^^^^^^^^^^^^^^^^^^^^^^^^^^^\n",
            "  File \"/usr/local/lib/python3.11/dist-packages/py4j/clientserver.py\", line 539, in send_command\n",
            "    raise Py4JNetworkError(\n",
            "py4j.protocol.Py4JNetworkError: Error while sending or receiving\n"
          ]
        },
        {
          "output_type": "stream",
          "name": "stdout",
          "text": [
            "\n",
            "An unexpected error occurred: An error occurred while calling o47.parquet\n"
          ]
        }
      ]
    },
    {
      "cell_type": "code",
      "source": [],
      "metadata": {
        "id": "UzN2SwwoIM-e"
      },
      "execution_count": null,
      "outputs": []
    },
    {
      "cell_type": "markdown",
      "source": [],
      "metadata": {
        "id": "_DdEShygz8Ph"
      }
    }
  ]
}