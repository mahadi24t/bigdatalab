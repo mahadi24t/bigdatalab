{
  "nbformat": 4,
  "nbformat_minor": 0,
  "metadata": {
    "colab": {
      "provenance": [],
      "gpuType": "T4"
    },
    "kernelspec": {
      "name": "python3",
      "display_name": "Python 3"
    },
    "language_info": {
      "name": "python"
    },
    "accelerator": "GPU"
  },
  "cells": [
    {
      "cell_type": "markdown",
      "source": [
        "**Updating the System Environment**"
      ],
      "metadata": {
        "id": "Ey4-ppoHKiQg"
      }
    },
    {
      "cell_type": "code",
      "execution_count": 7,
      "metadata": {
        "colab": {
          "base_uri": "https://localhost:8080/"
        },
        "id": "ywxcQXPVI5Eb",
        "outputId": "7a6defed-3455-4d04-929c-44cbd816039c"
      },
      "outputs": [
        {
          "output_type": "stream",
          "name": "stdout",
          "text": [
            "\u001b[33m\r0% [Working]\u001b[0m\r            \rHit:1 https://cloud.r-project.org/bin/linux/ubuntu jammy-cran40/ InRelease\n",
            "Hit:2 https://developer.download.nvidia.com/compute/cuda/repos/ubuntu2204/x86_64  InRelease\n",
            "Hit:3 http://security.ubuntu.com/ubuntu jammy-security InRelease\n",
            "Hit:4 http://archive.ubuntu.com/ubuntu jammy InRelease\n",
            "Hit:5 https://r2u.stat.illinois.edu/ubuntu jammy InRelease\n",
            "Hit:6 http://archive.ubuntu.com/ubuntu jammy-updates InRelease\n",
            "Hit:7 http://archive.ubuntu.com/ubuntu jammy-backports InRelease\n",
            "Hit:8 https://ppa.launchpadcontent.net/deadsnakes/ppa/ubuntu jammy InRelease\n",
            "Hit:9 https://ppa.launchpadcontent.net/graphics-drivers/ppa/ubuntu jammy InRelease\n",
            "Hit:10 https://ppa.launchpadcontent.net/ubuntugis/ppa/ubuntu jammy InRelease\n",
            "Reading package lists... Done\n",
            "Building dependency tree... Done\n",
            "Reading state information... Done\n",
            "42 packages can be upgraded. Run 'apt list --upgradable' to see them.\n",
            "\u001b[1;33mW: \u001b[0mSkipping acquire of configured file 'main/source/Sources' as repository 'https://r2u.stat.illinois.edu/ubuntu jammy InRelease' does not seem to provide it (sources.list entry misspelt?)\u001b[0m\n"
          ]
        }
      ],
      "source": [
        "!sudo apt update"
      ]
    },
    {
      "cell_type": "markdown",
      "source": [
        "**Installing JDK**"
      ],
      "metadata": {
        "id": "x1zHLoarKpo8"
      }
    },
    {
      "cell_type": "code",
      "source": [
        "!apt-get install openjdk-8-jdk-headless -qq > /dev/null"
      ],
      "metadata": {
        "id": "n28VGHcsKvhs"
      },
      "execution_count": 8,
      "outputs": []
    },
    {
      "cell_type": "markdown",
      "source": [
        "**Downloading Apache Spark Distribution**"
      ],
      "metadata": {
        "id": "rWk8Yb7mLUay"
      }
    },
    {
      "cell_type": "code",
      "source": [
        "\n",
        "!wget -q https://archive.apache.org/dist/spark/spark-3.4.3/spark-3.4.3-bin-hadoop3.tgz"
      ],
      "metadata": {
        "id": "wRYCBwwHLYGh"
      },
      "execution_count": 10,
      "outputs": []
    },
    {
      "cell_type": "markdown",
      "source": [
        "**Extracting the Downloaded Apache Spark File**"
      ],
      "metadata": {
        "id": "024aFfrUMntn"
      }
    },
    {
      "cell_type": "code",
      "source": [
        "!tar xf /content/spark-3.4.3-bin-hadoop3.tgz"
      ],
      "metadata": {
        "id": "F-S_fvfoMuy8"
      },
      "execution_count": 11,
      "outputs": []
    },
    {
      "cell_type": "markdown",
      "source": [
        "**Installing Spark**"
      ],
      "metadata": {
        "id": "_0YXVP9gNflt"
      }
    },
    {
      "cell_type": "code",
      "source": [
        "!pip install -q findspark"
      ],
      "metadata": {
        "id": "xuEJIR7ONiOZ"
      },
      "execution_count": 12,
      "outputs": []
    },
    {
      "cell_type": "code",
      "source": [
        "!pip install pyspark"
      ],
      "metadata": {
        "colab": {
          "base_uri": "https://localhost:8080/"
        },
        "id": "i0mvvvB6NszA",
        "outputId": "ef64f528-4e15-4b54-c486-d9098dd75cd1"
      },
      "execution_count": null,
      "outputs": [
        {
          "output_type": "stream",
          "name": "stdout",
          "text": [
            "Requirement already satisfied: pyspark in /usr/local/lib/python3.10/dist-packages (3.5.1)\n",
            "Requirement already satisfied: py4j==0.10.9.7 in /usr/local/lib/python3.10/dist-packages (from pyspark) (0.10.9.7)\n"
          ]
        }
      ]
    },
    {
      "cell_type": "code",
      "source": [
        "!pip install py4j"
      ],
      "metadata": {
        "colab": {
          "base_uri": "https://localhost:8080/"
        },
        "id": "0mugzYJ1OJd9",
        "outputId": "2457542d-4d33-4596-db81-956fe117919b"
      },
      "execution_count": 13,
      "outputs": [
        {
          "output_type": "stream",
          "name": "stdout",
          "text": [
            "Requirement already satisfied: py4j in /usr/local/lib/python3.11/dist-packages (0.10.9.7)\n"
          ]
        }
      ]
    },
    {
      "cell_type": "markdown",
      "source": [
        "**Importing Necessary Libraries**"
      ],
      "metadata": {
        "id": "2ns3J3uqOZXD"
      }
    },
    {
      "cell_type": "code",
      "source": [
        "import os\n",
        "import sys\n",
        "\n",
        "import findspark\n",
        "findspark.init()\n",
        "findspark.find()\n",
        "\n",
        "import pyspark\n",
        "from pyspark.sql import DataFrame, SparkSession\n",
        "from pyspark.sql import functions as F\n",
        "from pyspark.sql import types as T\n",
        "\n",
        "\n"
      ],
      "metadata": {
        "id": "gk2Dda33OcGY"
      },
      "execution_count": 14,
      "outputs": []
    },
    {
      "cell_type": "markdown",
      "source": [
        "**Starting Pyspark Session**"
      ],
      "metadata": {
        "id": "2R0RAzokPcMV"
      }
    },
    {
      "cell_type": "code",
      "source": [
        "spark = SparkSession \\\n",
        "        .builder \\\n",
        "        .appName(\"PySpark Shell\") \\\n",
        "        .getOrCreate()\n",
        "\n",
        "spark"
      ],
      "metadata": {
        "colab": {
          "base_uri": "https://localhost:8080/",
          "height": 219
        },
        "id": "IKdelOt6PfVl",
        "outputId": "5cc8636e-8a73-4606-c4a1-83d92b2f476d"
      },
      "execution_count": 15,
      "outputs": [
        {
          "output_type": "execute_result",
          "data": {
            "text/plain": [
              "<pyspark.sql.session.SparkSession at 0x7903d8398590>"
            ],
            "text/html": [
              "\n",
              "            <div>\n",
              "                <p><b>SparkSession - in-memory</b></p>\n",
              "                \n",
              "        <div>\n",
              "            <p><b>SparkContext</b></p>\n",
              "\n",
              "            <p><a href=\"http://d9aa6080ce92:4040\">Spark UI</a></p>\n",
              "\n",
              "            <dl>\n",
              "              <dt>Version</dt>\n",
              "                <dd><code>v3.5.1</code></dd>\n",
              "              <dt>Master</dt>\n",
              "                <dd><code>local[*]</code></dd>\n",
              "              <dt>AppName</dt>\n",
              "                <dd><code>PySpark Shell</code></dd>\n",
              "            </dl>\n",
              "        </div>\n",
              "        \n",
              "            </div>\n",
              "        "
            ]
          },
          "metadata": {},
          "execution_count": 15
        }
      ]
    },
    {
      "cell_type": "markdown",
      "source": [
        "We Are Using The US_youtube_trending_data.\n",
        "The Dataset is from Kaggle.\n",
        "Dataset Link is: https://www.kaggle.com/datasets/rsrishav/youtube-trending-video-dataset/data?select=US_youtube_trending_data.csv"
      ],
      "metadata": {
        "id": "DYByKUSHQGcw"
      }
    },
    {
      "cell_type": "markdown",
      "source": [
        "The Dataset Size is around 390.2 MB. It;s been stored in Google Drive.\n",
        "\n",
        "Now we will mount google drive here."
      ],
      "metadata": {
        "id": "Ffl-nuHHQfV2"
      }
    },
    {
      "cell_type": "markdown",
      "source": [
        "**Mounting Google Drive**"
      ],
      "metadata": {
        "id": "UPCsOmElQs7B"
      }
    },
    {
      "cell_type": "code",
      "source": [
        "from google.colab import drive\n",
        "drive.mount('/content/drive')"
      ],
      "metadata": {
        "colab": {
          "base_uri": "https://localhost:8080/"
        },
        "id": "x11ALXS4Qvpf",
        "outputId": "f624a01f-9ff3-4e94-8467-ac94ace46fa8"
      },
      "execution_count": 17,
      "outputs": [
        {
          "output_type": "stream",
          "name": "stdout",
          "text": [
            "Mounted at /content/drive\n"
          ]
        }
      ]
    },
    {
      "cell_type": "markdown",
      "source": [
        "**Setting Up the Dataset Path**"
      ],
      "metadata": {
        "id": "b5S-YeRQRJD1"
      }
    },
    {
      "cell_type": "code",
      "source": [
        "path_dataset = \"/content/drive/MyDrive/Big Data Processing/US_youtube_trending_data.csv\""
      ],
      "metadata": {
        "id": "W6kzHH8zRQzM"
      },
      "execution_count": 18,
      "outputs": []
    },
    {
      "cell_type": "markdown",
      "source": [
        "**Importing and Reading the Data**"
      ],
      "metadata": {
        "id": "vkuBmqgJRZut"
      }
    },
    {
      "cell_type": "code",
      "source": [
        "df = spark.read.option(\"wholeFile\",True) \\\n",
        "               .option(\"multiline\",True) \\\n",
        "               .option(\"header\", True) \\\n",
        "               .option(\"inferSchema\", True) \\\n",
        "               .csv(path_dataset)"
      ],
      "metadata": {
        "id": "stZVzZZ-Rbgv"
      },
      "execution_count": 19,
      "outputs": []
    },
    {
      "cell_type": "markdown",
      "source": [
        "**Basic Exploaration and Row Count of The Dataset**"
      ],
      "metadata": {
        "id": "DCdxT4xQSQwq"
      }
    },
    {
      "cell_type": "code",
      "source": [
        "df.describe().show()"
      ],
      "metadata": {
        "colab": {
          "base_uri": "https://localhost:8080/"
        },
        "id": "FtcSb0RgSVCs",
        "outputId": "727e1ea4-5802-4577-95a1-c6ca4b1ebc01"
      },
      "execution_count": 20,
      "outputs": [
        {
          "output_type": "stream",
          "name": "stdout",
          "text": [
            "+-------+-----------+--------------------+--------------------+--------------------+------------------+--------------------+------------------+------------------+-----------------+------------------+--------------------+--------------------+\n",
            "|summary|   video_id|               title|           channelId|        channelTitle|        categoryId|                tags|        view_count|             likes|         dislikes|     comment_count|      thumbnail_link|         description|\n",
            "+-------+-----------+--------------------+--------------------+--------------------+------------------+--------------------+------------------+------------------+-----------------+------------------+--------------------+--------------------+\n",
            "|  count|     268787|              268787|              268787|              268787|            268787|              268787|            268787|            268787|           268787|            268787|              268787|              264238|\n",
            "|   mean|       NULL|  31.657142857142855|                NULL|                NULL|18.743510660857854|              1975.0|2734467.2111374433|131469.74210062242|1134.277494819318|10143.031418930232|                NULL|                NULL|\n",
            "| stddev|       NULL|  31.351968791288805|                NULL|                NULL| 6.786562455115187|                 0.0| 9794087.113924079|453946.92597103893|8047.291314898513| 72608.52721643366|                NULL|                NULL|\n",
            "|    min|--14w5SOEUs| WOW!!!  - Rich E...|UC--3pN-wtQrC48GA...| 3 Southern Cats ...|                 1|#1 Absolute Best ...|                 0|                 0|                0|                 0|https://i.ytimg.c...| Dont Let Me Go  ...|\n",
            "|    max|zzvtP3jMIME|🦝Raccoon Powers ...|UCzznO4xSV8BKnUBP...|       행복지수 103%|                29|🚨FA CUP FINAL BO...|        1407643634|          16021534|           879354|           6738537|https://i.ytimg.c...|🩸LET’S EAT🩸Sink...|\n",
            "+-------+-----------+--------------------+--------------------+--------------------+------------------+--------------------+------------------+------------------+-----------------+------------------+--------------------+--------------------+\n",
            "\n"
          ]
        }
      ]
    },
    {
      "cell_type": "code",
      "source": [
        "number_of_rows = df.count()"
      ],
      "metadata": {
        "id": "TLniAW2eSxmi"
      },
      "execution_count": 21,
      "outputs": []
    },
    {
      "cell_type": "code",
      "source": [
        "number_of_rows"
      ],
      "metadata": {
        "colab": {
          "base_uri": "https://localhost:8080/"
        },
        "id": "R4JUSvgKS8EZ",
        "outputId": "81749283-cdaf-443d-e47f-da140f0bfe81"
      },
      "execution_count": 22,
      "outputs": [
        {
          "output_type": "execute_result",
          "data": {
            "text/plain": [
              "268787"
            ]
          },
          "metadata": {},
          "execution_count": 22
        }
      ]
    },
    {
      "cell_type": "code",
      "source": [
        "df.show()"
      ],
      "metadata": {
        "colab": {
          "base_uri": "https://localhost:8080/"
        },
        "id": "FUMAUzWP3Q6A",
        "outputId": "06afdab0-92a6-4cab-c119-17fd0d6dcb40"
      },
      "execution_count": 23,
      "outputs": [
        {
          "output_type": "stream",
          "name": "stdout",
          "text": [
            "+-----------+--------------------+-------------------+--------------------+--------------------+----------+-------------------+--------------------+----------+------+--------+-------------+--------------------+-----------------+----------------+--------------------+\n",
            "|   video_id|               title|        publishedAt|           channelId|        channelTitle|categoryId|      trending_date|                tags|view_count| likes|dislikes|comment_count|      thumbnail_link|comments_disabled|ratings_disabled|         description|\n",
            "+-----------+--------------------+-------------------+--------------------+--------------------+----------+-------------------+--------------------+----------+------+--------+-------------+--------------------+-----------------+----------------+--------------------+\n",
            "|3C66w5Z0ixs|I ASKED HER TO BE...|2020-08-11 19:20:14|UCvtRTOMP2TqYqu51...|            Brawadis|        22|2020-08-12 00:00:00|brawadis|prank|ba...|   1514614|156908|    5855|        35313|https://i.ytimg.c...|            false|           false|SUBSCRIBE to BRAW...|\n",
            "|M9Pmf9AB4Mo|Apex Legends | St...|2020-08-11 17:00:10|UC0ZV6M2THA81QT9h...|        Apex Legends|        20|2020-08-12 00:00:00|Apex Legends|Apex...|   2381688|146739|    2794|        16549|https://i.ytimg.c...|            false|           false|While running her...|\n",
            "|J78aPJ3VyNs|I left youtube fo...|2020-08-11 16:34:06|UCYzPXprvl5Y-Sf0g...|       jacksepticeye|        24|2020-08-12 00:00:00|jacksepticeye|fun...|   2038853|353787|    2628|        40221|https://i.ytimg.c...|            false|           false|I left youtube fo...|\n",
            "|kXLn3HkpjaA|XXL 2020 Freshman...|2020-08-11 16:38:55|UCbg_UMjlHJg_19SZ...|                 XXL|        10|2020-08-12 00:00:00|xxl freshman|xxl ...|    496771| 23251|    1856|         7647|https://i.ytimg.c...|            false|           false|Subscribe to XXL ...|\n",
            "|VIUo6yapDbc|Ultimate DIY Home...|2020-08-11 15:10:05|UCDVPcEbVLQgLZX0R...|            Mr. Kate|        26|2020-08-12 00:00:00|The LaBrant Famil...|   1123889| 45802|     964|         2196|https://i.ytimg.c...|            false|           false|Transforming The ...|\n",
            "|w-aidBdvZo8|I Haven't Been Ho...|2020-08-11 20:00:04|UC5zJwsFtEs9WYe3A...|      Professor Live|        24|2020-08-12 00:00:00|Professor injury|...|    949491| 77487|     746|         7506|https://i.ytimg.c...|            false|           false|Subscribe To My C...|\n",
            "|uet14uf9NsE|OUR FIRST FAMILY ...|2020-08-12 00:17:41|UCDSJCBYqL7VQrlXf...|       Les Do Makeup|        26|2020-08-12 00:00:00|              [None]|    470446| 47990|     440|         4558|https://i.ytimg.c...|            false|           false|Hi babygirls!  Th...|\n",
            "|ua4QMFQATco|  CGP Grey was WRONG|2020-08-11 17:15:11|UC2C_jShtL725hvbm...|            CGP Grey|        27|2020-08-12 00:00:00|cgpgrey|education...|   1050143| 89190|     854|         6455|https://i.ytimg.c...|            false|           false|‣ What Was TEKOI:...|\n",
            "|SnsPZj91R7E|SURPRISING MY DAD...|2020-08-10 22:26:59|UCZDdF_p-L88NWVpz...|        Louie's Life|        24|2020-08-12 00:00:00|surprising|dad|fa...|   1402687| 95694|    2158|         6613|https://i.ytimg.c...|            false|           false|Since I was littl...|\n",
            "|SsWHMAhshPQ|Ovi x Natanael Ca...|2020-08-11 23:00:10|UC648rgJOboZlgcDb...|      Rancho Humilde|        10|2020-08-12 00:00:00|Vengo De Nada|Ale...|    741028|113983|    4373|         5618|https://i.ytimg.c...|            false|           false|Vengo De Nada - O...|\n",
            "|49Z6Mv4_WCA|i don't know what...|2020-08-11 20:24:34|UCtinbF-Q-fVthA0q...|        CaseyNeistat|        22|2020-08-12 00:00:00|              [None]|    940036| 87111|    1860|         7052|https://i.ytimg.c...|            false|           false|ssend love to my ...|\n",
            "|nt3VVyv5pxQ|Try Not To Laugh ...|2020-08-11 17:00:31|UCYJPby9DRCteedh5...|           Smosh Pit|        22|2020-08-12 00:00:00|smosh|smosh pit|s...|    591837| 44168|     409|         2652|https://i.ytimg.c...|            false|           false|You know what tim...|\n",
            "|I6hswz4rIrU|Rainbow Six Siege...|2020-08-11 17:13:53|UCBMvc6jvuTxH6TNo...|Ubisoft North Ame...|        20|2020-08-12 00:00:00|R6|R6S|Siege|New ...|    320872| 14288|     774|         2085|https://i.ytimg.c...|            false|           false|“Prepare. Execute...|\n",
            "|W7VK4DUHvKU|Lil Yachty & Futu...|2020-08-11 19:00:10|UC1X3TRsCt36QPjF1...|       LilYachtyVEVO|        10|2020-08-12 00:00:00|Lil Yachty|Lil Bo...|    413372| 26440|     293|         1495|https://i.ytimg.c...|            false|           false|Watch the officia...|\n",
            "|W9Aen8hG20Y|When Our Generati...|2020-08-10 22:33:48|UCR9NuNwCUIhMOLUQ...|           Kyle Exum|        23|2020-08-12 00:00:00|When Our Generati...|    921261|124183|    1678|        16460|https://i.ytimg.c...|            false|           false|500,000 Likes and...|\n",
            "|BNeDH6UTmXw|Ten Minutes with ...|2020-08-11 22:00:05|UCMw7m-ScQ6jV1FQz...|       Tyler Cameron|        22|2020-08-12 00:00:00|the bachelor|the ...|    105955|  4511|      69|          673|https://i.ytimg.c...|            false|           false|Come hang out me ...|\n",
            "|6TIsR_7nrNc|Kylie Jenner Reac...|2020-08-10 18:41:19|UC2rJLq19N0dGrxfi...|       HollywoodLife|        24|2020-08-12 00:00:00|kylie jenner|kend...|   1007540| 10102|    7932|         2763|https://i.ytimg.c...|            false|           false|Kylie Jenner diss...|\n",
            "|gPdUslndvVI|Our Farm Got Dest...|2020-08-11 23:00:06|UCuxlXCfVyV-i5YLL...|   Cole The Cornstar|        22|2020-08-12 00:00:00|farming|family fa...|    277338| 37533|     197|         3666|https://i.ytimg.c...|            false|           false|Wind storm, rain,...|\n",
            "|GTp-0S82guE|      Time to Talk..|2020-08-11 12:04:40|UCCgLoMYIyP0U56dE...|          Chloe Ting|        26|2020-08-12 00:00:00|chloe ting|chloet...|   1648441|130147|    1425|        15773|https://i.ytimg.c...|            false|           false|I talked about so...|\n",
            "|jbGRowa5tIk|ITZY “Not Shy” M/...|2020-08-11 15:00:13|UCaO6TYtlC8U5ttz6...|   JYP Entertainment|        10|2020-08-12 00:00:00|JYP Entertainment...|   5999732|714287|   15174|        31039|https://i.ytimg.c...|            false|           false|ITZY Not Shy M/V[...|\n",
            "+-----------+--------------------+-------------------+--------------------+--------------------+----------+-------------------+--------------------+----------+------+--------+-------------+--------------------+-----------------+----------------+--------------------+\n",
            "only showing top 20 rows\n",
            "\n"
          ]
        }
      ]
    },
    {
      "cell_type": "markdown",
      "source": [
        "**Schema Changes to Two Time-Related Variables**"
      ],
      "metadata": {
        "id": "0BeAzdJu3bwQ"
      }
    },
    {
      "cell_type": "code",
      "source": [
        "from pyspark.sql.functions import to_timestamp\n",
        "# Alter the data type of the \"publishedAt\" column to timestamp\n",
        "df = df.withColumn(\"publishedAt\", to_timestamp(df[\"publishedAt\"], \"yyyy-MM-dd'T'HH:mm:ss'Z'\"))\n",
        "\n",
        "# Show the DataFrame with the altered data type\n",
        "df.printSchema()"
      ],
      "metadata": {
        "colab": {
          "base_uri": "https://localhost:8080/"
        },
        "id": "y-x7-OqN3mfH",
        "outputId": "26ee9f84-6a57-4480-8bea-bb2c834f4221"
      },
      "execution_count": 24,
      "outputs": [
        {
          "output_type": "stream",
          "name": "stdout",
          "text": [
            "root\n",
            " |-- video_id: string (nullable = true)\n",
            " |-- title: string (nullable = true)\n",
            " |-- publishedAt: timestamp (nullable = true)\n",
            " |-- channelId: string (nullable = true)\n",
            " |-- channelTitle: string (nullable = true)\n",
            " |-- categoryId: integer (nullable = true)\n",
            " |-- trending_date: timestamp (nullable = true)\n",
            " |-- tags: string (nullable = true)\n",
            " |-- view_count: integer (nullable = true)\n",
            " |-- likes: integer (nullable = true)\n",
            " |-- dislikes: integer (nullable = true)\n",
            " |-- comment_count: integer (nullable = true)\n",
            " |-- thumbnail_link: string (nullable = true)\n",
            " |-- comments_disabled: boolean (nullable = true)\n",
            " |-- ratings_disabled: boolean (nullable = true)\n",
            " |-- description: string (nullable = true)\n",
            "\n"
          ]
        }
      ]
    },
    {
      "cell_type": "code",
      "source": [
        "df.show()"
      ],
      "metadata": {
        "colab": {
          "base_uri": "https://localhost:8080/"
        },
        "id": "okhXXgmU33EI",
        "outputId": "e52ab012-4a93-4679-cb33-43c26aa9b5b8"
      },
      "execution_count": 25,
      "outputs": [
        {
          "output_type": "stream",
          "name": "stdout",
          "text": [
            "+-----------+--------------------+-------------------+--------------------+--------------------+----------+-------------------+--------------------+----------+------+--------+-------------+--------------------+-----------------+----------------+--------------------+\n",
            "|   video_id|               title|        publishedAt|           channelId|        channelTitle|categoryId|      trending_date|                tags|view_count| likes|dislikes|comment_count|      thumbnail_link|comments_disabled|ratings_disabled|         description|\n",
            "+-----------+--------------------+-------------------+--------------------+--------------------+----------+-------------------+--------------------+----------+------+--------+-------------+--------------------+-----------------+----------------+--------------------+\n",
            "|3C66w5Z0ixs|I ASKED HER TO BE...|2020-08-11 19:20:14|UCvtRTOMP2TqYqu51...|            Brawadis|        22|2020-08-12 00:00:00|brawadis|prank|ba...|   1514614|156908|    5855|        35313|https://i.ytimg.c...|            false|           false|SUBSCRIBE to BRAW...|\n",
            "|M9Pmf9AB4Mo|Apex Legends | St...|2020-08-11 17:00:10|UC0ZV6M2THA81QT9h...|        Apex Legends|        20|2020-08-12 00:00:00|Apex Legends|Apex...|   2381688|146739|    2794|        16549|https://i.ytimg.c...|            false|           false|While running her...|\n",
            "|J78aPJ3VyNs|I left youtube fo...|2020-08-11 16:34:06|UCYzPXprvl5Y-Sf0g...|       jacksepticeye|        24|2020-08-12 00:00:00|jacksepticeye|fun...|   2038853|353787|    2628|        40221|https://i.ytimg.c...|            false|           false|I left youtube fo...|\n",
            "|kXLn3HkpjaA|XXL 2020 Freshman...|2020-08-11 16:38:55|UCbg_UMjlHJg_19SZ...|                 XXL|        10|2020-08-12 00:00:00|xxl freshman|xxl ...|    496771| 23251|    1856|         7647|https://i.ytimg.c...|            false|           false|Subscribe to XXL ...|\n",
            "|VIUo6yapDbc|Ultimate DIY Home...|2020-08-11 15:10:05|UCDVPcEbVLQgLZX0R...|            Mr. Kate|        26|2020-08-12 00:00:00|The LaBrant Famil...|   1123889| 45802|     964|         2196|https://i.ytimg.c...|            false|           false|Transforming The ...|\n",
            "|w-aidBdvZo8|I Haven't Been Ho...|2020-08-11 20:00:04|UC5zJwsFtEs9WYe3A...|      Professor Live|        24|2020-08-12 00:00:00|Professor injury|...|    949491| 77487|     746|         7506|https://i.ytimg.c...|            false|           false|Subscribe To My C...|\n",
            "|uet14uf9NsE|OUR FIRST FAMILY ...|2020-08-12 00:17:41|UCDSJCBYqL7VQrlXf...|       Les Do Makeup|        26|2020-08-12 00:00:00|              [None]|    470446| 47990|     440|         4558|https://i.ytimg.c...|            false|           false|Hi babygirls!  Th...|\n",
            "|ua4QMFQATco|  CGP Grey was WRONG|2020-08-11 17:15:11|UC2C_jShtL725hvbm...|            CGP Grey|        27|2020-08-12 00:00:00|cgpgrey|education...|   1050143| 89190|     854|         6455|https://i.ytimg.c...|            false|           false|‣ What Was TEKOI:...|\n",
            "|SnsPZj91R7E|SURPRISING MY DAD...|2020-08-10 22:26:59|UCZDdF_p-L88NWVpz...|        Louie's Life|        24|2020-08-12 00:00:00|surprising|dad|fa...|   1402687| 95694|    2158|         6613|https://i.ytimg.c...|            false|           false|Since I was littl...|\n",
            "|SsWHMAhshPQ|Ovi x Natanael Ca...|2020-08-11 23:00:10|UC648rgJOboZlgcDb...|      Rancho Humilde|        10|2020-08-12 00:00:00|Vengo De Nada|Ale...|    741028|113983|    4373|         5618|https://i.ytimg.c...|            false|           false|Vengo De Nada - O...|\n",
            "|49Z6Mv4_WCA|i don't know what...|2020-08-11 20:24:34|UCtinbF-Q-fVthA0q...|        CaseyNeistat|        22|2020-08-12 00:00:00|              [None]|    940036| 87111|    1860|         7052|https://i.ytimg.c...|            false|           false|ssend love to my ...|\n",
            "|nt3VVyv5pxQ|Try Not To Laugh ...|2020-08-11 17:00:31|UCYJPby9DRCteedh5...|           Smosh Pit|        22|2020-08-12 00:00:00|smosh|smosh pit|s...|    591837| 44168|     409|         2652|https://i.ytimg.c...|            false|           false|You know what tim...|\n",
            "|I6hswz4rIrU|Rainbow Six Siege...|2020-08-11 17:13:53|UCBMvc6jvuTxH6TNo...|Ubisoft North Ame...|        20|2020-08-12 00:00:00|R6|R6S|Siege|New ...|    320872| 14288|     774|         2085|https://i.ytimg.c...|            false|           false|“Prepare. Execute...|\n",
            "|W7VK4DUHvKU|Lil Yachty & Futu...|2020-08-11 19:00:10|UC1X3TRsCt36QPjF1...|       LilYachtyVEVO|        10|2020-08-12 00:00:00|Lil Yachty|Lil Bo...|    413372| 26440|     293|         1495|https://i.ytimg.c...|            false|           false|Watch the officia...|\n",
            "|W9Aen8hG20Y|When Our Generati...|2020-08-10 22:33:48|UCR9NuNwCUIhMOLUQ...|           Kyle Exum|        23|2020-08-12 00:00:00|When Our Generati...|    921261|124183|    1678|        16460|https://i.ytimg.c...|            false|           false|500,000 Likes and...|\n",
            "|BNeDH6UTmXw|Ten Minutes with ...|2020-08-11 22:00:05|UCMw7m-ScQ6jV1FQz...|       Tyler Cameron|        22|2020-08-12 00:00:00|the bachelor|the ...|    105955|  4511|      69|          673|https://i.ytimg.c...|            false|           false|Come hang out me ...|\n",
            "|6TIsR_7nrNc|Kylie Jenner Reac...|2020-08-10 18:41:19|UC2rJLq19N0dGrxfi...|       HollywoodLife|        24|2020-08-12 00:00:00|kylie jenner|kend...|   1007540| 10102|    7932|         2763|https://i.ytimg.c...|            false|           false|Kylie Jenner diss...|\n",
            "|gPdUslndvVI|Our Farm Got Dest...|2020-08-11 23:00:06|UCuxlXCfVyV-i5YLL...|   Cole The Cornstar|        22|2020-08-12 00:00:00|farming|family fa...|    277338| 37533|     197|         3666|https://i.ytimg.c...|            false|           false|Wind storm, rain,...|\n",
            "|GTp-0S82guE|      Time to Talk..|2020-08-11 12:04:40|UCCgLoMYIyP0U56dE...|          Chloe Ting|        26|2020-08-12 00:00:00|chloe ting|chloet...|   1648441|130147|    1425|        15773|https://i.ytimg.c...|            false|           false|I talked about so...|\n",
            "|jbGRowa5tIk|ITZY “Not Shy” M/...|2020-08-11 15:00:13|UCaO6TYtlC8U5ttz6...|   JYP Entertainment|        10|2020-08-12 00:00:00|JYP Entertainment...|   5999732|714287|   15174|        31039|https://i.ytimg.c...|            false|           false|ITZY Not Shy M/V[...|\n",
            "+-----------+--------------------+-------------------+--------------------+--------------------+----------+-------------------+--------------------+----------+------+--------+-------------+--------------------+-----------------+----------------+--------------------+\n",
            "only showing top 20 rows\n",
            "\n"
          ]
        }
      ]
    },
    {
      "cell_type": "markdown",
      "source": [
        "**Check for Missing Values**"
      ],
      "metadata": {
        "id": "0ajr6eFA4MZ8"
      }
    },
    {
      "cell_type": "code",
      "source": [
        "from pyspark.sql.functions import col\n",
        "\n",
        "# Iterate over each column and check for missing values\n",
        "columns_with_missing_values = []\n",
        "\n",
        "for column in df.columns:\n",
        "    missing_count = df.where(col(column).isNull()).count()\n",
        "    if missing_count > 0:\n",
        "        columns_with_missing_values.append(column)\n",
        "\n",
        "# Print the columns with missing values\n",
        "print(\"Columns with missing values:\", columns_with_missing_values)"
      ],
      "metadata": {
        "colab": {
          "base_uri": "https://localhost:8080/"
        },
        "id": "ld7jj7MS4O00",
        "outputId": "84479b5e-070f-4681-ed55-1555d4e767ce"
      },
      "execution_count": 26,
      "outputs": [
        {
          "output_type": "stream",
          "name": "stdout",
          "text": [
            "Columns with missing values: ['description']\n"
          ]
        }
      ]
    },
    {
      "cell_type": "markdown",
      "source": [
        "Description column has missing values, more clearly empty values. We will drop description column from the dataframe."
      ],
      "metadata": {
        "id": "R7SH8MhI5tfi"
      }
    },
    {
      "cell_type": "markdown",
      "source": [
        "**Dropping the description Column**"
      ],
      "metadata": {
        "id": "uVvURo0R52_N"
      }
    },
    {
      "cell_type": "code",
      "source": [
        "# Drop the \"description\" column\n",
        "df = df.drop(\"description\")\n",
        "\n",
        "# Show the DataFrame after dropping the column\n",
        "df.show()"
      ],
      "metadata": {
        "colab": {
          "base_uri": "https://localhost:8080/"
        },
        "id": "LxRCurvV56mA",
        "outputId": "5f452b16-d1b7-4794-cd58-36ce40179432"
      },
      "execution_count": 27,
      "outputs": [
        {
          "output_type": "stream",
          "name": "stdout",
          "text": [
            "+-----------+--------------------+-------------------+--------------------+--------------------+----------+-------------------+--------------------+----------+------+--------+-------------+--------------------+-----------------+----------------+\n",
            "|   video_id|               title|        publishedAt|           channelId|        channelTitle|categoryId|      trending_date|                tags|view_count| likes|dislikes|comment_count|      thumbnail_link|comments_disabled|ratings_disabled|\n",
            "+-----------+--------------------+-------------------+--------------------+--------------------+----------+-------------------+--------------------+----------+------+--------+-------------+--------------------+-----------------+----------------+\n",
            "|3C66w5Z0ixs|I ASKED HER TO BE...|2020-08-11 19:20:14|UCvtRTOMP2TqYqu51...|            Brawadis|        22|2020-08-12 00:00:00|brawadis|prank|ba...|   1514614|156908|    5855|        35313|https://i.ytimg.c...|            false|           false|\n",
            "|M9Pmf9AB4Mo|Apex Legends | St...|2020-08-11 17:00:10|UC0ZV6M2THA81QT9h...|        Apex Legends|        20|2020-08-12 00:00:00|Apex Legends|Apex...|   2381688|146739|    2794|        16549|https://i.ytimg.c...|            false|           false|\n",
            "|J78aPJ3VyNs|I left youtube fo...|2020-08-11 16:34:06|UCYzPXprvl5Y-Sf0g...|       jacksepticeye|        24|2020-08-12 00:00:00|jacksepticeye|fun...|   2038853|353787|    2628|        40221|https://i.ytimg.c...|            false|           false|\n",
            "|kXLn3HkpjaA|XXL 2020 Freshman...|2020-08-11 16:38:55|UCbg_UMjlHJg_19SZ...|                 XXL|        10|2020-08-12 00:00:00|xxl freshman|xxl ...|    496771| 23251|    1856|         7647|https://i.ytimg.c...|            false|           false|\n",
            "|VIUo6yapDbc|Ultimate DIY Home...|2020-08-11 15:10:05|UCDVPcEbVLQgLZX0R...|            Mr. Kate|        26|2020-08-12 00:00:00|The LaBrant Famil...|   1123889| 45802|     964|         2196|https://i.ytimg.c...|            false|           false|\n",
            "|w-aidBdvZo8|I Haven't Been Ho...|2020-08-11 20:00:04|UC5zJwsFtEs9WYe3A...|      Professor Live|        24|2020-08-12 00:00:00|Professor injury|...|    949491| 77487|     746|         7506|https://i.ytimg.c...|            false|           false|\n",
            "|uet14uf9NsE|OUR FIRST FAMILY ...|2020-08-12 00:17:41|UCDSJCBYqL7VQrlXf...|       Les Do Makeup|        26|2020-08-12 00:00:00|              [None]|    470446| 47990|     440|         4558|https://i.ytimg.c...|            false|           false|\n",
            "|ua4QMFQATco|  CGP Grey was WRONG|2020-08-11 17:15:11|UC2C_jShtL725hvbm...|            CGP Grey|        27|2020-08-12 00:00:00|cgpgrey|education...|   1050143| 89190|     854|         6455|https://i.ytimg.c...|            false|           false|\n",
            "|SnsPZj91R7E|SURPRISING MY DAD...|2020-08-10 22:26:59|UCZDdF_p-L88NWVpz...|        Louie's Life|        24|2020-08-12 00:00:00|surprising|dad|fa...|   1402687| 95694|    2158|         6613|https://i.ytimg.c...|            false|           false|\n",
            "|SsWHMAhshPQ|Ovi x Natanael Ca...|2020-08-11 23:00:10|UC648rgJOboZlgcDb...|      Rancho Humilde|        10|2020-08-12 00:00:00|Vengo De Nada|Ale...|    741028|113983|    4373|         5618|https://i.ytimg.c...|            false|           false|\n",
            "|49Z6Mv4_WCA|i don't know what...|2020-08-11 20:24:34|UCtinbF-Q-fVthA0q...|        CaseyNeistat|        22|2020-08-12 00:00:00|              [None]|    940036| 87111|    1860|         7052|https://i.ytimg.c...|            false|           false|\n",
            "|nt3VVyv5pxQ|Try Not To Laugh ...|2020-08-11 17:00:31|UCYJPby9DRCteedh5...|           Smosh Pit|        22|2020-08-12 00:00:00|smosh|smosh pit|s...|    591837| 44168|     409|         2652|https://i.ytimg.c...|            false|           false|\n",
            "|I6hswz4rIrU|Rainbow Six Siege...|2020-08-11 17:13:53|UCBMvc6jvuTxH6TNo...|Ubisoft North Ame...|        20|2020-08-12 00:00:00|R6|R6S|Siege|New ...|    320872| 14288|     774|         2085|https://i.ytimg.c...|            false|           false|\n",
            "|W7VK4DUHvKU|Lil Yachty & Futu...|2020-08-11 19:00:10|UC1X3TRsCt36QPjF1...|       LilYachtyVEVO|        10|2020-08-12 00:00:00|Lil Yachty|Lil Bo...|    413372| 26440|     293|         1495|https://i.ytimg.c...|            false|           false|\n",
            "|W9Aen8hG20Y|When Our Generati...|2020-08-10 22:33:48|UCR9NuNwCUIhMOLUQ...|           Kyle Exum|        23|2020-08-12 00:00:00|When Our Generati...|    921261|124183|    1678|        16460|https://i.ytimg.c...|            false|           false|\n",
            "|BNeDH6UTmXw|Ten Minutes with ...|2020-08-11 22:00:05|UCMw7m-ScQ6jV1FQz...|       Tyler Cameron|        22|2020-08-12 00:00:00|the bachelor|the ...|    105955|  4511|      69|          673|https://i.ytimg.c...|            false|           false|\n",
            "|6TIsR_7nrNc|Kylie Jenner Reac...|2020-08-10 18:41:19|UC2rJLq19N0dGrxfi...|       HollywoodLife|        24|2020-08-12 00:00:00|kylie jenner|kend...|   1007540| 10102|    7932|         2763|https://i.ytimg.c...|            false|           false|\n",
            "|gPdUslndvVI|Our Farm Got Dest...|2020-08-11 23:00:06|UCuxlXCfVyV-i5YLL...|   Cole The Cornstar|        22|2020-08-12 00:00:00|farming|family fa...|    277338| 37533|     197|         3666|https://i.ytimg.c...|            false|           false|\n",
            "|GTp-0S82guE|      Time to Talk..|2020-08-11 12:04:40|UCCgLoMYIyP0U56dE...|          Chloe Ting|        26|2020-08-12 00:00:00|chloe ting|chloet...|   1648441|130147|    1425|        15773|https://i.ytimg.c...|            false|           false|\n",
            "|jbGRowa5tIk|ITZY “Not Shy” M/...|2020-08-11 15:00:13|UCaO6TYtlC8U5ttz6...|   JYP Entertainment|        10|2020-08-12 00:00:00|JYP Entertainment...|   5999732|714287|   15174|        31039|https://i.ytimg.c...|            false|           false|\n",
            "+-----------+--------------------+-------------------+--------------------+--------------------+----------+-------------------+--------------------+----------+------+--------+-------------+--------------------+-----------------+----------------+\n",
            "only showing top 20 rows\n",
            "\n"
          ]
        }
      ]
    },
    {
      "cell_type": "markdown",
      "source": [
        "**Checking for Duplicate Data**"
      ],
      "metadata": {
        "id": "NfB2dOu16QHt"
      }
    },
    {
      "cell_type": "code",
      "source": [
        "# Check for duplicate rows\n",
        "duplicate_rows = df.groupBy(df.columns).count().filter(\"count > 1\")\n",
        "\n",
        "# Count the number of duplicate rows\n",
        "num_duplicate_rows = duplicate_rows.count()\n",
        "\n",
        "# Show the count of duplicate rows\n",
        "print(\"Number of duplicate rows:\", num_duplicate_rows)\n",
        "\n",
        "# Show duplicate rows\n",
        "if num_duplicate_rows > 0:\n",
        "    duplicate_rows.show()"
      ],
      "metadata": {
        "colab": {
          "base_uri": "https://localhost:8080/"
        },
        "id": "gsfvmGEm6SsD",
        "outputId": "3452ee0b-ee7b-4950-98c5-7c8de52ce43a"
      },
      "execution_count": 28,
      "outputs": [
        {
          "output_type": "stream",
          "name": "stdout",
          "text": [
            "Number of duplicate rows: 83\n",
            "+-----------+-----------------------+-------------------+--------------------+--------------------+----------+-------------------+---------------------------+----------+------+--------+-------------+--------------------+-----------------+----------------+-----+\n",
            "|   video_id|                  title|        publishedAt|           channelId|        channelTitle|categoryId|      trending_date|                       tags|view_count| likes|dislikes|comment_count|      thumbnail_link|comments_disabled|ratings_disabled|count|\n",
            "+-----------+-----------------------+-------------------+--------------------+--------------------+----------+-------------------+---------------------------+----------+------+--------+-------------+--------------------+-----------------+----------------+-----+\n",
            "|beJD7y1mGLA|   Awkwafina Gets Ho...|2021-02-18 16:00:21|UCPD_bxCRGpmmeQcb...|      First We Feast|        24|2021-02-24 00:00:00|       fwf|first we feas...|    808492| 26693|     709|         2524|https://i.ytimg.c...|            false|           false|    2|\n",
            "|_qKgj_mIvmE|   DRAGON BALL LEGEN...|2021-02-23 14:00:15|UCqly9F4Fr_jf2Y1C...|               876TV|        20|2021-02-24 00:00:00|876TV|876|バンダイナムコ...|    116363|     0|       0|            0|https://i.ytimg.c...|             true|            true|    2|\n",
            "|5nfQZHRSCW4|   PARIS SAINT-GERMA...|2021-02-22 01:03:46|UC58LMAlfwtGRNR6X...|Ligue 1 Uber Eats...|        17|2021-02-24 00:00:00|       PARIS SG AS MONAC...|    655111|  6797|     258|          709|https://i.ytimg.c...|            false|           false|    2|\n",
            "|dllm-HH0toI|   Barcelona vs. Par...|2021-02-16 22:10:26|UCET00YnetHT7tOpu...|Champions League ...|        17|2021-02-24 00:00:00|       Paris Saint-Germa...|   6001354| 87952|    2589|        12760|https://i.ytimg.c...|            false|           false|    2|\n",
            "|-pvTDf1Eq6M|   Ariana Grande - s...|2021-02-19 05:00:00|UC0VOyT2OCBKdQhF3...|    ArianaGrandeVevo|        10|2021-02-24 00:00:00|       Ariana|Grande|som...|   1034713|137850|     622|         8995|https://i.ytimg.c...|            false|           false|    2|\n",
            "|oN1wV9t8t7Q|   Kim Kardashian Fi...|2021-02-19 21:08:22|UCjDsbbzHgTrGc4Ff...|             E! News|        24|2021-02-24 00:00:00|       Top Stories|Enter...|    247006|  2742|     264|         1794|https://i.ytimg.c...|            false|           false|    2|\n",
            "|wY6UyatwVTA|   India claim stunn...|2021-01-19 08:21:09|UCkBY0aHJP9BwjZLD...|      cricket.com.au|        17|2021-02-24 00:00:00|       Australia|India|d...|  38392855|815258|   26267|        52339|https://i.ytimg.c...|            false|           false|    2|\n",
            "|espzsSHnpVg|   LILHUDDY - The Eu...|2021-02-18 05:00:18|UC9APf0VQtg1VriRF...|            LILHUDDY|        24|2021-02-24 00:00:00|                     [None]|    997538|111566|    2475|        10789|https://i.ytimg.c...|            false|           false|    2|\n",
            "|MojjjZFy96Y|   I tried every tri...|2021-02-17 20:00:06|UC3F1oQH65fdRrWPg...|              MERTZY|        20|2021-02-24 00:00:00|       rocket league|roc...|    802040| 36904|     292|         2023|https://i.ytimg.c...|            false|           false|    2|\n",
            "|V3Njs4ukH0k|   Serena Williams’ ...|2021-02-18 06:00:51|UCeTKJSW1NTAkf27n...|  Australian Open TV|        17|2021-02-24 00:00:00|       australian open|a...|   1107236|  5587|     973|         5685|https://i.ytimg.c...|            false|           false|    2|\n",
            "|8bxT98j2T8Y|   Kevo Muney - Leav...|2021-02-16 18:00:03|UCuxaxCwM-JEstB4i...|          Kevo Muney|        10|2021-02-24 00:00:00|       Kevo Muney|Kevin ...|    638246| 25502|     132|         1072|https://i.ytimg.c...|            false|           false|    2|\n",
            "|5HFehFpU_8M|   How Reddit almost...|2021-02-24 15:35:30|UC3iNdSV_RQU7DHTG...|       Andrei Terbea|        24|2021-02-26 00:00:00|       @andreiterbea|and...|    392098| 36588|     552|         3428|https://i.ytimg.c...|            false|           false|    2|\n",
            "|TPSr9eTmeKI|   POV you just turn...|2021-02-16 17:26:47|UCVIFCOJwv3emlVmB...|          Joel Haver|         1|2021-02-24 00:00:00|       Joel Haver|Trent ...|   1447015|177067|     713|         7348|https://i.ytimg.c...|            false|           false|    2|\n",
            "|VjiH3mpxyrQ|   How to Start an A...|2021-02-24 15:31:50|UC9RM-iSvTu1uPJb8...|Wendover Productions|        27|2021-02-26 00:00:00|                     [None]|    448881| 18965|     265|         1386|https://i.ytimg.c...|            false|           false|    2|\n",
            "|Zm6FIc_g8dg|I.M 아이엠 'GOD DAMN...|2021-02-17 13:19:02|UCYDmx2Sfpnaxg488...|          starshipTV|        10|2021-02-24 00:00:00|       Kpop|1theK|Starsh...|    290635| 68093|     191|         6456|https://i.ytimg.c...|            false|           false|    2|\n",
            "|pdgETk7oubY|            We Broke Up|2021-02-17 01:56:15|UCmFQwGOLKSoRUDd2...|          FaZe Blaze|        24|2021-02-24 00:00:00|       blaze|carrrington...|    440180| 42587|     968|         3440|https://i.ytimg.c...|            false|           false|    2|\n",
            "|f-YWsgAHR6A|   Using a TAP as Th...|2021-02-21 20:26:18|UC5NO8MgTQKHAWXp6...|       This Old Tony|        28|2021-02-24 00:00:00|       tap|metal cutting...|    427238| 29545|     244|         1513|https://i.ytimg.c...|            false|           false|    2|\n",
            "|xJO1SZmAghE|   Rainbow Six Siege...|2021-02-21 19:59:40|UCBMvc6jvuTxH6TNo...|Ubisoft North Ame...|        20|2021-02-24 00:00:00|       Flores|New Siege ...|    489098| 17127|     494|         2012|https://i.ytimg.c...|            false|           false|    2|\n",
            "|8IwHZD8Qnv8|   Trump Plaza implo...|2021-02-17 14:56:49|UCUUWDzrkuEztzdda...|              NJ.com|        25|2021-02-24 00:00:00|       nj.com|nj|new jer...|    733416|  6264|     836|            0|https://i.ytimg.c...|             true|           false|    2|\n",
            "|u613yk4RGGw|   Driving My Wrecke...|2021-02-17 18:15:02|UCvAhDxNNUDhi78tM...|            Tavarish|         2|2021-02-24 00:00:00|       aston martin|merc...|   1061571| 41331|     817|         2337|https://i.ytimg.c...|            false|           false|    2|\n",
            "+-----------+-----------------------+-------------------+--------------------+--------------------+----------+-------------------+---------------------------+----------+------+--------+-------------+--------------------+-----------------+----------------+-----+\n",
            "only showing top 20 rows\n",
            "\n"
          ]
        }
      ]
    },
    {
      "cell_type": "markdown",
      "source": [
        "Here is total number of 83 duplicate records, we will remove these 83 duplicate records."
      ],
      "metadata": {
        "id": "lqI4nYY-6v7g"
      }
    },
    {
      "cell_type": "markdown",
      "source": [
        "**Removing the Duplicates**"
      ],
      "metadata": {
        "id": "oQNBS21y66PP"
      }
    },
    {
      "cell_type": "code",
      "source": [
        "# Remove duplicate rows\n",
        "df_no_duplicates = df.dropDuplicates()\n",
        "\n",
        "# Show the DataFrame without duplicates\n",
        "df_no_duplicates.show()\n",
        "df_no_duplicates.count()"
      ],
      "metadata": {
        "colab": {
          "base_uri": "https://localhost:8080/"
        },
        "id": "pRZxzHXC68-H",
        "outputId": "bf575c62-bb18-43b8-b403-2f6fda19d1e6"
      },
      "execution_count": 29,
      "outputs": [
        {
          "output_type": "stream",
          "name": "stdout",
          "text": [
            "+-----------+--------------------+-------------------+--------------------+--------------------+----------+-------------------+--------------------+----------+------+--------+-------------+--------------------+-----------------+----------------+\n",
            "|   video_id|               title|        publishedAt|           channelId|        channelTitle|categoryId|      trending_date|                tags|view_count| likes|dislikes|comment_count|      thumbnail_link|comments_disabled|ratings_disabled|\n",
            "+-----------+--------------------+-------------------+--------------------+--------------------+----------+-------------------+--------------------+----------+------+--------+-------------+--------------------+-----------------+----------------+\n",
            "|gPdUslndvVI|Our Farm Got Dest...|2020-08-11 23:00:06|UCuxlXCfVyV-i5YLL...|   Cole The Cornstar|        22|2020-08-12 00:00:00|farming|family fa...|    277338| 37533|     197|         3666|https://i.ytimg.c...|            false|           false|\n",
            "|Que4RnxYLNc|iann dior – Prosp...|2020-08-11 19:15:10|UCtpzjafUx5qbmxJd...|           iann dior|        10|2020-08-13 00:00:00|iann dior|sadboy ...|    396034| 29035|     348|         2228|https://i.ytimg.c...|            false|           false|\n",
            "|vePc5V4h_kg|Shark Attack Test...|2020-08-09 16:00:11|UCY1kMZp36IQSyNx_...|          Mark Rober|        28|2020-08-13 00:00:00|sharks|sharkweek|...|  17106298|588843|   17271|        36110|https://i.ytimg.c...|            false|           false|\n",
            "|5JC2trEXxhE|Seattle Police Ch...|2020-08-11 04:24:58|UCp1KrVaZDZ7BOI_Q...|              KING 5|        25|2020-08-13 00:00:00|local|news|seattl...|    253872|  3672|     397|         4779|https://i.ytimg.c...|            false|           false|\n",
            "|nPO2XNDFWN0|Trey Songz - Circ...|2020-08-14 04:00:10|UC7DpParfqYQEbFGt...|          Trey Songz|        10|2020-08-14 00:00:00|trey songz|tremai...|    123406| 18540|     163|         1345|https://i.ytimg.c...|            false|           false|\n",
            "|2qnLZ1azPTo|4 Rotor Dyno made...|2020-08-15 16:00:01|UChg9P8du8Ykqy6Mb...|            Rob Dahm|         2|2020-08-17 00:00:00|Custom & Performa...|    246048| 13458|     193|         1369|https://i.ytimg.c...|            false|           false|\n",
            "|8yqpfLLG_vQ|JAMIE FOXX GAVE M...|2020-08-14 15:13:54|UCtinbF-Q-fVthA0q...|        CaseyNeistat|        22|2020-08-19 00:00:00|              [None]|   1403037| 81289|    1856|         4756|https://i.ytimg.c...|            false|           false|\n",
            "|EIzazUv2gtI|The Devil All The...|2020-08-13 13:00:01|UCWOA1ZGywLbqmigx...|             Netflix|        24|2020-08-19 00:00:00|Robert Pattinson|...|   8733381|302048|    5105|        20511|https://i.ytimg.c...|            false|           false|\n",
            "|b1reY72ktEc|The Russian Revol...|2020-08-18 00:00:10|UCNIuvl7V8zACPpTm...|      OverSimplified|        24|2020-08-22 00:00:00|russian revolutio...|   3580800|170355|    2627|        13469|https://i.ytimg.c...|            false|           false|\n",
            "|POMaMQ8wgyk|Polo G's 2020 XXL...|2020-08-18 16:01:58|UCbg_UMjlHJg_19SZ...|                 XXL|        10|2020-08-23 00:00:00|Freestyle|polo g|...|   2079605|187269|    1846|        11344|https://i.ytimg.c...|            false|           false|\n",
            "|JIqNeCbxICU|The Insanely Reve...|2020-08-18 17:45:16|UC5UYMeKfZbFYnLHz...|Schaffrillas Prod...|        24|2020-08-23 00:00:00|Schaffrillas Prod...|    594542| 46523|     366|         4166|https://i.ytimg.c...|            false|           false|\n",
            "|53PcrhnHuwQ|We Can't Hide Thi...|2020-08-20 18:49:37|UC-SV8-bUJfXjrRMn...|  Roman Atwood Vlogs|        22|2020-08-24 00:00:00|Roman|Atwood|The ...|   4158441|340710|    4238|        60461|https://i.ytimg.c...|            false|           false|\n",
            "|k_WvAH3AE1w|Maluma - Parce (O...|2020-08-21 04:00:09|UCFkoPRmuxqr37jvG...|          MalumaVEVO|        10|2020-08-24 00:00:00|Maluma|Maluma par...|  10990611|506688|   14649|        17582|https://i.ytimg.c...|            false|           false|\n",
            "|ZnCLJXclfn0|   No Guidance Remix|2020-08-19 08:26:21|UChTtw916Q_85fJJc...|Various Artists -...|        10|2020-08-25 00:00:00|Ayzha Nyree|No Gu...|   2422144| 57721|    1119|         1009|https://i.ytimg.c...|            false|           false|\n",
            "|1rjqHF4wclg|i learnt a new sw...|2020-08-20 01:52:04|UCqlYHUyC6DtxNc-N...|                cark|        24|2020-08-25 00:00:00|swear word|swear|...|   1161305|199538|    2352|        18490|https://i.ytimg.c...|            false|           false|\n",
            "|prSxHZBY3CU|I Bought My First...|2020-08-25 19:00:10|UCucot-Zp428OwkyR...|       James Charles|        24|2020-08-27 00:00:00|james|james charl...|   6701717|510728|   10080|        48779|https://i.ytimg.c...|            false|           false|\n",
            "|KNyuYlj_1yw|I took song reque...|2020-08-23 21:11:16|UCXBcDYUr89ImtOLY...|       Marcus Veltri|        10|2020-08-28 00:00:00|Marcus Veltri|Mar...|    826412| 67716|     377|         4228|https://i.ytimg.c...|            false|           false|\n",
            "|1PDKlfbi4tY|Nas - Ultra Black...|2020-08-26 19:16:21|UCerm0xrYv04HvPd_...|         Mass Appeal|        10|2020-08-29 00:00:00|mass appeal|hip h...|    696422| 39381|     938|         3345|https://i.ytimg.c...|            false|           false|\n",
            "|bgIKKDAPUvI|Lil Tecca - Royal...|2020-08-26 19:00:14|UCOlxqtcKc-HBEQJg...|           Lil Tecca|        10|2020-08-30 00:00:00|              [None]|    955127| 88928|    1582|         5028|https://i.ytimg.c...|            false|           false|\n",
            "|354dMGagQXI|Chadwick Boseman ...|2020-08-30 00:42:15|UCjDsbbzHgTrGc4Ff...|             E! News|        24|2020-09-01 00:00:00|Top Stories|Enter...|    659014| 10863|     302|         1165|https://i.ytimg.c...|            false|           false|\n",
            "+-----------+--------------------+-------------------+--------------------+--------------------+----------+-------------------+--------------------+----------+------+--------+-------------+--------------------+-----------------+----------------+\n",
            "only showing top 20 rows\n",
            "\n"
          ]
        },
        {
          "output_type": "execute_result",
          "data": {
            "text/plain": [
              "268704"
            ]
          },
          "metadata": {},
          "execution_count": 29
        }
      ]
    },
    {
      "cell_type": "markdown",
      "source": [
        "**Dropping thumbnail link columns**"
      ],
      "metadata": {
        "id": "rYHLhZ-m7fhC"
      }
    },
    {
      "cell_type": "code",
      "source": [
        "df_no_duplicates = df_no_duplicates.drop(\"thumbnail_link\")\n",
        "\n"
      ],
      "metadata": {
        "id": "QLarGYNP7iLh"
      },
      "execution_count": 30,
      "outputs": []
    },
    {
      "cell_type": "code",
      "source": [
        "df_no_duplicates.show()"
      ],
      "metadata": {
        "colab": {
          "base_uri": "https://localhost:8080/"
        },
        "id": "eWPaH1HJ74Mw",
        "outputId": "aee97dce-466a-4c42-b131-c7e476268b52"
      },
      "execution_count": 31,
      "outputs": [
        {
          "output_type": "stream",
          "name": "stdout",
          "text": [
            "+-----------+--------------------+-------------------+--------------------+--------------------+----------+-------------------+--------------------+----------+------+--------+-------------+-----------------+----------------+\n",
            "|   video_id|               title|        publishedAt|           channelId|        channelTitle|categoryId|      trending_date|                tags|view_count| likes|dislikes|comment_count|comments_disabled|ratings_disabled|\n",
            "+-----------+--------------------+-------------------+--------------------+--------------------+----------+-------------------+--------------------+----------+------+--------+-------------+-----------------+----------------+\n",
            "|gPdUslndvVI|Our Farm Got Dest...|2020-08-11 23:00:06|UCuxlXCfVyV-i5YLL...|   Cole The Cornstar|        22|2020-08-12 00:00:00|farming|family fa...|    277338| 37533|     197|         3666|            false|           false|\n",
            "|Que4RnxYLNc|iann dior – Prosp...|2020-08-11 19:15:10|UCtpzjafUx5qbmxJd...|           iann dior|        10|2020-08-13 00:00:00|iann dior|sadboy ...|    396034| 29035|     348|         2228|            false|           false|\n",
            "|vePc5V4h_kg|Shark Attack Test...|2020-08-09 16:00:11|UCY1kMZp36IQSyNx_...|          Mark Rober|        28|2020-08-13 00:00:00|sharks|sharkweek|...|  17106298|588843|   17271|        36110|            false|           false|\n",
            "|5JC2trEXxhE|Seattle Police Ch...|2020-08-11 04:24:58|UCp1KrVaZDZ7BOI_Q...|              KING 5|        25|2020-08-13 00:00:00|local|news|seattl...|    253872|  3672|     397|         4779|            false|           false|\n",
            "|nPO2XNDFWN0|Trey Songz - Circ...|2020-08-14 04:00:10|UC7DpParfqYQEbFGt...|          Trey Songz|        10|2020-08-14 00:00:00|trey songz|tremai...|    123406| 18540|     163|         1345|            false|           false|\n",
            "|2qnLZ1azPTo|4 Rotor Dyno made...|2020-08-15 16:00:01|UChg9P8du8Ykqy6Mb...|            Rob Dahm|         2|2020-08-17 00:00:00|Custom & Performa...|    246048| 13458|     193|         1369|            false|           false|\n",
            "|8yqpfLLG_vQ|JAMIE FOXX GAVE M...|2020-08-14 15:13:54|UCtinbF-Q-fVthA0q...|        CaseyNeistat|        22|2020-08-19 00:00:00|              [None]|   1403037| 81289|    1856|         4756|            false|           false|\n",
            "|EIzazUv2gtI|The Devil All The...|2020-08-13 13:00:01|UCWOA1ZGywLbqmigx...|             Netflix|        24|2020-08-19 00:00:00|Robert Pattinson|...|   8733381|302048|    5105|        20511|            false|           false|\n",
            "|b1reY72ktEc|The Russian Revol...|2020-08-18 00:00:10|UCNIuvl7V8zACPpTm...|      OverSimplified|        24|2020-08-22 00:00:00|russian revolutio...|   3580800|170355|    2627|        13469|            false|           false|\n",
            "|POMaMQ8wgyk|Polo G's 2020 XXL...|2020-08-18 16:01:58|UCbg_UMjlHJg_19SZ...|                 XXL|        10|2020-08-23 00:00:00|Freestyle|polo g|...|   2079605|187269|    1846|        11344|            false|           false|\n",
            "|JIqNeCbxICU|The Insanely Reve...|2020-08-18 17:45:16|UC5UYMeKfZbFYnLHz...|Schaffrillas Prod...|        24|2020-08-23 00:00:00|Schaffrillas Prod...|    594542| 46523|     366|         4166|            false|           false|\n",
            "|53PcrhnHuwQ|We Can't Hide Thi...|2020-08-20 18:49:37|UC-SV8-bUJfXjrRMn...|  Roman Atwood Vlogs|        22|2020-08-24 00:00:00|Roman|Atwood|The ...|   4158441|340710|    4238|        60461|            false|           false|\n",
            "|k_WvAH3AE1w|Maluma - Parce (O...|2020-08-21 04:00:09|UCFkoPRmuxqr37jvG...|          MalumaVEVO|        10|2020-08-24 00:00:00|Maluma|Maluma par...|  10990611|506688|   14649|        17582|            false|           false|\n",
            "|ZnCLJXclfn0|   No Guidance Remix|2020-08-19 08:26:21|UChTtw916Q_85fJJc...|Various Artists -...|        10|2020-08-25 00:00:00|Ayzha Nyree|No Gu...|   2422144| 57721|    1119|         1009|            false|           false|\n",
            "|1rjqHF4wclg|i learnt a new sw...|2020-08-20 01:52:04|UCqlYHUyC6DtxNc-N...|                cark|        24|2020-08-25 00:00:00|swear word|swear|...|   1161305|199538|    2352|        18490|            false|           false|\n",
            "|prSxHZBY3CU|I Bought My First...|2020-08-25 19:00:10|UCucot-Zp428OwkyR...|       James Charles|        24|2020-08-27 00:00:00|james|james charl...|   6701717|510728|   10080|        48779|            false|           false|\n",
            "|KNyuYlj_1yw|I took song reque...|2020-08-23 21:11:16|UCXBcDYUr89ImtOLY...|       Marcus Veltri|        10|2020-08-28 00:00:00|Marcus Veltri|Mar...|    826412| 67716|     377|         4228|            false|           false|\n",
            "|1PDKlfbi4tY|Nas - Ultra Black...|2020-08-26 19:16:21|UCerm0xrYv04HvPd_...|         Mass Appeal|        10|2020-08-29 00:00:00|mass appeal|hip h...|    696422| 39381|     938|         3345|            false|           false|\n",
            "|bgIKKDAPUvI|Lil Tecca - Royal...|2020-08-26 19:00:14|UCOlxqtcKc-HBEQJg...|           Lil Tecca|        10|2020-08-30 00:00:00|              [None]|    955127| 88928|    1582|         5028|            false|           false|\n",
            "|354dMGagQXI|Chadwick Boseman ...|2020-08-30 00:42:15|UCjDsbbzHgTrGc4Ff...|             E! News|        24|2020-09-01 00:00:00|Top Stories|Enter...|    659014| 10863|     302|         1165|            false|           false|\n",
            "+-----------+--------------------+-------------------+--------------------+--------------------+----------+-------------------+--------------------+----------+------+--------+-------------+-----------------+----------------+\n",
            "only showing top 20 rows\n",
            "\n"
          ]
        }
      ]
    },
    {
      "cell_type": "markdown",
      "source": [
        "**Importing Category Id Related Json Data**"
      ],
      "metadata": {
        "id": "1b02PPYFTBgP"
      }
    },
    {
      "cell_type": "code",
      "source": [
        "import json\n",
        "cat = open('/content/drive/MyDrive/Big Data Processing/US_category_id.json')\n",
        "catid = json.load(cat)"
      ],
      "metadata": {
        "id": "EwOoAN2_TFrJ"
      },
      "execution_count": 32,
      "outputs": []
    },
    {
      "cell_type": "code",
      "source": [
        "catid"
      ],
      "metadata": {
        "id": "z6kpCIemTQuq",
        "colab": {
          "base_uri": "https://localhost:8080/"
        },
        "outputId": "6d3a6c52-00fb-48c5-8bb3-17c4d7b19df2"
      },
      "execution_count": 33,
      "outputs": [
        {
          "output_type": "execute_result",
          "data": {
            "text/plain": [
              "{'kind': 'youtube#videoCategoryListResponse',\n",
              " 'etag': 'HIrK3n45Uw2IYz9_U2-gK1OsXvo',\n",
              " 'items': [{'kind': 'youtube#videoCategory',\n",
              "   'etag': 'IfWa37JGcqZs-jZeAyFGkbeh6bc',\n",
              "   'id': '1',\n",
              "   'snippet': {'title': 'Film & Animation',\n",
              "    'assignable': True,\n",
              "    'channelId': 'UCBR8-60-B28hp2BmDPdntcQ'}},\n",
              "  {'kind': 'youtube#videoCategory',\n",
              "   'etag': '5XGylIs7zkjHh5940dsT5862m1Y',\n",
              "   'id': '2',\n",
              "   'snippet': {'title': 'Autos & Vehicles',\n",
              "    'assignable': True,\n",
              "    'channelId': 'UCBR8-60-B28hp2BmDPdntcQ'}},\n",
              "  {'kind': 'youtube#videoCategory',\n",
              "   'etag': 'HCjFMARbBeWjpm6PDfReCOMOZGA',\n",
              "   'id': '10',\n",
              "   'snippet': {'title': 'Music',\n",
              "    'assignable': True,\n",
              "    'channelId': 'UCBR8-60-B28hp2BmDPdntcQ'}},\n",
              "  {'kind': 'youtube#videoCategory',\n",
              "   'etag': 'ra8H7xyAfmE2FewsDabE3TUSq10',\n",
              "   'id': '15',\n",
              "   'snippet': {'title': 'Pets & Animals',\n",
              "    'assignable': True,\n",
              "    'channelId': 'UCBR8-60-B28hp2BmDPdntcQ'}},\n",
              "  {'kind': 'youtube#videoCategory',\n",
              "   'etag': '7mqChSJogdF3hSIL-88BfDE-W8M',\n",
              "   'id': '17',\n",
              "   'snippet': {'title': 'Sports',\n",
              "    'assignable': True,\n",
              "    'channelId': 'UCBR8-60-B28hp2BmDPdntcQ'}},\n",
              "  {'kind': 'youtube#videoCategory',\n",
              "   'etag': '0Z6uGkj97NgjD-X3pkA-nL18Hqk',\n",
              "   'id': '18',\n",
              "   'snippet': {'title': 'Short Movies',\n",
              "    'assignable': False,\n",
              "    'channelId': 'UCBR8-60-B28hp2BmDPdntcQ'}},\n",
              "  {'kind': 'youtube#videoCategory',\n",
              "   'etag': 'K_-7stg0kIU7eUBOPUa6j5fqIMQ',\n",
              "   'id': '19',\n",
              "   'snippet': {'title': 'Travel & Events',\n",
              "    'assignable': True,\n",
              "    'channelId': 'UCBR8-60-B28hp2BmDPdntcQ'}},\n",
              "  {'kind': 'youtube#videoCategory',\n",
              "   'etag': 'I3IL9xGIM3MsULlqR4tvCsEKv98',\n",
              "   'id': '20',\n",
              "   'snippet': {'title': 'Gaming',\n",
              "    'assignable': True,\n",
              "    'channelId': 'UCBR8-60-B28hp2BmDPdntcQ'}},\n",
              "  {'kind': 'youtube#videoCategory',\n",
              "   'etag': 'D1W6tq5mMMCV0wtNxf9A6g9wWjU',\n",
              "   'id': '21',\n",
              "   'snippet': {'title': 'Videoblogging',\n",
              "    'assignable': False,\n",
              "    'channelId': 'UCBR8-60-B28hp2BmDPdntcQ'}},\n",
              "  {'kind': 'youtube#videoCategory',\n",
              "   'etag': 'QMEBz6mxVdklVaq8JwesPEw_4nI',\n",
              "   'id': '22',\n",
              "   'snippet': {'title': 'People & Blogs',\n",
              "    'assignable': True,\n",
              "    'channelId': 'UCBR8-60-B28hp2BmDPdntcQ'}},\n",
              "  {'kind': 'youtube#videoCategory',\n",
              "   'etag': 'v2n6q4JttoL4uUbazrcxNQRGPZk',\n",
              "   'id': '23',\n",
              "   'snippet': {'title': 'Comedy',\n",
              "    'assignable': True,\n",
              "    'channelId': 'UCBR8-60-B28hp2BmDPdntcQ'}},\n",
              "  {'kind': 'youtube#videoCategory',\n",
              "   'etag': 'Qi1csjh-POReitZEbR7CUw7dmao',\n",
              "   'id': '24',\n",
              "   'snippet': {'title': 'Entertainment',\n",
              "    'assignable': True,\n",
              "    'channelId': 'UCBR8-60-B28hp2BmDPdntcQ'}},\n",
              "  {'kind': 'youtube#videoCategory',\n",
              "   'etag': 'IbGXblQi8v_nOsXjirhul1NVcH8',\n",
              "   'id': '25',\n",
              "   'snippet': {'title': 'News & Politics',\n",
              "    'assignable': True,\n",
              "    'channelId': 'UCBR8-60-B28hp2BmDPdntcQ'}},\n",
              "  {'kind': 'youtube#videoCategory',\n",
              "   'etag': 'gYzt8dB8mlod-84ipMtjynYe9xU',\n",
              "   'id': '26',\n",
              "   'snippet': {'title': 'Howto & Style',\n",
              "    'assignable': True,\n",
              "    'channelId': 'UCBR8-60-B28hp2BmDPdntcQ'}},\n",
              "  {'kind': 'youtube#videoCategory',\n",
              "   'etag': 'hHUhloYhyMMqVkQ4LH9sr3aRQoU',\n",
              "   'id': '27',\n",
              "   'snippet': {'title': 'Education',\n",
              "    'assignable': True,\n",
              "    'channelId': 'UCBR8-60-B28hp2BmDPdntcQ'}},\n",
              "  {'kind': 'youtube#videoCategory',\n",
              "   'etag': 'KEdEtUd4WGk_aACrYI03UhGE33w',\n",
              "   'id': '28',\n",
              "   'snippet': {'title': 'Science & Technology',\n",
              "    'assignable': True,\n",
              "    'channelId': 'UCBR8-60-B28hp2BmDPdntcQ'}},\n",
              "  {'kind': 'youtube#videoCategory',\n",
              "   'etag': 'AioSVwhKNpZ2bhtw9SJmrkfY5-I',\n",
              "   'id': '29',\n",
              "   'snippet': {'title': 'Nonprofits & Activism',\n",
              "    'assignable': True,\n",
              "    'channelId': 'UCBR8-60-B28hp2BmDPdntcQ'}},\n",
              "  {'kind': 'youtube#videoCategory',\n",
              "   'etag': 'tMfbFvkfuPP8YnUEqpr0gcR6aWU',\n",
              "   'id': '30',\n",
              "   'snippet': {'title': 'Movies',\n",
              "    'assignable': False,\n",
              "    'channelId': 'UCBR8-60-B28hp2BmDPdntcQ'}},\n",
              "  {'kind': 'youtube#videoCategory',\n",
              "   'etag': 'totPMF_82XTvVFy0ExFgoKhTklM',\n",
              "   'id': '31',\n",
              "   'snippet': {'title': 'Anime/Animation',\n",
              "    'assignable': False,\n",
              "    'channelId': 'UCBR8-60-B28hp2BmDPdntcQ'}},\n",
              "  {'kind': 'youtube#videoCategory',\n",
              "   'etag': 'LNgRKNynxC50MeYV9e6XLPX9JC4',\n",
              "   'id': '32',\n",
              "   'snippet': {'title': 'Action/Adventure',\n",
              "    'assignable': False,\n",
              "    'channelId': 'UCBR8-60-B28hp2BmDPdntcQ'}},\n",
              "  {'kind': 'youtube#videoCategory',\n",
              "   'etag': 'harT7v7A6516SPdkqp81Xy5yfBw',\n",
              "   'id': '33',\n",
              "   'snippet': {'title': 'Classics',\n",
              "    'assignable': False,\n",
              "    'channelId': 'UCBR8-60-B28hp2BmDPdntcQ'}},\n",
              "  {'kind': 'youtube#videoCategory',\n",
              "   'etag': 'M6Y5Av0CP45r5GgpzamLfHj41y4',\n",
              "   'id': '34',\n",
              "   'snippet': {'title': 'Comedy',\n",
              "    'assignable': False,\n",
              "    'channelId': 'UCBR8-60-B28hp2BmDPdntcQ'}},\n",
              "  {'kind': 'youtube#videoCategory',\n",
              "   'etag': 'ZFbZGeeLYWolvmCLQM7m8Yio104',\n",
              "   'id': '35',\n",
              "   'snippet': {'title': 'Documentary',\n",
              "    'assignable': False,\n",
              "    'channelId': 'UCBR8-60-B28hp2BmDPdntcQ'}},\n",
              "  {'kind': 'youtube#videoCategory',\n",
              "   'etag': 'FD7naICnxxl8HOnZZJAzrWplzuU',\n",
              "   'id': '36',\n",
              "   'snippet': {'title': 'Drama',\n",
              "    'assignable': False,\n",
              "    'channelId': 'UCBR8-60-B28hp2BmDPdntcQ'}},\n",
              "  {'kind': 'youtube#videoCategory',\n",
              "   'etag': '7fvdoCRRWE89SpB5UaOY8gGdbk0',\n",
              "   'id': '37',\n",
              "   'snippet': {'title': 'Family',\n",
              "    'assignable': False,\n",
              "    'channelId': 'UCBR8-60-B28hp2BmDPdntcQ'}},\n",
              "  {'kind': 'youtube#videoCategory',\n",
              "   'etag': 'H6d6HrYDy3EAVAxQR8Z-ShEva1k',\n",
              "   'id': '38',\n",
              "   'snippet': {'title': 'Foreign',\n",
              "    'assignable': False,\n",
              "    'channelId': 'UCBR8-60-B28hp2BmDPdntcQ'}},\n",
              "  {'kind': 'youtube#videoCategory',\n",
              "   'etag': 'Z3yra5IR8n2bkjvv3ZheAOQ-tUk',\n",
              "   'id': '39',\n",
              "   'snippet': {'title': 'Horror',\n",
              "    'assignable': False,\n",
              "    'channelId': 'UCBR8-60-B28hp2BmDPdntcQ'}},\n",
              "  {'kind': 'youtube#videoCategory',\n",
              "   'etag': '3F8eda4xnGzGFmlpsFaf5_YpOgU',\n",
              "   'id': '40',\n",
              "   'snippet': {'title': 'Sci-Fi/Fantasy',\n",
              "    'assignable': False,\n",
              "    'channelId': 'UCBR8-60-B28hp2BmDPdntcQ'}},\n",
              "  {'kind': 'youtube#videoCategory',\n",
              "   'etag': 'HwuNLGhBJ4PZCEurr-SoqvHuKx8',\n",
              "   'id': '41',\n",
              "   'snippet': {'title': 'Thriller',\n",
              "    'assignable': False,\n",
              "    'channelId': 'UCBR8-60-B28hp2BmDPdntcQ'}},\n",
              "  {'kind': 'youtube#videoCategory',\n",
              "   'etag': 'qJ2eDOZWUDj8fbFYAIG_yzPCYRc',\n",
              "   'id': '42',\n",
              "   'snippet': {'title': 'Shorts',\n",
              "    'assignable': False,\n",
              "    'channelId': 'UCBR8-60-B28hp2BmDPdntcQ'}},\n",
              "  {'kind': 'youtube#videoCategory',\n",
              "   'etag': '2sKmjip5q7FHJgqkHvnpMDgmddE',\n",
              "   'id': '43',\n",
              "   'snippet': {'title': 'Shows',\n",
              "    'assignable': False,\n",
              "    'channelId': 'UCBR8-60-B28hp2BmDPdntcQ'}},\n",
              "  {'kind': 'youtube#videoCategory',\n",
              "   'etag': '3IaZjRK8JeIkLMfRDX57P4FFb9A',\n",
              "   'id': '44',\n",
              "   'snippet': {'title': 'Trailers',\n",
              "    'assignable': False,\n",
              "    'channelId': 'UCBR8-60-B28hp2BmDPdntcQ'}}]}"
            ]
          },
          "metadata": {},
          "execution_count": 33
        }
      ]
    },
    {
      "cell_type": "markdown",
      "source": [
        "**Data Extraction from the Json**"
      ],
      "metadata": {
        "id": "CK0zZRAw-l_v"
      }
    },
    {
      "cell_type": "code",
      "source": [
        "catid_sim = []\n",
        "for item in catid[\"items\"]:\n",
        "    catid_sim.append({\"id\": item[\"id\"], \"title\": item[\"snippet\"][\"title\"]})\n",
        "\n",
        "# Display the simplified list\n",
        "for category in catid_sim:\n",
        "    print(category)"
      ],
      "metadata": {
        "colab": {
          "base_uri": "https://localhost:8080/"
        },
        "id": "WDMdUaz3-YxE",
        "outputId": "4d30a9ae-48d8-4d53-9530-01a16ccd993d"
      },
      "execution_count": 34,
      "outputs": [
        {
          "output_type": "stream",
          "name": "stdout",
          "text": [
            "{'id': '1', 'title': 'Film & Animation'}\n",
            "{'id': '2', 'title': 'Autos & Vehicles'}\n",
            "{'id': '10', 'title': 'Music'}\n",
            "{'id': '15', 'title': 'Pets & Animals'}\n",
            "{'id': '17', 'title': 'Sports'}\n",
            "{'id': '18', 'title': 'Short Movies'}\n",
            "{'id': '19', 'title': 'Travel & Events'}\n",
            "{'id': '20', 'title': 'Gaming'}\n",
            "{'id': '21', 'title': 'Videoblogging'}\n",
            "{'id': '22', 'title': 'People & Blogs'}\n",
            "{'id': '23', 'title': 'Comedy'}\n",
            "{'id': '24', 'title': 'Entertainment'}\n",
            "{'id': '25', 'title': 'News & Politics'}\n",
            "{'id': '26', 'title': 'Howto & Style'}\n",
            "{'id': '27', 'title': 'Education'}\n",
            "{'id': '28', 'title': 'Science & Technology'}\n",
            "{'id': '29', 'title': 'Nonprofits & Activism'}\n",
            "{'id': '30', 'title': 'Movies'}\n",
            "{'id': '31', 'title': 'Anime/Animation'}\n",
            "{'id': '32', 'title': 'Action/Adventure'}\n",
            "{'id': '33', 'title': 'Classics'}\n",
            "{'id': '34', 'title': 'Comedy'}\n",
            "{'id': '35', 'title': 'Documentary'}\n",
            "{'id': '36', 'title': 'Drama'}\n",
            "{'id': '37', 'title': 'Family'}\n",
            "{'id': '38', 'title': 'Foreign'}\n",
            "{'id': '39', 'title': 'Horror'}\n",
            "{'id': '40', 'title': 'Sci-Fi/Fantasy'}\n",
            "{'id': '41', 'title': 'Thriller'}\n",
            "{'id': '42', 'title': 'Shorts'}\n",
            "{'id': '43', 'title': 'Shows'}\n",
            "{'id': '44', 'title': 'Trailers'}\n"
          ]
        }
      ]
    },
    {
      "cell_type": "code",
      "source": [
        "import pyspark\n",
        "\n",
        "schema = pyspark.sql.types.StructType([\n",
        "    pyspark.sql.types.StructField(\"id\", pyspark.sql.types.StringType(), nullable=False),\n",
        "    pyspark.sql.types.StructField(\"title\", pyspark.sql.types.StringType(), nullable=False)\n",
        "])\n",
        "\n",
        "# Create a DataFrame from the catid_sim list using the defined schema\n",
        "catdf = spark.createDataFrame(catid_sim, schema=schema)\n",
        "\n",
        "# Show the DataFrame\n",
        "catdf.show()"
      ],
      "metadata": {
        "colab": {
          "base_uri": "https://localhost:8080/"
        },
        "id": "OwwfrTSCIzTi",
        "outputId": "40d8180f-d8c8-4596-b4ea-99bfc7f61a3e"
      },
      "execution_count": 35,
      "outputs": [
        {
          "output_type": "stream",
          "name": "stdout",
          "text": [
            "+---+--------------------+\n",
            "| id|               title|\n",
            "+---+--------------------+\n",
            "|  1|    Film & Animation|\n",
            "|  2|    Autos & Vehicles|\n",
            "| 10|               Music|\n",
            "| 15|      Pets & Animals|\n",
            "| 17|              Sports|\n",
            "| 18|        Short Movies|\n",
            "| 19|     Travel & Events|\n",
            "| 20|              Gaming|\n",
            "| 21|       Videoblogging|\n",
            "| 22|      People & Blogs|\n",
            "| 23|              Comedy|\n",
            "| 24|       Entertainment|\n",
            "| 25|     News & Politics|\n",
            "| 26|       Howto & Style|\n",
            "| 27|           Education|\n",
            "| 28|Science & Technology|\n",
            "| 29|Nonprofits & Acti...|\n",
            "| 30|              Movies|\n",
            "| 31|     Anime/Animation|\n",
            "| 32|    Action/Adventure|\n",
            "+---+--------------------+\n",
            "only showing top 20 rows\n",
            "\n"
          ]
        }
      ]
    },
    {
      "cell_type": "code",
      "source": [
        "catdf = catdf.withColumnRenamed(\"title\", \"category\")\n",
        "\n",
        "# Show the DataFrame with the renamed column\n",
        "catdf.show()"
      ],
      "metadata": {
        "colab": {
          "base_uri": "https://localhost:8080/"
        },
        "id": "1sPdqib7AAHc",
        "outputId": "a3b7caf5-29a5-4fb7-8a84-c242f22573f0"
      },
      "execution_count": 36,
      "outputs": [
        {
          "output_type": "stream",
          "name": "stdout",
          "text": [
            "+---+--------------------+\n",
            "| id|            category|\n",
            "+---+--------------------+\n",
            "|  1|    Film & Animation|\n",
            "|  2|    Autos & Vehicles|\n",
            "| 10|               Music|\n",
            "| 15|      Pets & Animals|\n",
            "| 17|              Sports|\n",
            "| 18|        Short Movies|\n",
            "| 19|     Travel & Events|\n",
            "| 20|              Gaming|\n",
            "| 21|       Videoblogging|\n",
            "| 22|      People & Blogs|\n",
            "| 23|              Comedy|\n",
            "| 24|       Entertainment|\n",
            "| 25|     News & Politics|\n",
            "| 26|       Howto & Style|\n",
            "| 27|           Education|\n",
            "| 28|Science & Technology|\n",
            "| 29|Nonprofits & Acti...|\n",
            "| 30|              Movies|\n",
            "| 31|     Anime/Animation|\n",
            "| 32|    Action/Adventure|\n",
            "+---+--------------------+\n",
            "only showing top 20 rows\n",
            "\n"
          ]
        }
      ]
    },
    {
      "cell_type": "markdown",
      "source": [
        "**Merging Both Json and Loaded Dataset**"
      ],
      "metadata": {
        "id": "wh2f_i1WTdBb"
      }
    },
    {
      "cell_type": "code",
      "source": [
        "\n",
        "# Merging both dataset according to category ID\n",
        "from pyspark.sql.functions import col\n",
        "catdf = catdf.withColumn(\"id\", catdf.id.cast('int'))\n",
        "df_no_duplicates = df_no_duplicates.join(catdf,df_no_duplicates.categoryId == catdf.id,\"inner\")"
      ],
      "metadata": {
        "id": "z-LrVkehA8IM"
      },
      "execution_count": 37,
      "outputs": []
    },
    {
      "cell_type": "code",
      "source": [
        "df_no_duplicates.show(10)"
      ],
      "metadata": {
        "colab": {
          "base_uri": "https://localhost:8080/"
        },
        "id": "tM3v2tDBBNyr",
        "outputId": "3bd84c9c-d093-48d2-8634-29b1e659709d"
      },
      "execution_count": null,
      "outputs": [
        {
          "output_type": "stream",
          "name": "stdout",
          "text": [
            "+-----------+--------------------+-------------------+--------------------+-------------------+----------+-------------------+--------------------+----------+------+--------+-------------+-----------------+----------------+---+----------------+\n",
            "|   video_id|               title|        publishedAt|           channelId|       channelTitle|categoryId|      trending_date|                tags|view_count| likes|dislikes|comment_count|comments_disabled|ratings_disabled| id|        category|\n",
            "+-----------+--------------------+-------------------+--------------------+-------------------+----------+-------------------+--------------------+----------+------+--------+-------------+-----------------+----------------+---+----------------+\n",
            "|gSfq4Wbr264|DanPlan Animated ...|2020-09-09 19:47:18|UC7UGbBVrqLlq6CRx...|            DanPlan|         1|2020-09-14 00:00:00|dan plan|by the w...|    535785| 55458|    1792|         7031|            false|           false|  1|Film & Animation|\n",
            "|3MRQxyZZYcM|TRYING ON OUTFITS...|2020-11-12 23:30:02|UCTvgnaLSfM5nqrab...|         LVE FAMILY|         1|2020-11-16 00:00:00|iMovie|Louieslife...|    696188| 43278|    1051|         5382|            false|           false|  1|Film & Animation|\n",
            "|MeQSpZ3gujU|Immortal Machine ...|2021-01-22 13:56:29|UCBYChBOoVXAenGDY...|         Dead Sound|         1|2021-01-28 00:00:00|animated short|an...|    945752|110949|     533|         8948|            false|           false|  1|Film & Animation|\n",
            "|ItczACTdZdk|Oh No Among Us So...|2021-01-24 22:00:02|UCbbCaPmU-AvYQFMu...|          GameTunes|         1|2021-01-30 00:00:00|among us|among us...|   1092630| 33739|    1074|         4395|            false|           false|  1|Film & Animation|\n",
            "|ab--iVhE51s|my experience GRO...|2021-01-28 05:21:34|UCAlxwHEm1bWWYoe5...|         EroldStory|         1|2021-02-01 00:00:00|              [None]|    667215| 82019|     515|         8740|            false|           false|  1|Film & Animation|\n",
            "|sQuoffM1y-w|Sonic the Hedgeho...|2021-02-10 15:00:33|UCF9imwPMSGz4Vq1N...| Paramount Pictures|         1|2021-02-18 00:00:00|              [None]|   2792333| 97234|    2520|        15316|            false|           false|  1|Film & Animation|\n",
            "|Td6VN0qmfbc|Mini Crewmate Kil...|2021-02-23 20:30:01|UCtWIUAvZuWaNorJI...|       Damn Seconds|         1|2021-02-27 00:00:00|among us|among us...|   5364884| 61982|    4399|         4328|            false|           false|  1|Film & Animation|\n",
            "|jpZrVxvG3mk|Disney’s Cruella ...|2021-04-07 12:17:21|UCuaFvcY4MhZY3U43...|Walt Disney Studios|         1|2021-04-09 00:00:00|Cruella|Disney|Tr...|   2409696| 19861|    1122|         2112|            false|           false|  1|Film & Animation|\n",
            "|mCgyxh44_ZU|LABOR & DELIVERY ...|2021-05-05 00:30:11|UCTvgnaLSfM5nqrab...|         LVE FAMILY|         1|2021-05-08 00:00:00|iMovie|Csection|L...|    700644| 48799|     519|        11236|            false|           false|  1|Film & Animation|\n",
            "|S3L32B4T5Mo|      Shazam 2 tease|2021-06-04 01:50:26|UCp1DqwNVcFrft1wu...|        ponysmasher|         1|2021-06-10 00:00:00|              [None]|    306127|  9650|     141|          608|            false|           false|  1|Film & Animation|\n",
            "+-----------+--------------------+-------------------+--------------------+-------------------+----------+-------------------+--------------------+----------+------+--------+-------------+-----------------+----------------+---+----------------+\n",
            "only showing top 10 rows\n",
            "\n"
          ]
        }
      ]
    },
    {
      "cell_type": "code",
      "source": [
        "df_no_duplicates.count()"
      ],
      "metadata": {
        "colab": {
          "base_uri": "https://localhost:8080/"
        },
        "id": "WKUsk-_8B2WC",
        "outputId": "3c3faee1-e6ea-4c9c-ae00-b19c2a2d2bca"
      },
      "execution_count": 38,
      "outputs": [
        {
          "output_type": "execute_result",
          "data": {
            "text/plain": [
              "268704"
            ]
          },
          "metadata": {},
          "execution_count": 38
        }
      ]
    },
    {
      "cell_type": "markdown",
      "source": [
        "**Exporting the Processed Dataset into One Single CSV File**"
      ],
      "metadata": {
        "id": "WT62Jm11B-ri"
      }
    },
    {
      "cell_type": "code",
      "source": [
        "df_no_duplicates.repartition(1).write.option(\"header\",True).csv(\"/content/drive/MyDrive/Big Data Processing/US_YouTube_Trending_Final_Merged_Processed2.csv\")"
      ],
      "metadata": {
        "id": "l7r5WegxCFzq"
      },
      "execution_count": 39,
      "outputs": []
    }
  ]
}