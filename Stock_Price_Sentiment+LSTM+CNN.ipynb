{
  "nbformat": 4,
  "nbformat_minor": 0,
  "metadata": {
    "colab": {
      "provenance": []
    },
    "kernelspec": {
      "name": "python3",
      "display_name": "Python 3"
    },
    "language_info": {
      "name": "python"
    },
    "widgets": {
      "application/vnd.jupyter.widget-state+json": {
        "3da27ec787df4d928da160f8bcabdb5e": {
          "model_module": "@jupyter-widgets/controls",
          "model_name": "HBoxModel",
          "model_module_version": "1.5.0",
          "state": {
            "_dom_classes": [],
            "_model_module": "@jupyter-widgets/controls",
            "_model_module_version": "1.5.0",
            "_model_name": "HBoxModel",
            "_view_count": null,
            "_view_module": "@jupyter-widgets/controls",
            "_view_module_version": "1.5.0",
            "_view_name": "HBoxView",
            "box_style": "",
            "children": [
              "IPY_MODEL_aac2fb6b486441ee8d66eb2a4b083d7b",
              "IPY_MODEL_9bdc00fb71c94870a44acf1d982d564a",
              "IPY_MODEL_012e28ca3b694f9c9d5360a1720c38b2"
            ],
            "layout": "IPY_MODEL_62da914153d2410584316bbb7f098fdd"
          }
        },
        "aac2fb6b486441ee8d66eb2a4b083d7b": {
          "model_module": "@jupyter-widgets/controls",
          "model_name": "HTMLModel",
          "model_module_version": "1.5.0",
          "state": {
            "_dom_classes": [],
            "_model_module": "@jupyter-widgets/controls",
            "_model_module_version": "1.5.0",
            "_model_name": "HTMLModel",
            "_view_count": null,
            "_view_module": "@jupyter-widgets/controls",
            "_view_module_version": "1.5.0",
            "_view_name": "HTMLView",
            "description": "",
            "description_tooltip": null,
            "layout": "IPY_MODEL_3c84a9e930714bbf94cddd1c5f5e34df",
            "placeholder": "​",
            "style": "IPY_MODEL_cf99356d599b4f3e8a7ad5056fe372e9",
            "value": "Calculating Sentiment: 100%"
          }
        },
        "9bdc00fb71c94870a44acf1d982d564a": {
          "model_module": "@jupyter-widgets/controls",
          "model_name": "FloatProgressModel",
          "model_module_version": "1.5.0",
          "state": {
            "_dom_classes": [],
            "_model_module": "@jupyter-widgets/controls",
            "_model_module_version": "1.5.0",
            "_model_name": "FloatProgressModel",
            "_view_count": null,
            "_view_module": "@jupyter-widgets/controls",
            "_view_module_version": "1.5.0",
            "_view_name": "ProgressView",
            "bar_style": "success",
            "description": "",
            "description_tooltip": null,
            "layout": "IPY_MODEL_cfb6abfff2a2406d9fbe93e428d7d6f0",
            "max": 233190,
            "min": 0,
            "orientation": "horizontal",
            "style": "IPY_MODEL_b3f0d1ba0b824937b20567ff89b71238",
            "value": 233190
          }
        },
        "012e28ca3b694f9c9d5360a1720c38b2": {
          "model_module": "@jupyter-widgets/controls",
          "model_name": "HTMLModel",
          "model_module_version": "1.5.0",
          "state": {
            "_dom_classes": [],
            "_model_module": "@jupyter-widgets/controls",
            "_model_module_version": "1.5.0",
            "_model_name": "HTMLModel",
            "_view_count": null,
            "_view_module": "@jupyter-widgets/controls",
            "_view_module_version": "1.5.0",
            "_view_name": "HTMLView",
            "description": "",
            "description_tooltip": null,
            "layout": "IPY_MODEL_bf34c229546643ebbf6e64d3b82a9e71",
            "placeholder": "​",
            "style": "IPY_MODEL_dbe3b4d11fc743ddbee86e9c96c24a79",
            "value": " 233190/233190 [00:07&lt;00:00, 93895.57it/s]"
          }
        },
        "62da914153d2410584316bbb7f098fdd": {
          "model_module": "@jupyter-widgets/base",
          "model_name": "LayoutModel",
          "model_module_version": "1.2.0",
          "state": {
            "_model_module": "@jupyter-widgets/base",
            "_model_module_version": "1.2.0",
            "_model_name": "LayoutModel",
            "_view_count": null,
            "_view_module": "@jupyter-widgets/base",
            "_view_module_version": "1.2.0",
            "_view_name": "LayoutView",
            "align_content": null,
            "align_items": null,
            "align_self": null,
            "border": null,
            "bottom": null,
            "display": null,
            "flex": null,
            "flex_flow": null,
            "grid_area": null,
            "grid_auto_columns": null,
            "grid_auto_flow": null,
            "grid_auto_rows": null,
            "grid_column": null,
            "grid_gap": null,
            "grid_row": null,
            "grid_template_areas": null,
            "grid_template_columns": null,
            "grid_template_rows": null,
            "height": null,
            "justify_content": null,
            "justify_items": null,
            "left": null,
            "margin": null,
            "max_height": null,
            "max_width": null,
            "min_height": null,
            "min_width": null,
            "object_fit": null,
            "object_position": null,
            "order": null,
            "overflow": null,
            "overflow_x": null,
            "overflow_y": null,
            "padding": null,
            "right": null,
            "top": null,
            "visibility": null,
            "width": null
          }
        },
        "3c84a9e930714bbf94cddd1c5f5e34df": {
          "model_module": "@jupyter-widgets/base",
          "model_name": "LayoutModel",
          "model_module_version": "1.2.0",
          "state": {
            "_model_module": "@jupyter-widgets/base",
            "_model_module_version": "1.2.0",
            "_model_name": "LayoutModel",
            "_view_count": null,
            "_view_module": "@jupyter-widgets/base",
            "_view_module_version": "1.2.0",
            "_view_name": "LayoutView",
            "align_content": null,
            "align_items": null,
            "align_self": null,
            "border": null,
            "bottom": null,
            "display": null,
            "flex": null,
            "flex_flow": null,
            "grid_area": null,
            "grid_auto_columns": null,
            "grid_auto_flow": null,
            "grid_auto_rows": null,
            "grid_column": null,
            "grid_gap": null,
            "grid_row": null,
            "grid_template_areas": null,
            "grid_template_columns": null,
            "grid_template_rows": null,
            "height": null,
            "justify_content": null,
            "justify_items": null,
            "left": null,
            "margin": null,
            "max_height": null,
            "max_width": null,
            "min_height": null,
            "min_width": null,
            "object_fit": null,
            "object_position": null,
            "order": null,
            "overflow": null,
            "overflow_x": null,
            "overflow_y": null,
            "padding": null,
            "right": null,
            "top": null,
            "visibility": null,
            "width": null
          }
        },
        "cf99356d599b4f3e8a7ad5056fe372e9": {
          "model_module": "@jupyter-widgets/controls",
          "model_name": "DescriptionStyleModel",
          "model_module_version": "1.5.0",
          "state": {
            "_model_module": "@jupyter-widgets/controls",
            "_model_module_version": "1.5.0",
            "_model_name": "DescriptionStyleModel",
            "_view_count": null,
            "_view_module": "@jupyter-widgets/base",
            "_view_module_version": "1.2.0",
            "_view_name": "StyleView",
            "description_width": ""
          }
        },
        "cfb6abfff2a2406d9fbe93e428d7d6f0": {
          "model_module": "@jupyter-widgets/base",
          "model_name": "LayoutModel",
          "model_module_version": "1.2.0",
          "state": {
            "_model_module": "@jupyter-widgets/base",
            "_model_module_version": "1.2.0",
            "_model_name": "LayoutModel",
            "_view_count": null,
            "_view_module": "@jupyter-widgets/base",
            "_view_module_version": "1.2.0",
            "_view_name": "LayoutView",
            "align_content": null,
            "align_items": null,
            "align_self": null,
            "border": null,
            "bottom": null,
            "display": null,
            "flex": null,
            "flex_flow": null,
            "grid_area": null,
            "grid_auto_columns": null,
            "grid_auto_flow": null,
            "grid_auto_rows": null,
            "grid_column": null,
            "grid_gap": null,
            "grid_row": null,
            "grid_template_areas": null,
            "grid_template_columns": null,
            "grid_template_rows": null,
            "height": null,
            "justify_content": null,
            "justify_items": null,
            "left": null,
            "margin": null,
            "max_height": null,
            "max_width": null,
            "min_height": null,
            "min_width": null,
            "object_fit": null,
            "object_position": null,
            "order": null,
            "overflow": null,
            "overflow_x": null,
            "overflow_y": null,
            "padding": null,
            "right": null,
            "top": null,
            "visibility": null,
            "width": null
          }
        },
        "b3f0d1ba0b824937b20567ff89b71238": {
          "model_module": "@jupyter-widgets/controls",
          "model_name": "ProgressStyleModel",
          "model_module_version": "1.5.0",
          "state": {
            "_model_module": "@jupyter-widgets/controls",
            "_model_module_version": "1.5.0",
            "_model_name": "ProgressStyleModel",
            "_view_count": null,
            "_view_module": "@jupyter-widgets/base",
            "_view_module_version": "1.2.0",
            "_view_name": "StyleView",
            "bar_color": null,
            "description_width": ""
          }
        },
        "bf34c229546643ebbf6e64d3b82a9e71": {
          "model_module": "@jupyter-widgets/base",
          "model_name": "LayoutModel",
          "model_module_version": "1.2.0",
          "state": {
            "_model_module": "@jupyter-widgets/base",
            "_model_module_version": "1.2.0",
            "_model_name": "LayoutModel",
            "_view_count": null,
            "_view_module": "@jupyter-widgets/base",
            "_view_module_version": "1.2.0",
            "_view_name": "LayoutView",
            "align_content": null,
            "align_items": null,
            "align_self": null,
            "border": null,
            "bottom": null,
            "display": null,
            "flex": null,
            "flex_flow": null,
            "grid_area": null,
            "grid_auto_columns": null,
            "grid_auto_flow": null,
            "grid_auto_rows": null,
            "grid_column": null,
            "grid_gap": null,
            "grid_row": null,
            "grid_template_areas": null,
            "grid_template_columns": null,
            "grid_template_rows": null,
            "height": null,
            "justify_content": null,
            "justify_items": null,
            "left": null,
            "margin": null,
            "max_height": null,
            "max_width": null,
            "min_height": null,
            "min_width": null,
            "object_fit": null,
            "object_position": null,
            "order": null,
            "overflow": null,
            "overflow_x": null,
            "overflow_y": null,
            "padding": null,
            "right": null,
            "top": null,
            "visibility": null,
            "width": null
          }
        },
        "dbe3b4d11fc743ddbee86e9c96c24a79": {
          "model_module": "@jupyter-widgets/controls",
          "model_name": "DescriptionStyleModel",
          "model_module_version": "1.5.0",
          "state": {
            "_model_module": "@jupyter-widgets/controls",
            "_model_module_version": "1.5.0",
            "_model_name": "DescriptionStyleModel",
            "_view_count": null,
            "_view_module": "@jupyter-widgets/base",
            "_view_module_version": "1.2.0",
            "_view_name": "StyleView",
            "description_width": ""
          }
        }
      }
    }
  },
  "cells": [
    {
      "cell_type": "code",
      "execution_count": 1,
      "metadata": {
        "colab": {
          "base_uri": "https://localhost:8080/"
        },
        "id": "XTkIOPpCfz7a",
        "outputId": "ce172b90-c00f-4b9f-8ab6-64fe7111a248"
      },
      "outputs": [
        {
          "output_type": "stream",
          "name": "stdout",
          "text": [
            "Requirement already satisfied: pyspark in /usr/local/lib/python3.11/dist-packages (3.5.1)\n",
            "Requirement already satisfied: py4j==0.10.9.7 in /usr/local/lib/python3.11/dist-packages (from pyspark) (0.10.9.7)\n",
            "Requirement already satisfied: pandas in /usr/local/lib/python3.11/dist-packages (2.2.2)\n",
            "Requirement already satisfied: numpy>=1.23.2 in /usr/local/lib/python3.11/dist-packages (from pandas) (2.0.2)\n",
            "Requirement already satisfied: python-dateutil>=2.8.2 in /usr/local/lib/python3.11/dist-packages (from pandas) (2.9.0.post0)\n",
            "Requirement already satisfied: pytz>=2020.1 in /usr/local/lib/python3.11/dist-packages (from pandas) (2025.2)\n",
            "Requirement already satisfied: tzdata>=2022.7 in /usr/local/lib/python3.11/dist-packages (from pandas) (2025.2)\n",
            "Requirement already satisfied: six>=1.5 in /usr/local/lib/python3.11/dist-packages (from python-dateutil>=2.8.2->pandas) (1.17.0)\n",
            "Requirement already satisfied: tensorflow in /usr/local/lib/python3.11/dist-packages (2.19.0)\n",
            "Requirement already satisfied: absl-py>=1.0.0 in /usr/local/lib/python3.11/dist-packages (from tensorflow) (1.4.0)\n",
            "Requirement already satisfied: astunparse>=1.6.0 in /usr/local/lib/python3.11/dist-packages (from tensorflow) (1.6.3)\n",
            "Requirement already satisfied: flatbuffers>=24.3.25 in /usr/local/lib/python3.11/dist-packages (from tensorflow) (25.2.10)\n",
            "Requirement already satisfied: gast!=0.5.0,!=0.5.1,!=0.5.2,>=0.2.1 in /usr/local/lib/python3.11/dist-packages (from tensorflow) (0.6.0)\n",
            "Requirement already satisfied: google-pasta>=0.1.1 in /usr/local/lib/python3.11/dist-packages (from tensorflow) (0.2.0)\n",
            "Requirement already satisfied: libclang>=13.0.0 in /usr/local/lib/python3.11/dist-packages (from tensorflow) (18.1.1)\n",
            "Requirement already satisfied: opt-einsum>=2.3.2 in /usr/local/lib/python3.11/dist-packages (from tensorflow) (3.4.0)\n",
            "Requirement already satisfied: packaging in /usr/local/lib/python3.11/dist-packages (from tensorflow) (25.0)\n",
            "Requirement already satisfied: protobuf!=4.21.0,!=4.21.1,!=4.21.2,!=4.21.3,!=4.21.4,!=4.21.5,<6.0.0dev,>=3.20.3 in /usr/local/lib/python3.11/dist-packages (from tensorflow) (5.29.5)\n",
            "Requirement already satisfied: requests<3,>=2.21.0 in /usr/local/lib/python3.11/dist-packages (from tensorflow) (2.32.3)\n",
            "Requirement already satisfied: setuptools in /usr/local/lib/python3.11/dist-packages (from tensorflow) (75.2.0)\n",
            "Requirement already satisfied: six>=1.12.0 in /usr/local/lib/python3.11/dist-packages (from tensorflow) (1.17.0)\n",
            "Requirement already satisfied: termcolor>=1.1.0 in /usr/local/lib/python3.11/dist-packages (from tensorflow) (3.1.0)\n",
            "Requirement already satisfied: typing-extensions>=3.6.6 in /usr/local/lib/python3.11/dist-packages (from tensorflow) (4.14.1)\n",
            "Requirement already satisfied: wrapt>=1.11.0 in /usr/local/lib/python3.11/dist-packages (from tensorflow) (1.17.3)\n",
            "Requirement already satisfied: grpcio<2.0,>=1.24.3 in /usr/local/lib/python3.11/dist-packages (from tensorflow) (1.74.0)\n",
            "Requirement already satisfied: tensorboard~=2.19.0 in /usr/local/lib/python3.11/dist-packages (from tensorflow) (2.19.0)\n",
            "Requirement already satisfied: keras>=3.5.0 in /usr/local/lib/python3.11/dist-packages (from tensorflow) (3.10.0)\n",
            "Requirement already satisfied: numpy<2.2.0,>=1.26.0 in /usr/local/lib/python3.11/dist-packages (from tensorflow) (2.0.2)\n",
            "Requirement already satisfied: h5py>=3.11.0 in /usr/local/lib/python3.11/dist-packages (from tensorflow) (3.14.0)\n",
            "Requirement already satisfied: ml-dtypes<1.0.0,>=0.5.1 in /usr/local/lib/python3.11/dist-packages (from tensorflow) (0.5.3)\n",
            "Requirement already satisfied: tensorflow-io-gcs-filesystem>=0.23.1 in /usr/local/lib/python3.11/dist-packages (from tensorflow) (0.37.1)\n",
            "Requirement already satisfied: wheel<1.0,>=0.23.0 in /usr/local/lib/python3.11/dist-packages (from astunparse>=1.6.0->tensorflow) (0.45.1)\n",
            "Requirement already satisfied: rich in /usr/local/lib/python3.11/dist-packages (from keras>=3.5.0->tensorflow) (13.9.4)\n",
            "Requirement already satisfied: namex in /usr/local/lib/python3.11/dist-packages (from keras>=3.5.0->tensorflow) (0.1.0)\n",
            "Requirement already satisfied: optree in /usr/local/lib/python3.11/dist-packages (from keras>=3.5.0->tensorflow) (0.17.0)\n",
            "Requirement already satisfied: charset-normalizer<4,>=2 in /usr/local/lib/python3.11/dist-packages (from requests<3,>=2.21.0->tensorflow) (3.4.3)\n",
            "Requirement already satisfied: idna<4,>=2.5 in /usr/local/lib/python3.11/dist-packages (from requests<3,>=2.21.0->tensorflow) (3.10)\n",
            "Requirement already satisfied: urllib3<3,>=1.21.1 in /usr/local/lib/python3.11/dist-packages (from requests<3,>=2.21.0->tensorflow) (2.5.0)\n",
            "Requirement already satisfied: certifi>=2017.4.17 in /usr/local/lib/python3.11/dist-packages (from requests<3,>=2.21.0->tensorflow) (2025.8.3)\n",
            "Requirement already satisfied: markdown>=2.6.8 in /usr/local/lib/python3.11/dist-packages (from tensorboard~=2.19.0->tensorflow) (3.8.2)\n",
            "Requirement already satisfied: tensorboard-data-server<0.8.0,>=0.7.0 in /usr/local/lib/python3.11/dist-packages (from tensorboard~=2.19.0->tensorflow) (0.7.2)\n",
            "Requirement already satisfied: werkzeug>=1.0.1 in /usr/local/lib/python3.11/dist-packages (from tensorboard~=2.19.0->tensorflow) (3.1.3)\n",
            "Requirement already satisfied: MarkupSafe>=2.1.1 in /usr/local/lib/python3.11/dist-packages (from werkzeug>=1.0.1->tensorboard~=2.19.0->tensorflow) (3.0.2)\n",
            "Requirement already satisfied: markdown-it-py>=2.2.0 in /usr/local/lib/python3.11/dist-packages (from rich->keras>=3.5.0->tensorflow) (4.0.0)\n",
            "Requirement already satisfied: pygments<3.0.0,>=2.13.0 in /usr/local/lib/python3.11/dist-packages (from rich->keras>=3.5.0->tensorflow) (2.19.2)\n",
            "Requirement already satisfied: mdurl~=0.1 in /usr/local/lib/python3.11/dist-packages (from markdown-it-py>=2.2.0->rich->keras>=3.5.0->tensorflow) (0.1.2)\n",
            "Collecting vaderSentiment\n",
            "  Downloading vaderSentiment-3.3.2-py2.py3-none-any.whl.metadata (572 bytes)\n",
            "Requirement already satisfied: requests in /usr/local/lib/python3.11/dist-packages (from vaderSentiment) (2.32.3)\n",
            "Requirement already satisfied: charset-normalizer<4,>=2 in /usr/local/lib/python3.11/dist-packages (from requests->vaderSentiment) (3.4.3)\n",
            "Requirement already satisfied: idna<4,>=2.5 in /usr/local/lib/python3.11/dist-packages (from requests->vaderSentiment) (3.10)\n",
            "Requirement already satisfied: urllib3<3,>=1.21.1 in /usr/local/lib/python3.11/dist-packages (from requests->vaderSentiment) (2.5.0)\n",
            "Requirement already satisfied: certifi>=2017.4.17 in /usr/local/lib/python3.11/dist-packages (from requests->vaderSentiment) (2025.8.3)\n",
            "Downloading vaderSentiment-3.3.2-py2.py3-none-any.whl (125 kB)\n",
            "\u001b[2K   \u001b[90m━━━━━━━━━━━━━━━━━━━━━━━━━━━━━━━━━━━━━━━━\u001b[0m \u001b[32m126.0/126.0 kB\u001b[0m \u001b[31m2.4 MB/s\u001b[0m eta \u001b[36m0:00:00\u001b[0m\n",
            "\u001b[?25hInstalling collected packages: vaderSentiment\n",
            "Successfully installed vaderSentiment-3.3.2\n",
            "Requirement already satisfied: scikit-learn in /usr/local/lib/python3.11/dist-packages (1.6.1)\n",
            "Requirement already satisfied: numpy>=1.19.5 in /usr/local/lib/python3.11/dist-packages (from scikit-learn) (2.0.2)\n",
            "Requirement already satisfied: scipy>=1.6.0 in /usr/local/lib/python3.11/dist-packages (from scikit-learn) (1.16.1)\n",
            "Requirement already satisfied: joblib>=1.2.0 in /usr/local/lib/python3.11/dist-packages (from scikit-learn) (1.5.1)\n",
            "Requirement already satisfied: threadpoolctl>=3.1.0 in /usr/local/lib/python3.11/dist-packages (from scikit-learn) (3.6.0)\n",
            "Requirement already satisfied: matplotlib in /usr/local/lib/python3.11/dist-packages (3.10.0)\n",
            "Requirement already satisfied: contourpy>=1.0.1 in /usr/local/lib/python3.11/dist-packages (from matplotlib) (1.3.3)\n",
            "Requirement already satisfied: cycler>=0.10 in /usr/local/lib/python3.11/dist-packages (from matplotlib) (0.12.1)\n",
            "Requirement already satisfied: fonttools>=4.22.0 in /usr/local/lib/python3.11/dist-packages (from matplotlib) (4.59.0)\n",
            "Requirement already satisfied: kiwisolver>=1.3.1 in /usr/local/lib/python3.11/dist-packages (from matplotlib) (1.4.9)\n",
            "Requirement already satisfied: numpy>=1.23 in /usr/local/lib/python3.11/dist-packages (from matplotlib) (2.0.2)\n",
            "Requirement already satisfied: packaging>=20.0 in /usr/local/lib/python3.11/dist-packages (from matplotlib) (25.0)\n",
            "Requirement already satisfied: pillow>=8 in /usr/local/lib/python3.11/dist-packages (from matplotlib) (11.3.0)\n",
            "Requirement already satisfied: pyparsing>=2.3.1 in /usr/local/lib/python3.11/dist-packages (from matplotlib) (3.2.3)\n",
            "Requirement already satisfied: python-dateutil>=2.7 in /usr/local/lib/python3.11/dist-packages (from matplotlib) (2.9.0.post0)\n",
            "Requirement already satisfied: six>=1.5 in /usr/local/lib/python3.11/dist-packages (from python-dateutil>=2.7->matplotlib) (1.17.0)\n",
            "Requirement already satisfied: seaborn in /usr/local/lib/python3.11/dist-packages (0.13.2)\n",
            "Requirement already satisfied: numpy!=1.24.0,>=1.20 in /usr/local/lib/python3.11/dist-packages (from seaborn) (2.0.2)\n",
            "Requirement already satisfied: pandas>=1.2 in /usr/local/lib/python3.11/dist-packages (from seaborn) (2.2.2)\n",
            "Requirement already satisfied: matplotlib!=3.6.1,>=3.4 in /usr/local/lib/python3.11/dist-packages (from seaborn) (3.10.0)\n",
            "Requirement already satisfied: contourpy>=1.0.1 in /usr/local/lib/python3.11/dist-packages (from matplotlib!=3.6.1,>=3.4->seaborn) (1.3.3)\n",
            "Requirement already satisfied: cycler>=0.10 in /usr/local/lib/python3.11/dist-packages (from matplotlib!=3.6.1,>=3.4->seaborn) (0.12.1)\n",
            "Requirement already satisfied: fonttools>=4.22.0 in /usr/local/lib/python3.11/dist-packages (from matplotlib!=3.6.1,>=3.4->seaborn) (4.59.0)\n",
            "Requirement already satisfied: kiwisolver>=1.3.1 in /usr/local/lib/python3.11/dist-packages (from matplotlib!=3.6.1,>=3.4->seaborn) (1.4.9)\n",
            "Requirement already satisfied: packaging>=20.0 in /usr/local/lib/python3.11/dist-packages (from matplotlib!=3.6.1,>=3.4->seaborn) (25.0)\n",
            "Requirement already satisfied: pillow>=8 in /usr/local/lib/python3.11/dist-packages (from matplotlib!=3.6.1,>=3.4->seaborn) (11.3.0)\n",
            "Requirement already satisfied: pyparsing>=2.3.1 in /usr/local/lib/python3.11/dist-packages (from matplotlib!=3.6.1,>=3.4->seaborn) (3.2.3)\n",
            "Requirement already satisfied: python-dateutil>=2.7 in /usr/local/lib/python3.11/dist-packages (from matplotlib!=3.6.1,>=3.4->seaborn) (2.9.0.post0)\n",
            "Requirement already satisfied: pytz>=2020.1 in /usr/local/lib/python3.11/dist-packages (from pandas>=1.2->seaborn) (2025.2)\n",
            "Requirement already satisfied: tzdata>=2022.7 in /usr/local/lib/python3.11/dist-packages (from pandas>=1.2->seaborn) (2025.2)\n",
            "Requirement already satisfied: six>=1.5 in /usr/local/lib/python3.11/dist-packages (from python-dateutil>=2.7->matplotlib!=3.6.1,>=3.4->seaborn) (1.17.0)\n",
            "✅ All libraries are installed and imported successfully!\n"
          ]
        }
      ],
      "source": [
        "# Install necessary libraries for data processing, Spark, and deep learning\n",
        "!pip install pyspark\n",
        "!pip install pandas\n",
        "!pip install tensorflow\n",
        "!pip install vaderSentiment\n",
        "!pip install scikit-learn\n",
        "!pip install matplotlib\n",
        "!pip install seaborn\n",
        "\n",
        "# Import the libraries we will use\n",
        "import pandas as pd\n",
        "import numpy as np\n",
        "from pyspark.sql import SparkSession\n",
        "from pyspark.sql.functions import col, to_date, year, month, udf\n",
        "from pyspark.sql.types import FloatType\n",
        "from vaderSentiment.vaderSentiment import SentimentIntensityAnalyzer\n",
        "from sklearn.preprocessing import MinMaxScaler\n",
        "import tensorflow as tf\n",
        "from tensorflow.keras.models import Sequential\n",
        "from tensorflow.keras.layers import Dense, LSTM, Dropout\n",
        "from sklearn.metrics import classification_report, confusion_matrix\n",
        "import matplotlib.pyplot as plt\n",
        "import seaborn as sns\n",
        "\n",
        "print(\"✅ All libraries are installed and imported successfully!\")"
      ]
    },
    {
      "cell_type": "code",
      "source": [
        "# Install the necessary library for downloading stock data\n",
        "!pip install yfinance\n",
        "\n",
        "import pandas as pd\n",
        "import yfinance as yf\n",
        "from datetime import datetime\n",
        "\n",
        "def download_aligned_big_data_stocks():\n",
        "    \"\"\"\n",
        "    Downloads and preprocesses a comprehensive stock market dataset with a timeline\n",
        "    aligned to the historical news data (2009-2020).\n",
        "    \"\"\"\n",
        "\n",
        "    major_stocks = [\n",
        "        'AAPL', 'MSFT', 'GOOGL', 'AMZN', 'META', 'TSLA', 'NVDA', 'NFLX', 'ADBE', 'CRM',\n",
        "        'INTC', 'AMD', 'ORCL', 'IBM', 'CSCO', 'QCOM', 'TXN', 'AVGO', 'MU', 'PYPL',\n",
        "        'JPM', 'BAC', 'WFC', 'C', 'GS', 'MS', 'AXP', 'V', 'MA', 'BLK',\n",
        "        'SCHW', 'USB', 'PNC', 'TFC', 'COF', 'BK', 'STT', 'FITB', 'RF', 'SPGI',\n",
        "        'JNJ', 'UNH', 'PFE', 'ABT', 'TMO', 'DHR', 'BMY', 'ABBV', 'LLY', 'MRK',\n",
        "        'AMGN', 'GILD', 'ISRG', 'VRTX', 'REGN', 'BIIB', 'CVS', 'CI', 'HUM', 'MDT',\n",
        "        'WMT', 'HD', 'PG', 'KO', 'PEP', 'MCD', 'NKE', 'SBUX', 'TGT', 'LOW',\n",
        "        'COST', 'DIS', 'CMCSA', 'VZ', 'T', 'F', 'GM', 'CL', 'KMB', 'GIS'\n",
        "    ]\n",
        "\n",
        "    start_date = \"2009-01-01\"\n",
        "    end_date = \"2020-12-31\"\n",
        "\n",
        "    print(f\"🔄 Downloading ALIGNED Big Data: {len(major_stocks)} stocks from {start_date} to {end_date}\")\n",
        "\n",
        "    all_data = []\n",
        "    for i, symbol in enumerate(major_stocks):\n",
        "        try:\n",
        "            print(f\"📈 Processing {symbol} ({i+1}/{len(major_stocks)})\")\n",
        "            stock_data = yf.download(symbol, start=start_date, end=end_date, progress=False)\n",
        "\n",
        "            if not stock_data.empty:\n",
        "                stock_data.reset_index(inplace=True)\n",
        "                stock_data['Symbol'] = symbol\n",
        "\n",
        "                # Pre-calculate technical indicators\n",
        "                stock_data['Daily_Return'] = stock_data['Close'].pct_change()\n",
        "                stock_data['Volatility'] = stock_data['Daily_Return'].rolling(window=20).std()\n",
        "                stock_data['SMA_20'] = stock_data['Close'].rolling(window=20).mean()\n",
        "                stock_data['SMA_50'] = stock_data['Close'].rolling(window=50).mean()\n",
        "                stock_data['Volume_MA'] = stock_data['Volume'].rolling(window=20).mean()\n",
        "\n",
        "                all_data.append(stock_data)\n",
        "\n",
        "        except Exception as e:\n",
        "            print(f\"⚠️ Failed to download {symbol}: {e}\")\n",
        "\n",
        "    combined_data = pd.concat(all_data, ignore_index=True)\n",
        "\n",
        "    # --- KEY CHANGE: The aggressive dropna() line has been removed ---\n",
        "    # combined_data.dropna(inplace=True)\n",
        "\n",
        "    print(\"\\n✅ ALIGNED BIG DATASET CREATED SUCCESSFULLY:\")\n",
        "    print(f\"📊 Total records: {len(combined_data):,}\")\n",
        "    print(f\"🏢 Total unique stocks: {combined_data['Symbol'].nunique()}\")\n",
        "    print(f\"📅 Date range: {combined_data['Date'].min().date()} to {combined_data['Date'].max().date()}\")\n",
        "\n",
        "    return combined_data\n",
        "\n",
        "# --- Execute the function and save the data ---\n",
        "stock_data = download_aligned_big_data_stocks()\n",
        "stock_data.to_csv('big_stock_data_aligned.csv', index=False)\n",
        "print(\"\\n💾 File 'big_stock_data_aligned.csv' has been saved. It should now contain all the records.\")"
      ],
      "metadata": {
        "colab": {
          "base_uri": "https://localhost:8080/"
        },
        "id": "PlTTUutuf2xe",
        "outputId": "f6996102-6aec-4ec1-aa6a-eda885bbabb6"
      },
      "execution_count": 2,
      "outputs": [
        {
          "output_type": "stream",
          "name": "stdout",
          "text": [
            "Requirement already satisfied: yfinance in /usr/local/lib/python3.11/dist-packages (0.2.65)\n",
            "Requirement already satisfied: pandas>=1.3.0 in /usr/local/lib/python3.11/dist-packages (from yfinance) (2.2.2)\n",
            "Requirement already satisfied: numpy>=1.16.5 in /usr/local/lib/python3.11/dist-packages (from yfinance) (2.0.2)\n",
            "Requirement already satisfied: requests>=2.31 in /usr/local/lib/python3.11/dist-packages (from yfinance) (2.32.3)\n",
            "Requirement already satisfied: multitasking>=0.0.7 in /usr/local/lib/python3.11/dist-packages (from yfinance) (0.0.12)\n",
            "Requirement already satisfied: platformdirs>=2.0.0 in /usr/local/lib/python3.11/dist-packages (from yfinance) (4.3.8)\n",
            "Requirement already satisfied: pytz>=2022.5 in /usr/local/lib/python3.11/dist-packages (from yfinance) (2025.2)\n",
            "Requirement already satisfied: frozendict>=2.3.4 in /usr/local/lib/python3.11/dist-packages (from yfinance) (2.4.6)\n",
            "Requirement already satisfied: peewee>=3.16.2 in /usr/local/lib/python3.11/dist-packages (from yfinance) (3.18.2)\n",
            "Requirement already satisfied: beautifulsoup4>=4.11.1 in /usr/local/lib/python3.11/dist-packages (from yfinance) (4.13.4)\n",
            "Requirement already satisfied: curl_cffi>=0.7 in /usr/local/lib/python3.11/dist-packages (from yfinance) (0.13.0)\n",
            "Requirement already satisfied: protobuf>=3.19.0 in /usr/local/lib/python3.11/dist-packages (from yfinance) (5.29.5)\n",
            "Requirement already satisfied: websockets>=13.0 in /usr/local/lib/python3.11/dist-packages (from yfinance) (15.0.1)\n",
            "Requirement already satisfied: soupsieve>1.2 in /usr/local/lib/python3.11/dist-packages (from beautifulsoup4>=4.11.1->yfinance) (2.7)\n",
            "Requirement already satisfied: typing-extensions>=4.0.0 in /usr/local/lib/python3.11/dist-packages (from beautifulsoup4>=4.11.1->yfinance) (4.14.1)\n",
            "Requirement already satisfied: cffi>=1.12.0 in /usr/local/lib/python3.11/dist-packages (from curl_cffi>=0.7->yfinance) (1.17.1)\n",
            "Requirement already satisfied: certifi>=2024.2.2 in /usr/local/lib/python3.11/dist-packages (from curl_cffi>=0.7->yfinance) (2025.8.3)\n",
            "Requirement already satisfied: python-dateutil>=2.8.2 in /usr/local/lib/python3.11/dist-packages (from pandas>=1.3.0->yfinance) (2.9.0.post0)\n",
            "Requirement already satisfied: tzdata>=2022.7 in /usr/local/lib/python3.11/dist-packages (from pandas>=1.3.0->yfinance) (2025.2)\n",
            "Requirement already satisfied: charset-normalizer<4,>=2 in /usr/local/lib/python3.11/dist-packages (from requests>=2.31->yfinance) (3.4.3)\n",
            "Requirement already satisfied: idna<4,>=2.5 in /usr/local/lib/python3.11/dist-packages (from requests>=2.31->yfinance) (3.10)\n",
            "Requirement already satisfied: urllib3<3,>=1.21.1 in /usr/local/lib/python3.11/dist-packages (from requests>=2.31->yfinance) (2.5.0)\n",
            "Requirement already satisfied: pycparser in /usr/local/lib/python3.11/dist-packages (from cffi>=1.12.0->curl_cffi>=0.7->yfinance) (2.22)\n",
            "Requirement already satisfied: six>=1.5 in /usr/local/lib/python3.11/dist-packages (from python-dateutil>=2.8.2->pandas>=1.3.0->yfinance) (1.17.0)\n",
            "🔄 Downloading ALIGNED Big Data: 80 stocks from 2009-01-01 to 2020-12-31\n",
            "📈 Processing AAPL (1/80)\n"
          ]
        },
        {
          "output_type": "stream",
          "name": "stderr",
          "text": [
            "/tmp/ipython-input-77153801.py:34: FutureWarning: YF.download() has changed argument auto_adjust default to True\n",
            "  stock_data = yf.download(symbol, start=start_date, end=end_date, progress=False)\n"
          ]
        },
        {
          "output_type": "stream",
          "name": "stdout",
          "text": [
            "📈 Processing MSFT (2/80)\n"
          ]
        },
        {
          "output_type": "stream",
          "name": "stderr",
          "text": [
            "/tmp/ipython-input-77153801.py:34: FutureWarning: YF.download() has changed argument auto_adjust default to True\n",
            "  stock_data = yf.download(symbol, start=start_date, end=end_date, progress=False)\n"
          ]
        },
        {
          "output_type": "stream",
          "name": "stdout",
          "text": [
            "📈 Processing GOOGL (3/80)\n"
          ]
        },
        {
          "output_type": "stream",
          "name": "stderr",
          "text": [
            "/tmp/ipython-input-77153801.py:34: FutureWarning: YF.download() has changed argument auto_adjust default to True\n",
            "  stock_data = yf.download(symbol, start=start_date, end=end_date, progress=False)\n"
          ]
        },
        {
          "output_type": "stream",
          "name": "stdout",
          "text": [
            "📈 Processing AMZN (4/80)\n"
          ]
        },
        {
          "output_type": "stream",
          "name": "stderr",
          "text": [
            "/tmp/ipython-input-77153801.py:34: FutureWarning: YF.download() has changed argument auto_adjust default to True\n",
            "  stock_data = yf.download(symbol, start=start_date, end=end_date, progress=False)\n"
          ]
        },
        {
          "output_type": "stream",
          "name": "stdout",
          "text": [
            "📈 Processing META (5/80)\n"
          ]
        },
        {
          "output_type": "stream",
          "name": "stderr",
          "text": [
            "/tmp/ipython-input-77153801.py:34: FutureWarning: YF.download() has changed argument auto_adjust default to True\n",
            "  stock_data = yf.download(symbol, start=start_date, end=end_date, progress=False)\n"
          ]
        },
        {
          "output_type": "stream",
          "name": "stdout",
          "text": [
            "📈 Processing TSLA (6/80)\n"
          ]
        },
        {
          "output_type": "stream",
          "name": "stderr",
          "text": [
            "/tmp/ipython-input-77153801.py:34: FutureWarning: YF.download() has changed argument auto_adjust default to True\n",
            "  stock_data = yf.download(symbol, start=start_date, end=end_date, progress=False)\n"
          ]
        },
        {
          "output_type": "stream",
          "name": "stdout",
          "text": [
            "📈 Processing NVDA (7/80)\n"
          ]
        },
        {
          "output_type": "stream",
          "name": "stderr",
          "text": [
            "/tmp/ipython-input-77153801.py:34: FutureWarning: YF.download() has changed argument auto_adjust default to True\n",
            "  stock_data = yf.download(symbol, start=start_date, end=end_date, progress=False)\n"
          ]
        },
        {
          "output_type": "stream",
          "name": "stdout",
          "text": [
            "📈 Processing NFLX (8/80)\n"
          ]
        },
        {
          "output_type": "stream",
          "name": "stderr",
          "text": [
            "/tmp/ipython-input-77153801.py:34: FutureWarning: YF.download() has changed argument auto_adjust default to True\n",
            "  stock_data = yf.download(symbol, start=start_date, end=end_date, progress=False)\n"
          ]
        },
        {
          "output_type": "stream",
          "name": "stdout",
          "text": [
            "📈 Processing ADBE (9/80)\n"
          ]
        },
        {
          "output_type": "stream",
          "name": "stderr",
          "text": [
            "/tmp/ipython-input-77153801.py:34: FutureWarning: YF.download() has changed argument auto_adjust default to True\n",
            "  stock_data = yf.download(symbol, start=start_date, end=end_date, progress=False)\n"
          ]
        },
        {
          "output_type": "stream",
          "name": "stdout",
          "text": [
            "📈 Processing CRM (10/80)\n"
          ]
        },
        {
          "output_type": "stream",
          "name": "stderr",
          "text": [
            "/tmp/ipython-input-77153801.py:34: FutureWarning: YF.download() has changed argument auto_adjust default to True\n",
            "  stock_data = yf.download(symbol, start=start_date, end=end_date, progress=False)\n"
          ]
        },
        {
          "output_type": "stream",
          "name": "stdout",
          "text": [
            "📈 Processing INTC (11/80)\n"
          ]
        },
        {
          "output_type": "stream",
          "name": "stderr",
          "text": [
            "/tmp/ipython-input-77153801.py:34: FutureWarning: YF.download() has changed argument auto_adjust default to True\n",
            "  stock_data = yf.download(symbol, start=start_date, end=end_date, progress=False)\n"
          ]
        },
        {
          "output_type": "stream",
          "name": "stdout",
          "text": [
            "📈 Processing AMD (12/80)\n"
          ]
        },
        {
          "output_type": "stream",
          "name": "stderr",
          "text": [
            "/tmp/ipython-input-77153801.py:34: FutureWarning: YF.download() has changed argument auto_adjust default to True\n",
            "  stock_data = yf.download(symbol, start=start_date, end=end_date, progress=False)\n"
          ]
        },
        {
          "output_type": "stream",
          "name": "stdout",
          "text": [
            "📈 Processing ORCL (13/80)\n"
          ]
        },
        {
          "output_type": "stream",
          "name": "stderr",
          "text": [
            "/tmp/ipython-input-77153801.py:34: FutureWarning: YF.download() has changed argument auto_adjust default to True\n",
            "  stock_data = yf.download(symbol, start=start_date, end=end_date, progress=False)\n"
          ]
        },
        {
          "output_type": "stream",
          "name": "stdout",
          "text": [
            "📈 Processing IBM (14/80)\n"
          ]
        },
        {
          "output_type": "stream",
          "name": "stderr",
          "text": [
            "/tmp/ipython-input-77153801.py:34: FutureWarning: YF.download() has changed argument auto_adjust default to True\n",
            "  stock_data = yf.download(symbol, start=start_date, end=end_date, progress=False)\n"
          ]
        },
        {
          "output_type": "stream",
          "name": "stdout",
          "text": [
            "📈 Processing CSCO (15/80)\n"
          ]
        },
        {
          "output_type": "stream",
          "name": "stderr",
          "text": [
            "/tmp/ipython-input-77153801.py:34: FutureWarning: YF.download() has changed argument auto_adjust default to True\n",
            "  stock_data = yf.download(symbol, start=start_date, end=end_date, progress=False)\n"
          ]
        },
        {
          "output_type": "stream",
          "name": "stdout",
          "text": [
            "📈 Processing QCOM (16/80)\n"
          ]
        },
        {
          "output_type": "stream",
          "name": "stderr",
          "text": [
            "/tmp/ipython-input-77153801.py:34: FutureWarning: YF.download() has changed argument auto_adjust default to True\n",
            "  stock_data = yf.download(symbol, start=start_date, end=end_date, progress=False)\n"
          ]
        },
        {
          "output_type": "stream",
          "name": "stdout",
          "text": [
            "📈 Processing TXN (17/80)\n"
          ]
        },
        {
          "output_type": "stream",
          "name": "stderr",
          "text": [
            "/tmp/ipython-input-77153801.py:34: FutureWarning: YF.download() has changed argument auto_adjust default to True\n",
            "  stock_data = yf.download(symbol, start=start_date, end=end_date, progress=False)\n"
          ]
        },
        {
          "output_type": "stream",
          "name": "stdout",
          "text": [
            "📈 Processing AVGO (18/80)\n"
          ]
        },
        {
          "output_type": "stream",
          "name": "stderr",
          "text": [
            "/tmp/ipython-input-77153801.py:34: FutureWarning: YF.download() has changed argument auto_adjust default to True\n",
            "  stock_data = yf.download(symbol, start=start_date, end=end_date, progress=False)\n"
          ]
        },
        {
          "output_type": "stream",
          "name": "stdout",
          "text": [
            "📈 Processing MU (19/80)\n"
          ]
        },
        {
          "output_type": "stream",
          "name": "stderr",
          "text": [
            "/tmp/ipython-input-77153801.py:34: FutureWarning: YF.download() has changed argument auto_adjust default to True\n",
            "  stock_data = yf.download(symbol, start=start_date, end=end_date, progress=False)\n"
          ]
        },
        {
          "output_type": "stream",
          "name": "stdout",
          "text": [
            "📈 Processing PYPL (20/80)\n"
          ]
        },
        {
          "output_type": "stream",
          "name": "stderr",
          "text": [
            "/tmp/ipython-input-77153801.py:34: FutureWarning: YF.download() has changed argument auto_adjust default to True\n",
            "  stock_data = yf.download(symbol, start=start_date, end=end_date, progress=False)\n"
          ]
        },
        {
          "output_type": "stream",
          "name": "stdout",
          "text": [
            "📈 Processing JPM (21/80)\n"
          ]
        },
        {
          "output_type": "stream",
          "name": "stderr",
          "text": [
            "/tmp/ipython-input-77153801.py:34: FutureWarning: YF.download() has changed argument auto_adjust default to True\n",
            "  stock_data = yf.download(symbol, start=start_date, end=end_date, progress=False)\n"
          ]
        },
        {
          "output_type": "stream",
          "name": "stdout",
          "text": [
            "📈 Processing BAC (22/80)\n"
          ]
        },
        {
          "output_type": "stream",
          "name": "stderr",
          "text": [
            "/tmp/ipython-input-77153801.py:34: FutureWarning: YF.download() has changed argument auto_adjust default to True\n",
            "  stock_data = yf.download(symbol, start=start_date, end=end_date, progress=False)\n"
          ]
        },
        {
          "output_type": "stream",
          "name": "stdout",
          "text": [
            "📈 Processing WFC (23/80)\n"
          ]
        },
        {
          "output_type": "stream",
          "name": "stderr",
          "text": [
            "/tmp/ipython-input-77153801.py:34: FutureWarning: YF.download() has changed argument auto_adjust default to True\n",
            "  stock_data = yf.download(symbol, start=start_date, end=end_date, progress=False)\n"
          ]
        },
        {
          "output_type": "stream",
          "name": "stdout",
          "text": [
            "📈 Processing C (24/80)\n"
          ]
        },
        {
          "output_type": "stream",
          "name": "stderr",
          "text": [
            "/tmp/ipython-input-77153801.py:34: FutureWarning: YF.download() has changed argument auto_adjust default to True\n",
            "  stock_data = yf.download(symbol, start=start_date, end=end_date, progress=False)\n"
          ]
        },
        {
          "output_type": "stream",
          "name": "stdout",
          "text": [
            "📈 Processing GS (25/80)\n"
          ]
        },
        {
          "output_type": "stream",
          "name": "stderr",
          "text": [
            "/tmp/ipython-input-77153801.py:34: FutureWarning: YF.download() has changed argument auto_adjust default to True\n",
            "  stock_data = yf.download(symbol, start=start_date, end=end_date, progress=False)\n"
          ]
        },
        {
          "output_type": "stream",
          "name": "stdout",
          "text": [
            "📈 Processing MS (26/80)\n"
          ]
        },
        {
          "output_type": "stream",
          "name": "stderr",
          "text": [
            "/tmp/ipython-input-77153801.py:34: FutureWarning: YF.download() has changed argument auto_adjust default to True\n",
            "  stock_data = yf.download(symbol, start=start_date, end=end_date, progress=False)\n"
          ]
        },
        {
          "output_type": "stream",
          "name": "stdout",
          "text": [
            "📈 Processing AXP (27/80)\n"
          ]
        },
        {
          "output_type": "stream",
          "name": "stderr",
          "text": [
            "/tmp/ipython-input-77153801.py:34: FutureWarning: YF.download() has changed argument auto_adjust default to True\n",
            "  stock_data = yf.download(symbol, start=start_date, end=end_date, progress=False)\n"
          ]
        },
        {
          "output_type": "stream",
          "name": "stdout",
          "text": [
            "📈 Processing V (28/80)\n"
          ]
        },
        {
          "output_type": "stream",
          "name": "stderr",
          "text": [
            "/tmp/ipython-input-77153801.py:34: FutureWarning: YF.download() has changed argument auto_adjust default to True\n",
            "  stock_data = yf.download(symbol, start=start_date, end=end_date, progress=False)\n"
          ]
        },
        {
          "output_type": "stream",
          "name": "stdout",
          "text": [
            "📈 Processing MA (29/80)\n"
          ]
        },
        {
          "output_type": "stream",
          "name": "stderr",
          "text": [
            "/tmp/ipython-input-77153801.py:34: FutureWarning: YF.download() has changed argument auto_adjust default to True\n",
            "  stock_data = yf.download(symbol, start=start_date, end=end_date, progress=False)\n"
          ]
        },
        {
          "output_type": "stream",
          "name": "stdout",
          "text": [
            "📈 Processing BLK (30/80)\n"
          ]
        },
        {
          "output_type": "stream",
          "name": "stderr",
          "text": [
            "/tmp/ipython-input-77153801.py:34: FutureWarning: YF.download() has changed argument auto_adjust default to True\n",
            "  stock_data = yf.download(symbol, start=start_date, end=end_date, progress=False)\n"
          ]
        },
        {
          "output_type": "stream",
          "name": "stdout",
          "text": [
            "📈 Processing SCHW (31/80)\n"
          ]
        },
        {
          "output_type": "stream",
          "name": "stderr",
          "text": [
            "/tmp/ipython-input-77153801.py:34: FutureWarning: YF.download() has changed argument auto_adjust default to True\n",
            "  stock_data = yf.download(symbol, start=start_date, end=end_date, progress=False)\n"
          ]
        },
        {
          "output_type": "stream",
          "name": "stdout",
          "text": [
            "📈 Processing USB (32/80)\n"
          ]
        },
        {
          "output_type": "stream",
          "name": "stderr",
          "text": [
            "/tmp/ipython-input-77153801.py:34: FutureWarning: YF.download() has changed argument auto_adjust default to True\n",
            "  stock_data = yf.download(symbol, start=start_date, end=end_date, progress=False)\n"
          ]
        },
        {
          "output_type": "stream",
          "name": "stdout",
          "text": [
            "📈 Processing PNC (33/80)\n"
          ]
        },
        {
          "output_type": "stream",
          "name": "stderr",
          "text": [
            "/tmp/ipython-input-77153801.py:34: FutureWarning: YF.download() has changed argument auto_adjust default to True\n",
            "  stock_data = yf.download(symbol, start=start_date, end=end_date, progress=False)\n"
          ]
        },
        {
          "output_type": "stream",
          "name": "stdout",
          "text": [
            "📈 Processing TFC (34/80)\n"
          ]
        },
        {
          "output_type": "stream",
          "name": "stderr",
          "text": [
            "/tmp/ipython-input-77153801.py:34: FutureWarning: YF.download() has changed argument auto_adjust default to True\n",
            "  stock_data = yf.download(symbol, start=start_date, end=end_date, progress=False)\n"
          ]
        },
        {
          "output_type": "stream",
          "name": "stdout",
          "text": [
            "📈 Processing COF (35/80)\n"
          ]
        },
        {
          "output_type": "stream",
          "name": "stderr",
          "text": [
            "/tmp/ipython-input-77153801.py:34: FutureWarning: YF.download() has changed argument auto_adjust default to True\n",
            "  stock_data = yf.download(symbol, start=start_date, end=end_date, progress=False)\n"
          ]
        },
        {
          "output_type": "stream",
          "name": "stdout",
          "text": [
            "📈 Processing BK (36/80)\n"
          ]
        },
        {
          "output_type": "stream",
          "name": "stderr",
          "text": [
            "/tmp/ipython-input-77153801.py:34: FutureWarning: YF.download() has changed argument auto_adjust default to True\n",
            "  stock_data = yf.download(symbol, start=start_date, end=end_date, progress=False)\n"
          ]
        },
        {
          "output_type": "stream",
          "name": "stdout",
          "text": [
            "📈 Processing STT (37/80)\n"
          ]
        },
        {
          "output_type": "stream",
          "name": "stderr",
          "text": [
            "/tmp/ipython-input-77153801.py:34: FutureWarning: YF.download() has changed argument auto_adjust default to True\n",
            "  stock_data = yf.download(symbol, start=start_date, end=end_date, progress=False)\n"
          ]
        },
        {
          "output_type": "stream",
          "name": "stdout",
          "text": [
            "📈 Processing FITB (38/80)\n"
          ]
        },
        {
          "output_type": "stream",
          "name": "stderr",
          "text": [
            "/tmp/ipython-input-77153801.py:34: FutureWarning: YF.download() has changed argument auto_adjust default to True\n",
            "  stock_data = yf.download(symbol, start=start_date, end=end_date, progress=False)\n"
          ]
        },
        {
          "output_type": "stream",
          "name": "stdout",
          "text": [
            "📈 Processing RF (39/80)\n"
          ]
        },
        {
          "output_type": "stream",
          "name": "stderr",
          "text": [
            "/tmp/ipython-input-77153801.py:34: FutureWarning: YF.download() has changed argument auto_adjust default to True\n",
            "  stock_data = yf.download(symbol, start=start_date, end=end_date, progress=False)\n"
          ]
        },
        {
          "output_type": "stream",
          "name": "stdout",
          "text": [
            "📈 Processing SPGI (40/80)\n"
          ]
        },
        {
          "output_type": "stream",
          "name": "stderr",
          "text": [
            "/tmp/ipython-input-77153801.py:34: FutureWarning: YF.download() has changed argument auto_adjust default to True\n",
            "  stock_data = yf.download(symbol, start=start_date, end=end_date, progress=False)\n"
          ]
        },
        {
          "output_type": "stream",
          "name": "stdout",
          "text": [
            "📈 Processing JNJ (41/80)\n"
          ]
        },
        {
          "output_type": "stream",
          "name": "stderr",
          "text": [
            "/tmp/ipython-input-77153801.py:34: FutureWarning: YF.download() has changed argument auto_adjust default to True\n",
            "  stock_data = yf.download(symbol, start=start_date, end=end_date, progress=False)\n"
          ]
        },
        {
          "output_type": "stream",
          "name": "stdout",
          "text": [
            "📈 Processing UNH (42/80)\n"
          ]
        },
        {
          "output_type": "stream",
          "name": "stderr",
          "text": [
            "/tmp/ipython-input-77153801.py:34: FutureWarning: YF.download() has changed argument auto_adjust default to True\n",
            "  stock_data = yf.download(symbol, start=start_date, end=end_date, progress=False)\n"
          ]
        },
        {
          "output_type": "stream",
          "name": "stdout",
          "text": [
            "📈 Processing PFE (43/80)\n"
          ]
        },
        {
          "output_type": "stream",
          "name": "stderr",
          "text": [
            "/tmp/ipython-input-77153801.py:34: FutureWarning: YF.download() has changed argument auto_adjust default to True\n",
            "  stock_data = yf.download(symbol, start=start_date, end=end_date, progress=False)\n"
          ]
        },
        {
          "output_type": "stream",
          "name": "stdout",
          "text": [
            "📈 Processing ABT (44/80)\n"
          ]
        },
        {
          "output_type": "stream",
          "name": "stderr",
          "text": [
            "/tmp/ipython-input-77153801.py:34: FutureWarning: YF.download() has changed argument auto_adjust default to True\n",
            "  stock_data = yf.download(symbol, start=start_date, end=end_date, progress=False)\n"
          ]
        },
        {
          "output_type": "stream",
          "name": "stdout",
          "text": [
            "📈 Processing TMO (45/80)\n"
          ]
        },
        {
          "output_type": "stream",
          "name": "stderr",
          "text": [
            "/tmp/ipython-input-77153801.py:34: FutureWarning: YF.download() has changed argument auto_adjust default to True\n",
            "  stock_data = yf.download(symbol, start=start_date, end=end_date, progress=False)\n"
          ]
        },
        {
          "output_type": "stream",
          "name": "stdout",
          "text": [
            "📈 Processing DHR (46/80)\n"
          ]
        },
        {
          "output_type": "stream",
          "name": "stderr",
          "text": [
            "/tmp/ipython-input-77153801.py:34: FutureWarning: YF.download() has changed argument auto_adjust default to True\n",
            "  stock_data = yf.download(symbol, start=start_date, end=end_date, progress=False)\n"
          ]
        },
        {
          "output_type": "stream",
          "name": "stdout",
          "text": [
            "📈 Processing BMY (47/80)\n"
          ]
        },
        {
          "output_type": "stream",
          "name": "stderr",
          "text": [
            "/tmp/ipython-input-77153801.py:34: FutureWarning: YF.download() has changed argument auto_adjust default to True\n",
            "  stock_data = yf.download(symbol, start=start_date, end=end_date, progress=False)\n"
          ]
        },
        {
          "output_type": "stream",
          "name": "stdout",
          "text": [
            "📈 Processing ABBV (48/80)\n"
          ]
        },
        {
          "output_type": "stream",
          "name": "stderr",
          "text": [
            "/tmp/ipython-input-77153801.py:34: FutureWarning: YF.download() has changed argument auto_adjust default to True\n",
            "  stock_data = yf.download(symbol, start=start_date, end=end_date, progress=False)\n"
          ]
        },
        {
          "output_type": "stream",
          "name": "stdout",
          "text": [
            "📈 Processing LLY (49/80)\n"
          ]
        },
        {
          "output_type": "stream",
          "name": "stderr",
          "text": [
            "/tmp/ipython-input-77153801.py:34: FutureWarning: YF.download() has changed argument auto_adjust default to True\n",
            "  stock_data = yf.download(symbol, start=start_date, end=end_date, progress=False)\n"
          ]
        },
        {
          "output_type": "stream",
          "name": "stdout",
          "text": [
            "📈 Processing MRK (50/80)\n"
          ]
        },
        {
          "output_type": "stream",
          "name": "stderr",
          "text": [
            "/tmp/ipython-input-77153801.py:34: FutureWarning: YF.download() has changed argument auto_adjust default to True\n",
            "  stock_data = yf.download(symbol, start=start_date, end=end_date, progress=False)\n"
          ]
        },
        {
          "output_type": "stream",
          "name": "stdout",
          "text": [
            "📈 Processing AMGN (51/80)\n"
          ]
        },
        {
          "output_type": "stream",
          "name": "stderr",
          "text": [
            "/tmp/ipython-input-77153801.py:34: FutureWarning: YF.download() has changed argument auto_adjust default to True\n",
            "  stock_data = yf.download(symbol, start=start_date, end=end_date, progress=False)\n"
          ]
        },
        {
          "output_type": "stream",
          "name": "stdout",
          "text": [
            "📈 Processing GILD (52/80)\n"
          ]
        },
        {
          "output_type": "stream",
          "name": "stderr",
          "text": [
            "/tmp/ipython-input-77153801.py:34: FutureWarning: YF.download() has changed argument auto_adjust default to True\n",
            "  stock_data = yf.download(symbol, start=start_date, end=end_date, progress=False)\n"
          ]
        },
        {
          "output_type": "stream",
          "name": "stdout",
          "text": [
            "📈 Processing ISRG (53/80)\n"
          ]
        },
        {
          "output_type": "stream",
          "name": "stderr",
          "text": [
            "/tmp/ipython-input-77153801.py:34: FutureWarning: YF.download() has changed argument auto_adjust default to True\n",
            "  stock_data = yf.download(symbol, start=start_date, end=end_date, progress=False)\n"
          ]
        },
        {
          "output_type": "stream",
          "name": "stdout",
          "text": [
            "📈 Processing VRTX (54/80)\n"
          ]
        },
        {
          "output_type": "stream",
          "name": "stderr",
          "text": [
            "/tmp/ipython-input-77153801.py:34: FutureWarning: YF.download() has changed argument auto_adjust default to True\n",
            "  stock_data = yf.download(symbol, start=start_date, end=end_date, progress=False)\n"
          ]
        },
        {
          "output_type": "stream",
          "name": "stdout",
          "text": [
            "📈 Processing REGN (55/80)\n"
          ]
        },
        {
          "output_type": "stream",
          "name": "stderr",
          "text": [
            "/tmp/ipython-input-77153801.py:34: FutureWarning: YF.download() has changed argument auto_adjust default to True\n",
            "  stock_data = yf.download(symbol, start=start_date, end=end_date, progress=False)\n"
          ]
        },
        {
          "output_type": "stream",
          "name": "stdout",
          "text": [
            "📈 Processing BIIB (56/80)\n"
          ]
        },
        {
          "output_type": "stream",
          "name": "stderr",
          "text": [
            "/tmp/ipython-input-77153801.py:34: FutureWarning: YF.download() has changed argument auto_adjust default to True\n",
            "  stock_data = yf.download(symbol, start=start_date, end=end_date, progress=False)\n"
          ]
        },
        {
          "output_type": "stream",
          "name": "stdout",
          "text": [
            "📈 Processing CVS (57/80)\n"
          ]
        },
        {
          "output_type": "stream",
          "name": "stderr",
          "text": [
            "/tmp/ipython-input-77153801.py:34: FutureWarning: YF.download() has changed argument auto_adjust default to True\n",
            "  stock_data = yf.download(symbol, start=start_date, end=end_date, progress=False)\n"
          ]
        },
        {
          "output_type": "stream",
          "name": "stdout",
          "text": [
            "📈 Processing CI (58/80)\n"
          ]
        },
        {
          "output_type": "stream",
          "name": "stderr",
          "text": [
            "/tmp/ipython-input-77153801.py:34: FutureWarning: YF.download() has changed argument auto_adjust default to True\n",
            "  stock_data = yf.download(symbol, start=start_date, end=end_date, progress=False)\n"
          ]
        },
        {
          "output_type": "stream",
          "name": "stdout",
          "text": [
            "📈 Processing HUM (59/80)\n"
          ]
        },
        {
          "output_type": "stream",
          "name": "stderr",
          "text": [
            "/tmp/ipython-input-77153801.py:34: FutureWarning: YF.download() has changed argument auto_adjust default to True\n",
            "  stock_data = yf.download(symbol, start=start_date, end=end_date, progress=False)\n"
          ]
        },
        {
          "output_type": "stream",
          "name": "stdout",
          "text": [
            "📈 Processing MDT (60/80)\n"
          ]
        },
        {
          "output_type": "stream",
          "name": "stderr",
          "text": [
            "/tmp/ipython-input-77153801.py:34: FutureWarning: YF.download() has changed argument auto_adjust default to True\n",
            "  stock_data = yf.download(symbol, start=start_date, end=end_date, progress=False)\n"
          ]
        },
        {
          "output_type": "stream",
          "name": "stdout",
          "text": [
            "📈 Processing WMT (61/80)\n"
          ]
        },
        {
          "output_type": "stream",
          "name": "stderr",
          "text": [
            "/tmp/ipython-input-77153801.py:34: FutureWarning: YF.download() has changed argument auto_adjust default to True\n",
            "  stock_data = yf.download(symbol, start=start_date, end=end_date, progress=False)\n"
          ]
        },
        {
          "output_type": "stream",
          "name": "stdout",
          "text": [
            "📈 Processing HD (62/80)\n"
          ]
        },
        {
          "output_type": "stream",
          "name": "stderr",
          "text": [
            "/tmp/ipython-input-77153801.py:34: FutureWarning: YF.download() has changed argument auto_adjust default to True\n",
            "  stock_data = yf.download(symbol, start=start_date, end=end_date, progress=False)\n"
          ]
        },
        {
          "output_type": "stream",
          "name": "stdout",
          "text": [
            "📈 Processing PG (63/80)\n"
          ]
        },
        {
          "output_type": "stream",
          "name": "stderr",
          "text": [
            "/tmp/ipython-input-77153801.py:34: FutureWarning: YF.download() has changed argument auto_adjust default to True\n",
            "  stock_data = yf.download(symbol, start=start_date, end=end_date, progress=False)\n"
          ]
        },
        {
          "output_type": "stream",
          "name": "stdout",
          "text": [
            "📈 Processing KO (64/80)\n"
          ]
        },
        {
          "output_type": "stream",
          "name": "stderr",
          "text": [
            "/tmp/ipython-input-77153801.py:34: FutureWarning: YF.download() has changed argument auto_adjust default to True\n",
            "  stock_data = yf.download(symbol, start=start_date, end=end_date, progress=False)\n"
          ]
        },
        {
          "output_type": "stream",
          "name": "stdout",
          "text": [
            "📈 Processing PEP (65/80)\n"
          ]
        },
        {
          "output_type": "stream",
          "name": "stderr",
          "text": [
            "/tmp/ipython-input-77153801.py:34: FutureWarning: YF.download() has changed argument auto_adjust default to True\n",
            "  stock_data = yf.download(symbol, start=start_date, end=end_date, progress=False)\n"
          ]
        },
        {
          "output_type": "stream",
          "name": "stdout",
          "text": [
            "📈 Processing MCD (66/80)\n"
          ]
        },
        {
          "output_type": "stream",
          "name": "stderr",
          "text": [
            "/tmp/ipython-input-77153801.py:34: FutureWarning: YF.download() has changed argument auto_adjust default to True\n",
            "  stock_data = yf.download(symbol, start=start_date, end=end_date, progress=False)\n"
          ]
        },
        {
          "output_type": "stream",
          "name": "stdout",
          "text": [
            "📈 Processing NKE (67/80)\n"
          ]
        },
        {
          "output_type": "stream",
          "name": "stderr",
          "text": [
            "/tmp/ipython-input-77153801.py:34: FutureWarning: YF.download() has changed argument auto_adjust default to True\n",
            "  stock_data = yf.download(symbol, start=start_date, end=end_date, progress=False)\n"
          ]
        },
        {
          "output_type": "stream",
          "name": "stdout",
          "text": [
            "📈 Processing SBUX (68/80)\n"
          ]
        },
        {
          "output_type": "stream",
          "name": "stderr",
          "text": [
            "/tmp/ipython-input-77153801.py:34: FutureWarning: YF.download() has changed argument auto_adjust default to True\n",
            "  stock_data = yf.download(symbol, start=start_date, end=end_date, progress=False)\n"
          ]
        },
        {
          "output_type": "stream",
          "name": "stdout",
          "text": [
            "📈 Processing TGT (69/80)\n"
          ]
        },
        {
          "output_type": "stream",
          "name": "stderr",
          "text": [
            "/tmp/ipython-input-77153801.py:34: FutureWarning: YF.download() has changed argument auto_adjust default to True\n",
            "  stock_data = yf.download(symbol, start=start_date, end=end_date, progress=False)\n"
          ]
        },
        {
          "output_type": "stream",
          "name": "stdout",
          "text": [
            "📈 Processing LOW (70/80)\n"
          ]
        },
        {
          "output_type": "stream",
          "name": "stderr",
          "text": [
            "/tmp/ipython-input-77153801.py:34: FutureWarning: YF.download() has changed argument auto_adjust default to True\n",
            "  stock_data = yf.download(symbol, start=start_date, end=end_date, progress=False)\n"
          ]
        },
        {
          "output_type": "stream",
          "name": "stdout",
          "text": [
            "📈 Processing COST (71/80)\n"
          ]
        },
        {
          "output_type": "stream",
          "name": "stderr",
          "text": [
            "/tmp/ipython-input-77153801.py:34: FutureWarning: YF.download() has changed argument auto_adjust default to True\n",
            "  stock_data = yf.download(symbol, start=start_date, end=end_date, progress=False)\n"
          ]
        },
        {
          "output_type": "stream",
          "name": "stdout",
          "text": [
            "📈 Processing DIS (72/80)\n"
          ]
        },
        {
          "output_type": "stream",
          "name": "stderr",
          "text": [
            "/tmp/ipython-input-77153801.py:34: FutureWarning: YF.download() has changed argument auto_adjust default to True\n",
            "  stock_data = yf.download(symbol, start=start_date, end=end_date, progress=False)\n"
          ]
        },
        {
          "output_type": "stream",
          "name": "stdout",
          "text": [
            "📈 Processing CMCSA (73/80)\n"
          ]
        },
        {
          "output_type": "stream",
          "name": "stderr",
          "text": [
            "/tmp/ipython-input-77153801.py:34: FutureWarning: YF.download() has changed argument auto_adjust default to True\n",
            "  stock_data = yf.download(symbol, start=start_date, end=end_date, progress=False)\n"
          ]
        },
        {
          "output_type": "stream",
          "name": "stdout",
          "text": [
            "📈 Processing VZ (74/80)\n"
          ]
        },
        {
          "output_type": "stream",
          "name": "stderr",
          "text": [
            "/tmp/ipython-input-77153801.py:34: FutureWarning: YF.download() has changed argument auto_adjust default to True\n",
            "  stock_data = yf.download(symbol, start=start_date, end=end_date, progress=False)\n"
          ]
        },
        {
          "output_type": "stream",
          "name": "stdout",
          "text": [
            "📈 Processing T (75/80)\n"
          ]
        },
        {
          "output_type": "stream",
          "name": "stderr",
          "text": [
            "/tmp/ipython-input-77153801.py:34: FutureWarning: YF.download() has changed argument auto_adjust default to True\n",
            "  stock_data = yf.download(symbol, start=start_date, end=end_date, progress=False)\n"
          ]
        },
        {
          "output_type": "stream",
          "name": "stdout",
          "text": [
            "📈 Processing F (76/80)\n"
          ]
        },
        {
          "output_type": "stream",
          "name": "stderr",
          "text": [
            "/tmp/ipython-input-77153801.py:34: FutureWarning: YF.download() has changed argument auto_adjust default to True\n",
            "  stock_data = yf.download(symbol, start=start_date, end=end_date, progress=False)\n"
          ]
        },
        {
          "output_type": "stream",
          "name": "stdout",
          "text": [
            "📈 Processing GM (77/80)\n"
          ]
        },
        {
          "output_type": "stream",
          "name": "stderr",
          "text": [
            "/tmp/ipython-input-77153801.py:34: FutureWarning: YF.download() has changed argument auto_adjust default to True\n",
            "  stock_data = yf.download(symbol, start=start_date, end=end_date, progress=False)\n"
          ]
        },
        {
          "output_type": "stream",
          "name": "stdout",
          "text": [
            "📈 Processing CL (78/80)\n"
          ]
        },
        {
          "output_type": "stream",
          "name": "stderr",
          "text": [
            "/tmp/ipython-input-77153801.py:34: FutureWarning: YF.download() has changed argument auto_adjust default to True\n",
            "  stock_data = yf.download(symbol, start=start_date, end=end_date, progress=False)\n"
          ]
        },
        {
          "output_type": "stream",
          "name": "stdout",
          "text": [
            "📈 Processing KMB (79/80)\n"
          ]
        },
        {
          "output_type": "stream",
          "name": "stderr",
          "text": [
            "/tmp/ipython-input-77153801.py:34: FutureWarning: YF.download() has changed argument auto_adjust default to True\n",
            "  stock_data = yf.download(symbol, start=start_date, end=end_date, progress=False)\n"
          ]
        },
        {
          "output_type": "stream",
          "name": "stdout",
          "text": [
            "📈 Processing GIS (80/80)\n"
          ]
        },
        {
          "output_type": "stream",
          "name": "stderr",
          "text": [
            "/tmp/ipython-input-77153801.py:34: FutureWarning: YF.download() has changed argument auto_adjust default to True\n",
            "  stock_data = yf.download(symbol, start=start_date, end=end_date, progress=False)\n"
          ]
        },
        {
          "output_type": "stream",
          "name": "stdout",
          "text": [
            "\n",
            "✅ ALIGNED BIG DATASET CREATED SUCCESSFULLY:\n",
            "📊 Total records: 237,110\n",
            "🏢 Total unique stocks: 80\n",
            "📅 Date range: 2009-01-02 to 2020-12-30\n",
            "\n",
            "💾 File 'big_stock_data_aligned.csv' has been saved. It should now contain all the records.\n"
          ]
        }
      ]
    },
    {
      "cell_type": "code",
      "source": [
        "import pandas as pd\n",
        "import csv # Import the CSV library for robust file reading\n",
        "\n",
        "# This is the same list of stocks from Step 1\n",
        "major_stocks = [\n",
        "    'AAPL', 'MSFT', 'GOOGL', 'AMZN', 'META', 'TSLA', 'NVDA', 'NFLX', 'ADBE', 'CRM',\n",
        "    'INTC', 'AMD', 'ORCL', 'IBM', 'CSCO', 'QCOM', 'TXN', 'AVGO', 'MU', 'PYPL',\n",
        "    'JPM', 'BAC', 'WFC', 'C', 'GS', 'MS', 'AXP', 'V', 'MA', 'BLK',\n",
        "    'SCHW', 'USB', 'PNC', 'TFC', 'COF', 'BK', 'STT', 'FITB', 'RF', 'SPGI',\n",
        "    'JNJ', 'UNH', 'PFE', 'ABT', 'TMO', 'DHR', 'BMY', 'ABBV', 'LLY', 'MRK',\n",
        "    'AMGN', 'GILD', 'ISRG', 'VRTX', 'REGN', 'BIIB', 'CVS', 'CI', 'HUM', 'MDT',\n",
        "    'WMT', 'HD', 'PG', 'KO', 'PEP', 'MCD', 'NKE', 'SBUX', 'TGT', 'LOW',\n",
        "    'COST', 'DIS', 'CMCSA', 'VZ', 'T', 'F', 'GM', 'CL', 'KMB', 'GIS'\n",
        "]\n",
        "\n",
        "print(\"--- Starting Step 2 (Definitive Fix): Processing News Data ---\")\n",
        "\n",
        "# Use the exact file path you provided\n",
        "file_path = '/content/analyst_ratings_processed.csv'\n",
        "data_list = []\n",
        "\n",
        "try:\n",
        "    # 1. Robustly read the CSV file line-by-line to bypass pandas parsing errors\n",
        "    print(f\"📰 Robustly loading '{file_path}' to handle formatting errors...\")\n",
        "    with open(file_path, 'r', encoding='utf-8', errors='ignore') as file:\n",
        "        # The csv.reader will correctly handle fields that contain commas\n",
        "        reader = csv.reader(file)\n",
        "        # Skip the header row\n",
        "        header = next(reader)\n",
        "\n",
        "        for row in reader:\n",
        "            # Ensure the row has the expected number of columns before processing\n",
        "            if len(row) == 4:\n",
        "                # The columns are: old_index, title, date, stock\n",
        "                data_list.append({\n",
        "                    'headline': row[1],\n",
        "                    'date': row[2],\n",
        "                    'Symbol': row[3]\n",
        "                })\n",
        "\n",
        "    # 2. Create a Pandas DataFrame from the cleaned list of dictionaries\n",
        "    news_df = pd.DataFrame(data_list)\n",
        "    print(f\"✅ Successfully loaded and parsed {len(news_df):,} articles.\")\n",
        "\n",
        "    # 3. Process the 'date' column\n",
        "    news_df['date'] = pd.to_datetime(news_df['date'], errors='coerce', utc=True)\n",
        "    news_df.dropna(subset=['date'], inplace=True) # Remove rows where date conversion failed\n",
        "\n",
        "    # Extract just the date part for merging with our daily stock data\n",
        "    news_df['Date'] = news_df['date'].dt.date\n",
        "    news_df['Date'] = pd.to_datetime(news_df['Date'])\n",
        "\n",
        "    # 4. Filter the news data to keep only articles for our stocks\n",
        "    print(f\"🔍 Filtering news to match the {len(major_stocks)} stocks...\")\n",
        "    filtered_news = news_df[news_df['Symbol'].isin(major_stocks)]\n",
        "    print(f\"📊 Found {len(filtered_news):,} relevant articles.\")\n",
        "\n",
        "    # 5. Finalize the dataset, keeping only essential columns\n",
        "    final_news_df = filtered_news[['Date', 'Symbol', 'headline']]\n",
        "\n",
        "    # 6. Save the cleaned and filtered data to a new file\n",
        "    final_news_df.to_csv('filtered_news_data.csv', index=False)\n",
        "    print(\"\\n✅ NEWS DATA PREPARATION COMPLETE:\")\n",
        "    print(\"💾 A new file 'filtered_news_data.csv' has been created.\")\n",
        "    print(\"\\nFinal News Data Head:\")\n",
        "    print(final_news_df.head())\n",
        "\n",
        "except FileNotFoundError:\n",
        "    print(f\"\\n⚠️ ERROR: '{file_path}' not found.\")\n",
        "    print(\"Please make sure the file is uploaded and the path is correct.\")\n",
        "except Exception as e:\n",
        "    print(f\"\\nAn unexpected error occurred: {e}\")"
      ],
      "metadata": {
        "colab": {
          "base_uri": "https://localhost:8080/"
        },
        "id": "2SSsavz1gBo5",
        "outputId": "f07fd402-1824-40b9-8354-835aa001de04"
      },
      "execution_count": 3,
      "outputs": [
        {
          "output_type": "stream",
          "name": "stdout",
          "text": [
            "--- Starting Step 2 (Definitive Fix): Processing News Data ---\n",
            "📰 Robustly loading '/content/analyst_ratings_processed.csv' to handle formatting errors...\n",
            "✅ Successfully loaded and parsed 1,036,127 articles.\n",
            "🔍 Filtering news to match the 80 stocks...\n",
            "📊 Found 83,131 relevant articles.\n",
            "\n",
            "✅ NEWS DATA PREPARATION COMPLETE:\n",
            "💾 A new file 'filtered_news_data.csv' has been created.\n",
            "\n",
            "Final News Data Head:\n",
            "           Date Symbol                                           headline\n",
            "3664 2020-06-10   AAPL  Tech Stocks And FAANGS Strong Again To Start D...\n",
            "3665 2020-06-10   AAPL      10 Biggest Price Target Changes For Wednesday\n",
            "3666 2020-06-10   AAPL  Benzinga Pro's Top 5 Stocks To Watch For Wed.,...\n",
            "3667 2020-06-10   AAPL  Deutsche Bank Maintains Buy on Apple, Raises P...\n",
            "3668 2020-06-10   AAPL  Apple To Let Users Trade In Their Mac Computer...\n"
          ]
        }
      ]
    },
    {
      "cell_type": "code",
      "source": [
        "import pandas as pd\n",
        "import yfinance as yf\n",
        "from datetime import datetime\n",
        "\n",
        "print(\"--- Starting Final Data Preparation (with Transformation) ---\")\n",
        "\n",
        "try:\n",
        "    # --- Part A: Download all stock data in its native format ---\n",
        "    major_stocks = [\n",
        "        'AAPL', 'MSFT', 'GOOGL', 'AMZN', 'META', 'TSLA', 'NVDA', 'NFLX', 'ADBE', 'CRM',\n",
        "        'INTC', 'AMD', 'ORCL', 'IBM', 'CSCO', 'QCOM', 'TXN', 'AVGO', 'MU', 'PYPL',\n",
        "        'JPM', 'BAC', 'WFC', 'C', 'GS', 'MS', 'AXP', 'V', 'MA', 'BLK',\n",
        "        'SCHW', 'USB', 'PNC', 'TFC', 'COF', 'BK', 'STT', 'FITB', 'RF', 'SPGI',\n",
        "        'JNJ', 'UNH', 'PFE', 'ABT', 'TMO', 'DHR', 'BMY', 'ABBV', 'LLY', 'MRK',\n",
        "        'AMGN', 'GILD', 'ISRG', 'VRTX', 'REGN', 'BIIB', 'CVS', 'CI', 'HUM', 'MDT',\n",
        "        'WMT', 'HD', 'PG', 'KO', 'PEP', 'MCD', 'NKE', 'SBUX', 'TGT', 'LOW',\n",
        "        'COST', 'DIS', 'CMCSA', 'VZ', 'T', 'F', 'GM', 'CL', 'KMB', 'GIS'\n",
        "    ]\n",
        "    start_date = \"2009-01-01\"\n",
        "    end_date = \"2020-12-31\"\n",
        "\n",
        "    print(f\"🔄 Part A: Downloading data for {len(major_stocks)} stocks...\")\n",
        "    # yfinance naturally creates a multi-level column structure when downloading multiple stocks\n",
        "    stock_df_wide = yf.download(major_stocks, start=start_date, end=end_date)\n",
        "    print(\"✅ Download complete.\")\n",
        "\n",
        "    # --- Part B: Transform the data from \"wide\" to \"long\" format ---\n",
        "    print(\"🔧 Part B: Transforming data structure...\")\n",
        "    # The .stack() method pivots the stock symbols from the columns into the rows,\n",
        "    # creating a long-format DataFrame. This is the key to solving the merge error.\n",
        "    stock_df_long = stock_df_wide.stack()\n",
        "    stock_df_long.index.names = ['Date', 'Symbol'] # Name the new index levels\n",
        "    stock_df_long.reset_index(inplace=True) # Convert the index levels into columns\n",
        "    print(\"✅ Transformation complete.\")\n",
        "\n",
        "    # --- Part C: Calculate Technical Indicators on the clean, long-format data ---\n",
        "    print(\"📈 Part C: Calculating technical indicators...\")\n",
        "    # We must sort by Symbol and Date to ensure the rolling calculations are correct\n",
        "    stock_df_long.sort_values(by=['Symbol', 'Date'], inplace=True)\n",
        "\n",
        "    # Calculate indicators per stock group\n",
        "    stock_df_long['Daily_Return'] = stock_df_long.groupby('Symbol')['Close'].pct_change()\n",
        "    stock_df_long['Volatility'] = stock_df_long.groupby('Symbol')['Daily_Return'].rolling(window=20).std().reset_index(0,drop=True)\n",
        "    stock_df_long['SMA_20'] = stock_df_long.groupby('Symbol')['Close'].rolling(window=20).mean().reset_index(0,drop=True)\n",
        "    stock_df_long['SMA_50'] = stock_df_long.groupby('Symbol')['Close'].rolling(window=50).mean().reset_index(0,drop=True)\n",
        "    stock_df_long['Volume_MA'] = stock_df_long.groupby('Symbol')['Volume'].rolling(window=20).mean().reset_index(0,drop=True)\n",
        "    print(\"✅ Indicator calculation complete.\")\n",
        "\n",
        "    # --- Part D: Load and Merge News Data ---\n",
        "    print(\"📂 Part D: Loading and merging news data...\")\n",
        "    news_df = pd.read_csv('filtered_news_data.csv')\n",
        "    news_df['Date'] = pd.to_datetime(news_df['Date'])\n",
        "\n",
        "    # Group news headlines\n",
        "    news_grouped = news_df.groupby(['Date', 'Symbol'])['headline'].apply('. '.join).reset_index()\n",
        "\n",
        "    # Merge the clean, long-format stock data with the news data\n",
        "    combined_df = pd.merge(stock_df_long, news_grouped, on=['Date', 'Symbol'], how='left')\n",
        "    combined_df['headline'].fillna(\"\", inplace=True)\n",
        "    print(\"✅ Merging complete.\")\n",
        "\n",
        "    # --- Part E: Final Cleaning and Saving ---\n",
        "    print(\"🧹 Part E: Final cleaning...\")\n",
        "    rows_before = len(combined_df)\n",
        "    combined_df.dropna(inplace=True)\n",
        "    rows_after = len(combined_df)\n",
        "    print(f\"🗑️ Removed {rows_before - rows_after:,} initial rows with incomplete data.\")\n",
        "\n",
        "    # Save the master dataset\n",
        "    combined_df.to_csv('final_master_dataset.csv', index=False)\n",
        "\n",
        "    print(\"\\n\\n✅✅✅ ALL DATA PREPARATION COMPLETE! ✅✅✅\")\n",
        "    print(\"💾 A new MASTER file 'final_master_dataset.csv' has been created.\")\n",
        "    print(f\"📊 The final dataset contains {len(combined_df):,} clean and merged records.\")\n",
        "\n",
        "    print(\"\\nFinal Master Dataset Head:\")\n",
        "    print(combined_df.head())\n",
        "\n",
        "except FileNotFoundError:\n",
        "    print(\"\\n⚠️ ERROR: 'filtered_news_data.csv' not found. Please re-run the news preparation step.\")\n",
        "except Exception as e:\n",
        "    print(f\"\\nAn unexpected error occurred: {e}\")"
      ],
      "metadata": {
        "colab": {
          "base_uri": "https://localhost:8080/"
        },
        "id": "V-FYAQ6RgGvm",
        "outputId": "362c3a14-d68e-4306-c6b3-0c212c5f509b"
      },
      "execution_count": 4,
      "outputs": [
        {
          "output_type": "stream",
          "name": "stdout",
          "text": [
            "--- Starting Final Data Preparation (with Transformation) ---\n",
            "🔄 Part A: Downloading data for 80 stocks...\n"
          ]
        },
        {
          "output_type": "stream",
          "name": "stderr",
          "text": [
            "/tmp/ipython-input-593658102.py:24: FutureWarning: YF.download() has changed argument auto_adjust default to True\n",
            "  stock_df_wide = yf.download(major_stocks, start=start_date, end=end_date)\n",
            "[*********************100%***********************]  80 of 80 completed\n",
            "/tmp/ipython-input-593658102.py:31: FutureWarning: The previous implementation of stack is deprecated and will be removed in a future version of pandas. See the What's New notes for pandas 2.1.0 for details. Specify future_stack=True to adopt the new implementation and silence this warning.\n",
            "  stock_df_long = stock_df_wide.stack()\n"
          ]
        },
        {
          "output_type": "stream",
          "name": "stdout",
          "text": [
            "✅ Download complete.\n",
            "🔧 Part B: Transforming data structure...\n",
            "✅ Transformation complete.\n",
            "📈 Part C: Calculating technical indicators...\n",
            "✅ Indicator calculation complete.\n",
            "📂 Part D: Loading and merging news data...\n"
          ]
        },
        {
          "output_type": "stream",
          "name": "stderr",
          "text": [
            "/tmp/ipython-input-593658102.py:59: FutureWarning: A value is trying to be set on a copy of a DataFrame or Series through chained assignment using an inplace method.\n",
            "The behavior will change in pandas 3.0. This inplace method will never work because the intermediate object on which we are setting values always behaves as a copy.\n",
            "\n",
            "For example, when doing 'df[col].method(value, inplace=True)', try using 'df.method({col: value}, inplace=True)' or df[col] = df[col].method(value) instead, to perform the operation inplace on the original object.\n",
            "\n",
            "\n",
            "  combined_df['headline'].fillna(\"\", inplace=True)\n"
          ]
        },
        {
          "output_type": "stream",
          "name": "stdout",
          "text": [
            "✅ Merging complete.\n",
            "🧹 Part E: Final cleaning...\n",
            "🗑️ Removed 3,920 initial rows with incomplete data.\n",
            "\n",
            "\n",
            "✅✅✅ ALL DATA PREPARATION COMPLETE! ✅✅✅\n",
            "💾 A new MASTER file 'final_master_dataset.csv' has been created.\n",
            "📊 The final dataset contains 233,190 clean and merged records.\n",
            "\n",
            "Final Master Dataset Head:\n",
            "         Date Symbol     Close      High       Low      Open       Volume  \\\n",
            "49 2009-03-16   AAPL  2.864519  2.923658  2.827294  2.897841  797244000.0   \n",
            "50 2009-03-17   AAPL  2.991805  2.992705  2.854012  2.859116  786646000.0   \n",
            "51 2009-03-18   AAPL  3.047642  3.106482  2.993607  2.999310  796037200.0   \n",
            "52 2009-03-19   AAPL  3.050644  3.098076  3.009516  3.057549  500180800.0   \n",
            "53 2009-03-20   AAPL  3.049743  3.095374  3.019123  3.064753  695587200.0   \n",
            "\n",
            "    Daily_Return  Volatility    SMA_20    SMA_50    Volume_MA headline  \n",
            "49     -0.005316    0.032609  2.718832  2.735823  765516220.0           \n",
            "50      0.044435    0.032315  2.726532  2.741173  770936600.0           \n",
            "51      0.018664    0.032475  2.737264  2.745340  776499500.0           \n",
            "52      0.000985    0.030829  2.753745  2.750503  755368320.0           \n",
            "53     -0.000295    0.030863  2.769340  2.756855  752631880.0           \n"
          ]
        }
      ]
    },
    {
      "cell_type": "code",
      "source": [
        "# Install the necessary library for sentiment analysis\n",
        "!pip install vaderSentiment\n",
        "\n",
        "import pandas as pd\n",
        "from vaderSentiment.vaderSentiment import SentimentIntensityAnalyzer\n",
        "# tqdm is a great library for showing progress bars on long operations\n",
        "from tqdm.auto import tqdm\n",
        "\n",
        "print(\"--- Starting Step 4: Sentiment Analysis ---\")\n",
        "\n",
        "try:\n",
        "    # 1. Load the master dataset we just created\n",
        "    df = pd.read_csv('final_master_dataset.csv')\n",
        "    print(f\"📂 Successfully loaded 'final_master_dataset.csv' with {len(df):,} records.\")\n",
        "\n",
        "    # Initialize the VADER sentiment analyzer\n",
        "    analyzer = SentimentIntensityAnalyzer()\n",
        "\n",
        "    # 2. Define a function to calculate the sentiment score for a piece of text\n",
        "    def get_sentiment(text):\n",
        "        # The analyzer returns a dictionary of scores; we want the 'compound' score\n",
        "        return analyzer.polarity_scores(str(text))['compound']\n",
        "\n",
        "    # 3. Apply this function to every headline in our dataset\n",
        "    print(\"🧠 Analyzing sentiment of all news headlines... (This may take a few minutes)\")\n",
        "\n",
        "    # Initialize tqdm so we can use the progress_apply method for a progress bar\n",
        "    tqdm.pandas(desc=\"Calculating Sentiment\")\n",
        "    df['sentiment'] = df['headline'].progress_apply(get_sentiment)\n",
        "\n",
        "    # 4. Save our final, feature-enriched dataset\n",
        "    df.to_csv('final_dataset_with_sentiment.csv', index=False)\n",
        "\n",
        "    print(\"\\n✅ SENTIMENT ANALYSIS COMPLETE:\")\n",
        "    print(\"💾 A new file 'final_dataset_with_sentiment.csv' has been created.\")\n",
        "    print(\"🌟 A new 'sentiment' column has been added.\")\n",
        "\n",
        "    print(\"\\nFinal Dataset with Sentiment Head:\")\n",
        "    # Show the key columns, including our new feature\n",
        "    print(df[['Date', 'Symbol', 'Close', 'headline', 'sentiment']].head())\n",
        "\n",
        "    print(\"\\nExample of a positive sentiment score:\")\n",
        "    # Find and show a row with a strongly positive headline\n",
        "    print(df[df['sentiment'] > 0.8].head(1)[['headline', 'sentiment']])\n",
        "\n",
        "except FileNotFoundError:\n",
        "    print(\"\\n⚠️ ERROR: 'final_master_dataset.csv' not found. Please ensure the previous step completed successfully.\")\n",
        "except Exception as e:\n",
        "    print(f\"\\nAn unexpected error occurred: {e}\")"
      ],
      "metadata": {
        "colab": {
          "base_uri": "https://localhost:8080/",
          "height": 518,
          "referenced_widgets": [
            "3da27ec787df4d928da160f8bcabdb5e",
            "aac2fb6b486441ee8d66eb2a4b083d7b",
            "9bdc00fb71c94870a44acf1d982d564a",
            "012e28ca3b694f9c9d5360a1720c38b2",
            "62da914153d2410584316bbb7f098fdd",
            "3c84a9e930714bbf94cddd1c5f5e34df",
            "cf99356d599b4f3e8a7ad5056fe372e9",
            "cfb6abfff2a2406d9fbe93e428d7d6f0",
            "b3f0d1ba0b824937b20567ff89b71238",
            "bf34c229546643ebbf6e64d3b82a9e71",
            "dbe3b4d11fc743ddbee86e9c96c24a79"
          ]
        },
        "id": "10CgD3dagKa9",
        "outputId": "35dc2c58-ee0f-45ce-cac4-f3c4f22cec7f"
      },
      "execution_count": 5,
      "outputs": [
        {
          "output_type": "stream",
          "name": "stdout",
          "text": [
            "Requirement already satisfied: vaderSentiment in /usr/local/lib/python3.11/dist-packages (3.3.2)\n",
            "Requirement already satisfied: requests in /usr/local/lib/python3.11/dist-packages (from vaderSentiment) (2.32.3)\n",
            "Requirement already satisfied: charset-normalizer<4,>=2 in /usr/local/lib/python3.11/dist-packages (from requests->vaderSentiment) (3.4.3)\n",
            "Requirement already satisfied: idna<4,>=2.5 in /usr/local/lib/python3.11/dist-packages (from requests->vaderSentiment) (3.10)\n",
            "Requirement already satisfied: urllib3<3,>=1.21.1 in /usr/local/lib/python3.11/dist-packages (from requests->vaderSentiment) (2.5.0)\n",
            "Requirement already satisfied: certifi>=2017.4.17 in /usr/local/lib/python3.11/dist-packages (from requests->vaderSentiment) (2025.8.3)\n",
            "--- Starting Step 4: Sentiment Analysis ---\n",
            "📂 Successfully loaded 'final_master_dataset.csv' with 233,190 records.\n",
            "🧠 Analyzing sentiment of all news headlines... (This may take a few minutes)\n"
          ]
        },
        {
          "output_type": "stream",
          "name": "stderr",
          "text": [
            "/tmp/ipython-input-3875129977.py:13: DtypeWarning: Columns (12) have mixed types. Specify dtype option on import or set low_memory=False.\n",
            "  df = pd.read_csv('final_master_dataset.csv')\n"
          ]
        },
        {
          "output_type": "display_data",
          "data": {
            "text/plain": [
              "Calculating Sentiment:   0%|          | 0/233190 [00:00<?, ?it/s]"
            ],
            "application/vnd.jupyter.widget-view+json": {
              "version_major": 2,
              "version_minor": 0,
              "model_id": "3da27ec787df4d928da160f8bcabdb5e"
            }
          },
          "metadata": {}
        },
        {
          "output_type": "stream",
          "name": "stdout",
          "text": [
            "\n",
            "✅ SENTIMENT ANALYSIS COMPLETE:\n",
            "💾 A new file 'final_dataset_with_sentiment.csv' has been created.\n",
            "🌟 A new 'sentiment' column has been added.\n",
            "\n",
            "Final Dataset with Sentiment Head:\n",
            "         Date Symbol     Close headline  sentiment\n",
            "0  2009-03-16   AAPL  2.864519      NaN        0.0\n",
            "1  2009-03-17   AAPL  2.991805      NaN        0.0\n",
            "2  2009-03-18   AAPL  3.047642      NaN        0.0\n",
            "3  2009-03-19   AAPL  3.050644      NaN        0.0\n",
            "4  2009-03-20   AAPL  3.049743      NaN        0.0\n",
            "\n",
            "Example of a positive sentiment score:\n",
            "                                               headline  sentiment\n",
            "2773  Shares of several technology companies are tra...     0.8689\n"
          ]
        }
      ]
    },
    {
      "cell_type": "code",
      "source": [
        "import pandas as pd\n",
        "import numpy as np\n",
        "from sklearn.preprocessing import MinMaxScaler\n",
        "import pickle\n",
        "\n",
        "print(\"--- Starting Step 5: Preparing Data for the Model ---\")\n",
        "\n",
        "try:\n",
        "    # 1. Load the feature-enriched dataset\n",
        "    df = pd.read_csv('final_dataset_with_sentiment.csv')\n",
        "    df['Date'] = pd.to_datetime(df['Date'])\n",
        "    print(f\"📂 Successfully loaded 'final_dataset_with_sentiment.csv' with {len(df):,} records.\")\n",
        "\n",
        "    # 2. Define the features we will use for training the model\n",
        "    # We select all the numerical features we have engineered.\n",
        "    features = [\n",
        "        'Open', 'High', 'Low', 'Close', 'Volume', 'Daily_Return',\n",
        "        'Volatility', 'SMA_20', 'SMA_50', 'Volume_MA', 'sentiment'\n",
        "    ]\n",
        "\n",
        "    # Isolate the target variable we want to predict, which is the 'Close' price\n",
        "    target = 'Close'\n",
        "\n",
        "    # 3. Data Partitioning (Time-based Split)\n",
        "    # We will use data before 2020 for training and data from 2020 for testing.\n",
        "    split_date = pd.to_datetime('2020-01-01')\n",
        "    train_df = df[df['Date'] < split_date].copy()\n",
        "    test_df = df[df['Date'] >= split_date].copy()\n",
        "    print(f\" partitioning complete: {len(train_df):,} training records, {len(test_df):,} testing records.\")\n",
        "\n",
        "    # 4. Feature Scaling\n",
        "    # We create a scaler for our features and another for our target variable.\n",
        "    # It's important to fit the scaler ONLY on the training data to avoid data leakage.\n",
        "    feature_scaler = MinMaxScaler()\n",
        "    target_scaler = MinMaxScaler()\n",
        "\n",
        "    # Fit and transform the training data\n",
        "    train_df[features] = feature_scaler.fit_transform(train_df[features])\n",
        "    train_df[target] = target_scaler.fit_transform(train_df[[target]])\n",
        "\n",
        "    # Only transform the test data using the scaler fitted on the training data\n",
        "    test_df[features] = feature_scaler.transform(test_df[features])\n",
        "    test_df[target] = target_scaler.transform(test_df[[target]])\n",
        "    print(\" feature scaling complete.\")\n",
        "\n",
        "    # 5. Create Sequences\n",
        "    # This function will take our flat data and turn it into sequences.\n",
        "    def create_sequences(data, features, target, sequence_length=30):\n",
        "        X, y = [], []\n",
        "        # We group by stock Symbol to ensure sequences are not created across different stocks.\n",
        "        for symbol, group in data.groupby('Symbol'):\n",
        "            feature_data = group[features].values\n",
        "            target_data = group[target].values\n",
        "            for i in range(len(group) - sequence_length):\n",
        "                X.append(feature_data[i:(i + sequence_length)])\n",
        "                y.append(target_data[i + sequence_length])\n",
        "        return np.array(X), np.array(y)\n",
        "\n",
        "    # Define the length of our sequences (e.g., use the past 30 days of data)\n",
        "    SEQUENCE_LENGTH = 30\n",
        "\n",
        "    print(f\"Creating training and testing sequences with a length of {SEQUENCE_LENGTH} days...\")\n",
        "    X_train, y_train = create_sequences(train_df, features, target, SEQUENCE_LENGTH)\n",
        "    X_test, y_test = create_sequences(test_df, features, target, SEQUENCE_LENGTH)\n",
        "    print(\"✅ Sequences created successfully.\")\n",
        "    print(f\"Training data shape: X={X_train.shape}, y={y_train.shape}\")\n",
        "    print(f\"Testing data shape: X={X_test.shape}, y={y_test.shape}\")\n",
        "\n",
        "    # 6. Save the prepared data and the scalers\n",
        "    # We save the scalers so we can inverse the transformation later to see the real stock prices.\n",
        "    np.save('X_train.npy', X_train)\n",
        "    np.save('y_train.npy', y_train)\n",
        "    np.save('X_test.npy', X_test)\n",
        "    np.save('y_test.npy', y_test)\n",
        "\n",
        "    with open('target_scaler.pkl', 'wb') as f:\n",
        "        pickle.dump(target_scaler, f)\n",
        "\n",
        "    print(\"\\n✅ MODEL DATA PREPARATION COMPLETE:\")\n",
        "    print(\"💾 Final, model-ready datasets and the target scaler have been saved.\")\n",
        "\n",
        "except FileNotFoundError:\n",
        "    print(\"\\n⚠️ ERROR: 'final_dataset_with_sentiment.csv' not found. Please re-run Step 4.\")\n",
        "except Exception as e:\n",
        "    print(f\"\\nAn unexpected error occurred: {e}\")"
      ],
      "metadata": {
        "colab": {
          "base_uri": "https://localhost:8080/"
        },
        "id": "0YRBXpefgPQC",
        "outputId": "e9283dfe-56ef-41e0-f29f-439bfc334476"
      },
      "execution_count": 6,
      "outputs": [
        {
          "output_type": "stream",
          "name": "stdout",
          "text": [
            "--- Starting Step 5: Preparing Data for the Model ---\n"
          ]
        },
        {
          "output_type": "stream",
          "name": "stderr",
          "text": [
            "/tmp/ipython-input-235998936.py:10: DtypeWarning: Columns (12) have mixed types. Specify dtype option on import or set low_memory=False.\n",
            "  df = pd.read_csv('final_dataset_with_sentiment.csv')\n"
          ]
        },
        {
          "output_type": "stream",
          "name": "stdout",
          "text": [
            "📂 Successfully loaded 'final_dataset_with_sentiment.csv' with 233,190 records.\n",
            " partitioning complete: 213,030 training records, 20,160 testing records.\n",
            " feature scaling complete.\n",
            "Creating training and testing sequences with a length of 30 days...\n",
            "✅ Sequences created successfully.\n",
            "Training data shape: X=(210630, 30, 11), y=(210630,)\n",
            "Testing data shape: X=(17760, 30, 11), y=(17760,)\n",
            "\n",
            "✅ MODEL DATA PREPARATION COMPLETE:\n",
            "💾 Final, model-ready datasets and the target scaler have been saved.\n"
          ]
        }
      ]
    },
    {
      "cell_type": "code",
      "source": [
        "# Install PySpark\n",
        "!pip install pyspark\n",
        "\n",
        "import pandas as pd\n",
        "from pyspark.sql import SparkSession\n",
        "from pyspark.sql.functions import year\n",
        "\n",
        "print(\"--- Starting Full Dataset Partitioning Step ---\")\n",
        "\n",
        "try:\n",
        "    # --- Part 1: Load the full, original dataset using Pandas ---\n",
        "    print(\"📂 Part 1: Loading the full master dataset using Pandas...\")\n",
        "    # This DtypeWarning is normal and can be ignored.\n",
        "    full_df = pd.read_csv('final_dataset_with_sentiment.csv')\n",
        "    full_df['Date'] = pd.to_datetime(full_df['Date'])\n",
        "    print(f\"✅ Pandas DataFrame created successfully with {len(full_df):,} records.\")\n",
        "\n",
        "    # --- Part 2: A Robust PySpark Job on the FULL Dataset ---\n",
        "\n",
        "    print(\"\\n--- Starting Robust PySpark Operation ---\")\n",
        "    # 1. Initialize a Spark Session\n",
        "    spark = SparkSession.builder \\\n",
        "        .appName(\"StockAnalysis_FullDataset_Partition\") \\\n",
        "        .config(\"spark.driver.memory\", \"4g\") \\\n",
        "        .getOrCreate()\n",
        "    print(\"✅ Spark Session Initialized.\")\n",
        "\n",
        "    # 2. Create the Spark DataFrame directly from the clean Pandas DataFrame\n",
        "    # This bypasses all CSV parsing errors and is the most reliable method.\n",
        "    print(\"🔧 Creating Spark DataFrame from the full Pandas DataFrame...\")\n",
        "    df_spark = spark.createDataFrame(full_df)\n",
        "    print(f\"✅ Spark DataFrame created successfully with {df_spark.count():,} records.\")\n",
        "\n",
        "    # 3. Prepare for Partitioning\n",
        "    df_spark = df_spark.withColumn(\"Year\", year(df_spark[\"Date\"]))\n",
        "\n",
        "    # 4. Write the data to the partitioned Parquet format\n",
        "    print(\"💾 Writing full dataset to partitioned Parquet format... (This will be very slow)\")\n",
        "    df_spark.write.partitionBy(\"Symbol\", \"Year\").mode(\"overwrite\").parquet(\"stock_data_partitioned_FULL.parquet\")\n",
        "\n",
        "    print(\"\\n✅✅✅ PYSPARK PARTITIONING COMPLETE! ✅✅✅\")\n",
        "    print(\"Full dataset is now saved in an optimized, partitioned Parquet format.\")\n",
        "\n",
        "    # Let's verify by showing the new, correct schema\n",
        "    print(\"\\nSchema of the partitioned data:\")\n",
        "    final_partitioned_df = spark.read.parquet(\"stock_data_partitioned_FULL.parquet\")\n",
        "    final_partitioned_df.printSchema()\n",
        "\n",
        "    print(\"\\nExample Data:\")\n",
        "    final_partitioned_df.show(5)\n",
        "\n",
        "except FileNotFoundError:\n",
        "    print(\"\\n⚠️ ERROR: 'final_dataset_with_sentiment.csv' not found. Please ensure your data preparation steps completed successfully.\")\n",
        "except Exception as e:\n",
        "    print(f\"\\nAn unexpected error occurred: {e}\")"
      ],
      "metadata": {
        "colab": {
          "base_uri": "https://localhost:8080/"
        },
        "id": "ocvvL_2Bgbrn",
        "outputId": "8771a48f-e78c-4f23-81d9-270cf4ba5293"
      },
      "execution_count": 7,
      "outputs": [
        {
          "output_type": "stream",
          "name": "stdout",
          "text": [
            "Requirement already satisfied: pyspark in /usr/local/lib/python3.11/dist-packages (3.5.1)\n",
            "Requirement already satisfied: py4j==0.10.9.7 in /usr/local/lib/python3.11/dist-packages (from pyspark) (0.10.9.7)\n",
            "--- Starting Full Dataset Partitioning Step ---\n",
            "📂 Part 1: Loading the full master dataset using Pandas...\n"
          ]
        },
        {
          "output_type": "stream",
          "name": "stderr",
          "text": [
            "/tmp/ipython-input-812937839.py:14: DtypeWarning: Columns (12) have mixed types. Specify dtype option on import or set low_memory=False.\n",
            "  full_df = pd.read_csv('final_dataset_with_sentiment.csv')\n"
          ]
        },
        {
          "output_type": "stream",
          "name": "stdout",
          "text": [
            "✅ Pandas DataFrame created successfully with 233,190 records.\n",
            "\n",
            "--- Starting Robust PySpark Operation ---\n",
            "✅ Spark Session Initialized.\n",
            "🔧 Creating Spark DataFrame from the full Pandas DataFrame...\n",
            "✅ Spark DataFrame created successfully with 233,190 records.\n",
            "💾 Writing full dataset to partitioned Parquet format... (This will be very slow)\n",
            "\n",
            "✅✅✅ PYSPARK PARTITIONING COMPLETE! ✅✅✅\n",
            "Full dataset is now saved in an optimized, partitioned Parquet format.\n",
            "\n",
            "Schema of the partitioned data:\n",
            "root\n",
            " |-- Date: timestamp (nullable = true)\n",
            " |-- Close: double (nullable = true)\n",
            " |-- High: double (nullable = true)\n",
            " |-- Low: double (nullable = true)\n",
            " |-- Open: double (nullable = true)\n",
            " |-- Volume: double (nullable = true)\n",
            " |-- Daily_Return: double (nullable = true)\n",
            " |-- Volatility: double (nullable = true)\n",
            " |-- SMA_20: double (nullable = true)\n",
            " |-- SMA_50: double (nullable = true)\n",
            " |-- Volume_MA: double (nullable = true)\n",
            " |-- headline: string (nullable = true)\n",
            " |-- sentiment: double (nullable = true)\n",
            " |-- Symbol: string (nullable = true)\n",
            " |-- Year: integer (nullable = true)\n",
            "\n",
            "\n",
            "Example Data:\n",
            "+-------------------+-----------------+------------------+------------------+-----------------+--------+-------------------+------------------+------------------+------------------+---------+--------------------+---------+------+----+\n",
            "|               Date|            Close|              High|               Low|             Open|  Volume|       Daily_Return|        Volatility|            SMA_20|            SMA_50|Volume_MA|            headline|sentiment|Symbol|Year|\n",
            "+-------------------+-----------------+------------------+------------------+-----------------+--------+-------------------+------------------+------------------+------------------+---------+--------------------+---------+------+----+\n",
            "|2019-01-02 00:00:00|52.41962432861328| 52.72330310283759|50.958386606132336|51.05381496390382|3.1868E7|  0.009301756435327|0.0233841027243606|  52.1084623336792| 52.79204788208008|4.44652E7|Tech stocks share...|  -0.2732| GOOGL|2019|\n",
            "|2019-01-03 00:00:00|50.96783065795898| 52.99517332537633| 50.81375590665297|52.22032126895227| 4.196E7|-0.0276956137944284|0.0239618767017306| 51.88259220123291| 52.71281311035156|4.36866E7|Alphabet's Verily...|   -0.296| GOOGL|2019|\n",
            "|2019-01-04 00:00:00|53.58214569091797| 53.67807078585234|  51.5339285830154|51.81722936048474|4.6022E7| 0.0512934335091372|0.0246065067158963|51.921359634399415|52.679711532592776|4.37062E7|Google  Expects G...|   0.7096| GOOGL|2019|\n",
            "|2019-01-07 00:00:00|53.47529602050781|53.812271974297936|   52.815253007201|53.72628937406623|4.7446E7|-0.0019941282498558|0.0244002744689495|51.915992164611815|52.640954208374026|4.37067E7|As Sports Broadca...|   0.7506| GOOGL|2019|\n",
            "|2019-01-08 00:00:00|53.94497299194336| 54.34159257564361| 53.09904460311244|53.97628316836301|3.5414E7| 0.0087830644500859|0.0234518391504358|52.012389183044434| 52.66903579711914|4.33433E7|                 NaN|      0.0| GOOGL|2019|\n",
            "+-------------------+-----------------+------------------+------------------+-----------------+--------+-------------------+------------------+------------------+------------------+---------+--------------------+---------+------+----+\n",
            "only showing top 5 rows\n",
            "\n"
          ]
        }
      ]
    },
    {
      "cell_type": "code",
      "source": [
        "import pandas as pd\n",
        "from pyspark.sql import SparkSession\n",
        "from pyspark.sql.functions import avg, stddev, corr\n",
        "import matplotlib.pyplot as plt\n",
        "import seaborn as sns\n",
        "\n",
        "print(\"--- Starting Step 7: EDA on the Full Partitioned Dataset ---\")\n",
        "\n",
        "try:\n",
        "    # 1. Initialize a Spark Session\n",
        "    spark = SparkSession.builder \\\n",
        "        .appName(\"Stock_EDA_Full_Dataset\") \\\n",
        "        .getOrCreate()\n",
        "\n",
        "    print(\"✅ Spark Session Initialized.\")\n",
        "\n",
        "    # 2. Load the full partitioned Parquet data\n",
        "    # We load the directory you just created.\n",
        "    df = spark.read.parquet(\"stock_data_partitioned_FULL.parquet\")\n",
        "    print(f\"📂 Successfully loaded the full partitioned data with {df.count():,} records.\")\n",
        "\n",
        "    # --- EDA Task 1: Average Sentiment Score per Stock (2009-2020) ---\n",
        "    print(\"\\n--- EDA 1: Calculating Average Sentiment per Stock ---\")\n",
        "    avg_sentiment = df.groupBy(\"Symbol\").agg(avg(\"sentiment\").alias(\"avg_sentiment\"))\n",
        "\n",
        "    # Convert to Pandas for plotting\n",
        "    avg_sentiment_pd = avg_sentiment.toPandas().sort_values(\"avg_sentiment\", ascending=False)\n",
        "\n",
        "    # Plotting\n",
        "    plt.figure(figsize=(12, 6))\n",
        "    sns.barplot(x=\"avg_sentiment\", y=\"Symbol\", data=avg_sentiment_pd.head(10), palette=\"viridis\")\n",
        "    plt.title(\"Top 10 Stocks by Average Positive News Sentiment (2009-2020)\")\n",
        "    plt.xlabel(\"Average Sentiment Score\")\n",
        "    plt.ylabel(\"Stock Symbol\")\n",
        "    plt.savefig(\"average_sentiment_full_dataset.png\")\n",
        "    plt.show()\n",
        "\n",
        "    # --- EDA Task 2: Stock Price Volatility (2009-2020) ---\n",
        "    print(\"\\n--- EDA 2: Calculating Stock Volatility ---\")\n",
        "    volatility = df.groupBy(\"Symbol\").agg(stddev(\"Daily_Return\").alias(\"volatility\"))\n",
        "\n",
        "    # Convert to Pandas for plotting\n",
        "    volatility_pd = volatility.toPandas().sort_values(\"volatility\", ascending=False)\n",
        "\n",
        "    # Plotting\n",
        "    plt.figure(figsize=(12, 6))\n",
        "    sns.barplot(x=\"volatility\", y=\"Symbol\", data=volatility_pd.head(10), palette=\"plasma\")\n",
        "    plt.title(\"Top 10 Most Volatile Stocks (2009-2020)\")\n",
        "    plt.xlabel(\"Volatility (Standard Deviation of Daily Return)\")\n",
        "    plt.ylabel(\"Stock Symbol\")\n",
        "    plt.savefig(\"most_volatile_stocks_full_dataset.png\")\n",
        "    plt.show()\n",
        "\n",
        "    # --- EDA Task 3: Correlation between Sentiment and Daily Return (2009-2020) ---\n",
        "    print(\"\\n--- EDA 3: Calculating Correlation between Sentiment and Returns ---\")\n",
        "    correlation_df = df.filter(df[\"sentiment\"] != 0.0)\n",
        "    sentiment_correlation = correlation_df.groupBy(\"Symbol\").agg(corr(\"sentiment\", \"Daily_Return\").alias(\"correlation\"))\n",
        "\n",
        "    # Convert to Pandas for analysis\n",
        "    correlation_pd = sentiment_correlation.toPandas().sort_values(\"correlation\", ascending=False)\n",
        "\n",
        "    print(\"Correlation results over the full dataset:\")\n",
        "    print(correlation_pd)\n",
        "\n",
        "    print(\"\\n✅ EXPLORATORY DATA ANALYSIS COMPLETE.\")\n",
        "\n",
        "except FileNotFoundError:\n",
        "    print(\"\\n⚠️ ERROR: 'stock_data_partitioned_FULL.parquet' not found. Please ensure the previous step completed successfully.\")\n",
        "except Exception as e:\n",
        "    print(f\"\\nAn unexpected error occurred: {e}\")"
      ],
      "metadata": {
        "colab": {
          "base_uri": "https://localhost:8080/",
          "height": 1000
        },
        "id": "YUvRIoeIhnof",
        "outputId": "be15fb33-4f3c-4bd1-dfb3-e87d6b25b635"
      },
      "execution_count": 8,
      "outputs": [
        {
          "output_type": "stream",
          "name": "stdout",
          "text": [
            "--- Starting Step 7: EDA on the Full Partitioned Dataset ---\n",
            "✅ Spark Session Initialized.\n",
            "📂 Successfully loaded the full partitioned data with 233,190 records.\n",
            "\n",
            "--- EDA 1: Calculating Average Sentiment per Stock ---\n"
          ]
        },
        {
          "output_type": "stream",
          "name": "stderr",
          "text": [
            "/tmp/ipython-input-1447068017.py:31: FutureWarning: \n",
            "\n",
            "Passing `palette` without assigning `hue` is deprecated and will be removed in v0.14.0. Assign the `y` variable to `hue` and set `legend=False` for the same effect.\n",
            "\n",
            "  sns.barplot(x=\"avg_sentiment\", y=\"Symbol\", data=avg_sentiment_pd.head(10), palette=\"viridis\")\n"
          ]
        },
        {
          "output_type": "display_data",
          "data": {
            "text/plain": [
              "<Figure size 1200x600 with 1 Axes>"
            ],
            "image/png": "[encoded data removed]"
          },
          "metadata": {}
        },
        {
          "output_type": "stream",
          "name": "stdout",
          "text": [
            "\n",
            "--- EDA 2: Calculating Stock Volatility ---\n"
          ]
        },
        {
          "output_type": "stream",
          "name": "stderr",
          "text": [
            "/tmp/ipython-input-1447068017.py:47: FutureWarning: \n",
            "\n",
            "Passing `palette` without assigning `hue` is deprecated and will be removed in v0.14.0. Assign the `y` variable to `hue` and set `legend=False` for the same effect.\n",
            "\n",
            "  sns.barplot(x=\"volatility\", y=\"Symbol\", data=volatility_pd.head(10), palette=\"plasma\")\n"
          ]
        },
        {
          "output_type": "display_data",
          "data": {
            "text/plain": [
              "<Figure size 1200x600 with 1 Axes>"
            ],
            "image/png": "[encoded data removed]"
          },
          "metadata": {}
        },
        {
          "output_type": "stream",
          "name": "stdout",
          "text": [
            "\n",
            "--- EDA 3: Calculating Correlation between Sentiment and Returns ---\n",
            "Correlation results over the full dataset:\n",
            "   Symbol  correlation\n",
            "51    DIS     1.000000\n",
            "52   INTC     0.595428\n",
            "41   AMGN     0.498373\n",
            "29    AMD     0.452905\n",
            "12     MU     0.350694\n",
            "16   NVDA     0.331801\n",
            "19      C     0.313166\n",
            "50    JPM     0.312143\n",
            "26   CSCO     0.304030\n",
            "15    CRM     0.297529\n",
            "18    IBM     0.295537\n",
            "43    COF     0.277816\n",
            "36   ADBE     0.266739\n",
            "3    QCOM     0.264631\n",
            "20    BAC     0.252426\n",
            "44   FITB     0.251005\n",
            "31     CI     0.249061\n",
            "27     PG     0.236090\n",
            "42    PNC     0.229780\n",
            "30    MDT     0.224992\n",
            "38    AXP     0.222858\n",
            "33    HUM     0.222853\n",
            "23   BIIB     0.218551\n",
            "1       F     0.214861\n",
            "35     MA     0.211722\n",
            "11   AVGO     0.211601\n",
            "39    GIS     0.203495\n",
            "10  GOOGL     0.202943\n",
            "45    DHR     0.197944\n",
            "2    GILD     0.195113\n",
            "47     BK     0.193101\n",
            "48    KMB     0.190571\n",
            "40    BLK     0.187748\n",
            "5     MCD     0.183331\n",
            "34    LOW     0.182184\n",
            "25    CVS     0.181405\n",
            "0    AAPL     0.174365\n",
            "21   ORCL     0.172645\n",
            "9      MS     0.158104\n",
            "14    LLY     0.157831\n",
            "7    NFLX     0.157743\n",
            "6     PFE     0.153617\n",
            "37    PEP     0.140283\n",
            "17    BMY     0.138082\n",
            "46     CL     0.128491\n",
            "13  CMCSA     0.113600\n",
            "4     MRK     0.106535\n",
            "8     JNJ     0.085424\n",
            "28     HD     0.081002\n",
            "24     KO     0.079594\n",
            "22   AMZN     0.076025\n",
            "32   ABBV     0.039212\n",
            "49     GM    -0.240435\n",
            "\n",
            "✅ EXPLORATORY DATA ANALYSIS COMPLETE.\n"
          ]
        }
      ]
    },
    {
      "cell_type": "code",
      "source": [
        "import pandas as pd\n",
        "import numpy as np\n",
        "from sklearn.preprocessing import MinMaxScaler\n",
        "import pickle\n",
        "from pyspark.sql import SparkSession\n",
        "\n",
        "print(\"--- Starting Step 8: Final Data Preparation (Full Dataset) ---\")\n",
        "\n",
        "try:\n",
        "    # 1. Load the full partitioned data using PySpark and convert to Pandas\n",
        "    spark = SparkSession.builder.appName(\"ModelPrep_Full\").getOrCreate()\n",
        "    print(\"📂 Loading full partitioned data from Parquet files...\")\n",
        "    df_spark = spark.read.parquet(\"stock_data_partitioned_FULL.parquet\")\n",
        "    df = df_spark.toPandas()\n",
        "    df['Date'] = pd.to_datetime(df['Date'])\n",
        "    print(f\"✅ Successfully loaded and converted data with {len(df):,} records.\")\n",
        "\n",
        "    # 2. Define features and the target\n",
        "    features = [\n",
        "        'Open', 'High', 'Low', 'Close', 'Volume', 'Daily_Return',\n",
        "        'Volatility', 'SMA_20', 'SMA_50', 'Volume_MA', 'sentiment'\n",
        "    ]\n",
        "    target = 'Close'\n",
        "\n",
        "    # 3. Partition into training (2009-2019) and testing (2020) sets\n",
        "    split_date = pd.to_datetime('2020-01-01')\n",
        "    train_df = df[df['Date'] < split_date].copy()\n",
        "    test_df = df[df['Date'] >= split_date].copy()\n",
        "    print(f\" partitioning complete: {len(train_df):,} training records, {len(test_df):,} testing records.\")\n",
        "\n",
        "    # 4. Scale the features\n",
        "    feature_scaler = MinMaxScaler()\n",
        "    target_scaler = MinMaxScaler()\n",
        "\n",
        "    # Fit scaler on training data and transform both sets\n",
        "    train_df.loc[:, features] = feature_scaler.fit_transform(train_df[features])\n",
        "    train_df.loc[:, target] = target_scaler.fit_transform(train_df[[target]])\n",
        "    test_df.loc[:, features] = feature_scaler.transform(test_df[features])\n",
        "    test_df.loc[:, target] = target_scaler.transform(test_df[[target]])\n",
        "    print(\" feature scaling complete.\")\n",
        "\n",
        "    # 5. Create the time-series sequences\n",
        "    def create_sequences(data, features, target, sequence_length=30):\n",
        "        X, y = [], []\n",
        "        for symbol, group in data.groupby('Symbol'):\n",
        "            feature_data = group[features].values\n",
        "            target_data = group[target].values\n",
        "            for i in range(len(group) - sequence_length):\n",
        "                X.append(feature_data[i:(i + sequence_length)])\n",
        "                y.append(target_data[i + sequence_length])\n",
        "        return np.array(X), np.array(y)\n",
        "\n",
        "    SEQUENCE_LENGTH = 30\n",
        "\n",
        "    print(f\"Creating sequences with a length of {SEQUENCE_LENGTH} days...\")\n",
        "    X_train, y_train = create_sequences(train_df, features, target, SEQUENCE_LENGTH)\n",
        "    X_test, y_test = create_sequences(test_df, features, target, SEQUENCE_LENGTH)\n",
        "    print(\"✅ Sequences created successfully.\")\n",
        "    print(f\"Training data shape: X={X_train.shape}, y={y_train.shape}\")\n",
        "    print(f\"Testing data shape: X={X_test.shape}, y={y_test.shape}\")\n",
        "\n",
        "    # 6. Save the final data files for the full dataset\n",
        "    np.save('X_train_full.npy', X_train)\n",
        "    np.save('y_train_full.npy', y_train)\n",
        "    np.save('X_test_full.npy', X_test)\n",
        "    np.save('y_test_full.npy', y_test)\n",
        "\n",
        "    with open('target_scaler_full.pkl', 'wb') as f:\n",
        "        pickle.dump(target_scaler, f)\n",
        "\n",
        "    print(\"\\n✅ MODEL DATA PREPARATION COMPLETE FOR FULL DATASET:\")\n",
        "    print(\"💾 Final, model-ready datasets have been saved with the '_full' suffix.\")\n",
        "    print(\"🚀 You are now ready to train your model on the complete dataset!\")\n",
        "\n",
        "except Exception as e:\n",
        "    print(f\"\\nAn unexpected error occurred: {e}\")"
      ],
      "metadata": {
        "colab": {
          "base_uri": "https://localhost:8080/"
        },
        "id": "icg8Ktrpj6ds",
        "outputId": "94579c69-c4c1-4f03-ea7f-c87ee535c0a1"
      },
      "execution_count": 16,
      "outputs": [
        {
          "output_type": "stream",
          "name": "stdout",
          "text": [
            "--- Starting Step 8: Final Data Preparation (Full Dataset) ---\n",
            "📂 Loading full partitioned data from Parquet files...\n",
            "✅ Successfully loaded and converted data with 233,190 records.\n",
            " partitioning complete: 213,030 training records, 20,160 testing records.\n",
            " feature scaling complete.\n",
            "Creating sequences with a length of 30 days...\n",
            "✅ Sequences created successfully.\n",
            "Training data shape: X=(210630, 30, 11), y=(210630,)\n",
            "Testing data shape: X=(17760, 30, 11), y=(17760,)\n",
            "\n",
            "✅ MODEL DATA PREPARATION COMPLETE FOR FULL DATASET:\n",
            "💾 Final, model-ready datasets and scalers have been saved with the '_full' suffix (for data) and without (for feature scaler).\n",
            "🚀 You are now ready to train your model on the complete dataset!\n"
          ]
        }
      ]
    },
    {
      "cell_type": "code",
      "source": [
        "import numpy as np\n",
        "import tensorflow as tf\n",
        "from tensorflow.keras.models import Sequential\n",
        "from tensorflow.keras.layers import Input, Conv1D, MaxPooling1D, LSTM, Dense, Dropout\n",
        "import matplotlib.pyplot as plt\n",
        "\n",
        "print(\"--- Starting Step 9: Training on the Full Dataset ---\")\n",
        "\n",
        "try:\n",
        "    # 1. Load the full, model-ready datasets\n",
        "    print(\"📂 Loading prepared full training and testing data...\")\n",
        "    X_train = np.load('X_train_full.npy')\n",
        "    y_train = np.load('y_train_full.npy')\n",
        "    X_test = np.load('X_test_full.npy')\n",
        "    y_test = np.load('y_test_full.npy')\n",
        "    print(\"✅ Full dataset loaded successfully.\")\n",
        "\n",
        "    # 2. Define the Hybrid CNN-LSTM Model Architecture\n",
        "    model = Sequential()\n",
        "    input_shape = (X_train.shape[1], X_train.shape[2])\n",
        "    model.add(Input(shape=input_shape))\n",
        "    model.add(Conv1D(filters=64, kernel_size=3, activation='relu'))\n",
        "    model.add(MaxPooling1D(pool_size=2))\n",
        "    model.add(LSTM(units=100, return_sequences=False))\n",
        "    model.add(Dropout(0.4)) # Using the stronger dropout to prevent overfitting on the large dataset\n",
        "    model.add(Dense(units=50, activation='relu'))\n",
        "    model.add(Dense(units=1))\n",
        "\n",
        "    # 3. Compile the Model\n",
        "    model.compile(optimizer='adam', loss='mean_squared_error')\n",
        "    print(\"\\n✅ Hybrid CNN-LSTM Model Architecture Defined and Compiled.\")\n",
        "    model.summary()\n",
        "\n",
        "    # 4. Train the Model on the full dataset\n",
        "    print(\"\\n🧠 Training the model on the full 2009-2019 dataset... (This will take significant time)\")\n",
        "    history = model.fit(\n",
        "        X_train, y_train,\n",
        "        epochs=100, # Train for up to 100 epochs\n",
        "        batch_size=64,\n",
        "        validation_data=(X_test, y_test),\n",
        "        # EarlyStopping is crucial here to find the best model and save time\n",
        "        callbacks=[tf.keras.callbacks.EarlyStopping(monitor='val_loss', patience=10, restore_best_weights=True)],\n",
        "        verbose=1\n",
        "    )\n",
        "\n",
        "    # 5. Save the final, most powerful model\n",
        "    model.save('stock_prediction_model_FULL_DATASET.h5')\n",
        "    print(\"\\n✅ MODEL TRAINING COMPLETE!\")\n",
        "    print(\"💾 The final model, trained on the full dataset, has been saved as 'stock_prediction_model_FULL_DATASET.h5'.\")\n",
        "\n",
        "    # 6. Plot Training History\n",
        "    plt.figure(figsize=(10, 5))\n",
        "    plt.plot(history.history['loss'], label='Training Loss')\n",
        "    plt.plot(history.history['val_loss'], label='Validation Loss')\n",
        "    plt.title('Full Dataset Model Training and Validation Loss')\n",
        "    plt.xlabel('Epoch')\n",
        "    plt.ylabel('Loss (Mean Squared Error)')\n",
        "    plt.legend()\n",
        "    plt.savefig('full_dataset_model_loss_history.png')\n",
        "    plt.show()\n",
        "\n",
        "except Exception as e:\n",
        "    print(f\"\\nAn unexpected error occurred: {e}\")"
      ],
      "metadata": {
        "colab": {
          "base_uri": "https://localhost:8080/",
          "height": 1000
        },
        "id": "asoJuBAlksCo",
        "outputId": "a632b315-639b-41eb-8a62-9d11aae7e824"
      },
      "execution_count": 10,
      "outputs": [
        {
          "output_type": "stream",
          "name": "stdout",
          "text": [
            "--- Starting Step 9: Training on the Full Dataset ---\n",
            "📂 Loading prepared full training and testing data...\n",
            "✅ Full dataset loaded successfully.\n",
            "\n",
            "✅ Hybrid CNN-LSTM Model Architecture Defined and Compiled.\n"
          ]
        },
        {
          "output_type": "display_data",
          "data": {
            "text/plain": [
              "\u001b[1mModel: \"sequential\"\u001b[0m\n"
            ],
            "text/html": [
              "<pre style=\"white-space:pre;overflow-x:auto;line-height:normal;font-family:Menlo,'DejaVu Sans Mono',consolas,'Courier New',monospace\"><span style=\"font-weight: bold\">Model: \"sequential\"</span>\n",
              "</pre>\n"
            ]
          },
          "metadata": {}
        },
        {
          "output_type": "display_data",
          "data": {
            "text/plain": [
              "┏━━━━━━━━━━━━━━━━━━━━━━━━━━━━━━━━━┳━━━━━━━━━━━━━━━━━━━━━━━━┳━━━━━━━━━━━━━━━┓\n",
              "┃\u001b[1m \u001b[0m\u001b[1mLayer (type)                   \u001b[0m\u001b[1m \u001b[0m┃\u001b[1m \u001b[0m\u001b[1mOutput Shape          \u001b[0m\u001b[1m \u001b[0m┃\u001b[1m \u001b[0m\u001b[1m      Param #\u001b[0m\u001b[1m \u001b[0m┃\n",
              "┡━━━━━━━━━━━━━━━━━━━━━━━━━━━━━━━━━╇━━━━━━━━━━━━━━━━━━━━━━━━╇━━━━━━━━━━━━━━━┩\n",
              "│ conv1d (\u001b[38;5;33mConv1D\u001b[0m)                 │ (\u001b[38;5;45mNone\u001b[0m, \u001b[38;5;34m28\u001b[0m, \u001b[38;5;34m64\u001b[0m)         │         \u001b[38;5;34m2,176\u001b[0m │\n",
              "├─────────────────────────────────┼────────────────────────┼───────────────┤\n",
              "│ max_pooling1d (\u001b[38;5;33mMaxPooling1D\u001b[0m)    │ (\u001b[38;5;45mNone\u001b[0m, \u001b[38;5;34m14\u001b[0m, \u001b[38;5;34m64\u001b[0m)         │             \u001b[38;5;34m0\u001b[0m │\n",
              "├─────────────────────────────────┼────────────────────────┼───────────────┤\n",
              "│ lstm (\u001b[38;5;33mLSTM\u001b[0m)                     │ (\u001b[38;5;45mNone\u001b[0m, \u001b[38;5;34m100\u001b[0m)            │        \u001b[38;5;34m66,000\u001b[0m │\n",
              "├─────────────────────────────────┼────────────────────────┼───────────────┤\n",
              "│ dropout (\u001b[38;5;33mDropout\u001b[0m)               │ (\u001b[38;5;45mNone\u001b[0m, \u001b[38;5;34m100\u001b[0m)            │             \u001b[38;5;34m0\u001b[0m │\n",
              "├─────────────────────────────────┼────────────────────────┼───────────────┤\n",
              "│ dense (\u001b[38;5;33mDense\u001b[0m)                   │ (\u001b[38;5;45mNone\u001b[0m, \u001b[38;5;34m50\u001b[0m)             │         \u001b[38;5;34m5,050\u001b[0m │\n",
              "├─────────────────────────────────┼────────────────────────┼───────────────┤\n",
              "│ dense_1 (\u001b[38;5;33mDense\u001b[0m)                 │ (\u001b[38;5;45mNone\u001b[0m, \u001b[38;5;34m1\u001b[0m)              │            \u001b[38;5;34m51\u001b[0m │\n",
              "└─────────────────────────────────┴────────────────────────┴───────────────┘\n"
            ],
            "text/html": [
              "<pre style=\"white-space:pre;overflow-x:auto;line-height:normal;font-family:Menlo,'DejaVu Sans Mono',consolas,'Courier New',monospace\">┏━━━━━━━━━━━━━━━━━━━━━━━━━━━━━━━━━┳━━━━━━━━━━━━━━━━━━━━━━━━┳━━━━━━━━━━━━━━━┓\n",
              "┃<span style=\"font-weight: bold\"> Layer (type)                    </span>┃<span style=\"font-weight: bold\"> Output Shape           </span>┃<span style=\"font-weight: bold\">       Param # </span>┃\n",
              "┡━━━━━━━━━━━━━━━━━━━━━━━━━━━━━━━━━╇━━━━━━━━━━━━━━━━━━━━━━━━╇━━━━━━━━━━━━━━━┩\n",
              "│ conv1d (<span style=\"color: #0087ff; text-decoration-color: #0087ff\">Conv1D</span>)                 │ (<span style=\"color: #00d7ff; text-decoration-color: #00d7ff\">None</span>, <span style=\"color: #00af00; text-decoration-color: #00af00\">28</span>, <span style=\"color: #00af00; text-decoration-color: #00af00\">64</span>)         │         <span style=\"color: #00af00; text-decoration-color: #00af00\">2,176</span> │\n",
              "├─────────────────────────────────┼────────────────────────┼───────────────┤\n",
              "│ max_pooling1d (<span style=\"color: #0087ff; text-decoration-color: #0087ff\">MaxPooling1D</span>)    │ (<span style=\"color: #00d7ff; text-decoration-color: #00d7ff\">None</span>, <span style=\"color: #00af00; text-decoration-color: #00af00\">14</span>, <span style=\"color: #00af00; text-decoration-color: #00af00\">64</span>)         │             <span style=\"color: #00af00; text-decoration-color: #00af00\">0</span> │\n",
              "├─────────────────────────────────┼────────────────────────┼───────────────┤\n",
              "│ lstm (<span style=\"color: #0087ff; text-decoration-color: #0087ff\">LSTM</span>)                     │ (<span style=\"color: #00d7ff; text-decoration-color: #00d7ff\">None</span>, <span style=\"color: #00af00; text-decoration-color: #00af00\">100</span>)            │        <span style=\"color: #00af00; text-decoration-color: #00af00\">66,000</span> │\n",
              "├─────────────────────────────────┼────────────────────────┼───────────────┤\n",
              "│ dropout (<span style=\"color: #0087ff; text-decoration-color: #0087ff\">Dropout</span>)               │ (<span style=\"color: #00d7ff; text-decoration-color: #00d7ff\">None</span>, <span style=\"color: #00af00; text-decoration-color: #00af00\">100</span>)            │             <span style=\"color: #00af00; text-decoration-color: #00af00\">0</span> │\n",
              "├─────────────────────────────────┼────────────────────────┼───────────────┤\n",
              "│ dense (<span style=\"color: #0087ff; text-decoration-color: #0087ff\">Dense</span>)                   │ (<span style=\"color: #00d7ff; text-decoration-color: #00d7ff\">None</span>, <span style=\"color: #00af00; text-decoration-color: #00af00\">50</span>)             │         <span style=\"color: #00af00; text-decoration-color: #00af00\">5,050</span> │\n",
              "├─────────────────────────────────┼────────────────────────┼───────────────┤\n",
              "│ dense_1 (<span style=\"color: #0087ff; text-decoration-color: #0087ff\">Dense</span>)                 │ (<span style=\"color: #00d7ff; text-decoration-color: #00d7ff\">None</span>, <span style=\"color: #00af00; text-decoration-color: #00af00\">1</span>)              │            <span style=\"color: #00af00; text-decoration-color: #00af00\">51</span> │\n",
              "└─────────────────────────────────┴────────────────────────┴───────────────┘\n",
              "</pre>\n"
            ]
          },
          "metadata": {}
        },
        {
          "output_type": "display_data",
          "data": {
            "text/plain": [
              "\u001b[1m Total params: \u001b[0m\u001b[38;5;34m73,277\u001b[0m (286.24 KB)\n"
            ],
            "text/html": [
              "<pre style=\"white-space:pre;overflow-x:auto;line-height:normal;font-family:Menlo,'DejaVu Sans Mono',consolas,'Courier New',monospace\"><span style=\"font-weight: bold\"> Total params: </span><span style=\"color: #00af00; text-decoration-color: #00af00\">73,277</span> (286.24 KB)\n",
              "</pre>\n"
            ]
          },
          "metadata": {}
        },
        {
          "output_type": "display_data",
          "data": {
            "text/plain": [
              "\u001b[1m Trainable params: \u001b[0m\u001b[38;5;34m73,277\u001b[0m (286.24 KB)\n"
            ],
            "text/html": [
              "<pre style=\"white-space:pre;overflow-x:auto;line-height:normal;font-family:Menlo,'DejaVu Sans Mono',consolas,'Courier New',monospace\"><span style=\"font-weight: bold\"> Trainable params: </span><span style=\"color: #00af00; text-decoration-color: #00af00\">73,277</span> (286.24 KB)\n",
              "</pre>\n"
            ]
          },
          "metadata": {}
        },
        {
          "output_type": "display_data",
          "data": {
            "text/plain": [
              "\u001b[1m Non-trainable params: \u001b[0m\u001b[38;5;34m0\u001b[0m (0.00 B)\n"
            ],
            "text/html": [
              "<pre style=\"white-space:pre;overflow-x:auto;line-height:normal;font-family:Menlo,'DejaVu Sans Mono',consolas,'Courier New',monospace\"><span style=\"font-weight: bold\"> Non-trainable params: </span><span style=\"color: #00af00; text-decoration-color: #00af00\">0</span> (0.00 B)\n",
              "</pre>\n"
            ]
          },
          "metadata": {}
        },
        {
          "output_type": "stream",
          "name": "stdout",
          "text": [
            "\n",
            "🧠 Training the model on the full 2009-2019 dataset... (This will take significant time)\n",
            "Epoch 1/100\n",
            "\u001b[1m3292/3292\u001b[0m \u001b[32m━━━━━━━━━━━━━━━━━━━━\u001b[0m\u001b[37m\u001b[0m \u001b[1m113s\u001b[0m 33ms/step - loss: 4.6427e-04 - val_loss: 1.5955e-04\n",
            "Epoch 2/100\n",
            "\u001b[1m3292/3292\u001b[0m \u001b[32m━━━━━━━━━━━━━━━━━━━━\u001b[0m\u001b[37m\u001b[0m \u001b[1m137s\u001b[0m 32ms/step - loss: 1.2645e-04 - val_loss: 1.5470e-04\n",
            "Epoch 3/100\n",
            "\u001b[1m3292/3292\u001b[0m \u001b[32m━━━━━━━━━━━━━━━━━━━━\u001b[0m\u001b[37m\u001b[0m \u001b[1m108s\u001b[0m 33ms/step - loss: 1.0250e-04 - val_loss: 4.9447e-04\n",
            "Epoch 4/100\n",
            "\u001b[1m3292/3292\u001b[0m \u001b[32m━━━━━━━━━━━━━━━━━━━━\u001b[0m\u001b[37m\u001b[0m \u001b[1m105s\u001b[0m 32ms/step - loss: 9.2551e-05 - val_loss: 5.4163e-04\n",
            "Epoch 5/100\n",
            "\u001b[1m3292/3292\u001b[0m \u001b[32m━━━━━━━━━━━━━━━━━━━━\u001b[0m\u001b[37m\u001b[0m \u001b[1m140s\u001b[0m 31ms/step - loss: 7.8639e-05 - val_loss: 6.7494e-04\n",
            "Epoch 6/100\n",
            "\u001b[1m3292/3292\u001b[0m \u001b[32m━━━━━━━━━━━━━━━━━━━━\u001b[0m\u001b[37m\u001b[0m \u001b[1m106s\u001b[0m 32ms/step - loss: 7.1169e-05 - val_loss: 7.8496e-04\n",
            "Epoch 7/100\n",
            "\u001b[1m3292/3292\u001b[0m \u001b[32m━━━━━━━━━━━━━━━━━━━━\u001b[0m\u001b[37m\u001b[0m \u001b[1m141s\u001b[0m 32ms/step - loss: 6.9497e-05 - val_loss: 0.0011\n",
            "Epoch 8/100\n",
            "\u001b[1m3292/3292\u001b[0m \u001b[32m━━━━━━━━━━━━━━━━━━━━\u001b[0m\u001b[37m\u001b[0m \u001b[1m150s\u001b[0m 34ms/step - loss: 6.5963e-05 - val_loss: 0.0012\n",
            "Epoch 9/100\n",
            "\u001b[1m3292/3292\u001b[0m \u001b[32m━━━━━━━━━━━━━━━━━━━━\u001b[0m\u001b[37m\u001b[0m \u001b[1m108s\u001b[0m 33ms/step - loss: 6.3635e-05 - val_loss: 0.0016\n",
            "Epoch 10/100\n",
            "\u001b[1m3292/3292\u001b[0m \u001b[32m━━━━━━━━━━━━━━━━━━━━\u001b[0m\u001b[37m\u001b[0m \u001b[1m115s\u001b[0m 35ms/step - loss: 5.9950e-05 - val_loss: 0.0018\n",
            "Epoch 11/100\n",
            "\u001b[1m3292/3292\u001b[0m \u001b[32m━━━━━━━━━━━━━━━━━━━━\u001b[0m\u001b[37m\u001b[0m \u001b[1m136s\u001b[0m 33ms/step - loss: 6.4496e-05 - val_loss: 0.0022\n",
            "Epoch 12/100\n",
            "\u001b[1m3292/3292\u001b[0m \u001b[32m━━━━━━━━━━━━━━━━━━━━\u001b[0m\u001b[37m\u001b[0m \u001b[1m145s\u001b[0m 34ms/step - loss: 5.4697e-05 - val_loss: 0.0024\n"
          ]
        },
        {
          "output_type": "stream",
          "name": "stderr",
          "text": [
            "WARNING:absl:You are saving your model as an HDF5 file via `model.save()` or `keras.saving.save_model(model)`. This file format is considered legacy. We recommend using instead the native Keras format, e.g. `model.save('my_model.keras')` or `keras.saving.save_model(model, 'my_model.keras')`. \n"
          ]
        },
        {
          "output_type": "stream",
          "name": "stdout",
          "text": [
            "\n",
            "✅ MODEL TRAINING COMPLETE!\n",
            "💾 The final model, trained on the full dataset, has been saved as 'stock_prediction_model_FULL_DATASET.h5'.\n"
          ]
        },
        {
          "output_type": "display_data",
          "data": {
            "text/plain": [
              "<Figure size 1000x500 with 1 Axes>"
            ],
            "image/png": "[encoded data removed]"
          },
          "metadata": {}
        }
      ]
    },
    {
      "cell_type": "code",
      "source": [
        "import numpy as np\n",
        "import pickle\n",
        "import matplotlib.pyplot as plt\n",
        "from tensorflow.keras.models import load_model\n",
        "from sklearn.metrics import mean_squared_error, mean_absolute_error\n",
        "\n",
        "print(\"--- Starting Step 10: Evaluating the Best Model ---\")\n",
        "\n",
        "try:\n",
        "    # 1. Load the trained model, test data, and the scaler\n",
        "    print(\"📂 Loading the saved model, test data, and scaler...\")\n",
        "\n",
        "    # --- IMPORTANT: Load the new, best-performing model ---\n",
        "    model = load_model('stock_prediction_model_FULL_DATASET.h5')\n",
        "\n",
        "    X_test = np.load('X_test_full.npy')\n",
        "    y_test = np.load('y_test_full.npy')\n",
        "\n",
        "    with open('target_scaler_full.pkl', 'rb') as f:\n",
        "        target_scaler = pickle.load(f)\n",
        "\n",
        "    print(\"✅ All necessary files loaded.\")\n",
        "\n",
        "    # 2. Make predictions on the test data\n",
        "    print(\"🧠 Making predictions on the test set...\")\n",
        "    y_pred_scaled = model.predict(X_test)\n",
        "\n",
        "    # 3. Inverse the scaling to get actual price values\n",
        "    y_test_actual = target_scaler.inverse_transform(y_test.reshape(-1, 1))\n",
        "    y_pred_actual = target_scaler.inverse_transform(y_pred_scaled)\n",
        "    print(\"✅ Predictions have been scaled back to actual dollar values.\")\n",
        "\n",
        "    # 4. Calculate performance metrics (RMSE and MAE)\n",
        "    rmse = np.sqrt(mean_squared_error(y_test_actual, y_pred_actual))\n",
        "    mae = mean_absolute_error(y_test_actual, y_pred_actual)\n",
        "\n",
        "    print(\"\\n--- Model Performance on Test Data ---\")\n",
        "    print(f\"📈 Root Mean Squared Error (RMSE): ${rmse:.2f}\")\n",
        "    print(f\"📈 Mean Absolute Error (MAE): ${mae:.2f}\")\n",
        "    print(\"--------------------------------------\")\n",
        "    print(\"Note: MAE means that, on average, the model's prediction was about this many dollars away from the actual price.\")\n",
        "\n",
        "    # 5. Visualize the predictions vs. actual prices\n",
        "    print(\"\\n📊 Generating plot of actual vs. predicted prices...\")\n",
        "\n",
        "    sample_size = 500\n",
        "    plt.figure(figsize=(15, 7))\n",
        "    plt.plot(y_test_actual[:sample_size], color='blue', label='Actual Stock Price')\n",
        "    plt.plot(y_pred_actual[:sample_size], color='red', linestyle='--', label='Predicted Stock Price')\n",
        "    plt.title(f'Stock Price Prediction (First {sample_size} Data Points of 2020)')\n",
        "    plt.xlabel('Time (Days)')\n",
        "    plt.ylabel('Stock Price (USD)')\n",
        "    plt.legend()\n",
        "    plt.grid(True)\n",
        "    plt.savefig('actual_vs_predicted_prices_full_model.png')\n",
        "    plt.show()\n",
        "\n",
        "    print(\"\\n✅ MODEL EVALUATION COMPLETE!\")\n",
        "    print(\"📈 You now have the final metrics and plots to complete your project report.\")\n",
        "\n",
        "except FileNotFoundError as e:\n",
        "    print(f\"\\n⚠️ ERROR: A required file was not found. Please ensure all previous steps ran successfully.\")\n",
        "except Exception as e:\n",
        "    print(f\"\\nAn unexpected error occurred: {e}\")"
      ],
      "metadata": {
        "colab": {
          "base_uri": "https://localhost:8080/",
          "height": 953
        },
        "id": "0-q_UELNlFRf",
        "outputId": "57d815e9-8090-4481-c49b-2a32ca17f657"
      },
      "execution_count": 13,
      "outputs": [
        {
          "output_type": "stream",
          "name": "stderr",
          "text": [
            "WARNING:absl:Compiled the loaded model, but the compiled metrics have yet to be built. `model.compile_metrics` will be empty until you train or evaluate the model.\n"
          ]
        },
        {
          "output_type": "stream",
          "name": "stdout",
          "text": [
            "--- Starting Step 10: Evaluating the Best Model ---\n",
            "📂 Loading the saved model, test data, and scaler...\n",
            "✅ All necessary files loaded.\n",
            "🧠 Making predictions on the test set...\n",
            "\u001b[1m555/555\u001b[0m \u001b[32m━━━━━━━━━━━━━━━━━━━━\u001b[0m\u001b[37m\u001b[0m \u001b[1m4s\u001b[0m 7ms/step\n",
            "✅ Predictions have been scaled back to actual dollar values.\n",
            "\n",
            "--- Model Performance on Test Data ---\n",
            "📈 Root Mean Squared Error (RMSE): $0.01\n",
            "📈 Mean Absolute Error (MAE): $0.01\n",
            "--------------------------------------\n",
            "Note: MAE means that, on average, the model's prediction was about this many dollars away from the actual price.\n",
            "\n",
            "📊 Generating plot of actual vs. predicted prices...\n"
          ]
        },
        {
          "output_type": "display_data",
          "data": {
            "text/plain": [
              "<Figure size 1500x700 with 1 Axes>"
            ],
            "image/png": "[encoded data removed]"
          },
          "metadata": {}
        },
        {
          "output_type": "stream",
          "name": "stdout",
          "text": [
            "\n",
            "✅ MODEL EVALUATION COMPLETE!\n",
            "📈 You now have the final metrics and plots to complete your project report.\n"
          ]
        }
      ]
    },
    {
      "cell_type": "code",
      "source": [
        "import numpy as np\n",
        "import pickle\n",
        "from tensorflow.keras.models import load_model\n",
        "from sklearn.metrics import classification_report, confusion_matrix, accuracy_score\n",
        "import seaborn as sns\n",
        "import matplotlib.pyplot as plt\n",
        "\n",
        "print(\"--- Starting Step 11: Evaluating Trend Direction (Best Model) ---\")\n",
        "\n",
        "try:\n",
        "    # 1. Load the saved model, test data, and scaler\n",
        "    print(\"📂 Loading the saved model, test data, and scaler...\")\n",
        "\n",
        "    # --- IMPORTANT: Load the new, best-performing model trained on the full dataset ---\n",
        "    model = load_model('stock_prediction_model_FULL_DATASET.h5')\n",
        "\n",
        "    # --- Load the test data and scaler corresponding to the full dataset ---\n",
        "    X_test = np.load('X_test_full.npy')\n",
        "    y_test = np.load('y_test_full.npy')\n",
        "\n",
        "    with open('target_scaler_full.pkl', 'rb') as f:\n",
        "        target_scaler = pickle.load(f)\n",
        "\n",
        "    print(\"✅ All necessary files loaded.\")\n",
        "\n",
        "    # 2. Make predictions and inverse scale them\n",
        "    y_pred_scaled = model.predict(X_test)\n",
        "    y_test_actual = target_scaler.inverse_transform(y_test.reshape(-1, 1))\n",
        "    y_pred_actual = target_scaler.inverse_transform(y_pred_scaled)\n",
        "    print(\"✅ Predictions generated and scaled to actual dollar values.\")\n",
        "\n",
        "    # 3. Convert price series to a binary trend direction series (UP/DOWN)\n",
        "    # We compare the predicted price for day T+1 with the actual price for day T to determine the predicted direction for day T+1.\n",
        "    # Similarly, we compare the actual price for day T+1 with the actual price for day T to determine the actual direction for day T+1.\n",
        "    actual_direction = (y_test_actual[1:] > y_test_actual[:-1]).astype(int)\n",
        "    predicted_direction = (y_pred_actual[1:] > y_test_actual[:-1]).astype(int) # Corrected: Compare predicted with previous actual\n",
        "\n",
        "    print(\"✅ Price data converted to UP (1) / DOWN (0) trend directions.\")\n",
        "\n",
        "    # 4. Calculate and print the classification metrics\n",
        "    print(\"\\n--- Trend Direction Classification Report ---\")\n",
        "    report = classification_report(actual_direction, predicted_direction, target_names=['Down', 'Up'])\n",
        "    print(report)\n",
        "\n",
        "    accuracy = accuracy_score(actual_direction, predicted_direction)\n",
        "    print(f\"🎯 Overall Directional Accuracy: {accuracy * 100:.2f}%\")\n",
        "    print(\"------------------------------------------\")\n",
        "\n",
        "    # 5. Visualize the results with a Confusion Matrix\n",
        "    cm = confusion_matrix(actual_direction, predicted_direction)\n",
        "    plt.figure(figsize=(8, 6))\n",
        "    sns.heatmap(cm, annot=True, fmt='d', cmap='Blues', xticklabels=['Predicted Down', 'Predicted Up'], yticklabels=['Actual Down', 'Actual Up'])\n",
        "    plt.ylabel('Actual Direction')\n",
        "    plt.xlabel('Predicted Direction')\n",
        "    plt.title('Confusion Matrix for Trend Direction Prediction (Full Dataset Model)')\n",
        "    plt.savefig('confusion_matrix_full_model.png')\n",
        "    plt.show()\n",
        "\n",
        "except FileNotFoundError as e:\n",
        "    print(f\"\\n⚠️ ERROR: A required file was not found. Please ensure all previous steps ran successfully: {e}\")\n",
        "except Exception as e:\n",
        "    print(f\"\\nAn unexpected error occurred: {e}\")"
      ],
      "metadata": {
        "colab": {
          "base_uri": "https://localhost:8080/",
          "height": 911
        },
        "id": "tLVf815qpUja",
        "outputId": "6cb35568-386d-4f61-9eba-f60033d34f71"
      },
      "execution_count": 14,
      "outputs": [
        {
          "output_type": "stream",
          "name": "stderr",
          "text": [
            "WARNING:absl:Compiled the loaded model, but the compiled metrics have yet to be built. `model.compile_metrics` will be empty until you train or evaluate the model.\n"
          ]
        },
        {
          "output_type": "stream",
          "name": "stdout",
          "text": [
            "--- Starting Step 11: Evaluating Trend Direction (Best Model) ---\n",
            "📂 Loading the saved model, test data, and scaler...\n",
            "✅ All necessary files loaded.\n",
            "\u001b[1m555/555\u001b[0m \u001b[32m━━━━━━━━━━━━━━━━━━━━\u001b[0m\u001b[37m\u001b[0m \u001b[1m3s\u001b[0m 5ms/step\n",
            "✅ Predictions generated and scaled to actual dollar values.\n",
            "✅ Price data converted to UP (1) / DOWN (0) trend directions.\n",
            "\n",
            "--- Trend Direction Classification Report ---\n",
            "              precision    recall  f1-score   support\n",
            "\n",
            "        Down       0.51      0.56      0.53      8695\n",
            "          Up       0.54      0.50      0.52      9064\n",
            "\n",
            "    accuracy                           0.53     17759\n",
            "   macro avg       0.53      0.53      0.53     17759\n",
            "weighted avg       0.53      0.53      0.53     17759\n",
            "\n",
            "🎯 Overall Directional Accuracy: 52.56%\n",
            "------------------------------------------\n"
          ]
        },
        {
          "output_type": "display_data",
          "data": {
            "text/plain": [
              "<Figure size 800x600 with 2 Axes>"
            ],
            "image/png": "[encoded data removed]"
          },
          "metadata": {}
        }
      ]
    },
    {
      "cell_type": "code",
      "source": [],
      "metadata": {
        "id": "HTlRDFZupcyl"
      },
      "execution_count": null,
      "outputs": []
    },
    {
      "cell_type": "code",
      "source": [],
      "metadata": {
        "id": "IY97kqGps0KH"
      },
      "execution_count": null,
      "outputs": []
    }
  ]
}